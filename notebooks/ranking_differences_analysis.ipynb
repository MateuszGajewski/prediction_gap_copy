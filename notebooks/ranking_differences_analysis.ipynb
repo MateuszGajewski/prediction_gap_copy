{
 "cells": [
  {
   "cell_type": "markdown",
   "metadata": {},
   "source": [
    "# Analiza różnic w rankigach"
   ]
  },
  {
   "cell_type": "markdown",
   "metadata": {},
   "source": [
    "Analiza różnic pomiędzy:\n",
    "- dokładną metodą - exact_ranking\n",
    "- metodą przybliżania dla 1000 iteracji"
   ]
  },
  {
   "cell_type": "code",
   "execution_count": 1,
   "metadata": {},
   "outputs": [],
   "source": [
    "import os\n",
    "while \"notebooks\" in os.getcwd():\n",
    "    os.chdir(\"../\")\n"
   ]
  },
  {
   "cell_type": "code",
   "execution_count": 2,
   "metadata": {},
   "outputs": [],
   "source": [
    "from pathlib import Path\n",
    "import pandas as pd\n",
    "import numpy as np\n",
    "import matplotlib.pyplot as plt"
   ]
  },
  {
   "cell_type": "markdown",
   "metadata": {},
   "source": [
    "## Wczytywanie rankingów i zbioru danych"
   ]
  },
  {
   "cell_type": "code",
   "execution_count": 3,
   "metadata": {},
   "outputs": [],
   "source": [
    "result_path = Path(\"results\")\n",
    "exact_ranking_data_path = result_path / \"wine_exact_ranking_std_0.3.npy\"\n",
    "approx_ranking_data_path = result_path / \"wine_approx_ranking_4000_iter.npy\"\n",
    "shap_ranking_data = result_path / \"wine_shap_ranking.npy\"\n",
    "data_path = Path(\"data\")\n",
    "wine_test_data_path = data_path / \"wine_quality/test_winequality_red_scaled.csv\""
   ]
  },
  {
   "cell_type": "code",
   "execution_count": 4,
   "metadata": {},
   "outputs": [],
   "source": [
    "pgi_wine_exact_path = result_path / \"pgi_wine_exact_ranking.npy\"\n",
    "pgi_wine_shap_path = result_path / \"pgi_wine_shap_ranking.npy\"\n",
    "pgi_wine_approx_path = result_path / \"pgi_wine_approx_ranking_4000_iter.npy\""
   ]
  },
  {
   "cell_type": "code",
   "execution_count": 5,
   "metadata": {},
   "outputs": [],
   "source": [
    "top_k_pgi_path = Path(\"results/top_k_pgi\")"
   ]
  },
  {
   "cell_type": "code",
   "execution_count": 6,
   "metadata": {},
   "outputs": [
    {
     "data": {
      "text/html": [
       "<div>\n",
       "<style scoped>\n",
       "    .dataframe tbody tr th:only-of-type {\n",
       "        vertical-align: middle;\n",
       "    }\n",
       "\n",
       "    .dataframe tbody tr th {\n",
       "        vertical-align: top;\n",
       "    }\n",
       "\n",
       "    .dataframe thead th {\n",
       "        text-align: right;\n",
       "    }\n",
       "</style>\n",
       "<table border=\"1\" class=\"dataframe\">\n",
       "  <thead>\n",
       "    <tr style=\"text-align: right;\">\n",
       "      <th></th>\n",
       "      <th>fixed_acidity</th>\n",
       "      <th>volatile_acidity</th>\n",
       "      <th>citric_acid</th>\n",
       "      <th>residual_sugar</th>\n",
       "      <th>chlorides</th>\n",
       "      <th>free_sulfur_dioxide</th>\n",
       "      <th>total_sulfur_dioxide</th>\n",
       "      <th>density</th>\n",
       "      <th>pH</th>\n",
       "      <th>sulphates</th>\n",
       "      <th>alcohol</th>\n",
       "      <th>quality</th>\n",
       "    </tr>\n",
       "  </thead>\n",
       "  <tbody>\n",
       "    <tr>\n",
       "      <th>0</th>\n",
       "      <td>-0.241094</td>\n",
       "      <td>-1.887226</td>\n",
       "      <td>0.765247</td>\n",
       "      <td>-0.666062</td>\n",
       "      <td>-0.647527</td>\n",
       "      <td>0.203223</td>\n",
       "      <td>-0.500769</td>\n",
       "      <td>-1.455778</td>\n",
       "      <td>-0.136798</td>\n",
       "      <td>0.187963</td>\n",
       "      <td>0.729364</td>\n",
       "      <td>6</td>\n",
       "    </tr>\n",
       "    <tr>\n",
       "      <th>1</th>\n",
       "      <td>-1.045437</td>\n",
       "      <td>-1.049255</td>\n",
       "      <td>-0.005010</td>\n",
       "      <td>0.185312</td>\n",
       "      <td>-0.434990</td>\n",
       "      <td>-0.753085</td>\n",
       "      <td>-0.075043</td>\n",
       "      <td>-1.540580</td>\n",
       "      <td>-0.655141</td>\n",
       "      <td>-0.579207</td>\n",
       "      <td>1.480302</td>\n",
       "      <td>6</td>\n",
       "    </tr>\n",
       "    <tr>\n",
       "      <th>2</th>\n",
       "      <td>0.103624</td>\n",
       "      <td>-1.160984</td>\n",
       "      <td>0.765247</td>\n",
       "      <td>-0.169427</td>\n",
       "      <td>-0.264960</td>\n",
       "      <td>-0.370562</td>\n",
       "      <td>-0.835267</td>\n",
       "      <td>-1.275573</td>\n",
       "      <td>-1.108690</td>\n",
       "      <td>0.305990</td>\n",
       "      <td>1.292568</td>\n",
       "      <td>7</td>\n",
       "    </tr>\n",
       "    <tr>\n",
       "      <th>3</th>\n",
       "      <td>-0.700719</td>\n",
       "      <td>-0.546472</td>\n",
       "      <td>0.765247</td>\n",
       "      <td>2.100902</td>\n",
       "      <td>-0.349975</td>\n",
       "      <td>1.159531</td>\n",
       "      <td>2.479310</td>\n",
       "      <td>0.293268</td>\n",
       "      <td>0.705508</td>\n",
       "      <td>0.305990</td>\n",
       "      <td>0.072294</td>\n",
       "      <td>5</td>\n",
       "    </tr>\n",
       "    <tr>\n",
       "      <th>4</th>\n",
       "      <td>2.229387</td>\n",
       "      <td>-0.434742</td>\n",
       "      <td>1.124700</td>\n",
       "      <td>-0.807957</td>\n",
       "      <td>-0.264960</td>\n",
       "      <td>-1.231239</td>\n",
       "      <td>-1.230584</td>\n",
       "      <td>0.081262</td>\n",
       "      <td>-1.173483</td>\n",
       "      <td>-0.166115</td>\n",
       "      <td>-0.021574</td>\n",
       "      <td>5</td>\n",
       "    </tr>\n",
       "    <tr>\n",
       "      <th>...</th>\n",
       "      <td>...</td>\n",
       "      <td>...</td>\n",
       "      <td>...</td>\n",
       "      <td>...</td>\n",
       "      <td>...</td>\n",
       "      <td>...</td>\n",
       "      <td>...</td>\n",
       "      <td>...</td>\n",
       "      <td>...</td>\n",
       "      <td>...</td>\n",
       "      <td>...</td>\n",
       "      <td>...</td>\n",
       "    </tr>\n",
       "    <tr>\n",
       "      <th>315</th>\n",
       "      <td>-0.470907</td>\n",
       "      <td>0.291499</td>\n",
       "      <td>1.484154</td>\n",
       "      <td>0.398155</td>\n",
       "      <td>1.392830</td>\n",
       "      <td>-1.039977</td>\n",
       "      <td>-0.987312</td>\n",
       "      <td>-1.052967</td>\n",
       "      <td>-0.655141</td>\n",
       "      <td>2.194408</td>\n",
       "      <td>1.104833</td>\n",
       "      <td>6</td>\n",
       "    </tr>\n",
       "    <tr>\n",
       "      <th>316</th>\n",
       "      <td>-0.068735</td>\n",
       "      <td>-0.993390</td>\n",
       "      <td>0.303093</td>\n",
       "      <td>-0.098479</td>\n",
       "      <td>-0.243707</td>\n",
       "      <td>-0.466193</td>\n",
       "      <td>0.016184</td>\n",
       "      <td>-0.401050</td>\n",
       "      <td>-0.266384</td>\n",
       "      <td>0.896120</td>\n",
       "      <td>0.541630</td>\n",
       "      <td>6</td>\n",
       "    </tr>\n",
       "    <tr>\n",
       "      <th>317</th>\n",
       "      <td>0.390889</td>\n",
       "      <td>-0.323013</td>\n",
       "      <td>0.200392</td>\n",
       "      <td>0.114364</td>\n",
       "      <td>-0.073677</td>\n",
       "      <td>0.777007</td>\n",
       "      <td>2.388083</td>\n",
       "      <td>0.876283</td>\n",
       "      <td>-0.007213</td>\n",
       "      <td>-0.284141</td>\n",
       "      <td>-0.960246</td>\n",
       "      <td>5</td>\n",
       "    </tr>\n",
       "    <tr>\n",
       "      <th>318</th>\n",
       "      <td>0.046171</td>\n",
       "      <td>1.045674</td>\n",
       "      <td>-0.364463</td>\n",
       "      <td>-0.098479</td>\n",
       "      <td>-0.243707</td>\n",
       "      <td>-0.561823</td>\n",
       "      <td>-0.257497</td>\n",
       "      <td>0.319768</td>\n",
       "      <td>-0.007213</td>\n",
       "      <td>-0.107102</td>\n",
       "      <td>-0.960246</td>\n",
       "      <td>5</td>\n",
       "    </tr>\n",
       "    <tr>\n",
       "      <th>319</th>\n",
       "      <td>0.563248</td>\n",
       "      <td>-0.937525</td>\n",
       "      <td>0.611196</td>\n",
       "      <td>-0.737010</td>\n",
       "      <td>-0.158692</td>\n",
       "      <td>2.402731</td>\n",
       "      <td>0.259456</td>\n",
       "      <td>-0.120143</td>\n",
       "      <td>1.029472</td>\n",
       "      <td>0.424016</td>\n",
       "      <td>0.447763</td>\n",
       "      <td>6</td>\n",
       "    </tr>\n",
       "  </tbody>\n",
       "</table>\n",
       "<p>320 rows × 12 columns</p>\n",
       "</div>"
      ],
      "text/plain": [
       "     fixed_acidity  volatile_acidity  citric_acid  residual_sugar  chlorides  \\\n",
       "0        -0.241094         -1.887226     0.765247       -0.666062  -0.647527   \n",
       "1        -1.045437         -1.049255    -0.005010        0.185312  -0.434990   \n",
       "2         0.103624         -1.160984     0.765247       -0.169427  -0.264960   \n",
       "3        -0.700719         -0.546472     0.765247        2.100902  -0.349975   \n",
       "4         2.229387         -0.434742     1.124700       -0.807957  -0.264960   \n",
       "..             ...               ...          ...             ...        ...   \n",
       "315      -0.470907          0.291499     1.484154        0.398155   1.392830   \n",
       "316      -0.068735         -0.993390     0.303093       -0.098479  -0.243707   \n",
       "317       0.390889         -0.323013     0.200392        0.114364  -0.073677   \n",
       "318       0.046171          1.045674    -0.364463       -0.098479  -0.243707   \n",
       "319       0.563248         -0.937525     0.611196       -0.737010  -0.158692   \n",
       "\n",
       "     free_sulfur_dioxide  total_sulfur_dioxide   density        pH  sulphates  \\\n",
       "0               0.203223             -0.500769 -1.455778 -0.136798   0.187963   \n",
       "1              -0.753085             -0.075043 -1.540580 -0.655141  -0.579207   \n",
       "2              -0.370562             -0.835267 -1.275573 -1.108690   0.305990   \n",
       "3               1.159531              2.479310  0.293268  0.705508   0.305990   \n",
       "4              -1.231239             -1.230584  0.081262 -1.173483  -0.166115   \n",
       "..                   ...                   ...       ...       ...        ...   \n",
       "315            -1.039977             -0.987312 -1.052967 -0.655141   2.194408   \n",
       "316            -0.466193              0.016184 -0.401050 -0.266384   0.896120   \n",
       "317             0.777007              2.388083  0.876283 -0.007213  -0.284141   \n",
       "318            -0.561823             -0.257497  0.319768 -0.007213  -0.107102   \n",
       "319             2.402731              0.259456 -0.120143  1.029472   0.424016   \n",
       "\n",
       "      alcohol  quality  \n",
       "0    0.729364        6  \n",
       "1    1.480302        6  \n",
       "2    1.292568        7  \n",
       "3    0.072294        5  \n",
       "4   -0.021574        5  \n",
       "..        ...      ...  \n",
       "315  1.104833        6  \n",
       "316  0.541630        6  \n",
       "317 -0.960246        5  \n",
       "318 -0.960246        5  \n",
       "319  0.447763        6  \n",
       "\n",
       "[320 rows x 12 columns]"
      ]
     },
     "execution_count": 6,
     "metadata": {},
     "output_type": "execute_result"
    }
   ],
   "source": [
    "wine_data = pd.read_csv(wine_test_data_path)\n",
    "wine_data"
   ]
  },
  {
   "cell_type": "code",
   "execution_count": 7,
   "metadata": {},
   "outputs": [
    {
     "data": {
      "text/plain": [
       "(320, 11)"
      ]
     },
     "execution_count": 7,
     "metadata": {},
     "output_type": "execute_result"
    }
   ],
   "source": [
    "exact_ranking = np.load(exact_ranking_data_path)\n",
    "exact_ranking.shape"
   ]
  },
  {
   "cell_type": "code",
   "execution_count": 8,
   "metadata": {},
   "outputs": [],
   "source": [
    "approx_ranking_4000 = np.load(approx_ranking_data_path)"
   ]
  },
  {
   "cell_type": "code",
   "execution_count": 9,
   "metadata": {},
   "outputs": [
    {
     "data": {
      "text/plain": [
       "(320, 11)"
      ]
     },
     "execution_count": 9,
     "metadata": {},
     "output_type": "execute_result"
    }
   ],
   "source": [
    "shap_ranking = np.load(shap_ranking_data)\n",
    "shap_ranking.shape"
   ]
  },
  {
   "cell_type": "markdown",
   "metadata": {},
   "source": [
    "# Analiza różnic w rankingach exact vs approx"
   ]
  },
  {
   "cell_type": "code",
   "execution_count": 8,
   "metadata": {},
   "outputs": [],
   "source": [
    "features_map = {}\n",
    "for indx, name in enumerate(list(wine_data.columns.values)):\n",
    "    features_map[name] = indx"
   ]
  },
  {
   "cell_type": "code",
   "execution_count": 9,
   "metadata": {},
   "outputs": [],
   "source": [
    "def map_features(li: list):\n",
    "    mapped_li = [features_map[i] for i in li]\n",
    "    return mapped_li"
   ]
  },
  {
   "cell_type": "code",
   "execution_count": 10,
   "metadata": {},
   "outputs": [],
   "source": [
    "\n",
    "def distance_between_lists(a: list, b: list):\n",
    "    a = map_features(a)\n",
    "    b = map_features(b)\n",
    "    a_s = set(a)\n",
    "    b_s = set(b)\n",
    "    [a.append(i) for i in list(b_s-a_s)]\n",
    "    [b.append(i) for i in list(a_s-b_s)]\n",
    "    max_val = max(max(a), max(b))\n",
    "    all_numbers_set = set(range(max_val))\n",
    "    a_s = set(a)\n",
    "    b_s = set(b)\n",
    "    [a.append(i) for i in list(all_numbers_set - a_s)]\n",
    "    [b.append(i) for i in list(all_numbers_set - b_s)]\n",
    "    return cayley_distance(a, b)\n",
    "\n",
    "def cayley_distance(x: list, y: list):\n",
    "    A = range(len(x))\n",
    "    inv_y = tuple(y.index(a) for a in A)\n",
    "    comp = tuple(x[inv_y[a]] for a in A)\n",
    "    cycles = 0\n",
    "    rem = set(A)\n",
    "    while rem:\n",
    "        a = rem.pop()\n",
    "        cycles += 1\n",
    "        while comp[a] in rem:\n",
    "            a = comp[a]\n",
    "            rem.remove(a)\n",
    "    return len(A) - cycles\n"
   ]
  },
  {
   "cell_type": "markdown",
   "metadata": {},
   "source": [
    "## Caylel distance"
   ]
  },
  {
   "cell_type": "markdown",
   "metadata": {},
   "source": [
    "### All features"
   ]
  },
  {
   "cell_type": "markdown",
   "metadata": {},
   "source": [
    "Porównanie obu rankingów za pomocą dystansu cayleya używając wszystkich cech"
   ]
  },
  {
   "cell_type": "code",
   "execution_count": 11,
   "metadata": {},
   "outputs": [],
   "source": [
    "differences_all = []\n",
    "for i, j in zip(exact_ranking, approx_ranking_4000):\n",
    "    diff = distance_between_lists(i, j)\n",
    "    differences_all.append(diff)"
   ]
  },
  {
   "cell_type": "code",
   "execution_count": 12,
   "metadata": {},
   "outputs": [
    {
     "data": {
      "text/plain": [
       "4.559375"
      ]
     },
     "execution_count": 12,
     "metadata": {},
     "output_type": "execute_result"
    }
   ],
   "source": [
    "np.mean(differences_all)"
   ]
  },
  {
   "cell_type": "code",
   "execution_count": 13,
   "metadata": {},
   "outputs": [
    {
     "data": {
      "text/plain": [
       "10"
      ]
     },
     "execution_count": 13,
     "metadata": {},
     "output_type": "execute_result"
    }
   ],
   "source": [
    "np.max(differences_all)"
   ]
  },
  {
   "cell_type": "code",
   "execution_count": 14,
   "metadata": {},
   "outputs": [
    {
     "data": {
      "text/plain": [
       "0"
      ]
     },
     "execution_count": 14,
     "metadata": {},
     "output_type": "execute_result"
    }
   ],
   "source": [
    "np.min(differences_all)"
   ]
  },
  {
   "cell_type": "code",
   "execution_count": 15,
   "metadata": {},
   "outputs": [
    {
     "data": {
      "text/plain": [
       "<Axes: >"
      ]
     },
     "execution_count": 15,
     "metadata": {},
     "output_type": "execute_result"
    },
    {
     "data": {
      "image/png": "[encoded data removed]",
      "text/plain": [
       "<Figure size 640x480 with 1 Axes>"
      ]
     },
     "metadata": {},
     "output_type": "display_data"
    }
   ],
   "source": [
    "diff_ser = pd.Series(differences_all)\n",
    "diff_ser.hist(bins=10)"
   ]
  },
  {
   "cell_type": "code",
   "execution_count": 16,
   "metadata": {},
   "outputs": [
    {
     "data": {
      "text/plain": [
       "[151]"
      ]
     },
     "execution_count": 16,
     "metadata": {},
     "output_type": "execute_result"
    }
   ],
   "source": [
    "indexes = [i for i, x in enumerate(differences_all) if x == 10]\n",
    "indexes\n"
   ]
  },
  {
   "cell_type": "code",
   "execution_count": 17,
   "metadata": {},
   "outputs": [
    {
     "name": "stdout",
     "output_type": "stream",
     "text": [
      "['residual_sugar' 'chlorides' 'pH' 'total_sulfur_dioxide'\n",
      " 'free_sulfur_dioxide' 'fixed_acidity' 'volatile_acidity' 'citric_acid'\n",
      " 'alcohol' 'sulphates' 'density']\n",
      "['alcohol' 'residual_sugar' 'volatile_acidity' 'sulphates' 'citric_acid'\n",
      " 'free_sulfur_dioxide' 'total_sulfur_dioxide' 'density' 'pH'\n",
      " 'fixed_acidity' 'chlorides']\n"
     ]
    }
   ],
   "source": [
    "print(exact_ranking[indexes[0]])\n",
    "print(approx_ranking_4000[indexes[0]])"
   ]
  },
  {
   "cell_type": "markdown",
   "metadata": {},
   "source": [
    "### Top 5 features"
   ]
  },
  {
   "cell_type": "code",
   "execution_count": 18,
   "metadata": {},
   "outputs": [],
   "source": [
    "differences_5 = []\n",
    "for i, j in zip(exact_ranking, approx_ranking_4000):\n",
    "    i = i[0:5]\n",
    "    j = j[0:5]\n",
    "    diff = distance_between_lists(i, j)\n",
    "    differences_5.append(diff)"
   ]
  },
  {
   "cell_type": "code",
   "execution_count": 19,
   "metadata": {},
   "outputs": [
    {
     "data": {
      "text/plain": [
       "2.03125"
      ]
     },
     "execution_count": 19,
     "metadata": {},
     "output_type": "execute_result"
    }
   ],
   "source": [
    "np.mean(differences_5)"
   ]
  },
  {
   "cell_type": "code",
   "execution_count": 20,
   "metadata": {},
   "outputs": [
    {
     "data": {
      "text/plain": [
       "8"
      ]
     },
     "execution_count": 20,
     "metadata": {},
     "output_type": "execute_result"
    }
   ],
   "source": [
    "np.max(differences_5)"
   ]
  },
  {
   "cell_type": "code",
   "execution_count": 21,
   "metadata": {},
   "outputs": [
    {
     "data": {
      "text/plain": [
       "0"
      ]
     },
     "execution_count": 21,
     "metadata": {},
     "output_type": "execute_result"
    }
   ],
   "source": [
    "np.min(differences_5)"
   ]
  },
  {
   "cell_type": "code",
   "execution_count": 22,
   "metadata": {},
   "outputs": [
    {
     "data": {
      "text/plain": [
       "<Axes: >"
      ]
     },
     "execution_count": 22,
     "metadata": {},
     "output_type": "execute_result"
    },
    {
     "data": {
      "image/png": "[encoded data removed]",
      "text/plain": [
       "<Figure size 640x480 with 1 Axes>"
      ]
     },
     "metadata": {},
     "output_type": "display_data"
    }
   ],
   "source": [
    "diff_ser = pd.Series(differences_5)\n",
    "diff_ser.hist(bins=8)"
   ]
  },
  {
   "cell_type": "code",
   "execution_count": 23,
   "metadata": {},
   "outputs": [
    {
     "data": {
      "text/plain": [
       "[319]"
      ]
     },
     "execution_count": 23,
     "metadata": {},
     "output_type": "execute_result"
    }
   ],
   "source": [
    "indexes = [i for i, x in enumerate(differences_5) if x == 8]\n",
    "indexes\n"
   ]
  },
  {
   "cell_type": "code",
   "execution_count": 24,
   "metadata": {},
   "outputs": [
    {
     "name": "stdout",
     "output_type": "stream",
     "text": [
      "['pH' 'residual_sugar' 'sulphates' 'alcohol' 'density' 'volatile_acidity'\n",
      " 'fixed_acidity' 'citric_acid' 'chlorides' 'total_sulfur_dioxide'\n",
      " 'free_sulfur_dioxide']\n",
      "['chlorides' 'volatile_acidity' 'total_sulfur_dioxide' 'sulphates'\n",
      " 'free_sulfur_dioxide' 'fixed_acidity' 'density' 'citric_acid'\n",
      " 'residual_sugar' 'pH' 'alcohol']\n"
     ]
    }
   ],
   "source": [
    "print(exact_ranking[indexes[0]])\n",
    "print(approx_ranking_4000[indexes[0]])"
   ]
  },
  {
   "cell_type": "markdown",
   "metadata": {},
   "source": [
    "### Top 3 features"
   ]
  },
  {
   "cell_type": "code",
   "execution_count": 25,
   "metadata": {},
   "outputs": [],
   "source": [
    "differences_3 = []\n",
    "for i, j in zip(exact_ranking, approx_ranking_4000):\n",
    "    i = i[0:3]\n",
    "    j = j[0:3]\n",
    "    diff = distance_between_lists(i, j)\n",
    "    differences_3.append(diff)"
   ]
  },
  {
   "cell_type": "code",
   "execution_count": 26,
   "metadata": {},
   "outputs": [
    {
     "data": {
      "text/plain": [
       "0.90625"
      ]
     },
     "execution_count": 26,
     "metadata": {},
     "output_type": "execute_result"
    }
   ],
   "source": [
    "np.mean(differences_3)"
   ]
  },
  {
   "cell_type": "code",
   "execution_count": 27,
   "metadata": {},
   "outputs": [
    {
     "data": {
      "text/plain": [
       "5"
      ]
     },
     "execution_count": 27,
     "metadata": {},
     "output_type": "execute_result"
    }
   ],
   "source": [
    "np.max(differences_3)"
   ]
  },
  {
   "cell_type": "code",
   "execution_count": 28,
   "metadata": {},
   "outputs": [
    {
     "data": {
      "text/plain": [
       "0"
      ]
     },
     "execution_count": 28,
     "metadata": {},
     "output_type": "execute_result"
    }
   ],
   "source": [
    "np.min(differences_3)"
   ]
  },
  {
   "cell_type": "code",
   "execution_count": 29,
   "metadata": {},
   "outputs": [
    {
     "data": {
      "text/plain": [
       "<Axes: >"
      ]
     },
     "execution_count": 29,
     "metadata": {},
     "output_type": "execute_result"
    },
    {
     "data": {
      "image/png": "[encoded data removed]",
      "text/plain": [
       "<Figure size 640x480 with 1 Axes>"
      ]
     },
     "metadata": {},
     "output_type": "display_data"
    }
   ],
   "source": [
    "diff_ser = pd.Series(differences_3)\n",
    "diff_ser.hist(bins=5)"
   ]
  },
  {
   "cell_type": "code",
   "execution_count": 30,
   "metadata": {},
   "outputs": [
    {
     "data": {
      "text/plain": [
       "[33,\n",
       " 40,\n",
       " 46,\n",
       " 67,\n",
       " 69,\n",
       " 101,\n",
       " 105,\n",
       " 106,\n",
       " 108,\n",
       " 111,\n",
       " 127,\n",
       " 143,\n",
       " 151,\n",
       " 174,\n",
       " 178,\n",
       " 183,\n",
       " 184,\n",
       " 200,\n",
       " 217,\n",
       " 218,\n",
       " 228,\n",
       " 240,\n",
       " 246,\n",
       " 252,\n",
       " 264,\n",
       " 271,\n",
       " 284,\n",
       " 288]"
      ]
     },
     "execution_count": 30,
     "metadata": {},
     "output_type": "execute_result"
    }
   ],
   "source": [
    "indexes = [i for i, x in enumerate(differences_3) if x == 3]\n",
    "indexes\n"
   ]
  },
  {
   "cell_type": "code",
   "execution_count": 31,
   "metadata": {},
   "outputs": [
    {
     "name": "stdout",
     "output_type": "stream",
     "text": [
      "['pH' 'chlorides' 'total_sulfur_dioxide' 'volatile_acidity'\n",
      " 'residual_sugar' 'citric_acid' 'density' 'fixed_acidity'\n",
      " 'free_sulfur_dioxide' 'sulphates' 'alcohol']\n",
      "['sulphates' 'pH' 'alcohol' 'volatile_acidity' 'total_sulfur_dioxide'\n",
      " 'chlorides' 'residual_sugar' 'citric_acid' 'density' 'fixed_acidity'\n",
      " 'free_sulfur_dioxide']\n"
     ]
    }
   ],
   "source": [
    "print(exact_ranking[indexes[0]])\n",
    "print(approx_ranking_4000[indexes[0]])"
   ]
  },
  {
   "cell_type": "markdown",
   "metadata": {},
   "source": [
    "## Diffrence between sets"
   ]
  },
  {
   "cell_type": "markdown",
   "metadata": {},
   "source": [
    "Porównaie używając tylko różicy w zbiorach top k cech - bez brania pod uwagę kolejności"
   ]
  },
  {
   "cell_type": "code",
   "execution_count": 32,
   "metadata": {},
   "outputs": [],
   "source": [
    "def set_difference(a: list, b: list):\n",
    "    a_s = set(a)\n",
    "    b_s = set(b)\n",
    "    diff = a_s.difference(b_s) \n",
    "    return len(diff)"
   ]
  },
  {
   "cell_type": "markdown",
   "metadata": {},
   "source": [
    "### Top 5 features"
   ]
  },
  {
   "cell_type": "code",
   "execution_count": 33,
   "metadata": {},
   "outputs": [],
   "source": [
    "set_differences_5 = []\n",
    "for i, j in zip(exact_ranking, approx_ranking_4000):\n",
    "    i = i[0:5]\n",
    "    j = j[0:5]\n",
    "    diff = set_difference(i, j)\n",
    "    set_differences_5.append(diff)"
   ]
  },
  {
   "cell_type": "code",
   "execution_count": 34,
   "metadata": {},
   "outputs": [
    {
     "data": {
      "text/plain": [
       "0.853125"
      ]
     },
     "execution_count": 34,
     "metadata": {},
     "output_type": "execute_result"
    }
   ],
   "source": [
    "np.mean(set_differences_5)"
   ]
  },
  {
   "cell_type": "code",
   "execution_count": 35,
   "metadata": {},
   "outputs": [
    {
     "data": {
      "text/plain": [
       "4"
      ]
     },
     "execution_count": 35,
     "metadata": {},
     "output_type": "execute_result"
    }
   ],
   "source": [
    "np.max(set_differences_5)"
   ]
  },
  {
   "cell_type": "code",
   "execution_count": 36,
   "metadata": {},
   "outputs": [
    {
     "data": {
      "text/plain": [
       "0"
      ]
     },
     "execution_count": 36,
     "metadata": {},
     "output_type": "execute_result"
    }
   ],
   "source": [
    "np.min(set_differences_5)"
   ]
  },
  {
   "cell_type": "code",
   "execution_count": 38,
   "metadata": {},
   "outputs": [
    {
     "data": {
      "text/plain": [
       "<Axes: >"
      ]
     },
     "execution_count": 38,
     "metadata": {},
     "output_type": "execute_result"
    },
    {
     "data": {
      "image/png": "[encoded data removed]",
      "text/plain": [
       "<Figure size 640x480 with 1 Axes>"
      ]
     },
     "metadata": {},
     "output_type": "display_data"
    }
   ],
   "source": [
    "diff_ser = pd.Series(set_differences_5)\n",
    "diff_ser.hist(bins=4)"
   ]
  },
  {
   "cell_type": "code",
   "execution_count": 39,
   "metadata": {},
   "outputs": [
    {
     "data": {
      "text/plain": [
       "[151, 183, 233, 295, 319]"
      ]
     },
     "execution_count": 39,
     "metadata": {},
     "output_type": "execute_result"
    }
   ],
   "source": [
    "indexes = [i for i, x in enumerate(set_differences_5) if x == 4]\n",
    "indexes\n"
   ]
  },
  {
   "cell_type": "code",
   "execution_count": 40,
   "metadata": {},
   "outputs": [
    {
     "name": "stdout",
     "output_type": "stream",
     "text": [
      "['residual_sugar' 'chlorides' 'pH' 'total_sulfur_dioxide'\n",
      " 'free_sulfur_dioxide' 'fixed_acidity' 'volatile_acidity' 'citric_acid'\n",
      " 'alcohol' 'sulphates' 'density']\n",
      "['alcohol' 'residual_sugar' 'volatile_acidity' 'sulphates' 'citric_acid'\n",
      " 'free_sulfur_dioxide' 'total_sulfur_dioxide' 'density' 'pH'\n",
      " 'fixed_acidity' 'chlorides']\n"
     ]
    }
   ],
   "source": [
    "print(exact_ranking[indexes[0]])\n",
    "print(approx_ranking_4000[indexes[0]])"
   ]
  },
  {
   "cell_type": "markdown",
   "metadata": {},
   "source": [
    "### Top 3 features"
   ]
  },
  {
   "cell_type": "code",
   "execution_count": 41,
   "metadata": {},
   "outputs": [],
   "source": [
    "set_differences_3 = []\n",
    "for i, j in zip(exact_ranking, approx_ranking_4000):\n",
    "    i = i[0:3]\n",
    "    j = j[0:3]\n",
    "    diff = set_difference(i, j)\n",
    "    set_differences_3.append(diff)"
   ]
  },
  {
   "cell_type": "code",
   "execution_count": 42,
   "metadata": {},
   "outputs": [
    {
     "data": {
      "text/plain": [
       "0.5125"
      ]
     },
     "execution_count": 42,
     "metadata": {},
     "output_type": "execute_result"
    }
   ],
   "source": [
    "np.mean(set_differences_3)"
   ]
  },
  {
   "cell_type": "code",
   "execution_count": 43,
   "metadata": {},
   "outputs": [
    {
     "data": {
      "text/plain": [
       "3"
      ]
     },
     "execution_count": 43,
     "metadata": {},
     "output_type": "execute_result"
    }
   ],
   "source": [
    "np.max(set_differences_3)"
   ]
  },
  {
   "cell_type": "code",
   "execution_count": 44,
   "metadata": {},
   "outputs": [
    {
     "data": {
      "text/plain": [
       "0"
      ]
     },
     "execution_count": 44,
     "metadata": {},
     "output_type": "execute_result"
    }
   ],
   "source": [
    "np.min(set_differences_3)"
   ]
  },
  {
   "cell_type": "code",
   "execution_count": 45,
   "metadata": {},
   "outputs": [
    {
     "data": {
      "text/plain": [
       "<Axes: >"
      ]
     },
     "execution_count": 45,
     "metadata": {},
     "output_type": "execute_result"
    },
    {
     "data": {
      "image/png": "[encoded data removed]",
      "text/plain": [
       "<Figure size 640x480 with 1 Axes>"
      ]
     },
     "metadata": {},
     "output_type": "display_data"
    }
   ],
   "source": [
    "diff_ser = pd.Series(set_differences_3)\n",
    "diff_ser.hist(bins=3)"
   ]
  },
  {
   "cell_type": "code",
   "execution_count": 46,
   "metadata": {},
   "outputs": [
    {
     "data": {
      "text/plain": [
       "[178, 183, 233, 293, 319]"
      ]
     },
     "execution_count": 46,
     "metadata": {},
     "output_type": "execute_result"
    }
   ],
   "source": [
    "indexes = [i for i, x in enumerate(set_differences_3) if x == 3]\n",
    "indexes\n"
   ]
  },
  {
   "cell_type": "code",
   "execution_count": 47,
   "metadata": {},
   "outputs": [
    {
     "name": "stdout",
     "output_type": "stream",
     "text": [
      "['residual_sugar' 'pH' 'density' 'chlorides' 'free_sulfur_dioxide'\n",
      " 'total_sulfur_dioxide' 'fixed_acidity' 'sulphates' 'alcohol'\n",
      " 'volatile_acidity' 'citric_acid']\n",
      "['alcohol' 'volatile_acidity' 'sulphates' 'residual_sugar' 'density' 'pH'\n",
      " 'chlorides' 'total_sulfur_dioxide' 'free_sulfur_dioxide' 'fixed_acidity'\n",
      " 'citric_acid']\n"
     ]
    }
   ],
   "source": [
    "print(exact_ranking[indexes[0]])\n",
    "print(approx_ranking_4000[indexes[0]])"
   ]
  },
  {
   "cell_type": "markdown",
   "metadata": {},
   "source": [
    "# Porównanie z rankingiem z SHAP"
   ]
  },
  {
   "cell_type": "code",
   "execution_count": 48,
   "metadata": {},
   "outputs": [],
   "source": [
    "approx_diffs = []\n",
    "exact_diffs = []\n",
    "for i, j, s in zip(exact_ranking, approx_ranking_4000, shap_ranking):\n",
    "    diff_exact = distance_between_lists(i, s)\n",
    "    diff_approx = distance_between_lists(j, s)\n",
    "    exact_diffs.append(diff_exact)\n",
    "    approx_diffs.append(diff_approx)"
   ]
  },
  {
   "cell_type": "code",
   "execution_count": 49,
   "metadata": {},
   "outputs": [
    {
     "name": "stdout",
     "output_type": "stream",
     "text": [
      "Exact 7.65625  Approx 7.840625\n"
     ]
    }
   ],
   "source": [
    "print(f\"Exact {np.mean(exact_diffs)}  Approx {np.mean(approx_diffs)}\")"
   ]
  },
  {
   "cell_type": "code",
   "execution_count": 50,
   "metadata": {},
   "outputs": [
    {
     "name": "stdout",
     "output_type": "stream",
     "text": [
      "Exact 10  Approx 10\n"
     ]
    }
   ],
   "source": [
    "print(f\"Exact {np.max(exact_diffs)}  Approx {np.max(approx_diffs)}\")"
   ]
  },
  {
   "cell_type": "code",
   "execution_count": 51,
   "metadata": {},
   "outputs": [
    {
     "name": "stdout",
     "output_type": "stream",
     "text": [
      "Exact 4  Approx 3\n"
     ]
    }
   ],
   "source": [
    "print(f\"Exact {np.min(exact_diffs)}  Approx {np.min(approx_diffs)}\")"
   ]
  },
  {
   "cell_type": "code",
   "execution_count": 52,
   "metadata": {},
   "outputs": [
    {
     "data": {
      "text/plain": [
       "<Axes: >"
      ]
     },
     "execution_count": 52,
     "metadata": {},
     "output_type": "execute_result"
    },
    {
     "data": {
      "image/png": "[encoded data removed]",
      "text/plain": [
       "<Figure size 640x480 with 1 Axes>"
      ]
     },
     "metadata": {},
     "output_type": "display_data"
    }
   ],
   "source": [
    "exact_diffs_ser = pd.Series(exact_diffs)\n",
    "approx_diffs_ser = pd.Series(approx_diffs)\n",
    "exact_diffs_ser.hist(bins=10)\n"
   ]
  },
  {
   "cell_type": "code",
   "execution_count": 53,
   "metadata": {},
   "outputs": [
    {
     "data": {
      "text/plain": [
       "<Axes: >"
      ]
     },
     "execution_count": 53,
     "metadata": {},
     "output_type": "execute_result"
    },
    {
     "data": {
      "image/png": "[encoded data removed]",
      "text/plain": [
       "<Figure size 640x480 with 1 Axes>"
      ]
     },
     "metadata": {},
     "output_type": "display_data"
    }
   ],
   "source": [
    "approx_diffs_ser.hist(bins=10)"
   ]
  },
  {
   "cell_type": "code",
   "execution_count": null,
   "metadata": {},
   "outputs": [],
   "source": []
  },
  {
   "cell_type": "markdown",
   "metadata": {},
   "source": [
    "# Ile pierwszych miejsc się zgadza"
   ]
  },
  {
   "cell_type": "markdown",
   "metadata": {},
   "source": [
    "### Porównanie exact z approx"
   ]
  },
  {
   "cell_type": "code",
   "execution_count": 54,
   "metadata": {},
   "outputs": [],
   "source": [
    "def compare(a: list[str], b: list[str]):\n",
    "    assert (len (a) == len(b))\n",
    "    for i, j in zip(a, b):\n",
    "        if i == j:\n",
    "            continue\n",
    "        else:\n",
    "            return False\n",
    "    return True"
   ]
  },
  {
   "cell_type": "code",
   "execution_count": 55,
   "metadata": {},
   "outputs": [
    {
     "data": {
      "text/plain": [
       "<Axes: >"
      ]
     },
     "execution_count": 55,
     "metadata": {},
     "output_type": "execute_result"
    },
    {
     "data": {
      "image/png": "[encoded data removed]",
      "text/plain": [
       "<Figure size 640x480 with 1 Axes>"
      ]
     },
     "metadata": {},
     "output_type": "display_data"
    }
   ],
   "source": [
    "matching_count = [0 for i in range(0, 12)]\n",
    "distances = []\n",
    "for i, j in zip(exact_ranking, approx_ranking_4000):\n",
    "    rank = 0\n",
    "    for indx in range(1, len(i)):\n",
    "        if compare(i[0: indx], j[0:indx]):\n",
    "            rank += 1\n",
    "    matching_count[rank] += 1\n",
    "    distances.append(rank)\n",
    "\n",
    "exact_diffs_ser = pd.Series(distances)\n",
    "exact_diffs_ser.hist()\n",
    "\n",
    "\n",
    "\n"
   ]
  },
  {
   "cell_type": "code",
   "execution_count": 56,
   "metadata": {},
   "outputs": [
    {
     "data": {
      "text/plain": [
       "[61, 47, 56, 57, 47, 20, 15, 10, 1, 1, 5, 0]"
      ]
     },
     "execution_count": 56,
     "metadata": {},
     "output_type": "execute_result"
    }
   ],
   "source": [
    "matching_count"
   ]
  },
  {
   "cell_type": "markdown",
   "metadata": {},
   "source": [
    "### Exact z shap"
   ]
  },
  {
   "cell_type": "code",
   "execution_count": 58,
   "metadata": {},
   "outputs": [
    {
     "data": {
      "text/plain": [
       "<Axes: >"
      ]
     },
     "execution_count": 58,
     "metadata": {},
     "output_type": "execute_result"
    },
    {
     "data": {
      "image/png": "[encoded data removed]",
      "text/plain": [
       "<Figure size 640x480 with 1 Axes>"
      ]
     },
     "metadata": {},
     "output_type": "display_data"
    }
   ],
   "source": [
    "\n",
    "matching_count = [0 for i in range(0, 12)]\n",
    "distances = []\n",
    "for i, j in zip(exact_ranking, shap_ranking):\n",
    "    rank = 0\n",
    "    for indx in range(1, len(i)):\n",
    "        if compare(i[0: indx], j[0:indx]):\n",
    "            rank += 1\n",
    "    matching_count[rank] += 1\n",
    "    distances.append(rank)\n",
    "\n",
    "exact_diffs_ser = pd.Series(distances)\n",
    "exact_diffs_ser.hist(bins=10)\n",
    "\n",
    "\n",
    "\n"
   ]
  },
  {
   "cell_type": "code",
   "execution_count": 59,
   "metadata": {},
   "outputs": [
    {
     "data": {
      "text/plain": [
       "[262, 47, 11, 0, 0, 0, 0, 0, 0, 0, 0, 0]"
      ]
     },
     "execution_count": 59,
     "metadata": {},
     "output_type": "execute_result"
    }
   ],
   "source": [
    "matching_count"
   ]
  },
  {
   "cell_type": "markdown",
   "metadata": {},
   "source": [
    "### Approx z shap"
   ]
  },
  {
   "cell_type": "code",
   "execution_count": 61,
   "metadata": {},
   "outputs": [
    {
     "data": {
      "text/plain": [
       "<Axes: >"
      ]
     },
     "execution_count": 61,
     "metadata": {},
     "output_type": "execute_result"
    },
    {
     "data": {
      "image/png": "[encoded data removed]",
      "text/plain": [
       "<Figure size 640x480 with 1 Axes>"
      ]
     },
     "metadata": {},
     "output_type": "display_data"
    }
   ],
   "source": [
    "matching_count = [0 for i in range(0, 12)]\n",
    "distances = []\n",
    "for i, j in zip(approx_ranking_4000, shap_ranking):\n",
    "    rank = 0\n",
    "    for indx in range(1, len(i)):\n",
    "        if compare(i[0: indx], j[0:indx]):\n",
    "            rank += 1\n",
    "    matching_count[rank] += 1\n",
    "    distances.append(rank)\n",
    "\n",
    "exact_diffs_ser = pd.Series(distances)\n",
    "exact_diffs_ser.hist()\n",
    "\n",
    "\n",
    "\n"
   ]
  },
  {
   "cell_type": "code",
   "execution_count": 62,
   "metadata": {},
   "outputs": [
    {
     "data": {
      "text/plain": [
       "[257, 50, 12, 1, 0, 0, 0, 0, 0, 0, 0, 0]"
      ]
     },
     "execution_count": 62,
     "metadata": {},
     "output_type": "execute_result"
    }
   ],
   "source": [
    "matching_count"
   ]
  },
  {
   "cell_type": "code",
   "execution_count": null,
   "metadata": {},
   "outputs": [],
   "source": []
  },
  {
   "cell_type": "markdown",
   "metadata": {},
   "source": [
    "### Porównainie wszystkich trzech jednocześnie"
   ]
  },
  {
   "cell_type": "code",
   "execution_count": 63,
   "metadata": {},
   "outputs": [],
   "source": [
    "def compare(a: list[str], b: list[str], c: list[str]):\n",
    "    assert (len (a) == len(b))\n",
    "    assert(len(a) == len(c))\n",
    "    for i, j, y in zip(a, b, c):\n",
    "        if i == j and i == y:\n",
    "            continue\n",
    "        else:\n",
    "            return False\n",
    "    return True"
   ]
  },
  {
   "cell_type": "code",
   "execution_count": 64,
   "metadata": {},
   "outputs": [
    {
     "data": {
      "text/plain": [
       "<Axes: >"
      ]
     },
     "execution_count": 64,
     "metadata": {},
     "output_type": "execute_result"
    },
    {
     "data": {
      "image/png": "[encoded data removed]",
      "text/plain": [
       "<Figure size 640x480 with 1 Axes>"
      ]
     },
     "metadata": {},
     "output_type": "display_data"
    }
   ],
   "source": [
    "matching_count = [0 for i in range(0, 12)]\n",
    "distances = []\n",
    "for i, j, y in zip(approx_ranking_4000, shap_ranking, exact_ranking):\n",
    "    rank = 0\n",
    "    for indx in range(1, len(i)):\n",
    "        if compare(i[0: indx], j[0:indx], y[0:indx]):\n",
    "            rank += 1\n",
    "    matching_count[rank] += 1\n",
    "    distances.append(rank)\n",
    "\n",
    "exact_diffs_ser = pd.Series(distances)\n",
    "exact_diffs_ser.hist()\n",
    "\n",
    "\n",
    "\n"
   ]
  },
  {
   "cell_type": "code",
   "execution_count": 65,
   "metadata": {},
   "outputs": [
    {
     "data": {
      "text/plain": [
       "[268, 42, 10, 0, 0, 0, 0, 0, 0, 0, 0, 0]"
      ]
     },
     "execution_count": 65,
     "metadata": {},
     "output_type": "execute_result"
    }
   ],
   "source": [
    "matching_count"
   ]
  },
  {
   "cell_type": "code",
   "execution_count": null,
   "metadata": {},
   "outputs": [],
   "source": []
  },
  {
   "cell_type": "markdown",
   "metadata": {},
   "source": [
    "# Porównanie dla PGI"
   ]
  },
  {
   "cell_type": "code",
   "execution_count": 327,
   "metadata": {},
   "outputs": [
    {
     "ename": "FileNotFoundError",
     "evalue": "[Errno 2] No such file or directory: 'results/pgi_wine_exact_ranking.npy'",
     "output_type": "error",
     "traceback": [
      "\u001b[0;31m---------------------------------------------------------------------------\u001b[0m",
      "\u001b[0;31mFileNotFoundError\u001b[0m                         Traceback (most recent call last)",
      "\u001b[1;32m/home/mateusz/Documents/tmp/prediction-gap/notebooks/ranking_differences_analysis.ipynb Cell 89\u001b[0m line \u001b[0;36m1\n\u001b[0;32m----> <a href='vscode-notebook-cell:/home/mateusz/Documents/tmp/prediction-gap/notebooks/ranking_differences_analysis.ipynb#Y152sZmlsZQ%3D%3D?line=0'>1</a>\u001b[0m pgi_wine_exact_ranking \u001b[39m=\u001b[39m np\u001b[39m.\u001b[39;49mload(pgi_wine_exact_path)\n\u001b[1;32m      <a href='vscode-notebook-cell:/home/mateusz/Documents/tmp/prediction-gap/notebooks/ranking_differences_analysis.ipynb#Y152sZmlsZQ%3D%3D?line=1'>2</a>\u001b[0m pgi_wine_shap_ranking \u001b[39m=\u001b[39m np\u001b[39m.\u001b[39mload(pgi_wine_shap_path)\n\u001b[1;32m      <a href='vscode-notebook-cell:/home/mateusz/Documents/tmp/prediction-gap/notebooks/ranking_differences_analysis.ipynb#Y152sZmlsZQ%3D%3D?line=2'>3</a>\u001b[0m pgi_wine_approx_ranking \u001b[39m=\u001b[39m np\u001b[39m.\u001b[39mload(pgi_wine_approx_path)\n",
      "File \u001b[0;32m~/Documents/tmp/prediction-gap/venv/lib/python3.10/site-packages/numpy/lib/npyio.py:427\u001b[0m, in \u001b[0;36mload\u001b[0;34m(file, mmap_mode, allow_pickle, fix_imports, encoding, max_header_size)\u001b[0m\n\u001b[1;32m    425\u001b[0m     own_fid \u001b[39m=\u001b[39m \u001b[39mFalse\u001b[39;00m\n\u001b[1;32m    426\u001b[0m \u001b[39melse\u001b[39;00m:\n\u001b[0;32m--> 427\u001b[0m     fid \u001b[39m=\u001b[39m stack\u001b[39m.\u001b[39menter_context(\u001b[39mopen\u001b[39;49m(os_fspath(file), \u001b[39m\"\u001b[39;49m\u001b[39mrb\u001b[39;49m\u001b[39m\"\u001b[39;49m))\n\u001b[1;32m    428\u001b[0m     own_fid \u001b[39m=\u001b[39m \u001b[39mTrue\u001b[39;00m\n\u001b[1;32m    430\u001b[0m \u001b[39m# Code to distinguish from NumPy binary files and pickles.\u001b[39;00m\n",
      "\u001b[0;31mFileNotFoundError\u001b[0m: [Errno 2] No such file or directory: 'results/pgi_wine_exact_ranking.npy'"
     ]
    }
   ],
   "source": [
    "pgi_wine_exact_ranking = np.load(pgi_wine_exact_path)\n",
    "pgi_wine_shap_ranking = np.load(pgi_wine_shap_path)\n",
    "pgi_wine_approx_ranking = np.load(pgi_wine_approx_path)\n",
    "\n"
   ]
  },
  {
   "cell_type": "code",
   "execution_count": 73,
   "metadata": {},
   "outputs": [
    {
     "name": "stdout",
     "output_type": "stream",
     "text": [
      "exact mean: 0.30338761009075615\n",
      "approx mean: 0.3034437559209082\n",
      "shap mean: 0.3097186281591527\n"
     ]
    }
   ],
   "source": [
    "print(f\"exact mean: {np.mean(pgi_wine_exact_ranking)}\")\n",
    "print(f\"approx mean: {np.mean(pgi_wine_approx_ranking)}\")\n",
    "print(f\"shap mean: {np.mean(pgi_wine_shap_ranking)}\")"
   ]
  },
  {
   "cell_type": "code",
   "execution_count": 70,
   "metadata": {},
   "outputs": [
    {
     "data": {
      "text/plain": [
       "<Axes: >"
      ]
     },
     "execution_count": 70,
     "metadata": {},
     "output_type": "execute_result"
    },
    {
     "data": {
      "image/png": "[encoded data removed]",
      "text/plain": [
       "<Figure size 640x480 with 1 Axes>"
      ]
     },
     "metadata": {},
     "output_type": "display_data"
    }
   ],
   "source": [
    "pgi_wine_exact_ranking = np.load(pgi_wine_exact_path)\n",
    "exact_diffs_ser = pd.Series(pgi_wine_exact_ranking)\n",
    "exact_diffs_ser.hist()"
   ]
  },
  {
   "cell_type": "code",
   "execution_count": 69,
   "metadata": {},
   "outputs": [
    {
     "data": {
      "text/plain": [
       "(320,)"
      ]
     },
     "execution_count": 69,
     "metadata": {},
     "output_type": "execute_result"
    }
   ],
   "source": [
    "pgi_wine_exact_ranking.shape"
   ]
  },
  {
   "cell_type": "markdown",
   "metadata": {},
   "source": [
    "# Grid search"
   ]
  },
  {
   "cell_type": "code",
   "execution_count": 11,
   "metadata": {},
   "outputs": [],
   "source": [
    "stddevs = [0.01, 0.03, 0.1, 0.3]\n"
   ]
  },
  {
   "cell_type": "markdown",
   "metadata": {},
   "source": [
    "## Testing pgi for different top k features and different stds"
   ]
  },
  {
   "cell_type": "code",
   "execution_count": 219,
   "metadata": {},
   "outputs": [],
   "source": [
    "def get_names(s, k):\n",
    "    names = []\n",
    "    names.append(f'pgi_wine_exact_ranking_std_{s}_pgi_std_{s}_topk_{k}.npy')\n",
    "    names.append(f'pgi_wine_approx_ranking_4000_pgi_std_{s}_topk_{k}.npy')\n",
    "    names.append(f'pgi_wine_shap_ranking_pgi_std_{s}_topk_{k}.npy')\n",
    "    return names"
   ]
  },
  {
   "cell_type": "code",
   "execution_count": 220,
   "metadata": {},
   "outputs": [],
   "source": [
    "methods = ['exact', 'approx', 'shap']\n",
    "means = [[] for i in methods]\n",
    "stds = [[]for i in methods]\n",
    "for s in stddevs:\n",
    "    means_tmp = [[] for i in methods]\n",
    "    stds_tmp = [[] for i in methods]\n",
    "    for k in range(1, 12):\n",
    "        names = get_names(s, k) \n",
    "        for pgi_file_name, i in zip(names, range(0, len(methods))):\n",
    "            pgi = np.load(top_k_pgi_path / pgi_file_name) \n",
    "            mean = np.mean(pgi)\n",
    "            std = np.std(pgi)\n",
    "            means_tmp[i].append(mean)\n",
    "            stds_tmp[i].append(std)\n",
    "    for i in range(0, len(methods)):\n",
    "        means[i].append(means_tmp[i])\n",
    "        stds[i].append(stds_tmp[i])"
   ]
  },
  {
   "cell_type": "code",
   "execution_count": 221,
   "metadata": {},
   "outputs": [
    {
     "name": "stdout",
     "output_type": "stream",
     "text": [
      "0.005923199427969166\n"
     ]
    }
   ],
   "source": [
    "print(means[0][0][0])"
   ]
  },
  {
   "cell_type": "code",
   "execution_count": 222,
   "metadata": {},
   "outputs": [
    {
     "name": "stdout",
     "output_type": "stream",
     "text": [
      "0.004186407237196989\n"
     ]
    }
   ],
   "source": [
    "print(means[2][0][0])\n"
   ]
  },
  {
   "cell_type": "code",
   "execution_count": 223,
   "metadata": {},
   "outputs": [],
   "source": [
    "def draw_for_stdt(std_indx):\n",
    "    for y, l in zip(means, methods):\n",
    "        plt.errorbar(range(1, 12), y[std_indx], label = l)#, yerr = e)\n",
    "        print(y[std_indx])\n",
    "\n",
    "    plt.xlabel(\"k\")\n",
    "    plt.ylabel(\"PGI\")\n",
    "    plt.legend(loc = 'upper right')\n",
    "    plt.title(f'PGI vs topk for std = {stddevs[std_indx]}')\n",
    "    #plt.ylim(0.3, 0.32)\n",
    "    plt.show()"
   ]
  },
  {
   "cell_type": "code",
   "execution_count": 224,
   "metadata": {},
   "outputs": [
    {
     "name": "stdout",
     "output_type": "stream",
     "text": [
      "[0.005923199427969166, 0.0060681804107731, 0.006129355172583653, 0.0061600323990737196, 0.006178439583691959, 0.006190711040105361, 0.006199476366057265, 0.00620535600258561, 0.006191705588915071, 0.006098458036038441, 0.005850751902998777]\n",
      "[0.003762350237904358, 0.003661784841939622, 0.0036447929672307174, 0.003626273093255976, 0.0036088200643495183, 0.0035803245528981684, 0.0035570744310166927, 0.003537066288586128, 0.003521900275825579, 0.0035068550159087198, 0.003494749157426304]\n",
      "[0.004186407237196989, 0.004043177050831709, 0.003989494949621326, 0.003961106038428937, 0.003945608758007185, 0.003919828750679138, 0.003889122841962199, 0.003852824982705785, 0.003818627076246389, 0.0037845090753273933, 0.0037471619387160074]\n"
     ]
    },
    {
     "data": {
      "image/png": "[encoded data removed]",
      "text/plain": [
       "<Figure size 640x480 with 1 Axes>"
      ]
     },
     "metadata": {},
     "output_type": "display_data"
    }
   ],
   "source": [
    "draw_for_stdt(0)"
   ]
  },
  {
   "cell_type": "code",
   "execution_count": 225,
   "metadata": {},
   "outputs": [
    {
     "name": "stdout",
     "output_type": "stream",
     "text": [
      "[0.006405501508980019, 0.006693233876116654, 0.006841077154380764, 0.006923094212773706, 0.006973775246343411, 0.007007871993954876, 0.007031911455502621, 0.0070467684428942665, 0.007026908333945864, 0.0069279158662367, 0.0066880319634415875]\n",
      "[0.0041552582385491026, 0.004186959109699474, 0.0042665686213472585, 0.004304099700859504, 0.004322922612945738, 0.004318080372004146, 0.00431477041363144, 0.0043099154918831845, 0.00430876791382812, 0.004306675721970234, 0.004305086377744799]\n",
      "[0.0042568816505858505, 0.004179880947342743, 0.004174371155234821, 0.004173280797697499, 0.004184147948208351, 0.004187090422768757, 0.00418707744180175, 0.004181163380589643, 0.004184516026476051, 0.004189442388646537, 0.004198510620177802]\n"
     ]
    },
    {
     "data": {
      "image/png": "[encoded data removed]",
      "text/plain": [
       "<Figure size 640x480 with 1 Axes>"
      ]
     },
     "metadata": {},
     "output_type": "display_data"
    }
   ],
   "source": [
    "draw_for_stdt(1)"
   ]
  },
  {
   "cell_type": "code",
   "execution_count": 226,
   "metadata": {},
   "outputs": [
    {
     "name": "stdout",
     "output_type": "stream",
     "text": [
      "[0.010610917625615028, 0.012077934249705227, 0.013046684315383583, 0.0136875251683522, 0.014124487954751266, 0.01443130589392668, 0.014649513965175406, 0.014791181318018844, 0.014855026712401164, 0.014803703369634418, 0.01459914219906816]\n",
      "[0.008068699630614106, 0.009208785403000163, 0.010013275248256733, 0.010542249620577374, 0.010916965398688864, 0.011182942093965158, 0.011391771002500094, 0.011547408877441332, 0.011673812926200275, 0.01177901233278506, 0.011849423074659653]\n",
      "[0.00541804728339216, 0.005782607899305149, 0.006114896994377785, 0.006385283197113761, 0.006688651494897941, 0.006972302452369329, 0.007243544176792122, 0.007506553663437526, 0.0077991214066682624, 0.008142017592019251, 0.00854306421941801]\n"
     ]
    },
    {
     "data": {
      "image/png": "[encoded data removed]",
      "text/plain": [
       "<Figure size 640x480 with 1 Axes>"
      ]
     },
     "metadata": {},
     "output_type": "display_data"
    }
   ],
   "source": [
    "draw_for_stdt(2)"
   ]
  },
  {
   "cell_type": "code",
   "execution_count": 227,
   "metadata": {},
   "outputs": [
    {
     "name": "stdout",
     "output_type": "stream",
     "text": [
      "[0.025672336414747872, 0.03200041423280161, 0.03675492597102449, 0.040326570472821247, 0.04301947971482408, 0.045073051252415994, 0.04662715856275194, 0.04776770179584418, 0.04855320136469275, 0.04898795547997144, 0.04900231736966824]\n",
      "[0.023564814046867673, 0.0294949461056798, 0.03397960007892916, 0.037318682207282475, 0.03985192279326598, 0.04179312501935149, 0.04331477745855257, 0.0444841955365762, 0.045353433374863215, 0.04597622624313635, 0.046264381699818155]\n",
      "[0.011486283933121658, 0.014002117769306304, 0.015874016591297425, 0.017371688554719728, 0.01880757808686578, 0.020160558817215863, 0.021527791904215186, 0.02288530050849743, 0.024348293960357925, 0.02614543669621284, 0.02823639120261496]\n"
     ]
    },
    {
     "data": {
      "image/png": "[encoded data removed]",
      "text/plain": [
       "<Figure size 640x480 with 1 Axes>"
      ]
     },
     "metadata": {},
     "output_type": "display_data"
    }
   ],
   "source": [
    "draw_for_stdt(3)"
   ]
  },
  {
   "cell_type": "code",
   "execution_count": null,
   "metadata": {},
   "outputs": [],
   "source": []
  },
  {
   "cell_type": "markdown",
   "metadata": {},
   "source": [
    "# Approx vs exact comparision"
   ]
  },
  {
   "cell_type": "markdown",
   "metadata": {},
   "source": [
    "## 50 000 iterstions"
   ]
  },
  {
   "cell_type": "code",
   "execution_count": 30,
   "metadata": {},
   "outputs": [],
   "source": [
    "comparision_path = Path(\"results/precision_10000_mod\")"
   ]
  },
  {
   "cell_type": "code",
   "execution_count": 31,
   "metadata": {},
   "outputs": [],
   "source": [
    "iterations = [100, 500, 1000, 2000, 4000, 8000]"
   ]
  },
  {
   "cell_type": "code",
   "execution_count": 32,
   "metadata": {},
   "outputs": [],
   "source": [
    "def plot_for_std(std: float):\n",
    "    means = []\n",
    "    stds = []\n",
    "    for i in iterations:\n",
    "        arr = np.load(comparision_path / f'precision_comparision_std_{std}_iterations_{i}.npy')\n",
    "        #arr = arr[arr[:, 2] != 0]\n",
    "        diffs =  np.abs(arr[:, 0] - arr[:, 1]) #arr[:, 2]\n",
    "        means.append(np.mean(diffs))\n",
    "        stds.append(np.std(diffs))\n",
    "\n",
    "    print(means)\n",
    "    fig, (ax1, ax2) = plt.subplots(1, 2)\n",
    "    ax1.plot(iterations, means)\n",
    "    ax1.set(xlabel='Iterations\"', ylabel='PGI Diff')\n",
    "    ax1.legend(loc = 'upper right')\n",
    "    title = f'Mean difference for \\n PGI between methods for \\n std = {std}'\n",
    "    ax1.set(title = title)\n",
    "    \n",
    "    ax2.plot(iterations, stds)\n",
    "    ax2.set(xlabel='Iterations\"', ylabel='PGI Diff Std')\n",
    "    ax2.legend(loc = 'upper right')\n",
    "    title = f'Std of difference for \\n PGI between methods for \\n std = {std}'\n",
    "    ax2.set(title = title)\n",
    "\n",
    "\n",
    "    plt.show()"
   ]
  },
  {
   "cell_type": "code",
   "execution_count": 33,
   "metadata": {},
   "outputs": [
    {
     "name": "stderr",
     "output_type": "stream",
     "text": [
      "No artists with labels found to put in legend.  Note that artists whose label start with an underscore are ignored when legend() is called with no argument.\n",
      "No artists with labels found to put in legend.  Note that artists whose label start with an underscore are ignored when legend() is called with no argument.\n"
     ]
    },
    {
     "name": "stdout",
     "output_type": "stream",
     "text": [
      "[0.003625298475174743, 0.0020809646394467154, 0.0019368709373853183, 0.0018847428820881794, 0.0019175245210147779, 0.0020686508595579526]\n"
     ]
    },
    {
     "data": {
      "image/png": "[encoded data removed]",
      "text/plain": [
       "<Figure size 640x480 with 2 Axes>"
      ]
     },
     "metadata": {},
     "output_type": "display_data"
    }
   ],
   "source": [
    "plot_for_std(0.01)"
   ]
  },
  {
   "cell_type": "code",
   "execution_count": 34,
   "metadata": {},
   "outputs": [
    {
     "ename": "FileNotFoundError",
     "evalue": "[Errno 2] No such file or directory: 'results/precision_10000_mod/precision_comparision_std_0.1_iterations_100.npy'",
     "output_type": "error",
     "traceback": [
      "\u001b[0;31m---------------------------------------------------------------------------\u001b[0m",
      "\u001b[0;31mFileNotFoundError\u001b[0m                         Traceback (most recent call last)",
      "Cell \u001b[0;32mIn[34], line 1\u001b[0m\n\u001b[0;32m----> 1\u001b[0m \u001b[43mplot_for_std\u001b[49m\u001b[43m(\u001b[49m\u001b[38;5;241;43m0.1\u001b[39;49m\u001b[43m)\u001b[49m\n",
      "Cell \u001b[0;32mIn[32], line 5\u001b[0m, in \u001b[0;36mplot_for_std\u001b[0;34m(std)\u001b[0m\n\u001b[1;32m      3\u001b[0m stds \u001b[38;5;241m=\u001b[39m []\n\u001b[1;32m      4\u001b[0m \u001b[38;5;28;01mfor\u001b[39;00m i \u001b[38;5;129;01min\u001b[39;00m iterations:\n\u001b[0;32m----> 5\u001b[0m     arr \u001b[38;5;241m=\u001b[39m \u001b[43mnp\u001b[49m\u001b[38;5;241;43m.\u001b[39;49m\u001b[43mload\u001b[49m\u001b[43m(\u001b[49m\u001b[43mcomparision_path\u001b[49m\u001b[43m \u001b[49m\u001b[38;5;241;43m/\u001b[39;49m\u001b[43m \u001b[49m\u001b[38;5;124;43mf\u001b[39;49m\u001b[38;5;124;43m'\u001b[39;49m\u001b[38;5;124;43mprecision_comparision_std_\u001b[39;49m\u001b[38;5;132;43;01m{\u001b[39;49;00m\u001b[43mstd\u001b[49m\u001b[38;5;132;43;01m}\u001b[39;49;00m\u001b[38;5;124;43m_iterations_\u001b[39;49m\u001b[38;5;132;43;01m{\u001b[39;49;00m\u001b[43mi\u001b[49m\u001b[38;5;132;43;01m}\u001b[39;49;00m\u001b[38;5;124;43m.npy\u001b[39;49m\u001b[38;5;124;43m'\u001b[39;49m\u001b[43m)\u001b[49m\n\u001b[1;32m      6\u001b[0m     \u001b[38;5;66;03m#arr = arr[arr[:, 2] != 0]\u001b[39;00m\n\u001b[1;32m      7\u001b[0m     diffs \u001b[38;5;241m=\u001b[39m  np\u001b[38;5;241m.\u001b[39mabs(arr[:, \u001b[38;5;241m0\u001b[39m] \u001b[38;5;241m-\u001b[39m arr[:, \u001b[38;5;241m1\u001b[39m]) \u001b[38;5;66;03m#arr[:, 2]\u001b[39;00m\n",
      "File \u001b[0;32m~/Documents/tmp/prediction-gap/venv/lib/python3.10/site-packages/numpy/lib/npyio.py:427\u001b[0m, in \u001b[0;36mload\u001b[0;34m(file, mmap_mode, allow_pickle, fix_imports, encoding, max_header_size)\u001b[0m\n\u001b[1;32m    425\u001b[0m     own_fid \u001b[38;5;241m=\u001b[39m \u001b[38;5;28;01mFalse\u001b[39;00m\n\u001b[1;32m    426\u001b[0m \u001b[38;5;28;01melse\u001b[39;00m:\n\u001b[0;32m--> 427\u001b[0m     fid \u001b[38;5;241m=\u001b[39m stack\u001b[38;5;241m.\u001b[39menter_context(\u001b[38;5;28;43mopen\u001b[39;49m\u001b[43m(\u001b[49m\u001b[43mos_fspath\u001b[49m\u001b[43m(\u001b[49m\u001b[43mfile\u001b[49m\u001b[43m)\u001b[49m\u001b[43m,\u001b[49m\u001b[43m \u001b[49m\u001b[38;5;124;43m\"\u001b[39;49m\u001b[38;5;124;43mrb\u001b[39;49m\u001b[38;5;124;43m\"\u001b[39;49m\u001b[43m)\u001b[49m)\n\u001b[1;32m    428\u001b[0m     own_fid \u001b[38;5;241m=\u001b[39m \u001b[38;5;28;01mTrue\u001b[39;00m\n\u001b[1;32m    430\u001b[0m \u001b[38;5;66;03m# Code to distinguish from NumPy binary files and pickles.\u001b[39;00m\n",
      "\u001b[0;31mFileNotFoundError\u001b[0m: [Errno 2] No such file or directory: 'results/precision_10000_mod/precision_comparision_std_0.1_iterations_100.npy'"
     ]
    }
   ],
   "source": [
    "plot_for_std(0.1)"
   ]
  },
  {
   "cell_type": "code",
   "execution_count": 207,
   "metadata": {},
   "outputs": [
    {
     "name": "stderr",
     "output_type": "stream",
     "text": [
      "No artists with labels found to put in legend.  Note that artists whose label start with an underscore are ignored when legend() is called with no argument.\n",
      "No artists with labels found to put in legend.  Note that artists whose label start with an underscore are ignored when legend() is called with no argument.\n"
     ]
    },
    {
     "name": "stdout",
     "output_type": "stream",
     "text": [
      "[0.020339235648108574, 0.01845849592337074, 0.01676764685961061, 0.015947147759410436, 0.015458183207543455, 0.015003093067377266]\n"
     ]
    },
    {
     "data": {
      "image/png": "[encoded data removed]",
      "text/plain": [
       "<Figure size 640x480 with 2 Axes>"
      ]
     },
     "metadata": {},
     "output_type": "display_data"
    }
   ],
   "source": [
    "plot_for_std(0.3)"
   ]
  },
  {
   "cell_type": "code",
   "execution_count": 190,
   "metadata": {},
   "outputs": [],
   "source": [
    "arr = np.load(comparision_path / f'precision_comparision_std_0.1_iterations_1000.npy')\n"
   ]
  },
  {
   "cell_type": "code",
   "execution_count": 191,
   "metadata": {},
   "outputs": [
    {
     "data": {
      "text/plain": [
       "(50000, 3)"
      ]
     },
     "execution_count": 191,
     "metadata": {},
     "output_type": "execute_result"
    }
   ],
   "source": [
    "arr.shape"
   ]
  },
  {
   "cell_type": "code",
   "execution_count": 192,
   "metadata": {},
   "outputs": [],
   "source": [
    "arr = arr[arr[:, 2] != 0]"
   ]
  },
  {
   "cell_type": "code",
   "execution_count": 193,
   "metadata": {},
   "outputs": [
    {
     "name": "stdout",
     "output_type": "stream",
     "text": [
      "[[2.97023908e-03 5.58520775e-03 6.00000000e+00]\n",
      " [1.85145688e-03 1.84905814e-03 1.10000000e+01]\n",
      " [1.15657419e-03 1.12412146e-03 7.00000000e+00]\n",
      " ...\n",
      " [5.02460087e-03 4.52946558e-03 1.10000000e+01]\n",
      " [2.74279359e-03 2.78058936e-03 1.10000000e+01]\n",
      " [0.00000000e+00 1.03460091e-06 1.00000000e+00]]\n"
     ]
    }
   ],
   "source": [
    "print(arr)"
   ]
  },
  {
   "cell_type": "code",
   "execution_count": 196,
   "metadata": {},
   "outputs": [],
   "source": [
    "sorted_arr = np.sort(-1*np.abs(arr[:, 0] - arr[:, 1]))"
   ]
  },
  {
   "cell_type": "code",
   "execution_count": 197,
   "metadata": {},
   "outputs": [
    {
     "data": {
      "text/plain": [
       "array([-0.1523825 , -0.14837137, -0.1477573 , -0.14723749, -0.14714751,\n",
       "       -0.14688807, -0.14678622, -0.14170382, -0.14144875, -0.12914424,\n",
       "       -0.12837108, -0.12828314, -0.12470706, -0.1204655 , -0.11881061,\n",
       "       -0.11881061, -0.11881061, -0.11881061, -0.11879328, -0.118092  ,\n",
       "       -0.11806076, -0.118043  , -0.11803861, -0.11714463, -0.11708573,\n",
       "       -0.11669409, -0.11351878, -0.11350941, -0.11350694, -0.11348705,\n",
       "       -0.11347595, -0.11343947, -0.11305134, -0.11224882, -0.11202248,\n",
       "       -0.10426911, -0.10386654, -0.09766596, -0.09685453, -0.09673426,\n",
       "       -0.09642429, -0.09614703, -0.09605691, -0.09580887, -0.09577177,\n",
       "       -0.09280391, -0.09255087, -0.09233863, -0.09221283, -0.09188911,\n",
       "       -0.09186528, -0.09185684, -0.09111539, -0.09078022, -0.08982508,\n",
       "       -0.089695  , -0.08634885, -0.08634341, -0.08625634, -0.08615897,\n",
       "       -0.08613295, -0.08566372, -0.08483063, -0.08480934, -0.08425173,\n",
       "       -0.08424209, -0.08417764, -0.08404553, -0.08390815, -0.08390791,\n",
       "       -0.08389666, -0.08388908, -0.08388908, -0.08388908, -0.08387869,\n",
       "       -0.08387796, -0.08387591, -0.08387584, -0.08382338, -0.08365325,\n",
       "       -0.08363102, -0.08363065, -0.08359329, -0.08346665, -0.08333945,\n",
       "       -0.08245905, -0.08216254, -0.08216254, -0.08216214, -0.08211664,\n",
       "       -0.08211551, -0.08086333, -0.08085425, -0.08083329, -0.08057087,\n",
       "       -0.0800059 , -0.08000101, -0.07988624, -0.07834308, -0.07812577])"
      ]
     },
     "execution_count": 197,
     "metadata": {},
     "output_type": "execute_result"
    }
   ],
   "source": [
    "sorted_arr[0:100]"
   ]
  },
  {
   "cell_type": "code",
   "execution_count": 198,
   "metadata": {},
   "outputs": [
    {
     "data": {
      "text/plain": [
       "-0.0022901552153359516"
      ]
     },
     "execution_count": 198,
     "metadata": {},
     "output_type": "execute_result"
    }
   ],
   "source": [
    "np.mean(sorted_arr)"
   ]
  },
  {
   "cell_type": "code",
   "execution_count": 199,
   "metadata": {},
   "outputs": [],
   "source": [
    "arr = np.load(comparision_path / f'precision_comparision_std_0.1_iterations_8000.npy')"
   ]
  },
  {
   "cell_type": "code",
   "execution_count": 200,
   "metadata": {},
   "outputs": [],
   "source": [
    "sorted_arr = np.sort(-1*np.abs(arr[:, 0] - arr[:, 1]))"
   ]
  },
  {
   "cell_type": "code",
   "execution_count": 201,
   "metadata": {},
   "outputs": [
    {
     "data": {
      "text/plain": [
       "array([-0.15876105, -0.14805822, -0.14784104, -0.14106336, -0.14084787,\n",
       "       -0.12834029, -0.12358602, -0.12282288, -0.12281257, -0.11881061,\n",
       "       -0.11876187, -0.1187615 , -0.11873516, -0.11807568, -0.11351533,\n",
       "       -0.11346699, -0.11274652, -0.11246546, -0.11088178, -0.0966678 ,\n",
       "       -0.09659976, -0.09650865, -0.09639896, -0.09609388, -0.09591362,\n",
       "       -0.09574032, -0.09555298, -0.09553804, -0.09305461, -0.09305019,\n",
       "       -0.09291818, -0.09290576, -0.09268387, -0.09268321, -0.09200451,\n",
       "       -0.09187114, -0.09185314, -0.09183186, -0.09154129, -0.08958088,\n",
       "       -0.08945407, -0.08916876, -0.08901977, -0.08900034, -0.0872256 ,\n",
       "       -0.08623318, -0.086224  , -0.08621958, -0.08621065, -0.08620714,\n",
       "       -0.08620615, -0.08618279, -0.08618279, -0.08567441, -0.08562695,\n",
       "       -0.08519069, -0.08480915, -0.08454053, -0.08452511, -0.08427397,\n",
       "       -0.08427109, -0.08426913, -0.08425683, -0.08425359, -0.08425155,\n",
       "       -0.08390791, -0.0838779 , -0.0836114 , -0.08360582, -0.08330533,\n",
       "       -0.08330132, -0.08307623, -0.08232236, -0.08216254, -0.08216254,\n",
       "       -0.08216254, -0.08216254, -0.08216254, -0.08216254, -0.08216254,\n",
       "       -0.08216214, -0.08216203, -0.08211567, -0.0821154 , -0.08211507,\n",
       "       -0.08187584, -0.08164975, -0.08157626, -0.08157469, -0.08157368,\n",
       "       -0.08157299, -0.08157164, -0.0815712 , -0.08124261, -0.08057286,\n",
       "       -0.08052954, -0.08003311, -0.07995059, -0.07874985, -0.07868076])"
      ]
     },
     "execution_count": 201,
     "metadata": {},
     "output_type": "execute_result"
    }
   ],
   "source": [
    "sorted_arr[0:100]"
   ]
  },
  {
   "cell_type": "code",
   "execution_count": 202,
   "metadata": {},
   "outputs": [
    {
     "data": {
      "text/plain": [
       "-0.002171634630282311"
      ]
     },
     "execution_count": 202,
     "metadata": {},
     "output_type": "execute_result"
    }
   ],
   "source": [
    "np.mean(sorted_arr)"
   ]
  },
  {
   "cell_type": "code",
   "execution_count": null,
   "metadata": {},
   "outputs": [],
   "source": []
  },
  {
   "cell_type": "code",
   "execution_count": null,
   "metadata": {},
   "outputs": [],
   "source": []
  }
 ],
 "metadata": {
  "kernelspec": {
   "display_name": "venv",
   "language": "python",
   "name": "python3"
  },
  "language_info": {
   "codemirror_mode": {
    "name": "ipython",
    "version": 3
   },
   "file_extension": ".py",
   "mimetype": "text/x-python",
   "name": "python",
   "nbconvert_exporter": "python",
   "pygments_lexer": "ipython3",
   "version": "3.10.12"
  }
 },
 "nbformat": 4,
 "nbformat_minor": 2
}
