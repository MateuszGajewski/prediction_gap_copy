{
 "cells": [
  {
   "cell_type": "markdown",
   "metadata": {},
   "source": [
    "# Analiza różnic w rankigach"
   ]
  },
  {
   "cell_type": "markdown",
   "metadata": {},
   "source": [
    "Analiza różnic pomiędzy:\n",
    "- dokładną metodą - exact_ranking\n",
    "- metodą przybliżania dla 1000 iteracji"
   ]
  },
  {
   "cell_type": "code",
   "execution_count": 2,
   "metadata": {},
   "outputs": [],
   "source": [
    "import os\n",
    "while \"notebooks\" in os.getcwd():\n",
    "    os.chdir(\"../\")\n"
   ]
  },
  {
   "cell_type": "code",
   "execution_count": 35,
   "metadata": {},
   "outputs": [],
   "source": [
    "from pathlib import Path\n",
    "import pandas as pd\n",
    "import numpy as np\n",
    "import matplotlib.pyplot as plt"
   ]
  },
  {
   "cell_type": "markdown",
   "metadata": {},
   "source": [
    "## Wczytywanie rankingów i zbioru danych"
   ]
  },
  {
   "cell_type": "code",
   "execution_count": 4,
   "metadata": {},
   "outputs": [],
   "source": [
    "result_path = Path(\"results\")\n",
    "exact_ranking_data_path = result_path / \"wine_exact_ranking.npy\"\n",
    "approx_ranking_data_path = result_path / \"wine_approx_ranking_1000_iter.npy\"\n",
    "data_path = Path(\"data\")\n",
    "wine_test_data_path = data_path / \"wine_quality/test_winequality_red_scaled.csv\""
   ]
  },
  {
   "cell_type": "code",
   "execution_count": 5,
   "metadata": {},
   "outputs": [
    {
     "data": {
      "text/html": [
       "<div>\n",
       "<style scoped>\n",
       "    .dataframe tbody tr th:only-of-type {\n",
       "        vertical-align: middle;\n",
       "    }\n",
       "\n",
       "    .dataframe tbody tr th {\n",
       "        vertical-align: top;\n",
       "    }\n",
       "\n",
       "    .dataframe thead th {\n",
       "        text-align: right;\n",
       "    }\n",
       "</style>\n",
       "<table border=\"1\" class=\"dataframe\">\n",
       "  <thead>\n",
       "    <tr style=\"text-align: right;\">\n",
       "      <th></th>\n",
       "      <th>fixed_acidity</th>\n",
       "      <th>volatile_acidity</th>\n",
       "      <th>citric_acid</th>\n",
       "      <th>residual_sugar</th>\n",
       "      <th>chlorides</th>\n",
       "      <th>free_sulfur_dioxide</th>\n",
       "      <th>total_sulfur_dioxide</th>\n",
       "      <th>density</th>\n",
       "      <th>pH</th>\n",
       "      <th>sulphates</th>\n",
       "      <th>alcohol</th>\n",
       "      <th>quality</th>\n",
       "    </tr>\n",
       "  </thead>\n",
       "  <tbody>\n",
       "    <tr>\n",
       "      <th>0</th>\n",
       "      <td>-0.241094</td>\n",
       "      <td>-1.887226</td>\n",
       "      <td>0.765247</td>\n",
       "      <td>-0.666062</td>\n",
       "      <td>-0.647527</td>\n",
       "      <td>0.203223</td>\n",
       "      <td>-0.500769</td>\n",
       "      <td>-1.455778</td>\n",
       "      <td>-0.136798</td>\n",
       "      <td>0.187963</td>\n",
       "      <td>0.729364</td>\n",
       "      <td>6</td>\n",
       "    </tr>\n",
       "    <tr>\n",
       "      <th>1</th>\n",
       "      <td>-1.045437</td>\n",
       "      <td>-1.049255</td>\n",
       "      <td>-0.005010</td>\n",
       "      <td>0.185312</td>\n",
       "      <td>-0.434990</td>\n",
       "      <td>-0.753085</td>\n",
       "      <td>-0.075043</td>\n",
       "      <td>-1.540580</td>\n",
       "      <td>-0.655141</td>\n",
       "      <td>-0.579207</td>\n",
       "      <td>1.480302</td>\n",
       "      <td>6</td>\n",
       "    </tr>\n",
       "    <tr>\n",
       "      <th>2</th>\n",
       "      <td>0.103624</td>\n",
       "      <td>-1.160984</td>\n",
       "      <td>0.765247</td>\n",
       "      <td>-0.169427</td>\n",
       "      <td>-0.264960</td>\n",
       "      <td>-0.370562</td>\n",
       "      <td>-0.835267</td>\n",
       "      <td>-1.275573</td>\n",
       "      <td>-1.108690</td>\n",
       "      <td>0.305990</td>\n",
       "      <td>1.292568</td>\n",
       "      <td>7</td>\n",
       "    </tr>\n",
       "    <tr>\n",
       "      <th>3</th>\n",
       "      <td>-0.700719</td>\n",
       "      <td>-0.546472</td>\n",
       "      <td>0.765247</td>\n",
       "      <td>2.100902</td>\n",
       "      <td>-0.349975</td>\n",
       "      <td>1.159531</td>\n",
       "      <td>2.479310</td>\n",
       "      <td>0.293268</td>\n",
       "      <td>0.705508</td>\n",
       "      <td>0.305990</td>\n",
       "      <td>0.072294</td>\n",
       "      <td>5</td>\n",
       "    </tr>\n",
       "    <tr>\n",
       "      <th>4</th>\n",
       "      <td>2.229387</td>\n",
       "      <td>-0.434742</td>\n",
       "      <td>1.124700</td>\n",
       "      <td>-0.807957</td>\n",
       "      <td>-0.264960</td>\n",
       "      <td>-1.231239</td>\n",
       "      <td>-1.230584</td>\n",
       "      <td>0.081262</td>\n",
       "      <td>-1.173483</td>\n",
       "      <td>-0.166115</td>\n",
       "      <td>-0.021574</td>\n",
       "      <td>5</td>\n",
       "    </tr>\n",
       "    <tr>\n",
       "      <th>...</th>\n",
       "      <td>...</td>\n",
       "      <td>...</td>\n",
       "      <td>...</td>\n",
       "      <td>...</td>\n",
       "      <td>...</td>\n",
       "      <td>...</td>\n",
       "      <td>...</td>\n",
       "      <td>...</td>\n",
       "      <td>...</td>\n",
       "      <td>...</td>\n",
       "      <td>...</td>\n",
       "      <td>...</td>\n",
       "    </tr>\n",
       "    <tr>\n",
       "      <th>315</th>\n",
       "      <td>-0.470907</td>\n",
       "      <td>0.291499</td>\n",
       "      <td>1.484154</td>\n",
       "      <td>0.398155</td>\n",
       "      <td>1.392830</td>\n",
       "      <td>-1.039977</td>\n",
       "      <td>-0.987312</td>\n",
       "      <td>-1.052967</td>\n",
       "      <td>-0.655141</td>\n",
       "      <td>2.194408</td>\n",
       "      <td>1.104833</td>\n",
       "      <td>6</td>\n",
       "    </tr>\n",
       "    <tr>\n",
       "      <th>316</th>\n",
       "      <td>-0.068735</td>\n",
       "      <td>-0.993390</td>\n",
       "      <td>0.303093</td>\n",
       "      <td>-0.098479</td>\n",
       "      <td>-0.243707</td>\n",
       "      <td>-0.466193</td>\n",
       "      <td>0.016184</td>\n",
       "      <td>-0.401050</td>\n",
       "      <td>-0.266384</td>\n",
       "      <td>0.896120</td>\n",
       "      <td>0.541630</td>\n",
       "      <td>6</td>\n",
       "    </tr>\n",
       "    <tr>\n",
       "      <th>317</th>\n",
       "      <td>0.390889</td>\n",
       "      <td>-0.323013</td>\n",
       "      <td>0.200392</td>\n",
       "      <td>0.114364</td>\n",
       "      <td>-0.073677</td>\n",
       "      <td>0.777007</td>\n",
       "      <td>2.388083</td>\n",
       "      <td>0.876283</td>\n",
       "      <td>-0.007213</td>\n",
       "      <td>-0.284141</td>\n",
       "      <td>-0.960246</td>\n",
       "      <td>5</td>\n",
       "    </tr>\n",
       "    <tr>\n",
       "      <th>318</th>\n",
       "      <td>0.046171</td>\n",
       "      <td>1.045674</td>\n",
       "      <td>-0.364463</td>\n",
       "      <td>-0.098479</td>\n",
       "      <td>-0.243707</td>\n",
       "      <td>-0.561823</td>\n",
       "      <td>-0.257497</td>\n",
       "      <td>0.319768</td>\n",
       "      <td>-0.007213</td>\n",
       "      <td>-0.107102</td>\n",
       "      <td>-0.960246</td>\n",
       "      <td>5</td>\n",
       "    </tr>\n",
       "    <tr>\n",
       "      <th>319</th>\n",
       "      <td>0.563248</td>\n",
       "      <td>-0.937525</td>\n",
       "      <td>0.611196</td>\n",
       "      <td>-0.737010</td>\n",
       "      <td>-0.158692</td>\n",
       "      <td>2.402731</td>\n",
       "      <td>0.259456</td>\n",
       "      <td>-0.120143</td>\n",
       "      <td>1.029472</td>\n",
       "      <td>0.424016</td>\n",
       "      <td>0.447763</td>\n",
       "      <td>6</td>\n",
       "    </tr>\n",
       "  </tbody>\n",
       "</table>\n",
       "<p>320 rows × 12 columns</p>\n",
       "</div>"
      ],
      "text/plain": [
       "     fixed_acidity  volatile_acidity  citric_acid  residual_sugar  chlorides  \\\n",
       "0        -0.241094         -1.887226     0.765247       -0.666062  -0.647527   \n",
       "1        -1.045437         -1.049255    -0.005010        0.185312  -0.434990   \n",
       "2         0.103624         -1.160984     0.765247       -0.169427  -0.264960   \n",
       "3        -0.700719         -0.546472     0.765247        2.100902  -0.349975   \n",
       "4         2.229387         -0.434742     1.124700       -0.807957  -0.264960   \n",
       "..             ...               ...          ...             ...        ...   \n",
       "315      -0.470907          0.291499     1.484154        0.398155   1.392830   \n",
       "316      -0.068735         -0.993390     0.303093       -0.098479  -0.243707   \n",
       "317       0.390889         -0.323013     0.200392        0.114364  -0.073677   \n",
       "318       0.046171          1.045674    -0.364463       -0.098479  -0.243707   \n",
       "319       0.563248         -0.937525     0.611196       -0.737010  -0.158692   \n",
       "\n",
       "     free_sulfur_dioxide  total_sulfur_dioxide   density        pH  sulphates  \\\n",
       "0               0.203223             -0.500769 -1.455778 -0.136798   0.187963   \n",
       "1              -0.753085             -0.075043 -1.540580 -0.655141  -0.579207   \n",
       "2              -0.370562             -0.835267 -1.275573 -1.108690   0.305990   \n",
       "3               1.159531              2.479310  0.293268  0.705508   0.305990   \n",
       "4              -1.231239             -1.230584  0.081262 -1.173483  -0.166115   \n",
       "..                   ...                   ...       ...       ...        ...   \n",
       "315            -1.039977             -0.987312 -1.052967 -0.655141   2.194408   \n",
       "316            -0.466193              0.016184 -0.401050 -0.266384   0.896120   \n",
       "317             0.777007              2.388083  0.876283 -0.007213  -0.284141   \n",
       "318            -0.561823             -0.257497  0.319768 -0.007213  -0.107102   \n",
       "319             2.402731              0.259456 -0.120143  1.029472   0.424016   \n",
       "\n",
       "      alcohol  quality  \n",
       "0    0.729364        6  \n",
       "1    1.480302        6  \n",
       "2    1.292568        7  \n",
       "3    0.072294        5  \n",
       "4   -0.021574        5  \n",
       "..        ...      ...  \n",
       "315  1.104833        6  \n",
       "316  0.541630        6  \n",
       "317 -0.960246        5  \n",
       "318 -0.960246        5  \n",
       "319  0.447763        6  \n",
       "\n",
       "[320 rows x 12 columns]"
      ]
     },
     "execution_count": 5,
     "metadata": {},
     "output_type": "execute_result"
    }
   ],
   "source": [
    "wine_data = pd.read_csv(wine_test_data_path)\n",
    "wine_data"
   ]
  },
  {
   "cell_type": "code",
   "execution_count": 6,
   "metadata": {},
   "outputs": [
    {
     "data": {
      "text/plain": [
       "(320, 11)"
      ]
     },
     "execution_count": 6,
     "metadata": {},
     "output_type": "execute_result"
    }
   ],
   "source": [
    "exact_ranking = np.load(exact_ranking_data_path)\n",
    "exact_ranking.shape"
   ]
  },
  {
   "cell_type": "code",
   "execution_count": 7,
   "metadata": {},
   "outputs": [],
   "source": [
    "approx_ranking_1000 = np.load(approx_ranking_data_path)"
   ]
  },
  {
   "cell_type": "markdown",
   "metadata": {},
   "source": [
    "# Analiza różnic w rankingach"
   ]
  },
  {
   "cell_type": "code",
   "execution_count": 8,
   "metadata": {},
   "outputs": [],
   "source": [
    "features_map = {}\n",
    "for indx, name in enumerate(list(wine_data.columns.values)):\n",
    "    features_map[name] = indx"
   ]
  },
  {
   "cell_type": "code",
   "execution_count": 9,
   "metadata": {},
   "outputs": [],
   "source": [
    "def map_features(li: list):\n",
    "    mapped_li = [features_map[i] for i in li]\n",
    "    return mapped_li"
   ]
  },
  {
   "cell_type": "code",
   "execution_count": 10,
   "metadata": {},
   "outputs": [],
   "source": [
    "\n",
    "def distance_between_lists(a, b):\n",
    "    a = map_features(a)\n",
    "    b = map_features(b)\n",
    "    a_s = set(a)\n",
    "    b_s = set(b)\n",
    "    [a.append(i) for i in list(b_s-a_s)]\n",
    "    [b.append(i) for i in list(a_s-b_s)]\n",
    "    max_val = max(max(a), max(b))\n",
    "    all_numbers_set = set(range(max_val))\n",
    "    a_s = set(a)\n",
    "    b_s = set(b)\n",
    "    [a.append(i) for i in list(all_numbers_set - a_s)]\n",
    "    [b.append(i) for i in list(all_numbers_set - b_s)]\n",
    "    return cayley_distance(a, b)\n",
    "\n",
    "def cayley_distance(x,y):\n",
    "    A = range(len(x))\n",
    "    inv_y = tuple(y.index(a) for a in A)\n",
    "    comp = tuple(x[inv_y[a]] for a in A)\n",
    "    cycles = 0\n",
    "    rem = set(A)\n",
    "    while rem:\n",
    "        a = rem.pop()\n",
    "        cycles += 1\n",
    "        while comp[a] in rem:\n",
    "            a = comp[a]\n",
    "            rem.remove(a)\n",
    "    return len(A) - cycles\n"
   ]
  },
  {
   "cell_type": "code",
   "execution_count": null,
   "metadata": {},
   "outputs": [],
   "source": []
  },
  {
   "cell_type": "markdown",
   "metadata": {},
   "source": [
    "## Caylel distance"
   ]
  },
  {
   "cell_type": "markdown",
   "metadata": {},
   "source": [
    "### All features"
   ]
  },
  {
   "cell_type": "code",
   "execution_count": 38,
   "metadata": {},
   "outputs": [],
   "source": [
    "differences_all = []\n",
    "for i, j in zip(exact_ranking, approx_ranking_1000):\n",
    "    diff = distance_between_lists(i, j)\n",
    "    differences_all.append(diff)"
   ]
  },
  {
   "cell_type": "code",
   "execution_count": 39,
   "metadata": {},
   "outputs": [
    {
     "data": {
      "text/plain": [
       "5.378125"
      ]
     },
     "execution_count": 39,
     "metadata": {},
     "output_type": "execute_result"
    }
   ],
   "source": [
    "np.mean(differences_all)"
   ]
  },
  {
   "cell_type": "code",
   "execution_count": 40,
   "metadata": {},
   "outputs": [
    {
     "data": {
      "text/plain": [
       "10"
      ]
     },
     "execution_count": 40,
     "metadata": {},
     "output_type": "execute_result"
    }
   ],
   "source": [
    "np.max(differences_all)"
   ]
  },
  {
   "cell_type": "code",
   "execution_count": 42,
   "metadata": {},
   "outputs": [
    {
     "data": {
      "text/plain": [
       "0"
      ]
     },
     "execution_count": 42,
     "metadata": {},
     "output_type": "execute_result"
    }
   ],
   "source": [
    "np.min(differences_all)"
   ]
  },
  {
   "cell_type": "code",
   "execution_count": 46,
   "metadata": {},
   "outputs": [
    {
     "data": {
      "text/plain": [
       "<Axes: >"
      ]
     },
     "execution_count": 46,
     "metadata": {},
     "output_type": "execute_result"
    },
    {
     "data": {
      "image/png": "[encoded data removed]",
      "text/plain": [
       "<Figure size 640x480 with 1 Axes>"
      ]
     },
     "metadata": {},
     "output_type": "display_data"
    }
   ],
   "source": [
    "diff_ser = pd.Series(differences_all)\n",
    "diff_ser.hist(bins=10)"
   ]
  },
  {
   "cell_type": "code",
   "execution_count": 49,
   "metadata": {},
   "outputs": [
    {
     "data": {
      "text/plain": [
       "2"
      ]
     },
     "execution_count": 49,
     "metadata": {},
     "output_type": "execute_result"
    }
   ],
   "source": [
    "differences_all[differences_all==10]"
   ]
  },
  {
   "cell_type": "code",
   "execution_count": 50,
   "metadata": {},
   "outputs": [
    {
     "data": {
      "text/plain": [
       "106"
      ]
     },
     "execution_count": 50,
     "metadata": {},
     "output_type": "execute_result"
    }
   ],
   "source": [
    "differences_all.index(10)"
   ]
  },
  {
   "cell_type": "code",
   "execution_count": 52,
   "metadata": {},
   "outputs": [
    {
     "data": {
      "text/plain": [
       "[106, 164, 184, 236]"
      ]
     },
     "execution_count": 52,
     "metadata": {},
     "output_type": "execute_result"
    }
   ],
   "source": [
    "indexes = [i for i, x in enumerate(differences_all) if x == 10]\n",
    "indexes\n"
   ]
  },
  {
   "cell_type": "code",
   "execution_count": 57,
   "metadata": {},
   "outputs": [
    {
     "name": "stdout",
     "output_type": "stream",
     "text": [
      "['total_sulfur_dioxide' 'density' 'citric_acid' 'free_sulfur_dioxide'\n",
      " 'sulphates' 'pH' 'fixed_acidity' 'chlorides' 'alcohol' 'volatile_acidity'\n",
      " 'residual_sugar']\n",
      "['residual_sugar' 'chlorides' 'total_sulfur_dioxide' 'density'\n",
      " 'citric_acid' 'volatile_acidity' 'alcohol' 'sulphates' 'pH'\n",
      " 'free_sulfur_dioxide' 'fixed_acidity']\n"
     ]
    }
   ],
   "source": [
    "print(exact_ranking[indexes[0]])\n",
    "print(approx_ranking_1000[indexes[0]])"
   ]
  },
  {
   "cell_type": "markdown",
   "metadata": {},
   "source": [
    "### Top 5 features"
   ]
  },
  {
   "cell_type": "code",
   "execution_count": null,
   "metadata": {},
   "outputs": [],
   "source": []
  },
  {
   "cell_type": "code",
   "execution_count": 61,
   "metadata": {},
   "outputs": [],
   "source": [
    "differences_5 = []\n",
    "for i, j in zip(exact_ranking, approx_ranking_1000):\n",
    "    i = i[0:5]\n",
    "    j = j[0:5]\n",
    "    diff = distance_between_lists(i, j)\n",
    "    differences_5.append(diff)"
   ]
  },
  {
   "cell_type": "code",
   "execution_count": 62,
   "metadata": {},
   "outputs": [
    {
     "data": {
      "text/plain": [
       "2.5375"
      ]
     },
     "execution_count": 62,
     "metadata": {},
     "output_type": "execute_result"
    }
   ],
   "source": [
    "np.mean(differences_5)"
   ]
  },
  {
   "cell_type": "code",
   "execution_count": 63,
   "metadata": {},
   "outputs": [
    {
     "data": {
      "text/plain": [
       "8"
      ]
     },
     "execution_count": 63,
     "metadata": {},
     "output_type": "execute_result"
    }
   ],
   "source": [
    "np.max(differences_5)"
   ]
  },
  {
   "cell_type": "code",
   "execution_count": 64,
   "metadata": {},
   "outputs": [
    {
     "data": {
      "text/plain": [
       "0"
      ]
     },
     "execution_count": 64,
     "metadata": {},
     "output_type": "execute_result"
    }
   ],
   "source": [
    "np.min(differences_5)"
   ]
  },
  {
   "cell_type": "code",
   "execution_count": 67,
   "metadata": {},
   "outputs": [
    {
     "data": {
      "text/plain": [
       "<Axes: >"
      ]
     },
     "execution_count": 67,
     "metadata": {},
     "output_type": "execute_result"
    },
    {
     "data": {
      "image/png": "[encoded data removed]",
      "text/plain": [
       "<Figure size 640x480 with 1 Axes>"
      ]
     },
     "metadata": {},
     "output_type": "display_data"
    }
   ],
   "source": [
    "diff_ser = pd.Series(differences_5)\n",
    "diff_ser.hist(bins=8)"
   ]
  },
  {
   "cell_type": "code",
   "execution_count": 88,
   "metadata": {},
   "outputs": [
    {
     "data": {
      "text/plain": [
       "[319]"
      ]
     },
     "execution_count": 88,
     "metadata": {},
     "output_type": "execute_result"
    }
   ],
   "source": [
    "indexes = [i for i, x in enumerate(differences_5) if x == 8]\n",
    "indexes\n"
   ]
  },
  {
   "cell_type": "code",
   "execution_count": 89,
   "metadata": {},
   "outputs": [
    {
     "name": "stdout",
     "output_type": "stream",
     "text": [
      "['pH' 'residual_sugar' 'sulphates' 'alcohol' 'density' 'volatile_acidity'\n",
      " 'fixed_acidity' 'citric_acid' 'chlorides' 'total_sulfur_dioxide'\n",
      " 'free_sulfur_dioxide']\n",
      "['chlorides' 'sulphates' 'volatile_acidity' 'total_sulfur_dioxide'\n",
      " 'free_sulfur_dioxide' 'pH' 'density' 'citric_acid' 'fixed_acidity'\n",
      " 'residual_sugar' 'alcohol']\n"
     ]
    }
   ],
   "source": [
    "print(exact_ranking[indexes[0]])\n",
    "print(approx_ranking_1000[indexes[0]])"
   ]
  },
  {
   "cell_type": "markdown",
   "metadata": {},
   "source": [
    "### Top 3 features"
   ]
  },
  {
   "cell_type": "code",
   "execution_count": 90,
   "metadata": {},
   "outputs": [],
   "source": [
    "differences_3 = []\n",
    "for i, j in zip(exact_ranking, approx_ranking_1000):\n",
    "    i = i[0:3]\n",
    "    j = j[0:3]\n",
    "    diff = distance_between_lists(i, j)\n",
    "    differences_3.append(diff)"
   ]
  },
  {
   "cell_type": "code",
   "execution_count": 91,
   "metadata": {},
   "outputs": [
    {
     "data": {
      "text/plain": [
       "1.1875"
      ]
     },
     "execution_count": 91,
     "metadata": {},
     "output_type": "execute_result"
    }
   ],
   "source": [
    "np.mean(differences_3)"
   ]
  },
  {
   "cell_type": "code",
   "execution_count": 92,
   "metadata": {},
   "outputs": [
    {
     "data": {
      "text/plain": [
       "5"
      ]
     },
     "execution_count": 92,
     "metadata": {},
     "output_type": "execute_result"
    }
   ],
   "source": [
    "np.max(differences_3)"
   ]
  },
  {
   "cell_type": "code",
   "execution_count": 93,
   "metadata": {},
   "outputs": [
    {
     "data": {
      "text/plain": [
       "0"
      ]
     },
     "execution_count": 93,
     "metadata": {},
     "output_type": "execute_result"
    }
   ],
   "source": [
    "np.min(differences_3)"
   ]
  },
  {
   "cell_type": "code",
   "execution_count": 94,
   "metadata": {},
   "outputs": [
    {
     "data": {
      "text/plain": [
       "<Axes: >"
      ]
     },
     "execution_count": 94,
     "metadata": {},
     "output_type": "execute_result"
    },
    {
     "data": {
      "image/png": "[encoded data removed]",
      "text/plain": [
       "<Figure size 640x480 with 1 Axes>"
      ]
     },
     "metadata": {},
     "output_type": "display_data"
    }
   ],
   "source": [
    "diff_ser = pd.Series(differences_3)\n",
    "diff_ser.hist(bins=5)"
   ]
  },
  {
   "cell_type": "code",
   "execution_count": 95,
   "metadata": {},
   "outputs": [
    {
     "data": {
      "text/plain": [
       "[33,\n",
       " 40,\n",
       " 51,\n",
       " 54,\n",
       " 69,\n",
       " 70,\n",
       " 93,\n",
       " 101,\n",
       " 105,\n",
       " 106,\n",
       " 108,\n",
       " 112,\n",
       " 127,\n",
       " 140,\n",
       " 143,\n",
       " 147,\n",
       " 151,\n",
       " 164,\n",
       " 178,\n",
       " 179,\n",
       " 183,\n",
       " 184,\n",
       " 205,\n",
       " 217,\n",
       " 218,\n",
       " 228,\n",
       " 236,\n",
       " 240,\n",
       " 246,\n",
       " 252,\n",
       " 263,\n",
       " 264,\n",
       " 269,\n",
       " 272,\n",
       " 284,\n",
       " 290,\n",
       " 295,\n",
       " 302,\n",
       " 308]"
      ]
     },
     "execution_count": 95,
     "metadata": {},
     "output_type": "execute_result"
    }
   ],
   "source": [
    "indexes = [i for i, x in enumerate(differences_3) if x == 3]\n",
    "indexes\n"
   ]
  },
  {
   "cell_type": "code",
   "execution_count": 96,
   "metadata": {},
   "outputs": [
    {
     "name": "stdout",
     "output_type": "stream",
     "text": [
      "['pH' 'chlorides' 'total_sulfur_dioxide' 'volatile_acidity'\n",
      " 'residual_sugar' 'citric_acid' 'density' 'fixed_acidity'\n",
      " 'free_sulfur_dioxide' 'sulphates' 'alcohol']\n",
      "['sulphates' 'alcohol' 'residual_sugar' 'total_sulfur_dioxide'\n",
      " 'volatile_acidity' 'pH' 'chlorides' 'citric_acid' 'density'\n",
      " 'fixed_acidity' 'free_sulfur_dioxide']\n"
     ]
    }
   ],
   "source": [
    "print(exact_ranking[indexes[0]])\n",
    "print(approx_ranking_1000[indexes[0]])"
   ]
  },
  {
   "cell_type": "code",
   "execution_count": null,
   "metadata": {},
   "outputs": [],
   "source": []
  },
  {
   "cell_type": "markdown",
   "metadata": {},
   "source": [
    "## Diffrence between sets"
   ]
  },
  {
   "cell_type": "code",
   "execution_count": 102,
   "metadata": {},
   "outputs": [],
   "source": [
    "def set_difference(a, b):\n",
    "    a_s = set(a)\n",
    "    b_s = set(b)\n",
    "    diff = a_s.difference(b_s) \n",
    "    return len(diff)"
   ]
  },
  {
   "cell_type": "markdown",
   "metadata": {},
   "source": [
    "### Top 5 features"
   ]
  },
  {
   "cell_type": "code",
   "execution_count": 109,
   "metadata": {},
   "outputs": [],
   "source": [
    "set_differences_5 = []\n",
    "for i, j in zip(exact_ranking, approx_ranking_1000):\n",
    "    i = i[0:5]\n",
    "    j = j[0:5]\n",
    "    diff = set_difference(i, j)\n",
    "    set_differences_5.append(diff)"
   ]
  },
  {
   "cell_type": "code",
   "execution_count": 112,
   "metadata": {},
   "outputs": [
    {
     "data": {
      "text/plain": [
       "1.06875"
      ]
     },
     "execution_count": 112,
     "metadata": {},
     "output_type": "execute_result"
    }
   ],
   "source": [
    "np.mean(set_differences_5)"
   ]
  },
  {
   "cell_type": "code",
   "execution_count": 113,
   "metadata": {},
   "outputs": [
    {
     "data": {
      "text/plain": [
       "4"
      ]
     },
     "execution_count": 113,
     "metadata": {},
     "output_type": "execute_result"
    }
   ],
   "source": [
    "np.max(set_differences_5)"
   ]
  },
  {
   "cell_type": "code",
   "execution_count": 114,
   "metadata": {},
   "outputs": [
    {
     "data": {
      "text/plain": [
       "0"
      ]
     },
     "execution_count": 114,
     "metadata": {},
     "output_type": "execute_result"
    }
   ],
   "source": [
    "np.min(set_differences_5)"
   ]
  },
  {
   "cell_type": "code",
   "execution_count": 115,
   "metadata": {},
   "outputs": [
    {
     "data": {
      "text/plain": [
       "<Axes: >"
      ]
     },
     "execution_count": 115,
     "metadata": {},
     "output_type": "execute_result"
    },
    {
     "data": {
      "image/png": "[encoded data removed]",
      "text/plain": [
       "<Figure size 640x480 with 1 Axes>"
      ]
     },
     "metadata": {},
     "output_type": "display_data"
    }
   ],
   "source": [
    "diff_ser = pd.Series(set_differences_5)\n",
    "diff_ser.hist(bins=4)"
   ]
  },
  {
   "cell_type": "code",
   "execution_count": 117,
   "metadata": {},
   "outputs": [
    {
     "data": {
      "text/plain": [
       "[151, 183, 319]"
      ]
     },
     "execution_count": 117,
     "metadata": {},
     "output_type": "execute_result"
    }
   ],
   "source": [
    "indexes = [i for i, x in enumerate(set_differences_5) if x == 4]\n",
    "indexes\n"
   ]
  },
  {
   "cell_type": "code",
   "execution_count": 118,
   "metadata": {},
   "outputs": [
    {
     "name": "stdout",
     "output_type": "stream",
     "text": [
      "['residual_sugar' 'chlorides' 'pH' 'total_sulfur_dioxide'\n",
      " 'free_sulfur_dioxide' 'fixed_acidity' 'volatile_acidity' 'citric_acid'\n",
      " 'alcohol' 'sulphates' 'density']\n",
      "['alcohol' 'residual_sugar' 'volatile_acidity' 'sulphates' 'citric_acid'\n",
      " 'pH' 'free_sulfur_dioxide' 'fixed_acidity' 'density'\n",
      " 'total_sulfur_dioxide' 'chlorides']\n"
     ]
    }
   ],
   "source": [
    "print(exact_ranking[indexes[0]])\n",
    "print(approx_ranking_1000[indexes[0]])"
   ]
  },
  {
   "cell_type": "markdown",
   "metadata": {},
   "source": [
    "### Top 3 features"
   ]
  },
  {
   "cell_type": "code",
   "execution_count": 119,
   "metadata": {},
   "outputs": [],
   "source": [
    "set_differences_3 = []\n",
    "for i, j in zip(exact_ranking, approx_ranking_1000):\n",
    "    i = i[0:3]\n",
    "    j = j[0:3]\n",
    "    diff = set_difference(i, j)\n",
    "    set_differences_3.append(diff)"
   ]
  },
  {
   "cell_type": "code",
   "execution_count": 120,
   "metadata": {},
   "outputs": [
    {
     "data": {
      "text/plain": [
       "0.675"
      ]
     },
     "execution_count": 120,
     "metadata": {},
     "output_type": "execute_result"
    }
   ],
   "source": [
    "np.mean(set_differences_3)"
   ]
  },
  {
   "cell_type": "code",
   "execution_count": 121,
   "metadata": {},
   "outputs": [
    {
     "data": {
      "text/plain": [
       "3"
      ]
     },
     "execution_count": 121,
     "metadata": {},
     "output_type": "execute_result"
    }
   ],
   "source": [
    "np.max(set_differences_3)"
   ]
  },
  {
   "cell_type": "code",
   "execution_count": 122,
   "metadata": {},
   "outputs": [
    {
     "data": {
      "text/plain": [
       "0"
      ]
     },
     "execution_count": 122,
     "metadata": {},
     "output_type": "execute_result"
    }
   ],
   "source": [
    "np.min(set_differences_3)"
   ]
  },
  {
   "cell_type": "code",
   "execution_count": 125,
   "metadata": {},
   "outputs": [
    {
     "data": {
      "text/plain": [
       "<Axes: >"
      ]
     },
     "execution_count": 125,
     "metadata": {},
     "output_type": "execute_result"
    },
    {
     "data": {
      "image/png": "[encoded data removed]",
      "text/plain": [
       "<Figure size 640x480 with 1 Axes>"
      ]
     },
     "metadata": {},
     "output_type": "display_data"
    }
   ],
   "source": [
    "diff_ser = pd.Series(set_differences_3)\n",
    "diff_ser.hist(bins=3)"
   ]
  },
  {
   "cell_type": "code",
   "execution_count": 127,
   "metadata": {},
   "outputs": [
    {
     "data": {
      "text/plain": [
       "[33, 178, 183, 233, 293, 308]"
      ]
     },
     "execution_count": 127,
     "metadata": {},
     "output_type": "execute_result"
    }
   ],
   "source": [
    "indexes = [i for i, x in enumerate(set_differences_3) if x == 3]\n",
    "indexes\n"
   ]
  },
  {
   "cell_type": "code",
   "execution_count": 128,
   "metadata": {},
   "outputs": [
    {
     "name": "stdout",
     "output_type": "stream",
     "text": [
      "['pH' 'chlorides' 'total_sulfur_dioxide' 'volatile_acidity'\n",
      " 'residual_sugar' 'citric_acid' 'density' 'fixed_acidity'\n",
      " 'free_sulfur_dioxide' 'sulphates' 'alcohol']\n",
      "['sulphates' 'alcohol' 'residual_sugar' 'total_sulfur_dioxide'\n",
      " 'volatile_acidity' 'pH' 'chlorides' 'citric_acid' 'density'\n",
      " 'fixed_acidity' 'free_sulfur_dioxide']\n"
     ]
    }
   ],
   "source": [
    "print(exact_ranking[indexes[0]])\n",
    "print(approx_ranking_1000[indexes[0]])"
   ]
  }
 ],
 "metadata": {
  "kernelspec": {
   "display_name": "venv",
   "language": "python",
   "name": "python3"
  },
  "language_info": {
   "codemirror_mode": {
    "name": "ipython",
    "version": 3
   },
   "file_extension": ".py",
   "mimetype": "text/x-python",
   "name": "python",
   "nbconvert_exporter": "python",
   "pygments_lexer": "ipython3",
   "version": "3.10.12"
  }
 },
 "nbformat": 4,
 "nbformat_minor": 2
}
