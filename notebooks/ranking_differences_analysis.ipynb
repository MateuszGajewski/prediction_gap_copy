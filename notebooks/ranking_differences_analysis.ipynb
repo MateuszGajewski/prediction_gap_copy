{
 "cells": [
  {
   "cell_type": "markdown",
   "metadata": {},
   "source": [
    "# Analiza różnic w rankigach"
   ]
  },
  {
   "cell_type": "markdown",
   "metadata": {},
   "source": [
    "Analiza różnic pomiędzy:\n",
    "- dokładną metodą - exact_ranking\n",
    "- metodą przybliżania dla 1000 iteracji"
   ]
  },
  {
   "cell_type": "code",
   "execution_count": 1,
   "metadata": {},
   "outputs": [],
   "source": [
    "import os\n",
    "while \"notebooks\" in os.getcwd():\n",
    "    os.chdir(\"../\")\n"
   ]
  },
  {
   "cell_type": "code",
   "execution_count": 2,
   "metadata": {},
   "outputs": [],
   "source": [
    "from pathlib import Path\n",
    "import pandas as pd\n",
    "import numpy as np\n",
    "import matplotlib.pyplot as plt"
   ]
  },
  {
   "cell_type": "markdown",
   "metadata": {},
   "source": [
    "## Wczytywanie rankingów i zbioru danych"
   ]
  },
  {
   "cell_type": "code",
   "execution_count": 6,
   "metadata": {},
   "outputs": [],
   "source": [
    "result_path = Path(\"results\")\n",
    "exact_ranking_data_path = result_path / \"wine_exact_ranking.npy\"\n",
    "approx_ranking_data_path = result_path / \"wine_approx_ranking_4000_iter.npy\"\n",
    "shap_ranking_data = result_path / \"wine_shap_ranking.npy\"\n",
    "data_path = Path(\"data\")\n",
    "wine_test_data_path = data_path / \"wine_quality/test_winequality_red_scaled.csv\""
   ]
  },
  {
   "cell_type": "code",
   "execution_count": 71,
   "metadata": {},
   "outputs": [],
   "source": [
    "pgi_wine_exact_path = result_path / \"pgi_wine_exact_ranking.npy\"\n",
    "pgi_wine_shap_path = result_path / \"pgi_wine_shap_ranking.npy\"\n",
    "pgi_wine_approx_path = result_path / \"pgi_wine_approx_ranking_4000_iter.npy\""
   ]
  },
  {
   "cell_type": "code",
   "execution_count": 4,
   "metadata": {},
   "outputs": [
    {
     "data": {
      "text/html": [
       "<div>\n",
       "<style scoped>\n",
       "    .dataframe tbody tr th:only-of-type {\n",
       "        vertical-align: middle;\n",
       "    }\n",
       "\n",
       "    .dataframe tbody tr th {\n",
       "        vertical-align: top;\n",
       "    }\n",
       "\n",
       "    .dataframe thead th {\n",
       "        text-align: right;\n",
       "    }\n",
       "</style>\n",
       "<table border=\"1\" class=\"dataframe\">\n",
       "  <thead>\n",
       "    <tr style=\"text-align: right;\">\n",
       "      <th></th>\n",
       "      <th>fixed_acidity</th>\n",
       "      <th>volatile_acidity</th>\n",
       "      <th>citric_acid</th>\n",
       "      <th>residual_sugar</th>\n",
       "      <th>chlorides</th>\n",
       "      <th>free_sulfur_dioxide</th>\n",
       "      <th>total_sulfur_dioxide</th>\n",
       "      <th>density</th>\n",
       "      <th>pH</th>\n",
       "      <th>sulphates</th>\n",
       "      <th>alcohol</th>\n",
       "      <th>quality</th>\n",
       "    </tr>\n",
       "  </thead>\n",
       "  <tbody>\n",
       "    <tr>\n",
       "      <th>0</th>\n",
       "      <td>-0.241094</td>\n",
       "      <td>-1.887226</td>\n",
       "      <td>0.765247</td>\n",
       "      <td>-0.666062</td>\n",
       "      <td>-0.647527</td>\n",
       "      <td>0.203223</td>\n",
       "      <td>-0.500769</td>\n",
       "      <td>-1.455778</td>\n",
       "      <td>-0.136798</td>\n",
       "      <td>0.187963</td>\n",
       "      <td>0.729364</td>\n",
       "      <td>6</td>\n",
       "    </tr>\n",
       "    <tr>\n",
       "      <th>1</th>\n",
       "      <td>-1.045437</td>\n",
       "      <td>-1.049255</td>\n",
       "      <td>-0.005010</td>\n",
       "      <td>0.185312</td>\n",
       "      <td>-0.434990</td>\n",
       "      <td>-0.753085</td>\n",
       "      <td>-0.075043</td>\n",
       "      <td>-1.540580</td>\n",
       "      <td>-0.655141</td>\n",
       "      <td>-0.579207</td>\n",
       "      <td>1.480302</td>\n",
       "      <td>6</td>\n",
       "    </tr>\n",
       "    <tr>\n",
       "      <th>2</th>\n",
       "      <td>0.103624</td>\n",
       "      <td>-1.160984</td>\n",
       "      <td>0.765247</td>\n",
       "      <td>-0.169427</td>\n",
       "      <td>-0.264960</td>\n",
       "      <td>-0.370562</td>\n",
       "      <td>-0.835267</td>\n",
       "      <td>-1.275573</td>\n",
       "      <td>-1.108690</td>\n",
       "      <td>0.305990</td>\n",
       "      <td>1.292568</td>\n",
       "      <td>7</td>\n",
       "    </tr>\n",
       "    <tr>\n",
       "      <th>3</th>\n",
       "      <td>-0.700719</td>\n",
       "      <td>-0.546472</td>\n",
       "      <td>0.765247</td>\n",
       "      <td>2.100902</td>\n",
       "      <td>-0.349975</td>\n",
       "      <td>1.159531</td>\n",
       "      <td>2.479310</td>\n",
       "      <td>0.293268</td>\n",
       "      <td>0.705508</td>\n",
       "      <td>0.305990</td>\n",
       "      <td>0.072294</td>\n",
       "      <td>5</td>\n",
       "    </tr>\n",
       "    <tr>\n",
       "      <th>4</th>\n",
       "      <td>2.229387</td>\n",
       "      <td>-0.434742</td>\n",
       "      <td>1.124700</td>\n",
       "      <td>-0.807957</td>\n",
       "      <td>-0.264960</td>\n",
       "      <td>-1.231239</td>\n",
       "      <td>-1.230584</td>\n",
       "      <td>0.081262</td>\n",
       "      <td>-1.173483</td>\n",
       "      <td>-0.166115</td>\n",
       "      <td>-0.021574</td>\n",
       "      <td>5</td>\n",
       "    </tr>\n",
       "    <tr>\n",
       "      <th>...</th>\n",
       "      <td>...</td>\n",
       "      <td>...</td>\n",
       "      <td>...</td>\n",
       "      <td>...</td>\n",
       "      <td>...</td>\n",
       "      <td>...</td>\n",
       "      <td>...</td>\n",
       "      <td>...</td>\n",
       "      <td>...</td>\n",
       "      <td>...</td>\n",
       "      <td>...</td>\n",
       "      <td>...</td>\n",
       "    </tr>\n",
       "    <tr>\n",
       "      <th>315</th>\n",
       "      <td>-0.470907</td>\n",
       "      <td>0.291499</td>\n",
       "      <td>1.484154</td>\n",
       "      <td>0.398155</td>\n",
       "      <td>1.392830</td>\n",
       "      <td>-1.039977</td>\n",
       "      <td>-0.987312</td>\n",
       "      <td>-1.052967</td>\n",
       "      <td>-0.655141</td>\n",
       "      <td>2.194408</td>\n",
       "      <td>1.104833</td>\n",
       "      <td>6</td>\n",
       "    </tr>\n",
       "    <tr>\n",
       "      <th>316</th>\n",
       "      <td>-0.068735</td>\n",
       "      <td>-0.993390</td>\n",
       "      <td>0.303093</td>\n",
       "      <td>-0.098479</td>\n",
       "      <td>-0.243707</td>\n",
       "      <td>-0.466193</td>\n",
       "      <td>0.016184</td>\n",
       "      <td>-0.401050</td>\n",
       "      <td>-0.266384</td>\n",
       "      <td>0.896120</td>\n",
       "      <td>0.541630</td>\n",
       "      <td>6</td>\n",
       "    </tr>\n",
       "    <tr>\n",
       "      <th>317</th>\n",
       "      <td>0.390889</td>\n",
       "      <td>-0.323013</td>\n",
       "      <td>0.200392</td>\n",
       "      <td>0.114364</td>\n",
       "      <td>-0.073677</td>\n",
       "      <td>0.777007</td>\n",
       "      <td>2.388083</td>\n",
       "      <td>0.876283</td>\n",
       "      <td>-0.007213</td>\n",
       "      <td>-0.284141</td>\n",
       "      <td>-0.960246</td>\n",
       "      <td>5</td>\n",
       "    </tr>\n",
       "    <tr>\n",
       "      <th>318</th>\n",
       "      <td>0.046171</td>\n",
       "      <td>1.045674</td>\n",
       "      <td>-0.364463</td>\n",
       "      <td>-0.098479</td>\n",
       "      <td>-0.243707</td>\n",
       "      <td>-0.561823</td>\n",
       "      <td>-0.257497</td>\n",
       "      <td>0.319768</td>\n",
       "      <td>-0.007213</td>\n",
       "      <td>-0.107102</td>\n",
       "      <td>-0.960246</td>\n",
       "      <td>5</td>\n",
       "    </tr>\n",
       "    <tr>\n",
       "      <th>319</th>\n",
       "      <td>0.563248</td>\n",
       "      <td>-0.937525</td>\n",
       "      <td>0.611196</td>\n",
       "      <td>-0.737010</td>\n",
       "      <td>-0.158692</td>\n",
       "      <td>2.402731</td>\n",
       "      <td>0.259456</td>\n",
       "      <td>-0.120143</td>\n",
       "      <td>1.029472</td>\n",
       "      <td>0.424016</td>\n",
       "      <td>0.447763</td>\n",
       "      <td>6</td>\n",
       "    </tr>\n",
       "  </tbody>\n",
       "</table>\n",
       "<p>320 rows × 12 columns</p>\n",
       "</div>"
      ],
      "text/plain": [
       "     fixed_acidity  volatile_acidity  citric_acid  residual_sugar  chlorides  \\\n",
       "0        -0.241094         -1.887226     0.765247       -0.666062  -0.647527   \n",
       "1        -1.045437         -1.049255    -0.005010        0.185312  -0.434990   \n",
       "2         0.103624         -1.160984     0.765247       -0.169427  -0.264960   \n",
       "3        -0.700719         -0.546472     0.765247        2.100902  -0.349975   \n",
       "4         2.229387         -0.434742     1.124700       -0.807957  -0.264960   \n",
       "..             ...               ...          ...             ...        ...   \n",
       "315      -0.470907          0.291499     1.484154        0.398155   1.392830   \n",
       "316      -0.068735         -0.993390     0.303093       -0.098479  -0.243707   \n",
       "317       0.390889         -0.323013     0.200392        0.114364  -0.073677   \n",
       "318       0.046171          1.045674    -0.364463       -0.098479  -0.243707   \n",
       "319       0.563248         -0.937525     0.611196       -0.737010  -0.158692   \n",
       "\n",
       "     free_sulfur_dioxide  total_sulfur_dioxide   density        pH  sulphates  \\\n",
       "0               0.203223             -0.500769 -1.455778 -0.136798   0.187963   \n",
       "1              -0.753085             -0.075043 -1.540580 -0.655141  -0.579207   \n",
       "2              -0.370562             -0.835267 -1.275573 -1.108690   0.305990   \n",
       "3               1.159531              2.479310  0.293268  0.705508   0.305990   \n",
       "4              -1.231239             -1.230584  0.081262 -1.173483  -0.166115   \n",
       "..                   ...                   ...       ...       ...        ...   \n",
       "315            -1.039977             -0.987312 -1.052967 -0.655141   2.194408   \n",
       "316            -0.466193              0.016184 -0.401050 -0.266384   0.896120   \n",
       "317             0.777007              2.388083  0.876283 -0.007213  -0.284141   \n",
       "318            -0.561823             -0.257497  0.319768 -0.007213  -0.107102   \n",
       "319             2.402731              0.259456 -0.120143  1.029472   0.424016   \n",
       "\n",
       "      alcohol  quality  \n",
       "0    0.729364        6  \n",
       "1    1.480302        6  \n",
       "2    1.292568        7  \n",
       "3    0.072294        5  \n",
       "4   -0.021574        5  \n",
       "..        ...      ...  \n",
       "315  1.104833        6  \n",
       "316  0.541630        6  \n",
       "317 -0.960246        5  \n",
       "318 -0.960246        5  \n",
       "319  0.447763        6  \n",
       "\n",
       "[320 rows x 12 columns]"
      ]
     },
     "execution_count": 4,
     "metadata": {},
     "output_type": "execute_result"
    }
   ],
   "source": [
    "wine_data = pd.read_csv(wine_test_data_path)\n",
    "wine_data"
   ]
  },
  {
   "cell_type": "code",
   "execution_count": 5,
   "metadata": {},
   "outputs": [
    {
     "data": {
      "text/plain": [
       "(320, 11)"
      ]
     },
     "execution_count": 5,
     "metadata": {},
     "output_type": "execute_result"
    }
   ],
   "source": [
    "exact_ranking = np.load(exact_ranking_data_path)\n",
    "exact_ranking.shape"
   ]
  },
  {
   "cell_type": "code",
   "execution_count": 6,
   "metadata": {},
   "outputs": [],
   "source": [
    "approx_ranking_4000 = np.load(approx_ranking_data_path)"
   ]
  },
  {
   "cell_type": "code",
   "execution_count": 7,
   "metadata": {},
   "outputs": [
    {
     "data": {
      "text/plain": [
       "(320, 11)"
      ]
     },
     "execution_count": 7,
     "metadata": {},
     "output_type": "execute_result"
    }
   ],
   "source": [
    "shap_ranking = np.load(shap_ranking_data)\n",
    "shap_ranking.shape"
   ]
  },
  {
   "cell_type": "markdown",
   "metadata": {},
   "source": [
    "# Analiza różnic w rankingach exact vs approx"
   ]
  },
  {
   "cell_type": "code",
   "execution_count": 8,
   "metadata": {},
   "outputs": [],
   "source": [
    "features_map = {}\n",
    "for indx, name in enumerate(list(wine_data.columns.values)):\n",
    "    features_map[name] = indx"
   ]
  },
  {
   "cell_type": "code",
   "execution_count": 9,
   "metadata": {},
   "outputs": [],
   "source": [
    "def map_features(li: list):\n",
    "    mapped_li = [features_map[i] for i in li]\n",
    "    return mapped_li"
   ]
  },
  {
   "cell_type": "code",
   "execution_count": 10,
   "metadata": {},
   "outputs": [],
   "source": [
    "\n",
    "def distance_between_lists(a: list, b: list):\n",
    "    a = map_features(a)\n",
    "    b = map_features(b)\n",
    "    a_s = set(a)\n",
    "    b_s = set(b)\n",
    "    [a.append(i) for i in list(b_s-a_s)]\n",
    "    [b.append(i) for i in list(a_s-b_s)]\n",
    "    max_val = max(max(a), max(b))\n",
    "    all_numbers_set = set(range(max_val))\n",
    "    a_s = set(a)\n",
    "    b_s = set(b)\n",
    "    [a.append(i) for i in list(all_numbers_set - a_s)]\n",
    "    [b.append(i) for i in list(all_numbers_set - b_s)]\n",
    "    return cayley_distance(a, b)\n",
    "\n",
    "def cayley_distance(x: list, y: list):\n",
    "    A = range(len(x))\n",
    "    inv_y = tuple(y.index(a) for a in A)\n",
    "    comp = tuple(x[inv_y[a]] for a in A)\n",
    "    cycles = 0\n",
    "    rem = set(A)\n",
    "    while rem:\n",
    "        a = rem.pop()\n",
    "        cycles += 1\n",
    "        while comp[a] in rem:\n",
    "            a = comp[a]\n",
    "            rem.remove(a)\n",
    "    return len(A) - cycles\n"
   ]
  },
  {
   "cell_type": "markdown",
   "metadata": {},
   "source": [
    "## Caylel distance"
   ]
  },
  {
   "cell_type": "markdown",
   "metadata": {},
   "source": [
    "### All features"
   ]
  },
  {
   "cell_type": "markdown",
   "metadata": {},
   "source": [
    "Porównanie obu rankingów za pomocą dystansu cayleya używając wszystkich cech"
   ]
  },
  {
   "cell_type": "code",
   "execution_count": 11,
   "metadata": {},
   "outputs": [],
   "source": [
    "differences_all = []\n",
    "for i, j in zip(exact_ranking, approx_ranking_4000):\n",
    "    diff = distance_between_lists(i, j)\n",
    "    differences_all.append(diff)"
   ]
  },
  {
   "cell_type": "code",
   "execution_count": 12,
   "metadata": {},
   "outputs": [
    {
     "data": {
      "text/plain": [
       "4.559375"
      ]
     },
     "execution_count": 12,
     "metadata": {},
     "output_type": "execute_result"
    }
   ],
   "source": [
    "np.mean(differences_all)"
   ]
  },
  {
   "cell_type": "code",
   "execution_count": 13,
   "metadata": {},
   "outputs": [
    {
     "data": {
      "text/plain": [
       "10"
      ]
     },
     "execution_count": 13,
     "metadata": {},
     "output_type": "execute_result"
    }
   ],
   "source": [
    "np.max(differences_all)"
   ]
  },
  {
   "cell_type": "code",
   "execution_count": 14,
   "metadata": {},
   "outputs": [
    {
     "data": {
      "text/plain": [
       "0"
      ]
     },
     "execution_count": 14,
     "metadata": {},
     "output_type": "execute_result"
    }
   ],
   "source": [
    "np.min(differences_all)"
   ]
  },
  {
   "cell_type": "code",
   "execution_count": 15,
   "metadata": {},
   "outputs": [
    {
     "data": {
      "text/plain": [
       "<Axes: >"
      ]
     },
     "execution_count": 15,
     "metadata": {},
     "output_type": "execute_result"
    },
    {
     "data": {
      "image/png": "[encoded data removed]",
      "text/plain": [
       "<Figure size 640x480 with 1 Axes>"
      ]
     },
     "metadata": {},
     "output_type": "display_data"
    }
   ],
   "source": [
    "diff_ser = pd.Series(differences_all)\n",
    "diff_ser.hist(bins=10)"
   ]
  },
  {
   "cell_type": "code",
   "execution_count": 16,
   "metadata": {},
   "outputs": [
    {
     "data": {
      "text/plain": [
       "[151]"
      ]
     },
     "execution_count": 16,
     "metadata": {},
     "output_type": "execute_result"
    }
   ],
   "source": [
    "indexes = [i for i, x in enumerate(differences_all) if x == 10]\n",
    "indexes\n"
   ]
  },
  {
   "cell_type": "code",
   "execution_count": 17,
   "metadata": {},
   "outputs": [
    {
     "name": "stdout",
     "output_type": "stream",
     "text": [
      "['residual_sugar' 'chlorides' 'pH' 'total_sulfur_dioxide'\n",
      " 'free_sulfur_dioxide' 'fixed_acidity' 'volatile_acidity' 'citric_acid'\n",
      " 'alcohol' 'sulphates' 'density']\n",
      "['alcohol' 'residual_sugar' 'volatile_acidity' 'sulphates' 'citric_acid'\n",
      " 'free_sulfur_dioxide' 'total_sulfur_dioxide' 'density' 'pH'\n",
      " 'fixed_acidity' 'chlorides']\n"
     ]
    }
   ],
   "source": [
    "print(exact_ranking[indexes[0]])\n",
    "print(approx_ranking_4000[indexes[0]])"
   ]
  },
  {
   "cell_type": "markdown",
   "metadata": {},
   "source": [
    "### Top 5 features"
   ]
  },
  {
   "cell_type": "code",
   "execution_count": 18,
   "metadata": {},
   "outputs": [],
   "source": [
    "differences_5 = []\n",
    "for i, j in zip(exact_ranking, approx_ranking_4000):\n",
    "    i = i[0:5]\n",
    "    j = j[0:5]\n",
    "    diff = distance_between_lists(i, j)\n",
    "    differences_5.append(diff)"
   ]
  },
  {
   "cell_type": "code",
   "execution_count": 19,
   "metadata": {},
   "outputs": [
    {
     "data": {
      "text/plain": [
       "2.03125"
      ]
     },
     "execution_count": 19,
     "metadata": {},
     "output_type": "execute_result"
    }
   ],
   "source": [
    "np.mean(differences_5)"
   ]
  },
  {
   "cell_type": "code",
   "execution_count": 20,
   "metadata": {},
   "outputs": [
    {
     "data": {
      "text/plain": [
       "8"
      ]
     },
     "execution_count": 20,
     "metadata": {},
     "output_type": "execute_result"
    }
   ],
   "source": [
    "np.max(differences_5)"
   ]
  },
  {
   "cell_type": "code",
   "execution_count": 21,
   "metadata": {},
   "outputs": [
    {
     "data": {
      "text/plain": [
       "0"
      ]
     },
     "execution_count": 21,
     "metadata": {},
     "output_type": "execute_result"
    }
   ],
   "source": [
    "np.min(differences_5)"
   ]
  },
  {
   "cell_type": "code",
   "execution_count": 22,
   "metadata": {},
   "outputs": [
    {
     "data": {
      "text/plain": [
       "<Axes: >"
      ]
     },
     "execution_count": 22,
     "metadata": {},
     "output_type": "execute_result"
    },
    {
     "data": {
      "image/png": "[encoded data removed]",
      "text/plain": [
       "<Figure size 640x480 with 1 Axes>"
      ]
     },
     "metadata": {},
     "output_type": "display_data"
    }
   ],
   "source": [
    "diff_ser = pd.Series(differences_5)\n",
    "diff_ser.hist(bins=8)"
   ]
  },
  {
   "cell_type": "code",
   "execution_count": 23,
   "metadata": {},
   "outputs": [
    {
     "data": {
      "text/plain": [
       "[319]"
      ]
     },
     "execution_count": 23,
     "metadata": {},
     "output_type": "execute_result"
    }
   ],
   "source": [
    "indexes = [i for i, x in enumerate(differences_5) if x == 8]\n",
    "indexes\n"
   ]
  },
  {
   "cell_type": "code",
   "execution_count": 24,
   "metadata": {},
   "outputs": [
    {
     "name": "stdout",
     "output_type": "stream",
     "text": [
      "['pH' 'residual_sugar' 'sulphates' 'alcohol' 'density' 'volatile_acidity'\n",
      " 'fixed_acidity' 'citric_acid' 'chlorides' 'total_sulfur_dioxide'\n",
      " 'free_sulfur_dioxide']\n",
      "['chlorides' 'volatile_acidity' 'total_sulfur_dioxide' 'sulphates'\n",
      " 'free_sulfur_dioxide' 'fixed_acidity' 'density' 'citric_acid'\n",
      " 'residual_sugar' 'pH' 'alcohol']\n"
     ]
    }
   ],
   "source": [
    "print(exact_ranking[indexes[0]])\n",
    "print(approx_ranking_4000[indexes[0]])"
   ]
  },
  {
   "cell_type": "markdown",
   "metadata": {},
   "source": [
    "### Top 3 features"
   ]
  },
  {
   "cell_type": "code",
   "execution_count": 25,
   "metadata": {},
   "outputs": [],
   "source": [
    "differences_3 = []\n",
    "for i, j in zip(exact_ranking, approx_ranking_4000):\n",
    "    i = i[0:3]\n",
    "    j = j[0:3]\n",
    "    diff = distance_between_lists(i, j)\n",
    "    differences_3.append(diff)"
   ]
  },
  {
   "cell_type": "code",
   "execution_count": 26,
   "metadata": {},
   "outputs": [
    {
     "data": {
      "text/plain": [
       "0.90625"
      ]
     },
     "execution_count": 26,
     "metadata": {},
     "output_type": "execute_result"
    }
   ],
   "source": [
    "np.mean(differences_3)"
   ]
  },
  {
   "cell_type": "code",
   "execution_count": 27,
   "metadata": {},
   "outputs": [
    {
     "data": {
      "text/plain": [
       "5"
      ]
     },
     "execution_count": 27,
     "metadata": {},
     "output_type": "execute_result"
    }
   ],
   "source": [
    "np.max(differences_3)"
   ]
  },
  {
   "cell_type": "code",
   "execution_count": 28,
   "metadata": {},
   "outputs": [
    {
     "data": {
      "text/plain": [
       "0"
      ]
     },
     "execution_count": 28,
     "metadata": {},
     "output_type": "execute_result"
    }
   ],
   "source": [
    "np.min(differences_3)"
   ]
  },
  {
   "cell_type": "code",
   "execution_count": 29,
   "metadata": {},
   "outputs": [
    {
     "data": {
      "text/plain": [
       "<Axes: >"
      ]
     },
     "execution_count": 29,
     "metadata": {},
     "output_type": "execute_result"
    },
    {
     "data": {
      "image/png": "[encoded data removed]",
      "text/plain": [
       "<Figure size 640x480 with 1 Axes>"
      ]
     },
     "metadata": {},
     "output_type": "display_data"
    }
   ],
   "source": [
    "diff_ser = pd.Series(differences_3)\n",
    "diff_ser.hist(bins=5)"
   ]
  },
  {
   "cell_type": "code",
   "execution_count": 30,
   "metadata": {},
   "outputs": [
    {
     "data": {
      "text/plain": [
       "[33,\n",
       " 40,\n",
       " 46,\n",
       " 67,\n",
       " 69,\n",
       " 101,\n",
       " 105,\n",
       " 106,\n",
       " 108,\n",
       " 111,\n",
       " 127,\n",
       " 143,\n",
       " 151,\n",
       " 174,\n",
       " 178,\n",
       " 183,\n",
       " 184,\n",
       " 200,\n",
       " 217,\n",
       " 218,\n",
       " 228,\n",
       " 240,\n",
       " 246,\n",
       " 252,\n",
       " 264,\n",
       " 271,\n",
       " 284,\n",
       " 288]"
      ]
     },
     "execution_count": 30,
     "metadata": {},
     "output_type": "execute_result"
    }
   ],
   "source": [
    "indexes = [i for i, x in enumerate(differences_3) if x == 3]\n",
    "indexes\n"
   ]
  },
  {
   "cell_type": "code",
   "execution_count": 31,
   "metadata": {},
   "outputs": [
    {
     "name": "stdout",
     "output_type": "stream",
     "text": [
      "['pH' 'chlorides' 'total_sulfur_dioxide' 'volatile_acidity'\n",
      " 'residual_sugar' 'citric_acid' 'density' 'fixed_acidity'\n",
      " 'free_sulfur_dioxide' 'sulphates' 'alcohol']\n",
      "['sulphates' 'pH' 'alcohol' 'volatile_acidity' 'total_sulfur_dioxide'\n",
      " 'chlorides' 'residual_sugar' 'citric_acid' 'density' 'fixed_acidity'\n",
      " 'free_sulfur_dioxide']\n"
     ]
    }
   ],
   "source": [
    "print(exact_ranking[indexes[0]])\n",
    "print(approx_ranking_4000[indexes[0]])"
   ]
  },
  {
   "cell_type": "markdown",
   "metadata": {},
   "source": [
    "## Diffrence between sets"
   ]
  },
  {
   "cell_type": "markdown",
   "metadata": {},
   "source": [
    "Porównaie używając tylko różicy w zbiorach top k cech - bez brania pod uwagę kolejności"
   ]
  },
  {
   "cell_type": "code",
   "execution_count": 32,
   "metadata": {},
   "outputs": [],
   "source": [
    "def set_difference(a: list, b: list):\n",
    "    a_s = set(a)\n",
    "    b_s = set(b)\n",
    "    diff = a_s.difference(b_s) \n",
    "    return len(diff)"
   ]
  },
  {
   "cell_type": "markdown",
   "metadata": {},
   "source": [
    "### Top 5 features"
   ]
  },
  {
   "cell_type": "code",
   "execution_count": 33,
   "metadata": {},
   "outputs": [],
   "source": [
    "set_differences_5 = []\n",
    "for i, j in zip(exact_ranking, approx_ranking_4000):\n",
    "    i = i[0:5]\n",
    "    j = j[0:5]\n",
    "    diff = set_difference(i, j)\n",
    "    set_differences_5.append(diff)"
   ]
  },
  {
   "cell_type": "code",
   "execution_count": 34,
   "metadata": {},
   "outputs": [
    {
     "data": {
      "text/plain": [
       "0.853125"
      ]
     },
     "execution_count": 34,
     "metadata": {},
     "output_type": "execute_result"
    }
   ],
   "source": [
    "np.mean(set_differences_5)"
   ]
  },
  {
   "cell_type": "code",
   "execution_count": 35,
   "metadata": {},
   "outputs": [
    {
     "data": {
      "text/plain": [
       "4"
      ]
     },
     "execution_count": 35,
     "metadata": {},
     "output_type": "execute_result"
    }
   ],
   "source": [
    "np.max(set_differences_5)"
   ]
  },
  {
   "cell_type": "code",
   "execution_count": 36,
   "metadata": {},
   "outputs": [
    {
     "data": {
      "text/plain": [
       "0"
      ]
     },
     "execution_count": 36,
     "metadata": {},
     "output_type": "execute_result"
    }
   ],
   "source": [
    "np.min(set_differences_5)"
   ]
  },
  {
   "cell_type": "code",
   "execution_count": 38,
   "metadata": {},
   "outputs": [
    {
     "data": {
      "text/plain": [
       "<Axes: >"
      ]
     },
     "execution_count": 38,
     "metadata": {},
     "output_type": "execute_result"
    },
    {
     "data": {
      "image/png": "[encoded data removed]",
      "text/plain": [
       "<Figure size 640x480 with 1 Axes>"
      ]
     },
     "metadata": {},
     "output_type": "display_data"
    }
   ],
   "source": [
    "diff_ser = pd.Series(set_differences_5)\n",
    "diff_ser.hist(bins=4)"
   ]
  },
  {
   "cell_type": "code",
   "execution_count": 39,
   "metadata": {},
   "outputs": [
    {
     "data": {
      "text/plain": [
       "[151, 183, 233, 295, 319]"
      ]
     },
     "execution_count": 39,
     "metadata": {},
     "output_type": "execute_result"
    }
   ],
   "source": [
    "indexes = [i for i, x in enumerate(set_differences_5) if x == 4]\n",
    "indexes\n"
   ]
  },
  {
   "cell_type": "code",
   "execution_count": 40,
   "metadata": {},
   "outputs": [
    {
     "name": "stdout",
     "output_type": "stream",
     "text": [
      "['residual_sugar' 'chlorides' 'pH' 'total_sulfur_dioxide'\n",
      " 'free_sulfur_dioxide' 'fixed_acidity' 'volatile_acidity' 'citric_acid'\n",
      " 'alcohol' 'sulphates' 'density']\n",
      "['alcohol' 'residual_sugar' 'volatile_acidity' 'sulphates' 'citric_acid'\n",
      " 'free_sulfur_dioxide' 'total_sulfur_dioxide' 'density' 'pH'\n",
      " 'fixed_acidity' 'chlorides']\n"
     ]
    }
   ],
   "source": [
    "print(exact_ranking[indexes[0]])\n",
    "print(approx_ranking_4000[indexes[0]])"
   ]
  },
  {
   "cell_type": "markdown",
   "metadata": {},
   "source": [
    "### Top 3 features"
   ]
  },
  {
   "cell_type": "code",
   "execution_count": 41,
   "metadata": {},
   "outputs": [],
   "source": [
    "set_differences_3 = []\n",
    "for i, j in zip(exact_ranking, approx_ranking_4000):\n",
    "    i = i[0:3]\n",
    "    j = j[0:3]\n",
    "    diff = set_difference(i, j)\n",
    "    set_differences_3.append(diff)"
   ]
  },
  {
   "cell_type": "code",
   "execution_count": 42,
   "metadata": {},
   "outputs": [
    {
     "data": {
      "text/plain": [
       "0.5125"
      ]
     },
     "execution_count": 42,
     "metadata": {},
     "output_type": "execute_result"
    }
   ],
   "source": [
    "np.mean(set_differences_3)"
   ]
  },
  {
   "cell_type": "code",
   "execution_count": 43,
   "metadata": {},
   "outputs": [
    {
     "data": {
      "text/plain": [
       "3"
      ]
     },
     "execution_count": 43,
     "metadata": {},
     "output_type": "execute_result"
    }
   ],
   "source": [
    "np.max(set_differences_3)"
   ]
  },
  {
   "cell_type": "code",
   "execution_count": 44,
   "metadata": {},
   "outputs": [
    {
     "data": {
      "text/plain": [
       "0"
      ]
     },
     "execution_count": 44,
     "metadata": {},
     "output_type": "execute_result"
    }
   ],
   "source": [
    "np.min(set_differences_3)"
   ]
  },
  {
   "cell_type": "code",
   "execution_count": 45,
   "metadata": {},
   "outputs": [
    {
     "data": {
      "text/plain": [
       "<Axes: >"
      ]
     },
     "execution_count": 45,
     "metadata": {},
     "output_type": "execute_result"
    },
    {
     "data": {
      "image/png": "[encoded data removed]",
      "text/plain": [
       "<Figure size 640x480 with 1 Axes>"
      ]
     },
     "metadata": {},
     "output_type": "display_data"
    }
   ],
   "source": [
    "diff_ser = pd.Series(set_differences_3)\n",
    "diff_ser.hist(bins=3)"
   ]
  },
  {
   "cell_type": "code",
   "execution_count": 46,
   "metadata": {},
   "outputs": [
    {
     "data": {
      "text/plain": [
       "[178, 183, 233, 293, 319]"
      ]
     },
     "execution_count": 46,
     "metadata": {},
     "output_type": "execute_result"
    }
   ],
   "source": [
    "indexes = [i for i, x in enumerate(set_differences_3) if x == 3]\n",
    "indexes\n"
   ]
  },
  {
   "cell_type": "code",
   "execution_count": 47,
   "metadata": {},
   "outputs": [
    {
     "name": "stdout",
     "output_type": "stream",
     "text": [
      "['residual_sugar' 'pH' 'density' 'chlorides' 'free_sulfur_dioxide'\n",
      " 'total_sulfur_dioxide' 'fixed_acidity' 'sulphates' 'alcohol'\n",
      " 'volatile_acidity' 'citric_acid']\n",
      "['alcohol' 'volatile_acidity' 'sulphates' 'residual_sugar' 'density' 'pH'\n",
      " 'chlorides' 'total_sulfur_dioxide' 'free_sulfur_dioxide' 'fixed_acidity'\n",
      " 'citric_acid']\n"
     ]
    }
   ],
   "source": [
    "print(exact_ranking[indexes[0]])\n",
    "print(approx_ranking_4000[indexes[0]])"
   ]
  },
  {
   "cell_type": "markdown",
   "metadata": {},
   "source": [
    "# Porównanie z rankingiem z SHAP"
   ]
  },
  {
   "cell_type": "code",
   "execution_count": 48,
   "metadata": {},
   "outputs": [],
   "source": [
    "approx_diffs = []\n",
    "exact_diffs = []\n",
    "for i, j, s in zip(exact_ranking, approx_ranking_4000, shap_ranking):\n",
    "    diff_exact = distance_between_lists(i, s)\n",
    "    diff_approx = distance_between_lists(j, s)\n",
    "    exact_diffs.append(diff_exact)\n",
    "    approx_diffs.append(diff_approx)"
   ]
  },
  {
   "cell_type": "code",
   "execution_count": 49,
   "metadata": {},
   "outputs": [
    {
     "name": "stdout",
     "output_type": "stream",
     "text": [
      "Exact 7.65625  Approx 7.840625\n"
     ]
    }
   ],
   "source": [
    "print(f\"Exact {np.mean(exact_diffs)}  Approx {np.mean(approx_diffs)}\")"
   ]
  },
  {
   "cell_type": "code",
   "execution_count": 50,
   "metadata": {},
   "outputs": [
    {
     "name": "stdout",
     "output_type": "stream",
     "text": [
      "Exact 10  Approx 10\n"
     ]
    }
   ],
   "source": [
    "print(f\"Exact {np.max(exact_diffs)}  Approx {np.max(approx_diffs)}\")"
   ]
  },
  {
   "cell_type": "code",
   "execution_count": 51,
   "metadata": {},
   "outputs": [
    {
     "name": "stdout",
     "output_type": "stream",
     "text": [
      "Exact 4  Approx 3\n"
     ]
    }
   ],
   "source": [
    "print(f\"Exact {np.min(exact_diffs)}  Approx {np.min(approx_diffs)}\")"
   ]
  },
  {
   "cell_type": "code",
   "execution_count": 52,
   "metadata": {},
   "outputs": [
    {
     "data": {
      "text/plain": [
       "<Axes: >"
      ]
     },
     "execution_count": 52,
     "metadata": {},
     "output_type": "execute_result"
    },
    {
     "data": {
      "image/png": "[encoded data removed]",
      "text/plain": [
       "<Figure size 640x480 with 1 Axes>"
      ]
     },
     "metadata": {},
     "output_type": "display_data"
    }
   ],
   "source": [
    "exact_diffs_ser = pd.Series(exact_diffs)\n",
    "approx_diffs_ser = pd.Series(approx_diffs)\n",
    "exact_diffs_ser.hist(bins=10)\n"
   ]
  },
  {
   "cell_type": "code",
   "execution_count": 53,
   "metadata": {},
   "outputs": [
    {
     "data": {
      "text/plain": [
       "<Axes: >"
      ]
     },
     "execution_count": 53,
     "metadata": {},
     "output_type": "execute_result"
    },
    {
     "data": {
      "image/png": "[encoded data removed]",
      "text/plain": [
       "<Figure size 640x480 with 1 Axes>"
      ]
     },
     "metadata": {},
     "output_type": "display_data"
    }
   ],
   "source": [
    "approx_diffs_ser.hist(bins=10)"
   ]
  },
  {
   "cell_type": "code",
   "execution_count": null,
   "metadata": {},
   "outputs": [],
   "source": []
  },
  {
   "cell_type": "markdown",
   "metadata": {},
   "source": [
    "# Ile pierwszych miejsc się zgadza"
   ]
  },
  {
   "cell_type": "markdown",
   "metadata": {},
   "source": [
    "### Porównanie exact z approx"
   ]
  },
  {
   "cell_type": "code",
   "execution_count": 54,
   "metadata": {},
   "outputs": [],
   "source": [
    "def compare(a: list[str], b: list[str]):\n",
    "    assert (len (a) == len(b))\n",
    "    for i, j in zip(a, b):\n",
    "        if i == j:\n",
    "            continue\n",
    "        else:\n",
    "            return False\n",
    "    return True"
   ]
  },
  {
   "cell_type": "code",
   "execution_count": 55,
   "metadata": {},
   "outputs": [
    {
     "data": {
      "text/plain": [
       "<Axes: >"
      ]
     },
     "execution_count": 55,
     "metadata": {},
     "output_type": "execute_result"
    },
    {
     "data": {
      "image/png": "[encoded data removed]",
      "text/plain": [
       "<Figure size 640x480 with 1 Axes>"
      ]
     },
     "metadata": {},
     "output_type": "display_data"
    }
   ],
   "source": [
    "matching_count = [0 for i in range(0, 12)]\n",
    "distances = []\n",
    "for i, j in zip(exact_ranking, approx_ranking_4000):\n",
    "    rank = 0\n",
    "    for indx in range(1, len(i)):\n",
    "        if compare(i[0: indx], j[0:indx]):\n",
    "            rank += 1\n",
    "    matching_count[rank] += 1\n",
    "    distances.append(rank)\n",
    "\n",
    "exact_diffs_ser = pd.Series(distances)\n",
    "exact_diffs_ser.hist()\n",
    "\n",
    "\n",
    "\n"
   ]
  },
  {
   "cell_type": "code",
   "execution_count": 56,
   "metadata": {},
   "outputs": [
    {
     "data": {
      "text/plain": [
       "[61, 47, 56, 57, 47, 20, 15, 10, 1, 1, 5, 0]"
      ]
     },
     "execution_count": 56,
     "metadata": {},
     "output_type": "execute_result"
    }
   ],
   "source": [
    "matching_count"
   ]
  },
  {
   "cell_type": "markdown",
   "metadata": {},
   "source": [
    "### Exact z shap"
   ]
  },
  {
   "cell_type": "code",
   "execution_count": 58,
   "metadata": {},
   "outputs": [
    {
     "data": {
      "text/plain": [
       "<Axes: >"
      ]
     },
     "execution_count": 58,
     "metadata": {},
     "output_type": "execute_result"
    },
    {
     "data": {
      "image/png": "[encoded data removed]",
      "text/plain": [
       "<Figure size 640x480 with 1 Axes>"
      ]
     },
     "metadata": {},
     "output_type": "display_data"
    }
   ],
   "source": [
    "\n",
    "matching_count = [0 for i in range(0, 12)]\n",
    "distances = []\n",
    "for i, j in zip(exact_ranking, shap_ranking):\n",
    "    rank = 0\n",
    "    for indx in range(1, len(i)):\n",
    "        if compare(i[0: indx], j[0:indx]):\n",
    "            rank += 1\n",
    "    matching_count[rank] += 1\n",
    "    distances.append(rank)\n",
    "\n",
    "exact_diffs_ser = pd.Series(distances)\n",
    "exact_diffs_ser.hist(bins=10)\n",
    "\n",
    "\n",
    "\n"
   ]
  },
  {
   "cell_type": "code",
   "execution_count": 59,
   "metadata": {},
   "outputs": [
    {
     "data": {
      "text/plain": [
       "[262, 47, 11, 0, 0, 0, 0, 0, 0, 0, 0, 0]"
      ]
     },
     "execution_count": 59,
     "metadata": {},
     "output_type": "execute_result"
    }
   ],
   "source": [
    "matching_count"
   ]
  },
  {
   "cell_type": "markdown",
   "metadata": {},
   "source": [
    "### Approx z shap"
   ]
  },
  {
   "cell_type": "code",
   "execution_count": 61,
   "metadata": {},
   "outputs": [
    {
     "data": {
      "text/plain": [
       "<Axes: >"
      ]
     },
     "execution_count": 61,
     "metadata": {},
     "output_type": "execute_result"
    },
    {
     "data": {
      "image/png": "[encoded data removed]",
      "text/plain": [
       "<Figure size 640x480 with 1 Axes>"
      ]
     },
     "metadata": {},
     "output_type": "display_data"
    }
   ],
   "source": [
    "matching_count = [0 for i in range(0, 12)]\n",
    "distances = []\n",
    "for i, j in zip(approx_ranking_4000, shap_ranking):\n",
    "    rank = 0\n",
    "    for indx in range(1, len(i)):\n",
    "        if compare(i[0: indx], j[0:indx]):\n",
    "            rank += 1\n",
    "    matching_count[rank] += 1\n",
    "    distances.append(rank)\n",
    "\n",
    "exact_diffs_ser = pd.Series(distances)\n",
    "exact_diffs_ser.hist()\n",
    "\n",
    "\n",
    "\n"
   ]
  },
  {
   "cell_type": "code",
   "execution_count": 62,
   "metadata": {},
   "outputs": [
    {
     "data": {
      "text/plain": [
       "[257, 50, 12, 1, 0, 0, 0, 0, 0, 0, 0, 0]"
      ]
     },
     "execution_count": 62,
     "metadata": {},
     "output_type": "execute_result"
    }
   ],
   "source": [
    "matching_count"
   ]
  },
  {
   "cell_type": "code",
   "execution_count": null,
   "metadata": {},
   "outputs": [],
   "source": []
  },
  {
   "cell_type": "markdown",
   "metadata": {},
   "source": [
    "### Porównainie wszystkich trzech jednocześnie"
   ]
  },
  {
   "cell_type": "code",
   "execution_count": 63,
   "metadata": {},
   "outputs": [],
   "source": [
    "def compare(a: list[str], b: list[str], c: list[str]):\n",
    "    assert (len (a) == len(b))\n",
    "    assert(len(a) == len(c))\n",
    "    for i, j, y in zip(a, b, c):\n",
    "        if i == j and i == y:\n",
    "            continue\n",
    "        else:\n",
    "            return False\n",
    "    return True"
   ]
  },
  {
   "cell_type": "code",
   "execution_count": 64,
   "metadata": {},
   "outputs": [
    {
     "data": {
      "text/plain": [
       "<Axes: >"
      ]
     },
     "execution_count": 64,
     "metadata": {},
     "output_type": "execute_result"
    },
    {
     "data": {
      "image/png": "[encoded data removed]",
      "text/plain": [
       "<Figure size 640x480 with 1 Axes>"
      ]
     },
     "metadata": {},
     "output_type": "display_data"
    }
   ],
   "source": [
    "matching_count = [0 for i in range(0, 12)]\n",
    "distances = []\n",
    "for i, j, y in zip(approx_ranking_4000, shap_ranking, exact_ranking):\n",
    "    rank = 0\n",
    "    for indx in range(1, len(i)):\n",
    "        if compare(i[0: indx], j[0:indx], y[0:indx]):\n",
    "            rank += 1\n",
    "    matching_count[rank] += 1\n",
    "    distances.append(rank)\n",
    "\n",
    "exact_diffs_ser = pd.Series(distances)\n",
    "exact_diffs_ser.hist()\n",
    "\n",
    "\n",
    "\n"
   ]
  },
  {
   "cell_type": "code",
   "execution_count": 65,
   "metadata": {},
   "outputs": [
    {
     "data": {
      "text/plain": [
       "[268, 42, 10, 0, 0, 0, 0, 0, 0, 0, 0, 0]"
      ]
     },
     "execution_count": 65,
     "metadata": {},
     "output_type": "execute_result"
    }
   ],
   "source": [
    "matching_count"
   ]
  },
  {
   "cell_type": "code",
   "execution_count": null,
   "metadata": {},
   "outputs": [],
   "source": []
  },
  {
   "cell_type": "markdown",
   "metadata": {},
   "source": [
    "# Porównanie dla PGI"
   ]
  },
  {
   "cell_type": "code",
   "execution_count": 72,
   "metadata": {},
   "outputs": [],
   "source": [
    "pgi_wine_exact_ranking = np.load(pgi_wine_exact_path)\n",
    "pgi_wine_shap_ranking = np.load(pgi_wine_shap_path)\n",
    "pgi_wine_approx_ranking = np.load(pgi_wine_approx_path)\n",
    "\n"
   ]
  },
  {
   "cell_type": "code",
   "execution_count": 73,
   "metadata": {},
   "outputs": [
    {
     "name": "stdout",
     "output_type": "stream",
     "text": [
      "exact mean: 0.30338761009075615\n",
      "approx mean: 0.3034437559209082\n",
      "shap mean: 0.3097186281591527\n"
     ]
    }
   ],
   "source": [
    "print(f\"exact mean: {np.mean(pgi_wine_exact_ranking)}\")\n",
    "print(f\"approx mean: {np.mean(pgi_wine_approx_ranking)}\")\n",
    "print(f\"shap mean: {np.mean(pgi_wine_shap_ranking)}\")"
   ]
  },
  {
   "cell_type": "code",
   "execution_count": 70,
   "metadata": {},
   "outputs": [
    {
     "data": {
      "text/plain": [
       "<Axes: >"
      ]
     },
     "execution_count": 70,
     "metadata": {},
     "output_type": "execute_result"
    },
    {
     "data": {
      "image/png": "[encoded data removed]",
      "text/plain": [
       "<Figure size 640x480 with 1 Axes>"
      ]
     },
     "metadata": {},
     "output_type": "display_data"
    }
   ],
   "source": [
    "pgi_wine_exact_ranking = np.load(pgi_wine_exact_path)\n",
    "exact_diffs_ser = pd.Series(pgi_wine_exact_ranking)\n",
    "exact_diffs_ser.hist()"
   ]
  },
  {
   "cell_type": "code",
   "execution_count": 69,
   "metadata": {},
   "outputs": [
    {
     "data": {
      "text/plain": [
       "(320,)"
      ]
     },
     "execution_count": 69,
     "metadata": {},
     "output_type": "execute_result"
    }
   ],
   "source": [
    "pgi_wine_exact_ranking.shape"
   ]
  },
  {
   "cell_type": "markdown",
   "metadata": {},
   "source": [
    "# Grid search"
   ]
  },
  {
   "cell_type": "code",
   "execution_count": 3,
   "metadata": {},
   "outputs": [],
   "source": [
    "stddevs = [0.01, 0.03, 0.1, 0.3]\n"
   ]
  },
  {
   "cell_type": "code",
   "execution_count": 11,
   "metadata": {},
   "outputs": [],
   "source": [
    "means = []\n",
    "stds = []\n",
    "for s1 in stddevs:\n",
    "    means_tmp = []\n",
    "    stds_tmp = []\n",
    "    for s2 in stddevs:\n",
    "        pgi_file_name = f'pgi_wine_exact_ranking_std_{s2}_pgi_std_{s1}.npy'\n",
    "        pgi = np.load(result_path / pgi_file_name) \n",
    "        mean = np.mean(pgi)\n",
    "        std = np.std(pgi)\n",
    "        means_tmp.append(mean)\n",
    "        stds_tmp.append(std)\n",
    "    means.append(means_tmp)"
   ]
  },
  {
   "cell_type": "code",
   "execution_count": 26,
   "metadata": {},
   "outputs": [],
   "source": [
    "means_shap = []\n",
    "stds_shap = []\n",
    "for i in stddevs:\n",
    "    pgi_file_name = f'pgi_wine_shap_ranking_4000_pgi_std_{i}.npy'\n",
    "    pgi = np.load(result_path / pgi_file_name) \n",
    "    mean = np.mean(pgi)\n",
    "    std = np.std(pgi)\n",
    "    means_shap.append(mean)\n",
    "    stds_shap.append(std)"
   ]
  },
  {
   "cell_type": "code",
   "execution_count": 30,
   "metadata": {},
   "outputs": [],
   "source": [
    "means_approx = []\n",
    "stds_approx = []\n",
    "for i in stddevs:\n",
    "    pgi_file_name = f'pgi_wine_approx_ranking_4000_pgi_std_{i}.npy'\n",
    "    pgi = np.load(result_path / pgi_file_name) \n",
    "    mean = np.mean(pgi)\n",
    "    std = np.std(pgi)\n",
    "    means_approx.append(mean)\n",
    "    stds_approx.append(std)"
   ]
  },
  {
   "cell_type": "code",
   "execution_count": 42,
   "metadata": {},
   "outputs": [
    {
     "data": {
      "image/png": "[encoded data removed]",
      "text/plain": [
       "<Figure size 640x480 with 1 Axes>"
      ]
     },
     "metadata": {},
     "output_type": "display_data"
    }
   ],
   "source": [
    "for y, s in zip(means, stddevs):\n",
    "    plt.plot(stddevs, y, label = f\"std for ranking = {s}\")\n",
    "plt.plot(stddevs, means_shap, label = f\"SHAP\")\n",
    "plt.plot(stddevs, means_approx, label = f\"Approx\")\n",
    "\n",
    "plt.xlabel(\"std for PGI\")\n",
    "plt.ylabel(\"PGI\")\n",
    "plt.legend(loc = 'upper right')\n",
    "plt.title('PGI vs std')\n",
    "plt.ylim(0.3, 0.32)\n",
    "plt.show()"
   ]
  },
  {
   "cell_type": "code",
   "execution_count": null,
   "metadata": {},
   "outputs": [],
   "source": []
  }
 ],
 "metadata": {
  "kernelspec": {
   "display_name": "venv",
   "language": "python",
   "name": "python3"
  },
  "language_info": {
   "codemirror_mode": {
    "name": "ipython",
    "version": 3
   },
   "file_extension": ".py",
   "mimetype": "text/x-python",
   "name": "python",
   "nbconvert_exporter": "python",
   "pygments_lexer": "ipython3",
   "version": "3.10.12"
  }
 },
 "nbformat": 4,
 "nbformat_minor": 2
}
