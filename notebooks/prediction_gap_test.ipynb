{
 "cells": [
  {
   "cell_type": "markdown",
   "id": "1928ab12-e182-4c7b-96c8-d035730b1b05",
   "metadata": {},
   "source": [
    "# Prediction gap test"
   ]
  },
  {
   "cell_type": "markdown",
   "id": "53a675d2-ddcd-4cb6-aed4-f971edd1eb4b",
   "metadata": {},
   "source": [
    "Głównym celem tego notatnika jest przetestowanie naszego algorytmu liczącego prediction gap.\n",
    "\n",
    "Robimy to dla zadania regresji, ponieważ dla zadania binarnej regresji logistycznej jest taki problem, że na koniec do wyników drzew przykładana jest funkcja sigmoid, co uniemożliwia szybkie analityczne obliczenie wyniku. Przy zadaniu regresji ten problem nie występuje.\n"
   ]
  },
  {
   "cell_type": "markdown",
   "id": "bc47462c-2cb4-4af5-b7dd-a49378d3af97",
   "metadata": {},
   "source": [
    "## Konfiguracja"
   ]
  },
  {
   "cell_type": "code",
   "execution_count": 1,
   "id": "3a4b7823",
   "metadata": {},
   "outputs": [],
   "source": [
    "import os\n",
    "while \"notebooks\" in os.getcwd():\n",
    "    os.chdir(\"../\")\n"
   ]
  },
  {
   "cell_type": "code",
   "execution_count": 29,
   "id": "acca3eb1-032a-4794-9178-70fd31c619c0",
   "metadata": {},
   "outputs": [
    {
     "name": "stdout",
     "output_type": "stream",
     "text": [
      "The autoreload extension is already loaded. To reload it, use:\n",
      "  %reload_ext autoreload\n"
     ]
    }
   ],
   "source": [
    "from pathlib import Path\n",
    "import pandas as pd\n",
    "\n",
    "from src.decision_tree.tree import load_trees\n",
    "from src.decision_tree.prediction_gap import (\n",
    "    NormalPredictionGap,\n",
    "    prediction_gap_on_single_feature_perturbation,\n",
    "    prediction_gap_by_random_sampling,\n",
    "    prediction_gap_by_exact_calc\n",
    ")\n",
    "\n",
    "%load_ext autoreload\n",
    "%autoreload 2\n"
   ]
  },
  {
   "cell_type": "code",
   "execution_count": 3,
   "id": "4d808e89-a82e-44e1-b079-bf132d4e2f92",
   "metadata": {},
   "outputs": [],
   "source": [
    "models_path = Path(\"models\")\n",
    "data_path = Path(\"data\")\n",
    "wine_model_name = \"winequality_red\"\n",
    "wine_test_data_path = data_path / \"wine_quality/test_winequality_red_scaled.csv\"\n",
    "housing_model_name = \"housing\"\n",
    "housing_test_data_path = data_path / \"housing_data/test_housing_scaled.csv\"\n"
   ]
  },
  {
   "cell_type": "code",
   "execution_count": 4,
   "id": "756b9663-827d-4080-9f6f-fd95617a276e",
   "metadata": {},
   "outputs": [],
   "source": [
    "stddev = 0.3\n"
   ]
  },
  {
   "cell_type": "markdown",
   "id": "92dda6e0-674e-4908-832d-f645ac531aa8",
   "metadata": {},
   "source": [
    "## Wczytanie danych i modelu"
   ]
  },
  {
   "cell_type": "code",
   "execution_count": 5,
   "id": "0b60dbe3",
   "metadata": {},
   "outputs": [],
   "source": [
    "wine_trees = load_trees(models_path, wine_model_name)\n"
   ]
  },
  {
   "cell_type": "code",
   "execution_count": 6,
   "id": "71338f7e",
   "metadata": {},
   "outputs": [
    {
     "data": {
      "text/html": [
       "<div>\n",
       "<style scoped>\n",
       "    .dataframe tbody tr th:only-of-type {\n",
       "        vertical-align: middle;\n",
       "    }\n",
       "\n",
       "    .dataframe tbody tr th {\n",
       "        vertical-align: top;\n",
       "    }\n",
       "\n",
       "    .dataframe thead th {\n",
       "        text-align: right;\n",
       "    }\n",
       "</style>\n",
       "<table border=\"1\" class=\"dataframe\">\n",
       "  <thead>\n",
       "    <tr style=\"text-align: right;\">\n",
       "      <th></th>\n",
       "      <th>fixed_acidity</th>\n",
       "      <th>volatile_acidity</th>\n",
       "      <th>citric_acid</th>\n",
       "      <th>residual_sugar</th>\n",
       "      <th>chlorides</th>\n",
       "      <th>free_sulfur_dioxide</th>\n",
       "      <th>total_sulfur_dioxide</th>\n",
       "      <th>density</th>\n",
       "      <th>pH</th>\n",
       "      <th>sulphates</th>\n",
       "      <th>alcohol</th>\n",
       "      <th>quality</th>\n",
       "    </tr>\n",
       "  </thead>\n",
       "  <tbody>\n",
       "    <tr>\n",
       "      <th>0</th>\n",
       "      <td>-0.413454</td>\n",
       "      <td>0.123905</td>\n",
       "      <td>-0.313113</td>\n",
       "      <td>-0.240375</td>\n",
       "      <td>-0.349975</td>\n",
       "      <td>-0.848716</td>\n",
       "      <td>-0.561586</td>\n",
       "      <td>-0.183745</td>\n",
       "      <td>-0.201591</td>\n",
       "      <td>-0.638220</td>\n",
       "      <td>-0.678644</td>\n",
       "      <td>5</td>\n",
       "    </tr>\n",
       "    <tr>\n",
       "      <th>1</th>\n",
       "      <td>1.310138</td>\n",
       "      <td>-0.937525</td>\n",
       "      <td>1.638205</td>\n",
       "      <td>-0.240375</td>\n",
       "      <td>1.371576</td>\n",
       "      <td>-0.944346</td>\n",
       "      <td>-0.865676</td>\n",
       "      <td>0.982285</td>\n",
       "      <td>-1.756618</td>\n",
       "      <td>2.312434</td>\n",
       "      <td>-0.960246</td>\n",
       "      <td>5</td>\n",
       "    </tr>\n",
       "    <tr>\n",
       "      <th>2</th>\n",
       "      <td>-1.160343</td>\n",
       "      <td>2.526090</td>\n",
       "      <td>-1.340122</td>\n",
       "      <td>-0.382271</td>\n",
       "      <td>-0.647527</td>\n",
       "      <td>-0.083669</td>\n",
       "      <td>-0.409542</td>\n",
       "      <td>-0.989366</td>\n",
       "      <td>1.871778</td>\n",
       "      <td>-1.169337</td>\n",
       "      <td>0.729364</td>\n",
       "      <td>6</td>\n",
       "    </tr>\n",
       "    <tr>\n",
       "      <th>3</th>\n",
       "      <td>-0.068735</td>\n",
       "      <td>0.598756</td>\n",
       "      <td>-0.877968</td>\n",
       "      <td>-0.311323</td>\n",
       "      <td>-0.307468</td>\n",
       "      <td>0.872638</td>\n",
       "      <td>0.411500</td>\n",
       "      <td>-0.194345</td>\n",
       "      <td>-0.136798</td>\n",
       "      <td>0.542042</td>\n",
       "      <td>0.447763</td>\n",
       "      <td>6</td>\n",
       "    </tr>\n",
       "    <tr>\n",
       "      <th>4</th>\n",
       "      <td>-1.217796</td>\n",
       "      <td>-0.490607</td>\n",
       "      <td>0.611196</td>\n",
       "      <td>-0.027532</td>\n",
       "      <td>-0.222453</td>\n",
       "      <td>-0.944346</td>\n",
       "      <td>-0.987312</td>\n",
       "      <td>-0.634256</td>\n",
       "      <td>1.288643</td>\n",
       "      <td>0.187963</td>\n",
       "      <td>0.541630</td>\n",
       "      <td>6</td>\n",
       "    </tr>\n",
       "    <tr>\n",
       "      <th>...</th>\n",
       "      <td>...</td>\n",
       "      <td>...</td>\n",
       "      <td>...</td>\n",
       "      <td>...</td>\n",
       "      <td>...</td>\n",
       "      <td>...</td>\n",
       "      <td>...</td>\n",
       "      <td>...</td>\n",
       "      <td>...</td>\n",
       "      <td>...</td>\n",
       "      <td>...</td>\n",
       "      <td>...</td>\n",
       "    </tr>\n",
       "    <tr>\n",
       "      <th>315</th>\n",
       "      <td>0.103624</td>\n",
       "      <td>-0.714066</td>\n",
       "      <td>0.662546</td>\n",
       "      <td>2.668484</td>\n",
       "      <td>-0.796303</td>\n",
       "      <td>-1.231239</td>\n",
       "      <td>-1.108948</td>\n",
       "      <td>-0.575955</td>\n",
       "      <td>-0.201591</td>\n",
       "      <td>-0.579207</td>\n",
       "      <td>1.480302</td>\n",
       "      <td>4</td>\n",
       "    </tr>\n",
       "    <tr>\n",
       "      <th>316</th>\n",
       "      <td>1.195232</td>\n",
       "      <td>0.626688</td>\n",
       "      <td>-0.159061</td>\n",
       "      <td>0.185312</td>\n",
       "      <td>0.372651</td>\n",
       "      <td>1.255161</td>\n",
       "      <td>0.198638</td>\n",
       "      <td>1.618302</td>\n",
       "      <td>-0.460762</td>\n",
       "      <td>0.069937</td>\n",
       "      <td>-0.490910</td>\n",
       "      <td>5</td>\n",
       "    </tr>\n",
       "    <tr>\n",
       "      <th>317</th>\n",
       "      <td>0.103624</td>\n",
       "      <td>-0.323013</td>\n",
       "      <td>-0.005010</td>\n",
       "      <td>-0.453218</td>\n",
       "      <td>-0.626274</td>\n",
       "      <td>0.203223</td>\n",
       "      <td>-0.257497</td>\n",
       "      <td>-0.830361</td>\n",
       "      <td>-0.979104</td>\n",
       "      <td>1.132173</td>\n",
       "      <td>0.635497</td>\n",
       "      <td>6</td>\n",
       "    </tr>\n",
       "    <tr>\n",
       "      <th>318</th>\n",
       "      <td>-0.585813</td>\n",
       "      <td>0.347364</td>\n",
       "      <td>-0.056360</td>\n",
       "      <td>-0.382271</td>\n",
       "      <td>-0.158692</td>\n",
       "      <td>0.107592</td>\n",
       "      <td>1.749495</td>\n",
       "      <td>-0.480552</td>\n",
       "      <td>-0.201591</td>\n",
       "      <td>-0.815259</td>\n",
       "      <td>-0.490910</td>\n",
       "      <td>5</td>\n",
       "    </tr>\n",
       "    <tr>\n",
       "      <th>319</th>\n",
       "      <td>-0.585813</td>\n",
       "      <td>-1.244782</td>\n",
       "      <td>0.611196</td>\n",
       "      <td>-0.949853</td>\n",
       "      <td>-0.605020</td>\n",
       "      <td>-0.848716</td>\n",
       "      <td>-1.078539</td>\n",
       "      <td>-1.821487</td>\n",
       "      <td>-0.136798</td>\n",
       "      <td>-0.815259</td>\n",
       "      <td>1.010966</td>\n",
       "      <td>6</td>\n",
       "    </tr>\n",
       "  </tbody>\n",
       "</table>\n",
       "<p>320 rows × 12 columns</p>\n",
       "</div>"
      ],
      "text/plain": [
       "     fixed_acidity  volatile_acidity  citric_acid  residual_sugar  chlorides  \\\n",
       "0        -0.413454          0.123905    -0.313113       -0.240375  -0.349975   \n",
       "1         1.310138         -0.937525     1.638205       -0.240375   1.371576   \n",
       "2        -1.160343          2.526090    -1.340122       -0.382271  -0.647527   \n",
       "3        -0.068735          0.598756    -0.877968       -0.311323  -0.307468   \n",
       "4        -1.217796         -0.490607     0.611196       -0.027532  -0.222453   \n",
       "..             ...               ...          ...             ...        ...   \n",
       "315       0.103624         -0.714066     0.662546        2.668484  -0.796303   \n",
       "316       1.195232          0.626688    -0.159061        0.185312   0.372651   \n",
       "317       0.103624         -0.323013    -0.005010       -0.453218  -0.626274   \n",
       "318      -0.585813          0.347364    -0.056360       -0.382271  -0.158692   \n",
       "319      -0.585813         -1.244782     0.611196       -0.949853  -0.605020   \n",
       "\n",
       "     free_sulfur_dioxide  total_sulfur_dioxide   density        pH  sulphates  \\\n",
       "0              -0.848716             -0.561586 -0.183745 -0.201591  -0.638220   \n",
       "1              -0.944346             -0.865676  0.982285 -1.756618   2.312434   \n",
       "2              -0.083669             -0.409542 -0.989366  1.871778  -1.169337   \n",
       "3               0.872638              0.411500 -0.194345 -0.136798   0.542042   \n",
       "4              -0.944346             -0.987312 -0.634256  1.288643   0.187963   \n",
       "..                   ...                   ...       ...       ...        ...   \n",
       "315            -1.231239             -1.108948 -0.575955 -0.201591  -0.579207   \n",
       "316             1.255161              0.198638  1.618302 -0.460762   0.069937   \n",
       "317             0.203223             -0.257497 -0.830361 -0.979104   1.132173   \n",
       "318             0.107592              1.749495 -0.480552 -0.201591  -0.815259   \n",
       "319            -0.848716             -1.078539 -1.821487 -0.136798  -0.815259   \n",
       "\n",
       "      alcohol  quality  \n",
       "0   -0.678644        5  \n",
       "1   -0.960246        5  \n",
       "2    0.729364        6  \n",
       "3    0.447763        6  \n",
       "4    0.541630        6  \n",
       "..        ...      ...  \n",
       "315  1.480302        4  \n",
       "316 -0.490910        5  \n",
       "317  0.635497        6  \n",
       "318 -0.490910        5  \n",
       "319  1.010966        6  \n",
       "\n",
       "[320 rows x 12 columns]"
      ]
     },
     "execution_count": 6,
     "metadata": {},
     "output_type": "execute_result"
    }
   ],
   "source": [
    "wine_data = pd.read_csv(wine_test_data_path)\n",
    "wine_data\n"
   ]
  },
  {
   "cell_type": "code",
   "execution_count": 7,
   "id": "d290cc72-245d-4bb2-899e-0385f70a6ab6",
   "metadata": {},
   "outputs": [],
   "source": [
    "housing_trees = load_trees(models_path, housing_model_name)\n"
   ]
  },
  {
   "cell_type": "code",
   "execution_count": 8,
   "id": "ccfad5ba-7f79-4fd3-b7c6-934f3e7fda99",
   "metadata": {},
   "outputs": [
    {
     "data": {
      "text/html": [
       "<div>\n",
       "<style scoped>\n",
       "    .dataframe tbody tr th:only-of-type {\n",
       "        vertical-align: middle;\n",
       "    }\n",
       "\n",
       "    .dataframe tbody tr th {\n",
       "        vertical-align: top;\n",
       "    }\n",
       "\n",
       "    .dataframe thead th {\n",
       "        text-align: right;\n",
       "    }\n",
       "</style>\n",
       "<table border=\"1\" class=\"dataframe\">\n",
       "  <thead>\n",
       "    <tr style=\"text-align: right;\">\n",
       "      <th></th>\n",
       "      <th>longitude</th>\n",
       "      <th>latitude</th>\n",
       "      <th>housing_median_age</th>\n",
       "      <th>total_rooms</th>\n",
       "      <th>total_bedrooms</th>\n",
       "      <th>population</th>\n",
       "      <th>households</th>\n",
       "      <th>median_income</th>\n",
       "      <th>median_house_value</th>\n",
       "    </tr>\n",
       "  </thead>\n",
       "  <tbody>\n",
       "    <tr>\n",
       "      <th>0</th>\n",
       "      <td>1.307575</td>\n",
       "      <td>-0.862335</td>\n",
       "      <td>-0.686477</td>\n",
       "      <td>-0.108529</td>\n",
       "      <td>0.019293</td>\n",
       "      <td>0.265378</td>\n",
       "      <td>0.111059</td>\n",
       "      <td>-1.045477</td>\n",
       "      <td>77700.0</td>\n",
       "    </tr>\n",
       "    <tr>\n",
       "      <th>1</th>\n",
       "      <td>-1.452618</td>\n",
       "      <td>0.987002</td>\n",
       "      <td>1.856182</td>\n",
       "      <td>-0.215333</td>\n",
       "      <td>-0.272609</td>\n",
       "      <td>-0.312139</td>\n",
       "      <td>-0.338825</td>\n",
       "      <td>0.137031</td>\n",
       "      <td>314300.0</td>\n",
       "    </tr>\n",
       "    <tr>\n",
       "      <th>2</th>\n",
       "      <td>-0.993418</td>\n",
       "      <td>1.581599</td>\n",
       "      <td>-0.527561</td>\n",
       "      <td>-0.341390</td>\n",
       "      <td>-0.469583</td>\n",
       "      <td>-0.355408</td>\n",
       "      <td>-0.532380</td>\n",
       "      <td>-0.600266</td>\n",
       "      <td>99100.0</td>\n",
       "    </tr>\n",
       "    <tr>\n",
       "      <th>3</th>\n",
       "      <td>-0.878618</td>\n",
       "      <td>1.370915</td>\n",
       "      <td>-0.924851</td>\n",
       "      <td>0.445661</td>\n",
       "      <td>0.342046</td>\n",
       "      <td>0.237120</td>\n",
       "      <td>0.435395</td>\n",
       "      <td>-0.294598</td>\n",
       "      <td>109400.0</td>\n",
       "    </tr>\n",
       "    <tr>\n",
       "      <th>4</th>\n",
       "      <td>-1.302879</td>\n",
       "      <td>0.982320</td>\n",
       "      <td>1.141059</td>\n",
       "      <td>-0.570583</td>\n",
       "      <td>-0.581123</td>\n",
       "      <td>-0.503761</td>\n",
       "      <td>-0.561151</td>\n",
       "      <td>-0.711385</td>\n",
       "      <td>76400.0</td>\n",
       "    </tr>\n",
       "    <tr>\n",
       "      <th>...</th>\n",
       "      <td>...</td>\n",
       "      <td>...</td>\n",
       "      <td>...</td>\n",
       "      <td>...</td>\n",
       "      <td>...</td>\n",
       "      <td>...</td>\n",
       "      <td>...</td>\n",
       "      <td>...</td>\n",
       "      <td>...</td>\n",
       "    </tr>\n",
       "    <tr>\n",
       "      <th>4123</th>\n",
       "      <td>-1.123192</td>\n",
       "      <td>0.809091</td>\n",
       "      <td>0.425936</td>\n",
       "      <td>-0.367518</td>\n",
       "      <td>-0.381775</td>\n",
       "      <td>0.021655</td>\n",
       "      <td>-0.398984</td>\n",
       "      <td>-0.079942</td>\n",
       "      <td>161500.0</td>\n",
       "    </tr>\n",
       "    <tr>\n",
       "      <th>4124</th>\n",
       "      <td>0.259400</td>\n",
       "      <td>-0.141327</td>\n",
       "      <td>-0.845393</td>\n",
       "      <td>4.616525</td>\n",
       "      <td>5.095534</td>\n",
       "      <td>4.930548</td>\n",
       "      <td>5.368429</td>\n",
       "      <td>-0.487884</td>\n",
       "      <td>87200.0</td>\n",
       "    </tr>\n",
       "    <tr>\n",
       "      <th>4125</th>\n",
       "      <td>0.638740</td>\n",
       "      <td>-0.768697</td>\n",
       "      <td>1.141059</td>\n",
       "      <td>-0.336348</td>\n",
       "      <td>-0.331939</td>\n",
       "      <td>-0.240611</td>\n",
       "      <td>-0.357134</td>\n",
       "      <td>-1.017579</td>\n",
       "      <td>112900.0</td>\n",
       "    </tr>\n",
       "    <tr>\n",
       "      <th>4126</th>\n",
       "      <td>0.598809</td>\n",
       "      <td>-0.675060</td>\n",
       "      <td>-0.765935</td>\n",
       "      <td>0.116539</td>\n",
       "      <td>0.671918</td>\n",
       "      <td>0.686594</td>\n",
       "      <td>0.537403</td>\n",
       "      <td>-0.632217</td>\n",
       "      <td>185100.0</td>\n",
       "    </tr>\n",
       "    <tr>\n",
       "      <th>4127</th>\n",
       "      <td>0.658705</td>\n",
       "      <td>-0.792107</td>\n",
       "      <td>0.664310</td>\n",
       "      <td>-0.748896</td>\n",
       "      <td>-0.635706</td>\n",
       "      <td>-0.294478</td>\n",
       "      <td>-0.592539</td>\n",
       "      <td>-1.177703</td>\n",
       "      <td>94500.0</td>\n",
       "    </tr>\n",
       "  </tbody>\n",
       "</table>\n",
       "<p>4128 rows × 9 columns</p>\n",
       "</div>"
      ],
      "text/plain": [
       "      longitude  latitude  housing_median_age  total_rooms  total_bedrooms  \\\n",
       "0      1.307575 -0.862335           -0.686477    -0.108529        0.019293   \n",
       "1     -1.452618  0.987002            1.856182    -0.215333       -0.272609   \n",
       "2     -0.993418  1.581599           -0.527561    -0.341390       -0.469583   \n",
       "3     -0.878618  1.370915           -0.924851     0.445661        0.342046   \n",
       "4     -1.302879  0.982320            1.141059    -0.570583       -0.581123   \n",
       "...         ...       ...                 ...          ...             ...   \n",
       "4123  -1.123192  0.809091            0.425936    -0.367518       -0.381775   \n",
       "4124   0.259400 -0.141327           -0.845393     4.616525        5.095534   \n",
       "4125   0.638740 -0.768697            1.141059    -0.336348       -0.331939   \n",
       "4126   0.598809 -0.675060           -0.765935     0.116539        0.671918   \n",
       "4127   0.658705 -0.792107            0.664310    -0.748896       -0.635706   \n",
       "\n",
       "      population  households  median_income  median_house_value  \n",
       "0       0.265378    0.111059      -1.045477             77700.0  \n",
       "1      -0.312139   -0.338825       0.137031            314300.0  \n",
       "2      -0.355408   -0.532380      -0.600266             99100.0  \n",
       "3       0.237120    0.435395      -0.294598            109400.0  \n",
       "4      -0.503761   -0.561151      -0.711385             76400.0  \n",
       "...          ...         ...            ...                 ...  \n",
       "4123    0.021655   -0.398984      -0.079942            161500.0  \n",
       "4124    4.930548    5.368429      -0.487884             87200.0  \n",
       "4125   -0.240611   -0.357134      -1.017579            112900.0  \n",
       "4126    0.686594    0.537403      -0.632217            185100.0  \n",
       "4127   -0.294478   -0.592539      -1.177703             94500.0  \n",
       "\n",
       "[4128 rows x 9 columns]"
      ]
     },
     "execution_count": 8,
     "metadata": {},
     "output_type": "execute_result"
    }
   ],
   "source": [
    "housing_data = pd.read_csv(housing_test_data_path)\n",
    "housing_data\n"
   ]
  },
  {
   "cell_type": "code",
   "execution_count": 9,
   "id": "69ae3151-ffb7-4445-b885-5d21fb830bed",
   "metadata": {},
   "outputs": [
    {
     "data": {
      "text/html": [
       "<div>\n",
       "<style scoped>\n",
       "    .dataframe tbody tr th:only-of-type {\n",
       "        vertical-align: middle;\n",
       "    }\n",
       "\n",
       "    .dataframe tbody tr th {\n",
       "        vertical-align: top;\n",
       "    }\n",
       "\n",
       "    .dataframe thead th {\n",
       "        text-align: right;\n",
       "    }\n",
       "</style>\n",
       "<table border=\"1\" class=\"dataframe\">\n",
       "  <thead>\n",
       "    <tr style=\"text-align: right;\">\n",
       "      <th></th>\n",
       "      <th>longitude</th>\n",
       "      <th>latitude</th>\n",
       "      <th>housing_median_age</th>\n",
       "      <th>total_rooms</th>\n",
       "      <th>total_bedrooms</th>\n",
       "      <th>population</th>\n",
       "      <th>households</th>\n",
       "      <th>median_income</th>\n",
       "      <th>median_house_value</th>\n",
       "    </tr>\n",
       "  </thead>\n",
       "  <tbody>\n",
       "    <tr>\n",
       "      <th>949</th>\n",
       "      <td>-0.065035</td>\n",
       "      <td>-0.567377</td>\n",
       "      <td>1.141059</td>\n",
       "      <td>-0.382186</td>\n",
       "      <td>0.045398</td>\n",
       "      <td>0.056977</td>\n",
       "      <td>0.100597</td>\n",
       "      <td>-0.629375</td>\n",
       "      <td>247900.0</td>\n",
       "    </tr>\n",
       "    <tr>\n",
       "      <th>3168</th>\n",
       "      <td>-0.883609</td>\n",
       "      <td>1.108731</td>\n",
       "      <td>0.267020</td>\n",
       "      <td>0.568967</td>\n",
       "      <td>0.353912</td>\n",
       "      <td>0.191202</td>\n",
       "      <td>0.385698</td>\n",
       "      <td>0.091447</td>\n",
       "      <td>129200.0</td>\n",
       "    </tr>\n",
       "    <tr>\n",
       "      <th>2080</th>\n",
       "      <td>-1.477574</td>\n",
       "      <td>1.075958</td>\n",
       "      <td>0.664310</td>\n",
       "      <td>-0.418857</td>\n",
       "      <td>-0.441105</td>\n",
       "      <td>-0.686553</td>\n",
       "      <td>-0.425140</td>\n",
       "      <td>0.133873</td>\n",
       "      <td>310300.0</td>\n",
       "    </tr>\n",
       "    <tr>\n",
       "      <th>1210</th>\n",
       "      <td>0.688653</td>\n",
       "      <td>-0.792107</td>\n",
       "      <td>1.299975</td>\n",
       "      <td>-0.350558</td>\n",
       "      <td>-0.396015</td>\n",
       "      <td>-0.097557</td>\n",
       "      <td>-0.307438</td>\n",
       "      <td>-0.265595</td>\n",
       "      <td>160800.0</td>\n",
       "    </tr>\n",
       "    <tr>\n",
       "      <th>2553</th>\n",
       "      <td>0.379192</td>\n",
       "      <td>-0.632923</td>\n",
       "      <td>-0.686477</td>\n",
       "      <td>0.477748</td>\n",
       "      <td>0.346792</td>\n",
       "      <td>0.403134</td>\n",
       "      <td>0.508632</td>\n",
       "      <td>0.152665</td>\n",
       "      <td>196800.0</td>\n",
       "    </tr>\n",
       "    <tr>\n",
       "      <th>...</th>\n",
       "      <td>...</td>\n",
       "      <td>...</td>\n",
       "      <td>...</td>\n",
       "      <td>...</td>\n",
       "      <td>...</td>\n",
       "      <td>...</td>\n",
       "      <td>...</td>\n",
       "      <td>...</td>\n",
       "      <td>...</td>\n",
       "    </tr>\n",
       "    <tr>\n",
       "      <th>3816</th>\n",
       "      <td>-0.119939</td>\n",
       "      <td>0.570316</td>\n",
       "      <td>-0.924851</td>\n",
       "      <td>-0.135574</td>\n",
       "      <td>-0.398388</td>\n",
       "      <td>-0.222067</td>\n",
       "      <td>-0.270819</td>\n",
       "      <td>0.189353</td>\n",
       "      <td>94400.0</td>\n",
       "    </tr>\n",
       "    <tr>\n",
       "      <th>1659</th>\n",
       "      <td>1.342514</td>\n",
       "      <td>-0.796789</td>\n",
       "      <td>0.664310</td>\n",
       "      <td>-0.522911</td>\n",
       "      <td>-0.258370</td>\n",
       "      <td>-0.494931</td>\n",
       "      <td>-0.412062</td>\n",
       "      <td>-1.395886</td>\n",
       "      <td>55000.0</td>\n",
       "    </tr>\n",
       "    <tr>\n",
       "      <th>3230</th>\n",
       "      <td>-1.168113</td>\n",
       "      <td>0.462633</td>\n",
       "      <td>1.856182</td>\n",
       "      <td>-0.648967</td>\n",
       "      <td>-0.642826</td>\n",
       "      <td>-0.827842</td>\n",
       "      <td>-0.613464</td>\n",
       "      <td>-0.065940</td>\n",
       "      <td>243800.0</td>\n",
       "    </tr>\n",
       "    <tr>\n",
       "      <th>4099</th>\n",
       "      <td>0.279366</td>\n",
       "      <td>0.205131</td>\n",
       "      <td>1.220517</td>\n",
       "      <td>-0.085151</td>\n",
       "      <td>0.088115</td>\n",
       "      <td>-0.084311</td>\n",
       "      <td>0.022129</td>\n",
       "      <td>-1.189809</td>\n",
       "      <td>50900.0</td>\n",
       "    </tr>\n",
       "    <tr>\n",
       "      <th>2227</th>\n",
       "      <td>0.503975</td>\n",
       "      <td>-0.572059</td>\n",
       "      <td>-1.957806</td>\n",
       "      <td>6.727856</td>\n",
       "      <td>6.374680</td>\n",
       "      <td>4.836061</td>\n",
       "      <td>5.773848</td>\n",
       "      <td>0.952286</td>\n",
       "      <td>320900.0</td>\n",
       "    </tr>\n",
       "  </tbody>\n",
       "</table>\n",
       "<p>200 rows × 9 columns</p>\n",
       "</div>"
      ],
      "text/plain": [
       "      longitude  latitude  housing_median_age  total_rooms  total_bedrooms  \\\n",
       "949   -0.065035 -0.567377            1.141059    -0.382186        0.045398   \n",
       "3168  -0.883609  1.108731            0.267020     0.568967        0.353912   \n",
       "2080  -1.477574  1.075958            0.664310    -0.418857       -0.441105   \n",
       "1210   0.688653 -0.792107            1.299975    -0.350558       -0.396015   \n",
       "2553   0.379192 -0.632923           -0.686477     0.477748        0.346792   \n",
       "...         ...       ...                 ...          ...             ...   \n",
       "3816  -0.119939  0.570316           -0.924851    -0.135574       -0.398388   \n",
       "1659   1.342514 -0.796789            0.664310    -0.522911       -0.258370   \n",
       "3230  -1.168113  0.462633            1.856182    -0.648967       -0.642826   \n",
       "4099   0.279366  0.205131            1.220517    -0.085151        0.088115   \n",
       "2227   0.503975 -0.572059           -1.957806     6.727856        6.374680   \n",
       "\n",
       "      population  households  median_income  median_house_value  \n",
       "949     0.056977    0.100597      -0.629375            247900.0  \n",
       "3168    0.191202    0.385698       0.091447            129200.0  \n",
       "2080   -0.686553   -0.425140       0.133873            310300.0  \n",
       "1210   -0.097557   -0.307438      -0.265595            160800.0  \n",
       "2553    0.403134    0.508632       0.152665            196800.0  \n",
       "...          ...         ...            ...                 ...  \n",
       "3816   -0.222067   -0.270819       0.189353             94400.0  \n",
       "1659   -0.494931   -0.412062      -1.395886             55000.0  \n",
       "3230   -0.827842   -0.613464      -0.065940            243800.0  \n",
       "4099   -0.084311    0.022129      -1.189809             50900.0  \n",
       "2227    4.836061    5.773848       0.952286            320900.0  \n",
       "\n",
       "[200 rows x 9 columns]"
      ]
     },
     "execution_count": 9,
     "metadata": {},
     "output_type": "execute_result"
    }
   ],
   "source": [
    "sample_housing_data = housing_data.sample(n=200, random_state=42)\n",
    "sample_housing_data\n"
   ]
  },
  {
   "cell_type": "markdown",
   "id": "073daef4-1b74-4d59-9a2e-191051d2558d",
   "metadata": {},
   "source": [
    "## Prediction gap dla każdego featura osobno"
   ]
  },
  {
   "cell_type": "markdown",
   "id": "5c244929-281a-4216-844c-09b7015d4b6a",
   "metadata": {},
   "source": [
    "Widzimy że kolejność zwracana przez wersje `abs` oraz `squared` jest bardzo podobna, choć nie identyczna."
   ]
  },
  {
   "cell_type": "code",
   "execution_count": 10,
   "id": "f7c02942-46ec-465c-aeba-47f0c2849ff1",
   "metadata": {},
   "outputs": [],
   "source": [
    "predgap = NormalPredictionGap(stddev)\n"
   ]
  },
  {
   "cell_type": "code",
   "execution_count": 11,
   "id": "f1b4e0bc-c2ed-48a8-b302-d900c70c5b4c",
   "metadata": {},
   "outputs": [
    {
     "name": "stdout",
     "output_type": "stream",
     "text": [
      "Starting predgap calculation for density.\n",
      "Starting predgap calculation for sulphates.\n",
      "Starting predgap calculation for volatile_acidity.\n",
      "Starting predgap calculation for residual_sugar.\n",
      "Starting predgap calculation for free_sulfur_dioxide.\n",
      "Starting predgap calculation for total_sulfur_dioxide.\n",
      "Starting predgap calculation for fixed_acidity.\n",
      "Starting predgap calculation for chlorides.\n",
      "Starting predgap calculation for pH.\n",
      "Starting predgap calculation for citric_acid.\n",
      "Starting predgap calculation for alcohol.\n",
      "CPU times: user 1min 26s, sys: 4.82 s, total: 1min 31s\n",
      "Wall time: 1min 26s\n"
     ]
    }
   ],
   "source": [
    "%%time\n",
    "single_abs_predgaps = prediction_gap_on_single_feature_perturbation(\n",
    "    predgap, wine_trees, wine_data, squared=False)\n"
   ]
  },
  {
   "cell_type": "code",
   "execution_count": 12,
   "id": "44575a29-e0c5-4ba5-9657-60c8bfcf5ad8",
   "metadata": {},
   "outputs": [
    {
     "data": {
      "text/html": [
       "<div>\n",
       "<style scoped>\n",
       "    .dataframe tbody tr th:only-of-type {\n",
       "        vertical-align: middle;\n",
       "    }\n",
       "\n",
       "    .dataframe tbody tr th {\n",
       "        vertical-align: top;\n",
       "    }\n",
       "\n",
       "    .dataframe thead th {\n",
       "        text-align: right;\n",
       "    }\n",
       "</style>\n",
       "<table border=\"1\" class=\"dataframe\">\n",
       "  <thead>\n",
       "    <tr style=\"text-align: right;\">\n",
       "      <th></th>\n",
       "      <th>Feature</th>\n",
       "      <th>PredGap</th>\n",
       "    </tr>\n",
       "  </thead>\n",
       "  <tbody>\n",
       "    <tr>\n",
       "      <th>10</th>\n",
       "      <td>alcohol</td>\n",
       "      <td>0.155754</td>\n",
       "    </tr>\n",
       "    <tr>\n",
       "      <th>1</th>\n",
       "      <td>sulphates</td>\n",
       "      <td>0.147723</td>\n",
       "    </tr>\n",
       "    <tr>\n",
       "      <th>7</th>\n",
       "      <td>chlorides</td>\n",
       "      <td>0.145904</td>\n",
       "    </tr>\n",
       "    <tr>\n",
       "      <th>2</th>\n",
       "      <td>volatile_acidity</td>\n",
       "      <td>0.144896</td>\n",
       "    </tr>\n",
       "    <tr>\n",
       "      <th>5</th>\n",
       "      <td>total_sulfur_dioxide</td>\n",
       "      <td>0.135442</td>\n",
       "    </tr>\n",
       "    <tr>\n",
       "      <th>3</th>\n",
       "      <td>residual_sugar</td>\n",
       "      <td>0.130128</td>\n",
       "    </tr>\n",
       "    <tr>\n",
       "      <th>9</th>\n",
       "      <td>citric_acid</td>\n",
       "      <td>0.114234</td>\n",
       "    </tr>\n",
       "    <tr>\n",
       "      <th>6</th>\n",
       "      <td>fixed_acidity</td>\n",
       "      <td>0.111571</td>\n",
       "    </tr>\n",
       "    <tr>\n",
       "      <th>4</th>\n",
       "      <td>free_sulfur_dioxide</td>\n",
       "      <td>0.107138</td>\n",
       "    </tr>\n",
       "    <tr>\n",
       "      <th>0</th>\n",
       "      <td>density</td>\n",
       "      <td>0.106114</td>\n",
       "    </tr>\n",
       "    <tr>\n",
       "      <th>8</th>\n",
       "      <td>pH</td>\n",
       "      <td>0.105091</td>\n",
       "    </tr>\n",
       "  </tbody>\n",
       "</table>\n",
       "</div>"
      ],
      "text/plain": [
       "                 Feature   PredGap\n",
       "10               alcohol  0.155754\n",
       "1              sulphates  0.147723\n",
       "7              chlorides  0.145904\n",
       "2       volatile_acidity  0.144896\n",
       "5   total_sulfur_dioxide  0.135442\n",
       "3         residual_sugar  0.130128\n",
       "9            citric_acid  0.114234\n",
       "6          fixed_acidity  0.111571\n",
       "4    free_sulfur_dioxide  0.107138\n",
       "0                density  0.106114\n",
       "8                     pH  0.105091"
      ]
     },
     "execution_count": 12,
     "metadata": {},
     "output_type": "execute_result"
    }
   ],
   "source": [
    "single_abs_predgaps\n"
   ]
  },
  {
   "cell_type": "code",
   "execution_count": 13,
   "id": "aae3d8e6-cefc-4631-9465-27a217522a38",
   "metadata": {},
   "outputs": [
    {
     "name": "stdout",
     "output_type": "stream",
     "text": [
      "Starting predgap calculation for density.\n",
      "Starting predgap calculation for sulphates.\n",
      "Starting predgap calculation for volatile_acidity.\n",
      "Starting predgap calculation for residual_sugar.\n",
      "Starting predgap calculation for free_sulfur_dioxide.\n",
      "Starting predgap calculation for total_sulfur_dioxide.\n",
      "Starting predgap calculation for fixed_acidity.\n",
      "Starting predgap calculation for chlorides.\n",
      "Starting predgap calculation for pH.\n",
      "Starting predgap calculation for citric_acid.\n",
      "Starting predgap calculation for alcohol.\n",
      "CPU times: user 1min 27s, sys: 4.78 s, total: 1min 31s\n",
      "Wall time: 1min 25s\n"
     ]
    }
   ],
   "source": [
    "%%time\n",
    "single_sqr_predgaps = prediction_gap_on_single_feature_perturbation(\n",
    "    predgap, wine_trees, wine_data, squared=True)\n"
   ]
  },
  {
   "cell_type": "code",
   "execution_count": 14,
   "id": "e20ff517-092e-4393-95e6-601cdc0faf1e",
   "metadata": {},
   "outputs": [
    {
     "data": {
      "text/html": [
       "<div>\n",
       "<style scoped>\n",
       "    .dataframe tbody tr th:only-of-type {\n",
       "        vertical-align: middle;\n",
       "    }\n",
       "\n",
       "    .dataframe tbody tr th {\n",
       "        vertical-align: top;\n",
       "    }\n",
       "\n",
       "    .dataframe thead th {\n",
       "        text-align: right;\n",
       "    }\n",
       "</style>\n",
       "<table border=\"1\" class=\"dataframe\">\n",
       "  <thead>\n",
       "    <tr style=\"text-align: right;\">\n",
       "      <th></th>\n",
       "      <th>Feature</th>\n",
       "      <th>PredGap</th>\n",
       "    </tr>\n",
       "  </thead>\n",
       "  <tbody>\n",
       "    <tr>\n",
       "      <th>10</th>\n",
       "      <td>alcohol</td>\n",
       "      <td>0.071638</td>\n",
       "    </tr>\n",
       "    <tr>\n",
       "      <th>1</th>\n",
       "      <td>sulphates</td>\n",
       "      <td>0.063286</td>\n",
       "    </tr>\n",
       "    <tr>\n",
       "      <th>2</th>\n",
       "      <td>volatile_acidity</td>\n",
       "      <td>0.062282</td>\n",
       "    </tr>\n",
       "    <tr>\n",
       "      <th>7</th>\n",
       "      <td>chlorides</td>\n",
       "      <td>0.061304</td>\n",
       "    </tr>\n",
       "    <tr>\n",
       "      <th>3</th>\n",
       "      <td>residual_sugar</td>\n",
       "      <td>0.061165</td>\n",
       "    </tr>\n",
       "    <tr>\n",
       "      <th>5</th>\n",
       "      <td>total_sulfur_dioxide</td>\n",
       "      <td>0.052848</td>\n",
       "    </tr>\n",
       "    <tr>\n",
       "      <th>4</th>\n",
       "      <td>free_sulfur_dioxide</td>\n",
       "      <td>0.041940</td>\n",
       "    </tr>\n",
       "    <tr>\n",
       "      <th>6</th>\n",
       "      <td>fixed_acidity</td>\n",
       "      <td>0.040056</td>\n",
       "    </tr>\n",
       "    <tr>\n",
       "      <th>9</th>\n",
       "      <td>citric_acid</td>\n",
       "      <td>0.040000</td>\n",
       "    </tr>\n",
       "    <tr>\n",
       "      <th>0</th>\n",
       "      <td>density</td>\n",
       "      <td>0.036612</td>\n",
       "    </tr>\n",
       "    <tr>\n",
       "      <th>8</th>\n",
       "      <td>pH</td>\n",
       "      <td>0.036511</td>\n",
       "    </tr>\n",
       "  </tbody>\n",
       "</table>\n",
       "</div>"
      ],
      "text/plain": [
       "                 Feature   PredGap\n",
       "10               alcohol  0.071638\n",
       "1              sulphates  0.063286\n",
       "2       volatile_acidity  0.062282\n",
       "7              chlorides  0.061304\n",
       "3         residual_sugar  0.061165\n",
       "5   total_sulfur_dioxide  0.052848\n",
       "4    free_sulfur_dioxide  0.041940\n",
       "6          fixed_acidity  0.040056\n",
       "9            citric_acid  0.040000\n",
       "0                density  0.036612\n",
       "8                     pH  0.036511"
      ]
     },
     "execution_count": 14,
     "metadata": {},
     "output_type": "execute_result"
    }
   ],
   "source": [
    "single_sqr_predgaps\n"
   ]
  },
  {
   "cell_type": "code",
   "execution_count": 15,
   "id": "a844257d-e33b-4231-a2a5-7318d66a3aa6",
   "metadata": {},
   "outputs": [],
   "source": [
    "two_best_features = set(single_sqr_predgaps[\"Feature\"][:2])\n",
    "all_but_two_worst_features = set(single_sqr_predgaps[\"Feature\"][:-2])\n"
   ]
  },
  {
   "cell_type": "markdown",
   "id": "2508483b-bdf6-45c7-959f-12e1b8ded9de",
   "metadata": {},
   "source": [
    "## Prediction gap for two features"
   ]
  },
  {
   "cell_type": "markdown",
   "id": "29f5639e-8856-48ab-8a83-5cb8a130b9fb",
   "metadata": {},
   "source": [
    "### Wnioski\n",
    "\n",
    "Metoda losowa: Złożoność zależy liniowo od liczby iteracji, jak również liniowo od liczby datapointów. Wyniki nawet przy dużej liczbie iteracji widocznie odbiegają od wyników dokładnych (to znaczy nie są jakieś od czapy czy błędne, po prostu są niezbyt dokładne). Dla modelu winequality 1000 iteracji na 20 datapointach liczy się 1 minutę.\n",
    "\n",
    "Metoda dokładna: Złożoność zależy liniowo od liczby datapointów. Poza tym, w praktyce złożoność zależy mocno od tego ile i jak ważnych featurów perturbujemy. Dla modelu winequality i 20 datapointów czasy obliczeń były: 17,5 minuty dla perturbacji dwóch najważniejszych featurów, 6,5 minuty dla perturbacji dwóch mniej ważnych featurów, 19 minut dla perturbacji trzech featurów. Natomiast jak spróbowałem zaburzać 9 featurów, to w godzinę nie dostałem wyniku nawet dla pierwszego datapointa. Warto przeanalizować algorytm i zobaczyć czy można go jakoś zoptymalizować."
   ]
  },
  {
   "cell_type": "code",
   "execution_count": 40,
   "id": "cafc52f7-1208-471b-88b0-a800ab6d7f1b",
   "metadata": {},
   "outputs": [],
   "source": [
    "import numpy as np\n",
    "\n",
    "def rmse(y_pred, y_exact) -> float:\n",
    "    return np.sqrt(((y_pred - y_exact) ** 2).mean())\n"
   ]
  },
  {
   "cell_type": "code",
   "execution_count": 28,
   "id": "9b7c5bdf-5fc6-437e-87f1-cc14d48051af",
   "metadata": {},
   "outputs": [
    {
     "name": "stdout",
     "output_type": "stream",
     "text": [
      "0.3\n"
     ]
    }
   ],
   "source": [
    "print(stddev)\n"
   ]
  },
  {
   "cell_type": "code",
   "execution_count": 30,
   "id": "132e5f25-9ff8-4880-8748-5ac58d071d81",
   "metadata": {},
   "outputs": [
    {
     "name": "stdout",
     "output_type": "stream",
     "text": [
      "There are 320 datapoints in the dataset.\n",
      "The following 2 features are subject to perturbation:\n",
      "{'sulphates', 'alcohol'}\n",
      "Starting prediction gap calculation by random sampling with 100 iterations.\n",
      "CPU times: user 1min 42s, sys: 0 ns, total: 1min 42s\n",
      "Wall time: 1min 42s\n"
     ]
    }
   ],
   "source": [
    "%%time\n",
    "two_features_random_results = prediction_gap_by_random_sampling(\n",
    "    wine_trees, wine_data, two_best_features, stddev=stddev, squared=True)\n"
   ]
  },
  {
   "cell_type": "code",
   "execution_count": 31,
   "id": "1e2b01a7-40aa-4f66-b260-222d660f849a",
   "metadata": {},
   "outputs": [
    {
     "data": {
      "text/plain": [
       "array([0.02799603, 0.12973671, 0.04107802, 0.03070649, 0.1093555 ,\n",
       "       0.2920536 , 0.07141526, 0.09058493, 0.00999147, 0.0075794 ,\n",
       "       0.05761052, 0.06389339, 0.03690714, 0.0816154 , 0.0042955 ,\n",
       "       0.01368577, 0.51794217, 0.01740524, 0.0681178 , 0.02475463])"
      ]
     },
     "execution_count": 31,
     "metadata": {},
     "output_type": "execute_result"
    }
   ],
   "source": [
    "two_features_random_results[:20]\n"
   ]
  },
  {
   "cell_type": "code",
   "execution_count": 43,
   "id": "6c0f9687-9f76-4623-af14-aab0ccbf1a8f",
   "metadata": {},
   "outputs": [
    {
     "name": "stdout",
     "output_type": "stream",
     "text": [
      "There are 20 datapoints in the dataset.\n",
      "The following 2 features are subject to perturbation:\n",
      "{'sulphates', 'alcohol'}\n",
      "Starting prediction gap calculation by random sampling with 1000 iterations.\n",
      "CPU times: user 1min 2s, sys: 11.7 ms, total: 1min 2s\n",
      "Wall time: 1min 2s\n"
     ]
    }
   ],
   "source": [
    "%%time\n",
    "two_features_1000_iter_random_results = prediction_gap_by_random_sampling(\n",
    "    wine_trees, wine_data[:20], two_best_features, stddev=stddev, squared=True, num_iter=1000)\n"
   ]
  },
  {
   "cell_type": "code",
   "execution_count": 49,
   "id": "d80d9a22-fe14-421a-b40f-b472c1976d2a",
   "metadata": {},
   "outputs": [
    {
     "name": "stdout",
     "output_type": "stream",
     "text": [
      "There are 20 datapoints in the dataset.\n",
      "The following 2 features are subject to perturbation:\n",
      "{'sulphates', 'alcohol'}\n",
      "Starting prediction gap calculation by random sampling with 10000 iterations.\n",
      "CPU times: user 10min 31s, sys: 20.4 ms, total: 10min 31s\n",
      "Wall time: 10min 32s\n"
     ]
    }
   ],
   "source": [
    "%%time\n",
    "two_features_10000_iter_random_results = prediction_gap_by_random_sampling(\n",
    "    wine_trees, wine_data[:20], two_best_features, stddev=stddev, squared=True, num_iter=10000)\n"
   ]
  },
  {
   "cell_type": "code",
   "execution_count": 26,
   "id": "09604f70-bc9d-46e9-81d9-573bd9ce0672",
   "metadata": {},
   "outputs": [
    {
     "name": "stdout",
     "output_type": "stream",
     "text": [
      "There are 20 datapoints in the dataset.\n",
      "The following 2 features are subject to perturbation:\n",
      "{'sulphates', 'alcohol'}\n",
      "Starting exact prediction gap calculation.\n",
      "Datapoint 0 returned predgap value of 0.03731612382401615.\n",
      "Datapoint 1 returned predgap value of 0.1252209645299695.\n",
      "Datapoint 2 returned predgap value of 0.05428991439731339.\n",
      "Datapoint 3 returned predgap value of 0.029024615836689225.\n",
      "Datapoint 4 returned predgap value of 0.11224871226358642.\n",
      "Datapoint 5 returned predgap value of 0.2785850501329165.\n",
      "Datapoint 6 returned predgap value of 0.09641113780559543.\n",
      "Datapoint 7 returned predgap value of 0.07343150877137704.\n",
      "Datapoint 8 returned predgap value of 0.026857657770105656.\n",
      "Datapoint 9 returned predgap value of 0.010945918188328041.\n",
      "Datapoint 10 returned predgap value of 0.07641482580332042.\n",
      "Datapoint 11 returned predgap value of 0.03960350625307052.\n",
      "Datapoint 12 returned predgap value of 0.029972484986642556.\n",
      "Datapoint 13 returned predgap value of 0.10239222778234913.\n",
      "Datapoint 14 returned predgap value of 0.004089209690380388.\n",
      "Datapoint 15 returned predgap value of 0.03598903705446615.\n",
      "Datapoint 16 returned predgap value of 0.3699565059152414.\n",
      "Datapoint 17 returned predgap value of 0.02235725434722889.\n",
      "Datapoint 18 returned predgap value of 0.11210644906892227.\n",
      "Datapoint 19 returned predgap value of 0.022214931305813743.\n",
      "CPU times: user 17min 41s, sys: 46.1 s, total: 18min 27s\n",
      "Wall time: 17min 28s\n"
     ]
    }
   ],
   "source": [
    "%%time\n",
    "two_features_exact_result = prediction_gap_by_exact_calc(\n",
    "    predgap, wine_trees, wine_data[:20], two_best_features, squared=True)\n"
   ]
  },
  {
   "cell_type": "code",
   "execution_count": 45,
   "id": "3be21715-be49-4e7f-b34c-5a8a049789a4",
   "metadata": {},
   "outputs": [
    {
     "data": {
      "text/plain": [
       "array([-0.00932009,  0.00451574, -0.01321189,  0.00168187, -0.00289321,\n",
       "        0.01346855, -0.02499588,  0.01715342, -0.01686618, -0.00336652,\n",
       "       -0.01880431,  0.02428989,  0.00693466, -0.02077683,  0.00020629,\n",
       "       -0.02230326,  0.14798567, -0.00495201, -0.04398865,  0.0025397 ])"
      ]
     },
     "execution_count": 45,
     "metadata": {},
     "output_type": "execute_result"
    }
   ],
   "source": [
    "two_features_random_results[:20] - two_features_exact_result\n"
   ]
  },
  {
   "cell_type": "code",
   "execution_count": 46,
   "id": "a660ba16-8721-41ba-a25d-25e338665d66",
   "metadata": {},
   "outputs": [
    {
     "data": {
      "text/plain": [
       "0.037064688434788745"
      ]
     },
     "execution_count": 46,
     "metadata": {},
     "output_type": "execute_result"
    }
   ],
   "source": [
    "rmse(two_features_random_results[:20], two_features_exact_result)\n"
   ]
  },
  {
   "cell_type": "code",
   "execution_count": 47,
   "id": "96f668c6-bd45-4268-ab4a-8ca838f340fa",
   "metadata": {},
   "outputs": [
    {
     "data": {
      "text/plain": [
       "array([-0.00163512, -0.00734501, -0.01827149,  0.00132058, -0.00011846,\n",
       "       -0.00976692, -0.02241525,  0.01472992, -0.00799429, -0.00094214,\n",
       "       -0.00321946,  0.01223911, -0.00181794, -0.04108328,  0.00082562,\n",
       "       -0.00674834,  0.09297517, -0.00094195, -0.04430147,  0.0034108 ])"
      ]
     },
     "execution_count": 47,
     "metadata": {},
     "output_type": "execute_result"
    }
   ],
   "source": [
    "two_features_1000_iter_random_results - two_features_exact_result\n"
   ]
  },
  {
   "cell_type": "code",
   "execution_count": 48,
   "id": "a236be75-6475-4d25-b747-f6546abae00f",
   "metadata": {},
   "outputs": [
    {
     "data": {
      "text/plain": [
       "0.026257263549314697"
      ]
     },
     "execution_count": 48,
     "metadata": {},
     "output_type": "execute_result"
    }
   ],
   "source": [
    "rmse(two_features_1000_iter_random_results, two_features_exact_result)\n"
   ]
  },
  {
   "cell_type": "code",
   "execution_count": 50,
   "id": "3cf5c58e-1f6d-4dcf-b25d-fcc000ace422",
   "metadata": {},
   "outputs": [
    {
     "data": {
      "text/plain": [
       "array([ 0.00034398, -0.00491833, -0.01518421, -0.00166847, -0.0023242 ,\n",
       "        0.00372941, -0.01392358,  0.01032379, -0.00676065, -0.00210408,\n",
       "       -0.00164492,  0.01076239,  0.00047682, -0.03664943,  0.00120942,\n",
       "       -0.00689738,  0.08465878, -0.00134585, -0.04099936,  0.00265963])"
      ]
     },
     "execution_count": 50,
     "metadata": {},
     "output_type": "execute_result"
    }
   ],
   "source": [
    "two_features_10000_iter_random_results - two_features_exact_result\n"
   ]
  },
  {
   "cell_type": "code",
   "execution_count": 51,
   "id": "a574e8ee-7262-4ee8-a3bc-f60bdfe43bd7",
   "metadata": {},
   "outputs": [
    {
     "data": {
      "text/plain": [
       "0.023447243126263256"
      ]
     },
     "execution_count": 51,
     "metadata": {},
     "output_type": "execute_result"
    }
   ],
   "source": [
    "rmse(two_features_10000_iter_random_results, two_features_exact_result)\n"
   ]
  },
  {
   "cell_type": "code",
   "execution_count": 63,
   "id": "69604211-2c51-4e69-ac50-ed3311f8c12a",
   "metadata": {},
   "outputs": [
    {
     "data": {
      "text/plain": [
       "0.08297140178636664"
      ]
     },
     "execution_count": 63,
     "metadata": {},
     "output_type": "execute_result"
    }
   ],
   "source": [
    "np.mean(two_features_exact_result)\n"
   ]
  },
  {
   "cell_type": "code",
   "execution_count": 64,
   "id": "d78de620-e70e-4c29-96fc-7d8fad8bc741",
   "metadata": {},
   "outputs": [
    {
     "data": {
      "text/plain": [
       "0.08091640657841057"
      ]
     },
     "execution_count": 64,
     "metadata": {},
     "output_type": "execute_result"
    }
   ],
   "source": [
    "np.mean(two_features_1000_iter_random_results)\n"
   ]
  },
  {
   "cell_type": "markdown",
   "id": "76f6e85d-44cd-4bbe-a9e5-897eb99212b0",
   "metadata": {},
   "source": [
    "## Prediction gap for nine features"
   ]
  },
  {
   "cell_type": "code",
   "execution_count": 32,
   "id": "48bda8e4-dc96-467d-9f9f-64e88e1d0de7",
   "metadata": {},
   "outputs": [
    {
     "name": "stdout",
     "output_type": "stream",
     "text": [
      "There are 320 datapoints in the dataset.\n",
      "The following 9 features are subject to perturbation:\n",
      "{'sulphates', 'volatile_acidity', 'residual_sugar', 'total_sulfur_dioxide', 'free_sulfur_dioxide', 'fixed_acidity', 'chlorides', 'citric_acid', 'alcohol'}\n",
      "Starting prediction gap calculation by random sampling with 100 iterations.\n",
      "CPU times: user 1min 40s, sys: 0 ns, total: 1min 40s\n",
      "Wall time: 1min 40s\n"
     ]
    }
   ],
   "source": [
    "%%time\n",
    "nine_features_random_results = prediction_gap_by_random_sampling(\n",
    "    wine_trees, wine_data, all_but_two_worst_features, stddev=stddev, squared=True)\n"
   ]
  },
  {
   "cell_type": "code",
   "execution_count": 33,
   "id": "6007727c-42c2-4120-8ba0-192595f391d9",
   "metadata": {},
   "outputs": [
    {
     "data": {
      "text/plain": [
       "array([0.15036154, 0.44905508, 0.13573757, 0.08494576, 0.12084828,\n",
       "       0.25611358, 0.27412859, 0.20229642, 0.06082268, 0.05030419,\n",
       "       0.0648766 , 0.13731049, 0.03389095, 0.18261715, 0.15353472,\n",
       "       0.10820149, 0.3368857 , 0.04687097, 0.23106925, 0.16621358])"
      ]
     },
     "execution_count": 33,
     "metadata": {},
     "output_type": "execute_result"
    }
   ],
   "source": [
    "nine_features_random_results[:20]\n"
   ]
  },
  {
   "cell_type": "code",
   "execution_count": 59,
   "id": "3000a377-b76b-4f37-83b6-52254f4b7f15",
   "metadata": {},
   "outputs": [
    {
     "name": "stdout",
     "output_type": "stream",
     "text": [
      "There are 20 datapoints in the dataset.\n",
      "The following 9 features are subject to perturbation:\n",
      "{'sulphates', 'volatile_acidity', 'residual_sugar', 'total_sulfur_dioxide', 'free_sulfur_dioxide', 'fixed_acidity', 'chlorides', 'citric_acid', 'alcohol'}\n",
      "Starting prediction gap calculation by random sampling with 1000 iterations.\n",
      "CPU times: user 1min 4s, sys: 3.91 ms, total: 1min 4s\n",
      "Wall time: 1min 4s\n"
     ]
    }
   ],
   "source": [
    "%%time\n",
    "nine_features_1000_iter_random_results = prediction_gap_by_random_sampling(\n",
    "    wine_trees, wine_data[:20], all_but_two_worst_features, stddev=stddev, squared=True, num_iter=1000)\n"
   ]
  },
  {
   "cell_type": "code",
   "execution_count": 57,
   "id": "75853bce-2fee-47f9-94cd-338060906ecf",
   "metadata": {},
   "outputs": [
    {
     "data": {
      "text/plain": [
       "array([0.11568296, 0.56259323, 0.14693399, 0.09526475, 0.14994631,\n",
       "       0.27311876, 0.27180347, 0.1352542 , 0.04189183, 0.05286717,\n",
       "       0.06751138, 0.15101628, 0.04591465, 0.16260566, 0.13961213,\n",
       "       0.14080035, 0.36132008, 0.05099046, 0.23309117, 0.13668409])"
      ]
     },
     "execution_count": 57,
     "metadata": {},
     "output_type": "execute_result"
    }
   ],
   "source": [
    "nine_features_1000_iter_random_results\n"
   ]
  },
  {
   "cell_type": "code",
   "execution_count": 65,
   "id": "9b48bb05-441e-4970-b279-f8100fa1fc3a",
   "metadata": {},
   "outputs": [
    {
     "name": "stdout",
     "output_type": "stream",
     "text": [
      "There are 20 datapoints in the dataset.\n",
      "The following 3 features are subject to perturbation:\n",
      "{'density', 'volatile_acidity', 'residual_sugar'}\n",
      "Starting exact prediction gap calculation.\n",
      "Datapoint 0 returned predgap value of 0.020679652235615097.\n",
      "Datapoint 1 returned predgap value of 0.23023593568498377.\n",
      "Datapoint 2 returned predgap value of 0.0557163047130985.\n",
      "Datapoint 3 returned predgap value of 0.007825791323194081.\n",
      "Datapoint 4 returned predgap value of 0.06161576436809076.\n",
      "Datapoint 5 returned predgap value of 0.0758475194947762.\n",
      "Datapoint 6 returned predgap value of 0.08665606672422425.\n",
      "Datapoint 7 returned predgap value of 0.13226454452156822.\n",
      "Datapoint 8 returned predgap value of 0.0176276183626842.\n",
      "Datapoint 9 returned predgap value of 0.05086083380108456.\n",
      "Datapoint 10 returned predgap value of 0.016721019191387423.\n",
      "Datapoint 11 returned predgap value of 0.08148233476811524.\n",
      "Datapoint 12 returned predgap value of 0.006987805505212817.\n",
      "Datapoint 13 returned predgap value of 0.05272025637528548.\n",
      "Datapoint 14 returned predgap value of 0.13178690711542745.\n",
      "Datapoint 15 returned predgap value of 0.029260265686620227.\n",
      "Datapoint 16 returned predgap value of 0.0055705450226116926.\n",
      "Datapoint 17 returned predgap value of 0.017556774315611177.\n",
      "Datapoint 18 returned predgap value of 0.02242934172719982.\n",
      "Datapoint 19 returned predgap value of 0.05181627942218843.\n",
      "CPU times: user 19min 2s, sys: 37.1 s, total: 19min 40s\n",
      "Wall time: 18min 56s\n"
     ]
    }
   ],
   "source": [
    "%%time\n",
    "more_features_exact_result = prediction_gap_by_exact_calc(\n",
    "    predgap, wine_trees, wine_data[:20], {'volatile_acidity', 'residual_sugar', 'density'}, squared=True)\n"
   ]
  },
  {
   "cell_type": "code",
   "execution_count": 56,
   "id": "98290fbb-f605-4d75-ad93-dbb37b223590",
   "metadata": {},
   "outputs": [
    {
     "ename": "NameError",
     "evalue": "name 'nine_features_exact_result' is not defined",
     "output_type": "error",
     "traceback": [
      "\u001b[0;31m---------------------------------------------------------------------------\u001b[0m",
      "\u001b[0;31mNameError\u001b[0m                                 Traceback (most recent call last)",
      "Cell \u001b[0;32mIn[56], line 1\u001b[0m\n\u001b[0;32m----> 1\u001b[0m nine_features_random_results[:\u001b[38;5;241m20\u001b[39m] \u001b[38;5;241m-\u001b[39m \u001b[43mnine_features_exact_result\u001b[49m\n",
      "\u001b[0;31mNameError\u001b[0m: name 'nine_features_exact_result' is not defined"
     ]
    }
   ],
   "source": [
    "nine_features_random_results[:20] - nine_features_exact_result\n"
   ]
  },
  {
   "cell_type": "code",
   "execution_count": null,
   "id": "5a5f3a14-0a0c-4968-bcd6-f62e9808fc39",
   "metadata": {},
   "outputs": [],
   "source": [
    "rmse(nine_features_random_results[:20], nine_features_exact_result)\n"
   ]
  },
  {
   "cell_type": "code",
   "execution_count": null,
   "id": "1acabc87-db1d-4076-8302-09b09bff4043",
   "metadata": {},
   "outputs": [],
   "source": [
    "nine_features_1000_iter_random_results - nine_features_exact_result\n"
   ]
  },
  {
   "cell_type": "code",
   "execution_count": null,
   "id": "8edbbf5b-63d9-4644-a849-0fa3fdd5cb2b",
   "metadata": {},
   "outputs": [],
   "source": []
  }
 ],
 "metadata": {
  "kernelspec": {
   "display_name": "Python [conda env:.conda-mrapicki_predgaps]",
   "language": "python",
   "name": "conda-env-.conda-mrapicki_predgaps-py"
  },
  "language_info": {
   "codemirror_mode": {
    "name": "ipython",
    "version": 3
   },
   "file_extension": ".py",
   "mimetype": "text/x-python",
   "name": "python",
   "nbconvert_exporter": "python",
   "pygments_lexer": "ipython3",
   "version": "3.11.3"
  }
 },
 "nbformat": 4,
 "nbformat_minor": 5
}
