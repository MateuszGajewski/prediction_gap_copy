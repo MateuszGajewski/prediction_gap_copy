{
 "cells": [
  {
   "cell_type": "code",
   "execution_count": 1,
   "id": "3a4b7823",
   "metadata": {},
   "outputs": [],
   "source": [
    "import os\n",
    "import pandas as pd"
   ]
  },
  {
   "cell_type": "code",
   "execution_count": 2,
   "id": "68433b57",
   "metadata": {},
   "outputs": [],
   "source": [
    "while \"notebooks\" in os.getcwd():\n",
    "    os.chdir(\"../\")"
   ]
  },
  {
   "cell_type": "code",
   "execution_count": 3,
   "id": "c8e665e2",
   "metadata": {},
   "outputs": [],
   "source": [
    "os.chdir(\"src\")"
   ]
  },
  {
   "cell_type": "code",
   "execution_count": 4,
   "id": "dcabcf4f",
   "metadata": {},
   "outputs": [],
   "source": [
    "from decision_tree.tree import parse_xgboost_dump, TreeEnsemble"
   ]
  },
  {
   "cell_type": "code",
   "execution_count": 5,
   "id": "0b60dbe3",
   "metadata": {},
   "outputs": [],
   "source": [
    "trees = parse_xgboost_dump(\"../models/heloc-scaled-gbdt_dumped.txt\")"
   ]
  },
  {
   "cell_type": "code",
   "execution_count": 6,
   "id": "71338f7e",
   "metadata": {},
   "outputs": [],
   "source": [
    "some_trees = TreeEnsemble(trees.trees[0:50])"
   ]
  },
  {
   "cell_type": "code",
   "execution_count": 7,
   "id": "0d5afd8d",
   "metadata": {},
   "outputs": [],
   "source": [
    "df = pd.read_csv(\"../data/heloc-scaled-test.csv\")"
   ]
  },
  {
   "cell_type": "code",
   "execution_count": 8,
   "id": "e2db991e",
   "metadata": {},
   "outputs": [
    {
     "data": {
      "text/html": [
       "<div>\n",
       "<style scoped>\n",
       "    .dataframe tbody tr th:only-of-type {\n",
       "        vertical-align: middle;\n",
       "    }\n",
       "\n",
       "    .dataframe tbody tr th {\n",
       "        vertical-align: top;\n",
       "    }\n",
       "\n",
       "    .dataframe thead th {\n",
       "        text-align: right;\n",
       "    }\n",
       "</style>\n",
       "<table border=\"1\" class=\"dataframe\">\n",
       "  <thead>\n",
       "    <tr style=\"text-align: right;\">\n",
       "      <th></th>\n",
       "      <th>ExternalRiskEstimate</th>\n",
       "      <th>MSinceOldestTradeOpen</th>\n",
       "      <th>MSinceMostRecentTradeOpen</th>\n",
       "      <th>AverageMInFile</th>\n",
       "      <th>NumSatisfactoryTrades</th>\n",
       "      <th>NumTrades60Ever2DerogPubRec</th>\n",
       "      <th>NumTrades90Ever2DerogPubRec</th>\n",
       "      <th>PercentTradesNeverDelq</th>\n",
       "      <th>MSinceMostRecentDelq</th>\n",
       "      <th>MaxDelq2PublicRecLast12M</th>\n",
       "      <th>...</th>\n",
       "      <th>MSinceMostRecentInqexcl7days</th>\n",
       "      <th>NumInqLast6M</th>\n",
       "      <th>NumInqLast6Mexcl7days</th>\n",
       "      <th>NetFractionRevolvingBurden</th>\n",
       "      <th>NetFractionInstallBurden</th>\n",
       "      <th>NumRevolvingTradesWBalance</th>\n",
       "      <th>NumInstallTradesWBalance</th>\n",
       "      <th>NumBank2NatlTradesWHighUtilization</th>\n",
       "      <th>PercentTradesWBalance</th>\n",
       "      <th>RiskPerformance</th>\n",
       "    </tr>\n",
       "  </thead>\n",
       "  <tbody>\n",
       "    <tr>\n",
       "      <th>0</th>\n",
       "      <td>-0.214900</td>\n",
       "      <td>1.699313</td>\n",
       "      <td>-0.056723</td>\n",
       "      <td>2.459516</td>\n",
       "      <td>-0.363267</td>\n",
       "      <td>1.201020</td>\n",
       "      <td>1.712719</td>\n",
       "      <td>-1.564641</td>\n",
       "      <td>-1.466360</td>\n",
       "      <td>-3.498869</td>\n",
       "      <td>...</td>\n",
       "      <td>-0.488720</td>\n",
       "      <td>-0.211494</td>\n",
       "      <td>-0.187532</td>\n",
       "      <td>-1.005586</td>\n",
       "      <td>0.090931</td>\n",
       "      <td>-0.702250</td>\n",
       "      <td>-0.955119</td>\n",
       "      <td>-0.062510</td>\n",
       "      <td>-1.379531</td>\n",
       "      <td>0.0</td>\n",
       "    </tr>\n",
       "    <tr>\n",
       "      <th>1</th>\n",
       "      <td>1.716386</td>\n",
       "      <td>-0.361454</td>\n",
       "      <td>-0.280331</td>\n",
       "      <td>0.499039</td>\n",
       "      <td>-0.185539</td>\n",
       "      <td>-0.476838</td>\n",
       "      <td>-0.394914</td>\n",
       "      <td>0.646149</td>\n",
       "      <td>0.946849</td>\n",
       "      <td>0.755470</td>\n",
       "      <td>...</td>\n",
       "      <td>0.256357</td>\n",
       "      <td>-0.668264</td>\n",
       "      <td>-0.652592</td>\n",
       "      <td>-0.866162</td>\n",
       "      <td>-0.122189</td>\n",
       "      <td>-0.029287</td>\n",
       "      <td>-0.307994</td>\n",
       "      <td>-0.062510</td>\n",
       "      <td>0.391373</td>\n",
       "      <td>0.0</td>\n",
       "    </tr>\n",
       "    <tr>\n",
       "      <th>2</th>\n",
       "      <td>0.903213</td>\n",
       "      <td>0.638018</td>\n",
       "      <td>-0.578475</td>\n",
       "      <td>-0.027656</td>\n",
       "      <td>2.036062</td>\n",
       "      <td>-0.476838</td>\n",
       "      <td>-0.394914</td>\n",
       "      <td>0.646149</td>\n",
       "      <td>0.946849</td>\n",
       "      <td>0.755470</td>\n",
       "      <td>...</td>\n",
       "      <td>1.852951</td>\n",
       "      <td>1.615589</td>\n",
       "      <td>1.672709</td>\n",
       "      <td>-1.075297</td>\n",
       "      <td>1.598802</td>\n",
       "      <td>-0.365768</td>\n",
       "      <td>-0.307994</td>\n",
       "      <td>-0.740481</td>\n",
       "      <td>-1.879017</td>\n",
       "      <td>1.0</td>\n",
       "    </tr>\n",
       "    <tr>\n",
       "      <th>3</th>\n",
       "      <td>-0.011607</td>\n",
       "      <td>-0.309935</td>\n",
       "      <td>-0.503939</td>\n",
       "      <td>-1.139568</td>\n",
       "      <td>-0.896451</td>\n",
       "      <td>-0.476838</td>\n",
       "      <td>-0.394914</td>\n",
       "      <td>0.646149</td>\n",
       "      <td>0.946849</td>\n",
       "      <td>0.755470</td>\n",
       "      <td>...</td>\n",
       "      <td>-0.701599</td>\n",
       "      <td>0.245277</td>\n",
       "      <td>0.277528</td>\n",
       "      <td>0.946344</td>\n",
       "      <td>1.446950</td>\n",
       "      <td>0.307195</td>\n",
       "      <td>-0.307994</td>\n",
       "      <td>0.615461</td>\n",
       "      <td>0.981674</td>\n",
       "      <td>0.0</td>\n",
       "    </tr>\n",
       "    <tr>\n",
       "      <th>4</th>\n",
       "      <td>0.394979</td>\n",
       "      <td>0.586499</td>\n",
       "      <td>-0.503939</td>\n",
       "      <td>0.323474</td>\n",
       "      <td>1.680606</td>\n",
       "      <td>1.201020</td>\n",
       "      <td>0.658902</td>\n",
       "      <td>-0.119124</td>\n",
       "      <td>0.681985</td>\n",
       "      <td>0.147707</td>\n",
       "      <td>...</td>\n",
       "      <td>-0.062962</td>\n",
       "      <td>-0.668264</td>\n",
       "      <td>-0.652592</td>\n",
       "      <td>-0.238756</td>\n",
       "      <td>-0.096058</td>\n",
       "      <td>1.316640</td>\n",
       "      <td>-0.307994</td>\n",
       "      <td>-0.062510</td>\n",
       "      <td>-0.743822</td>\n",
       "      <td>1.0</td>\n",
       "    </tr>\n",
       "    <tr>\n",
       "      <th>...</th>\n",
       "      <td>...</td>\n",
       "      <td>...</td>\n",
       "      <td>...</td>\n",
       "      <td>...</td>\n",
       "      <td>...</td>\n",
       "      <td>...</td>\n",
       "      <td>...</td>\n",
       "      <td>...</td>\n",
       "      <td>...</td>\n",
       "      <td>...</td>\n",
       "      <td>...</td>\n",
       "      <td>...</td>\n",
       "      <td>...</td>\n",
       "      <td>...</td>\n",
       "      <td>...</td>\n",
       "      <td>...</td>\n",
       "      <td>...</td>\n",
       "      <td>...</td>\n",
       "      <td>...</td>\n",
       "      <td>...</td>\n",
       "      <td>...</td>\n",
       "    </tr>\n",
       "    <tr>\n",
       "      <th>1970</th>\n",
       "      <td>-0.926427</td>\n",
       "      <td>-1.731864</td>\n",
       "      <td>-0.429403</td>\n",
       "      <td>-1.871090</td>\n",
       "      <td>-0.896451</td>\n",
       "      <td>-0.476838</td>\n",
       "      <td>-0.394914</td>\n",
       "      <td>-0.884398</td>\n",
       "      <td>-1.495790</td>\n",
       "      <td>-1.067818</td>\n",
       "      <td>...</td>\n",
       "      <td>-0.169401</td>\n",
       "      <td>-0.668264</td>\n",
       "      <td>-0.652592</td>\n",
       "      <td>-0.761594</td>\n",
       "      <td>0.090931</td>\n",
       "      <td>-0.029287</td>\n",
       "      <td>-0.955119</td>\n",
       "      <td>-0.740481</td>\n",
       "      <td>-0.743822</td>\n",
       "      <td>0.0</td>\n",
       "    </tr>\n",
       "    <tr>\n",
       "      <th>1971</th>\n",
       "      <td>-0.621487</td>\n",
       "      <td>-0.608746</td>\n",
       "      <td>-0.056723</td>\n",
       "      <td>-0.964003</td>\n",
       "      <td>-1.429635</td>\n",
       "      <td>0.362091</td>\n",
       "      <td>0.658902</td>\n",
       "      <td>-0.799368</td>\n",
       "      <td>-0.377473</td>\n",
       "      <td>0.147707</td>\n",
       "      <td>...</td>\n",
       "      <td>-0.275841</td>\n",
       "      <td>0.702048</td>\n",
       "      <td>0.742588</td>\n",
       "      <td>0.493218</td>\n",
       "      <td>0.090931</td>\n",
       "      <td>-0.365768</td>\n",
       "      <td>0.056953</td>\n",
       "      <td>-0.062510</td>\n",
       "      <td>1.526568</td>\n",
       "      <td>0.0</td>\n",
       "    </tr>\n",
       "    <tr>\n",
       "      <th>1972</th>\n",
       "      <td>0.191686</td>\n",
       "      <td>-0.598442</td>\n",
       "      <td>-0.429403</td>\n",
       "      <td>-0.612873</td>\n",
       "      <td>-0.096675</td>\n",
       "      <td>-0.476838</td>\n",
       "      <td>-0.394914</td>\n",
       "      <td>0.646149</td>\n",
       "      <td>0.946849</td>\n",
       "      <td>0.755470</td>\n",
       "      <td>...</td>\n",
       "      <td>1.852951</td>\n",
       "      <td>1.158818</td>\n",
       "      <td>1.207648</td>\n",
       "      <td>-0.308468</td>\n",
       "      <td>-1.438241</td>\n",
       "      <td>0.307195</td>\n",
       "      <td>0.339132</td>\n",
       "      <td>0.615461</td>\n",
       "      <td>-0.425967</td>\n",
       "      <td>0.0</td>\n",
       "    </tr>\n",
       "    <tr>\n",
       "      <th>1973</th>\n",
       "      <td>1.309799</td>\n",
       "      <td>0.205257</td>\n",
       "      <td>-0.578475</td>\n",
       "      <td>-0.964003</td>\n",
       "      <td>3.635614</td>\n",
       "      <td>-0.476838</td>\n",
       "      <td>-0.394914</td>\n",
       "      <td>0.646149</td>\n",
       "      <td>0.946849</td>\n",
       "      <td>0.755470</td>\n",
       "      <td>...</td>\n",
       "      <td>-0.701599</td>\n",
       "      <td>0.245277</td>\n",
       "      <td>0.277528</td>\n",
       "      <td>-1.214721</td>\n",
       "      <td>-0.096058</td>\n",
       "      <td>-0.029287</td>\n",
       "      <td>0.339132</td>\n",
       "      <td>-0.740481</td>\n",
       "      <td>-2.060648</td>\n",
       "      <td>1.0</td>\n",
       "    </tr>\n",
       "    <tr>\n",
       "      <th>1974</th>\n",
       "      <td>0.699919</td>\n",
       "      <td>-0.083251</td>\n",
       "      <td>0.539564</td>\n",
       "      <td>-0.291004</td>\n",
       "      <td>-0.274403</td>\n",
       "      <td>-0.476838</td>\n",
       "      <td>-0.394914</td>\n",
       "      <td>0.646149</td>\n",
       "      <td>0.946849</td>\n",
       "      <td>0.755470</td>\n",
       "      <td>...</td>\n",
       "      <td>-0.595160</td>\n",
       "      <td>0.245277</td>\n",
       "      <td>0.277528</td>\n",
       "      <td>0.493218</td>\n",
       "      <td>-0.577746</td>\n",
       "      <td>-0.029287</td>\n",
       "      <td>0.339132</td>\n",
       "      <td>-0.740481</td>\n",
       "      <td>0.981674</td>\n",
       "      <td>1.0</td>\n",
       "    </tr>\n",
       "  </tbody>\n",
       "</table>\n",
       "<p>1975 rows × 24 columns</p>\n",
       "</div>"
      ],
      "text/plain": [
       "      ExternalRiskEstimate  MSinceOldestTradeOpen  MSinceMostRecentTradeOpen  \\\n",
       "0                -0.214900               1.699313                  -0.056723   \n",
       "1                 1.716386              -0.361454                  -0.280331   \n",
       "2                 0.903213               0.638018                  -0.578475   \n",
       "3                -0.011607              -0.309935                  -0.503939   \n",
       "4                 0.394979               0.586499                  -0.503939   \n",
       "...                    ...                    ...                        ...   \n",
       "1970             -0.926427              -1.731864                  -0.429403   \n",
       "1971             -0.621487              -0.608746                  -0.056723   \n",
       "1972              0.191686              -0.598442                  -0.429403   \n",
       "1973              1.309799               0.205257                  -0.578475   \n",
       "1974              0.699919              -0.083251                   0.539564   \n",
       "\n",
       "      AverageMInFile  NumSatisfactoryTrades  NumTrades60Ever2DerogPubRec  \\\n",
       "0           2.459516              -0.363267                     1.201020   \n",
       "1           0.499039              -0.185539                    -0.476838   \n",
       "2          -0.027656               2.036062                    -0.476838   \n",
       "3          -1.139568              -0.896451                    -0.476838   \n",
       "4           0.323474               1.680606                     1.201020   \n",
       "...              ...                    ...                          ...   \n",
       "1970       -1.871090              -0.896451                    -0.476838   \n",
       "1971       -0.964003              -1.429635                     0.362091   \n",
       "1972       -0.612873              -0.096675                    -0.476838   \n",
       "1973       -0.964003               3.635614                    -0.476838   \n",
       "1974       -0.291004              -0.274403                    -0.476838   \n",
       "\n",
       "      NumTrades90Ever2DerogPubRec  PercentTradesNeverDelq  \\\n",
       "0                        1.712719               -1.564641   \n",
       "1                       -0.394914                0.646149   \n",
       "2                       -0.394914                0.646149   \n",
       "3                       -0.394914                0.646149   \n",
       "4                        0.658902               -0.119124   \n",
       "...                           ...                     ...   \n",
       "1970                    -0.394914               -0.884398   \n",
       "1971                     0.658902               -0.799368   \n",
       "1972                    -0.394914                0.646149   \n",
       "1973                    -0.394914                0.646149   \n",
       "1974                    -0.394914                0.646149   \n",
       "\n",
       "      MSinceMostRecentDelq  MaxDelq2PublicRecLast12M  ...  \\\n",
       "0                -1.466360                 -3.498869  ...   \n",
       "1                 0.946849                  0.755470  ...   \n",
       "2                 0.946849                  0.755470  ...   \n",
       "3                 0.946849                  0.755470  ...   \n",
       "4                 0.681985                  0.147707  ...   \n",
       "...                    ...                       ...  ...   \n",
       "1970             -1.495790                 -1.067818  ...   \n",
       "1971             -0.377473                  0.147707  ...   \n",
       "1972              0.946849                  0.755470  ...   \n",
       "1973              0.946849                  0.755470  ...   \n",
       "1974              0.946849                  0.755470  ...   \n",
       "\n",
       "      MSinceMostRecentInqexcl7days  NumInqLast6M  NumInqLast6Mexcl7days  \\\n",
       "0                        -0.488720     -0.211494              -0.187532   \n",
       "1                         0.256357     -0.668264              -0.652592   \n",
       "2                         1.852951      1.615589               1.672709   \n",
       "3                        -0.701599      0.245277               0.277528   \n",
       "4                        -0.062962     -0.668264              -0.652592   \n",
       "...                            ...           ...                    ...   \n",
       "1970                     -0.169401     -0.668264              -0.652592   \n",
       "1971                     -0.275841      0.702048               0.742588   \n",
       "1972                      1.852951      1.158818               1.207648   \n",
       "1973                     -0.701599      0.245277               0.277528   \n",
       "1974                     -0.595160      0.245277               0.277528   \n",
       "\n",
       "      NetFractionRevolvingBurden  NetFractionInstallBurden  \\\n",
       "0                      -1.005586                  0.090931   \n",
       "1                      -0.866162                 -0.122189   \n",
       "2                      -1.075297                  1.598802   \n",
       "3                       0.946344                  1.446950   \n",
       "4                      -0.238756                 -0.096058   \n",
       "...                          ...                       ...   \n",
       "1970                   -0.761594                  0.090931   \n",
       "1971                    0.493218                  0.090931   \n",
       "1972                   -0.308468                 -1.438241   \n",
       "1973                   -1.214721                 -0.096058   \n",
       "1974                    0.493218                 -0.577746   \n",
       "\n",
       "      NumRevolvingTradesWBalance  NumInstallTradesWBalance  \\\n",
       "0                      -0.702250                 -0.955119   \n",
       "1                      -0.029287                 -0.307994   \n",
       "2                      -0.365768                 -0.307994   \n",
       "3                       0.307195                 -0.307994   \n",
       "4                       1.316640                 -0.307994   \n",
       "...                          ...                       ...   \n",
       "1970                   -0.029287                 -0.955119   \n",
       "1971                   -0.365768                  0.056953   \n",
       "1972                    0.307195                  0.339132   \n",
       "1973                   -0.029287                  0.339132   \n",
       "1974                   -0.029287                  0.339132   \n",
       "\n",
       "      NumBank2NatlTradesWHighUtilization  PercentTradesWBalance  \\\n",
       "0                              -0.062510              -1.379531   \n",
       "1                              -0.062510               0.391373   \n",
       "2                              -0.740481              -1.879017   \n",
       "3                               0.615461               0.981674   \n",
       "4                              -0.062510              -0.743822   \n",
       "...                                  ...                    ...   \n",
       "1970                           -0.740481              -0.743822   \n",
       "1971                           -0.062510               1.526568   \n",
       "1972                            0.615461              -0.425967   \n",
       "1973                           -0.740481              -2.060648   \n",
       "1974                           -0.740481               0.981674   \n",
       "\n",
       "      RiskPerformance  \n",
       "0                 0.0  \n",
       "1                 0.0  \n",
       "2                 1.0  \n",
       "3                 0.0  \n",
       "4                 1.0  \n",
       "...               ...  \n",
       "1970              0.0  \n",
       "1971              0.0  \n",
       "1972              0.0  \n",
       "1973              1.0  \n",
       "1974              1.0  \n",
       "\n",
       "[1975 rows x 24 columns]"
      ]
     },
     "execution_count": 8,
     "metadata": {},
     "output_type": "execute_result"
    }
   ],
   "source": [
    "df"
   ]
  },
  {
   "cell_type": "code",
   "execution_count": 9,
   "id": "fb601222",
   "metadata": {},
   "outputs": [],
   "source": [
    "x = df.iloc[0]"
   ]
  },
  {
   "cell_type": "code",
   "execution_count": 10,
   "id": "ba0120d6",
   "metadata": {},
   "outputs": [
    {
     "data": {
      "text/plain": [
       "ExternalRiskEstimate                 -0.214900\n",
       "MSinceOldestTradeOpen                 1.699313\n",
       "MSinceMostRecentTradeOpen            -0.056723\n",
       "AverageMInFile                        2.459516\n",
       "NumSatisfactoryTrades                -0.363267\n",
       "NumTrades60Ever2DerogPubRec           1.201020\n",
       "NumTrades90Ever2DerogPubRec           1.712719\n",
       "PercentTradesNeverDelq               -1.564641\n",
       "MSinceMostRecentDelq                 -1.466360\n",
       "MaxDelq2PublicRecLast12M             -3.498869\n",
       "MaxDelqEver                          -2.376086\n",
       "NumTotalTrades                       -0.280830\n",
       "NumTradesOpeninLast12M                0.082920\n",
       "PercentInstallTrades                 -1.310432\n",
       "MSinceMostRecentInqexcl7days         -0.488720\n",
       "NumInqLast6M                         -0.211494\n",
       "NumInqLast6Mexcl7days                -0.187532\n",
       "NetFractionRevolvingBurden           -1.005586\n",
       "NetFractionInstallBurden              0.090931\n",
       "NumRevolvingTradesWBalance           -0.702250\n",
       "NumInstallTradesWBalance             -0.955119\n",
       "NumBank2NatlTradesWHighUtilization   -0.062510\n",
       "PercentTradesWBalance                -1.379531\n",
       "RiskPerformance                       0.000000\n",
       "Name: 0, dtype: float64"
      ]
     },
     "execution_count": 10,
     "metadata": {},
     "output_type": "execute_result"
    }
   ],
   "source": [
    "x"
   ]
  },
  {
   "cell_type": "code",
   "execution_count": 11,
   "id": "c2611d1b",
   "metadata": {},
   "outputs": [],
   "source": [
    "y = some_trees.eval(x)"
   ]
  },
  {
   "cell_type": "code",
   "execution_count": 12,
   "id": "8891d494",
   "metadata": {},
   "outputs": [
    {
     "data": {
      "text/plain": [
       "-0.016586913932000003"
      ]
     },
     "execution_count": 12,
     "metadata": {},
     "output_type": "execute_result"
    }
   ],
   "source": [
    "y"
   ]
  },
  {
   "cell_type": "code",
   "execution_count": 13,
   "id": "a6e88377",
   "metadata": {},
   "outputs": [],
   "source": [
    "from decision_tree.prediction_gap import NormalPredictionGap"
   ]
  },
  {
   "cell_type": "code",
   "execution_count": 14,
   "id": "f14fd721",
   "metadata": {},
   "outputs": [],
   "source": [
    "pred_gap = NormalPredictionGap(10)"
   ]
  },
  {
   "cell_type": "markdown",
   "id": "e3926342",
   "metadata": {},
   "source": [
    "Powinno wyjść 0"
   ]
  },
  {
   "cell_type": "code",
   "execution_count": 15,
   "id": "d11e1871",
   "metadata": {},
   "outputs": [
    {
     "data": {
      "text/plain": [
       "-1.1689054672109345e-19"
      ]
     },
     "execution_count": 15,
     "metadata": {},
     "output_type": "execute_result"
    }
   ],
   "source": [
    "pred_gap.prediction_gap_fixed(some_trees, x, y, set([]))"
   ]
  },
  {
   "cell_type": "markdown",
   "id": "03ae1269",
   "metadata": {},
   "source": [
    "PGI dla każdego pojedynczego featura"
   ]
  },
  {
   "cell_type": "code",
   "execution_count": 16,
   "id": "d9925999",
   "metadata": {},
   "outputs": [
    {
     "name": "stdout",
     "output_type": "stream",
     "text": [
      "ExternalRiskEstimate                     0.000000001 0.000000001 0.000022742\n",
      "MSinceOldestTradeOpen                    -0.000000000 0.000000000 0.000000000\n",
      "MSinceMostRecentTradeOpen                -0.000000000 0.000000000 0.000000000\n",
      "AverageMInFile                           -0.000000000 0.000000000 0.000000000\n",
      "NumSatisfactoryTrades                    -0.000000000 0.000000000 0.000000000\n",
      "NumTrades60Ever2DerogPubRec              -0.000000000 0.000000000 0.000000000\n",
      "NumTrades90Ever2DerogPubRec              -0.000000000 0.000000000 0.000000000\n",
      "PercentTradesNeverDelq                   -0.000000000 0.000000000 0.000000000\n",
      "MSinceMostRecentDelq                     -0.000000000 0.000000000 0.000000000\n",
      "MaxDelq2PublicRecLast12M                 -0.000000000 0.000000000 0.000000000\n",
      "MaxDelqEver                              -0.000000000 0.000000000 0.000000000\n",
      "NumTotalTrades                           -0.000000000 0.000000000 0.000000000\n",
      "NumTradesOpeninLast12M                   -0.000000000 0.000000000 0.000000000\n",
      "PercentInstallTrades                     -0.000000000 0.000000000 0.000000000\n",
      "MSinceMostRecentInqexcl7days             -0.000000000 0.000000000 0.000000000\n",
      "NumInqLast6M                             -0.000000000 0.000000000 0.000000000\n",
      "NumInqLast6Mexcl7days                    -0.000000000 0.000000000 0.000000000\n",
      "NetFractionRevolvingBurden               -0.000000000 0.000000000 0.000000000\n",
      "NetFractionInstallBurden                 0.000167730 0.000167730 0.012830356\n",
      "NumRevolvingTradesWBalance               -0.000000000 0.000000000 0.000000000\n",
      "NumInstallTradesWBalance                 0.000007483 0.000007483 0.001724171\n",
      "NumBank2NatlTradesWHighUtilization       -0.000000000 0.000000000 0.000000000\n",
      "PercentTradesWBalance                    -0.000000000 0.000000000 0.000000000\n",
      "RiskPerformance                          -0.000000000 0.000000000 0.000000000\n"
     ]
    }
   ],
   "source": [
    "for column in df.columns:\n",
    "    print(\"%-40s %.09f %.09f %.09f\" % (column,\n",
    "        pred_gap.prediction_gap_fixed(some_trees, x, y, set([column])),\n",
    "        pred_gap.prediction_gap_single_squared(some_trees, x, column, y),\n",
    "        pred_gap.prediction_gap_single_abs(some_trees, x, column, y)\n",
    "    ))"
   ]
  },
  {
   "cell_type": "markdown",
   "id": "876e8899",
   "metadata": {},
   "source": [
    "Poniżej przykład przeliczony na kartce."
   ]
  },
  {
   "cell_type": "code",
   "execution_count": 17,
   "id": "36bc1e51",
   "metadata": {},
   "outputs": [],
   "source": [
    "from decision_tree.tree import Split, Leaf"
   ]
  },
  {
   "cell_type": "code",
   "execution_count": 18,
   "id": "481f2048",
   "metadata": {},
   "outputs": [],
   "source": [
    "test_tree = TreeEnsemble([Split(\"dupa\", 0, Split(\"dupa\", -0.5, Leaf(-1), Leaf(5), Leaf(0)), Leaf(1), Leaf(0))])"
   ]
  },
  {
   "cell_type": "code",
   "execution_count": 19,
   "id": "85634c9d",
   "metadata": {},
   "outputs": [],
   "source": [
    "x = {'dupa': 0.1}\n",
    "y = test_tree.eval(x)"
   ]
  },
  {
   "cell_type": "code",
   "execution_count": 20,
   "id": "220b08f3",
   "metadata": {},
   "outputs": [
    {
     "data": {
      "text/plain": [
       "2.2232364908150153"
      ]
     },
     "execution_count": 20,
     "metadata": {},
     "output_type": "execute_result"
    }
   ],
   "source": [
    "pred_gap.prediction_gap_fixed(test_tree, x, y, set([\"dupa\"]))"
   ]
  },
  {
   "cell_type": "code",
   "execution_count": 21,
   "id": "2530e053",
   "metadata": {},
   "outputs": [
    {
     "data": {
      "text/plain": [
       "2.2232364908151765"
      ]
     },
     "execution_count": 21,
     "metadata": {},
     "output_type": "execute_result"
    }
   ],
   "source": [
    "pred_gap.prediction_gap_single_squared(test_tree, x, \"dupa\", y)"
   ]
  },
  {
   "cell_type": "code",
   "execution_count": null,
   "id": "83ca9dc2",
   "metadata": {},
   "outputs": [],
   "source": []
  }
 ],
 "metadata": {
  "kernelspec": {
   "display_name": "Python 3 (ipykernel)",
   "language": "python",
   "name": "python3"
  },
  "language_info": {
   "codemirror_mode": {
    "name": "ipython",
    "version": 3
   },
   "file_extension": ".py",
   "mimetype": "text/x-python",
   "name": "python",
   "nbconvert_exporter": "python",
   "pygments_lexer": "ipython3",
   "version": "3.9.16"
  }
 },
 "nbformat": 4,
 "nbformat_minor": 5
}
