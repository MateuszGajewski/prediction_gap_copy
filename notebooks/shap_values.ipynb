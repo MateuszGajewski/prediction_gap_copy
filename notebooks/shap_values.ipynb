{
 "cells": [
  {
   "cell_type": "code",
   "execution_count": 18,
   "metadata": {},
   "outputs": [],
   "source": [
    "import xgboost as xgb\n",
    "import shap\n",
    "import pandas as pd\n",
    "from pathlib import Path\n",
    "import os\n",
    "import numpy as np\n",
    "from src.decision_tree.shap_wrapper import ShapWrapper"
   ]
  },
  {
   "cell_type": "code",
   "execution_count": 2,
   "metadata": {},
   "outputs": [],
   "source": [
    "while \"notebooks\" in os.getcwd():\n",
    "    os.chdir(\"../\")"
   ]
  },
  {
   "cell_type": "code",
   "execution_count": 3,
   "metadata": {},
   "outputs": [],
   "source": [
    "model_xgb = xgb.Booster()\n",
    "model_xgb.load_model(\"models/winequality_red_saved.json\")"
   ]
  },
  {
   "cell_type": "code",
   "execution_count": 4,
   "metadata": {},
   "outputs": [],
   "source": [
    "DATA_DIR = Path('data/wine_quality')\n",
    "file_name = 'winequality_red.csv'\n",
    "scaled_file_name = 'winequality_red_scaled.csv'\n",
    "train_file_name = 'train_winequality_red_scaled.csv'\n",
    "test_file_name = 'test_winequality_red_scaled.csv'"
   ]
  },
  {
   "cell_type": "code",
   "execution_count": 5,
   "metadata": {},
   "outputs": [
    {
     "name": "stdout",
     "output_type": "stream",
     "text": [
      "<class 'pandas.core.frame.DataFrame'>\n",
      "RangeIndex: 320 entries, 0 to 319\n",
      "Data columns (total 12 columns):\n",
      " #   Column                Non-Null Count  Dtype  \n",
      "---  ------                --------------  -----  \n",
      " 0   fixed_acidity         320 non-null    float64\n",
      " 1   volatile_acidity      320 non-null    float64\n",
      " 2   citric_acid           320 non-null    float64\n",
      " 3   residual_sugar        320 non-null    float64\n",
      " 4   chlorides             320 non-null    float64\n",
      " 5   free_sulfur_dioxide   320 non-null    float64\n",
      " 6   total_sulfur_dioxide  320 non-null    float64\n",
      " 7   density               320 non-null    float64\n",
      " 8   pH                    320 non-null    float64\n",
      " 9   sulphates             320 non-null    float64\n",
      " 10  alcohol               320 non-null    float64\n",
      " 11  quality               320 non-null    int64  \n",
      "dtypes: float64(11), int64(1)\n",
      "memory usage: 30.1 KB\n"
     ]
    }
   ],
   "source": [
    "df = pd.read_csv(DATA_DIR / test_file_name, sep=',')\n",
    "df.info()\n",
    "#df.head()"
   ]
  },
  {
   "cell_type": "code",
   "execution_count": 6,
   "metadata": {},
   "outputs": [],
   "source": [
    "\n",
    "X = df.loc[:, df.columns != 'quality']\n",
    "y = df.loc[:, df.columns == 'quality']"
   ]
  },
  {
   "cell_type": "code",
   "execution_count": 21,
   "metadata": {},
   "outputs": [],
   "source": [
    "X = X.iloc[0:1, :]"
   ]
  },
  {
   "cell_type": "code",
   "execution_count": 22,
   "metadata": {},
   "outputs": [
    {
     "name": "stderr",
     "output_type": "stream",
     "text": [
      "[11:34:35] WARNING: /workspace/src/c_api/c_api.cc:1240: Saving into deprecated binary model format, please consider using `json` or `ubj`. Model format will default to JSON in XGBoost 2.2 if not specified.\n",
      "is_sparse is deprecated and will be removed in a future version. Check `isinstance(dtype, pd.SparseDtype)` instead.\n",
      "is_categorical_dtype is deprecated and will be removed in a future version. Use isinstance(dtype, CategoricalDtype) instead\n",
      "is_categorical_dtype is deprecated and will be removed in a future version. Use isinstance(dtype, CategoricalDtype) instead\n",
      "is_categorical_dtype is deprecated and will be removed in a future version. Use isinstance(dtype, CategoricalDtype) instead\n"
     ]
    }
   ],
   "source": [
    "sh = ShapWrapper()\n",
    "rank = sh.get_shap_ranking(model_xgb, X)"
   ]
  },
  {
   "cell_type": "code",
   "execution_count": 25,
   "metadata": {},
   "outputs": [
    {
     "data": {
      "text/plain": [
       "['residual_sugar',\n",
       " 'pH',\n",
       " 'fixed_acidity',\n",
       " 'citric_acid',\n",
       " 'free_sulfur_dioxide',\n",
       " 'chlorides',\n",
       " 'density',\n",
       " 'total_sulfur_dioxide',\n",
       " 'sulphates',\n",
       " 'alcohol',\n",
       " 'volatile_acidity']"
      ]
     },
     "execution_count": 25,
     "metadata": {},
     "output_type": "execute_result"
    }
   ],
   "source": [
    "rank[0]"
   ]
  },
  {
   "cell_type": "code",
   "execution_count": null,
   "metadata": {},
   "outputs": [],
   "source": []
  }
 ],
 "metadata": {
  "kernelspec": {
   "display_name": "venv",
   "language": "python",
   "name": "python3"
  },
  "language_info": {
   "codemirror_mode": {
    "name": "ipython",
    "version": 3
   },
   "file_extension": ".py",
   "mimetype": "text/x-python",
   "name": "python",
   "nbconvert_exporter": "python",
   "pygments_lexer": "ipython3",
   "version": "3.10.12"
  }
 },
 "nbformat": 4,
 "nbformat_minor": 2
}
