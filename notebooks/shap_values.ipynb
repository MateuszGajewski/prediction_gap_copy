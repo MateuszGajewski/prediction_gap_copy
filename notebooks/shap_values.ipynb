{
 "cells": [
  {
   "cell_type": "code",
   "execution_count": 45,
   "metadata": {},
   "outputs": [],
   "source": [
    "import xgboost as xgb\n",
    "import shap\n",
    "import pandas as pd\n",
    "from pathlib import Path\n",
    "import os\n",
    "import numpy as np"
   ]
  },
  {
   "cell_type": "code",
   "execution_count": 21,
   "metadata": {},
   "outputs": [],
   "source": [
    "while \"notebooks\" in os.getcwd():\n",
    "    os.chdir(\"../\")"
   ]
  },
  {
   "cell_type": "code",
   "execution_count": 23,
   "metadata": {},
   "outputs": [],
   "source": [
    "model_xgb = xgb.Booster()\n",
    "model_xgb.load_model(\"models/winequality_red_saved.json\")"
   ]
  },
  {
   "cell_type": "code",
   "execution_count": 24,
   "metadata": {},
   "outputs": [],
   "source": [
    "DATA_DIR = Path('data/wine_quality')\n",
    "file_name = 'winequality_red.csv'\n",
    "scaled_file_name = 'winequality_red_scaled.csv'\n",
    "train_file_name = 'train_winequality_red_scaled.csv'\n",
    "test_file_name = 'test_winequality_red_scaled.csv'"
   ]
  },
  {
   "cell_type": "code",
   "execution_count": 28,
   "metadata": {},
   "outputs": [
    {
     "name": "stdout",
     "output_type": "stream",
     "text": [
      "<class 'pandas.core.frame.DataFrame'>\n",
      "RangeIndex: 320 entries, 0 to 319\n",
      "Data columns (total 12 columns):\n",
      " #   Column                Non-Null Count  Dtype  \n",
      "---  ------                --------------  -----  \n",
      " 0   fixed_acidity         320 non-null    float64\n",
      " 1   volatile_acidity      320 non-null    float64\n",
      " 2   citric_acid           320 non-null    float64\n",
      " 3   residual_sugar        320 non-null    float64\n",
      " 4   chlorides             320 non-null    float64\n",
      " 5   free_sulfur_dioxide   320 non-null    float64\n",
      " 6   total_sulfur_dioxide  320 non-null    float64\n",
      " 7   density               320 non-null    float64\n",
      " 8   pH                    320 non-null    float64\n",
      " 9   sulphates             320 non-null    float64\n",
      " 10  alcohol               320 non-null    float64\n",
      " 11  quality               320 non-null    int64  \n",
      "dtypes: float64(11), int64(1)\n",
      "memory usage: 30.1 KB\n"
     ]
    }
   ],
   "source": [
    "df = pd.read_csv(DATA_DIR / test_file_name, sep=',')\n",
    "df.info()\n",
    "#df.head()"
   ]
  },
  {
   "cell_type": "code",
   "execution_count": 29,
   "metadata": {},
   "outputs": [],
   "source": [
    "\n",
    "X = df.loc[:, df.columns != 'quality']\n",
    "y = df.loc[:, df.columns == 'quality']"
   ]
  },
  {
   "cell_type": "code",
   "execution_count": 37,
   "metadata": {},
   "outputs": [],
   "source": [
    "X = X.iloc[0:2, :]"
   ]
  },
  {
   "cell_type": "code",
   "execution_count": 59,
   "metadata": {},
   "outputs": [
    {
     "name": "stderr",
     "output_type": "stream",
     "text": [
      "[16:33:25] WARNING: /workspace/src/c_api/c_api.cc:1240: Saving into deprecated binary model format, please consider using `json` or `ubj`. Model format will default to JSON in XGBoost 2.2 if not specified.\n",
      "is_sparse is deprecated and will be removed in a future version. Check `isinstance(dtype, pd.SparseDtype)` instead.\n",
      "is_categorical_dtype is deprecated and will be removed in a future version. Use isinstance(dtype, CategoricalDtype) instead\n",
      "is_categorical_dtype is deprecated and will be removed in a future version. Use isinstance(dtype, CategoricalDtype) instead\n",
      "is_categorical_dtype is deprecated and will be removed in a future version. Use isinstance(dtype, CategoricalDtype) instead\n"
     ]
    }
   ],
   "source": [
    "explainer = shap.TreeExplainer(model_xgb)\n",
    "shap_values = explainer.shap_values(X)"
   ]
  },
  {
   "cell_type": "code",
   "execution_count": 60,
   "metadata": {},
   "outputs": [
    {
     "data": {
      "text/plain": [
       "array([[-0.01007007, -0.33913746,  0.00934775,  0.00501736,  0.02439462,\n",
       "         0.01092996, -0.04359667,  0.00330668, -0.05497914, -0.11723687,\n",
       "        -0.15097632],\n",
       "       [-0.01020539, -0.19239832,  0.01088064, -0.05229618, -0.0066524 ,\n",
       "        -0.05167738, -0.16086785,  0.00572556, -0.0536715 , -0.2724433 ,\n",
       "        -0.2497845 ]], dtype=float32)"
      ]
     },
     "execution_count": 60,
     "metadata": {},
     "output_type": "execute_result"
    }
   ],
   "source": [
    "shap_values"
   ]
  },
  {
   "cell_type": "code",
   "execution_count": 62,
   "metadata": {},
   "outputs": [
    {
     "data": {
      "text/plain": [
       "array([[ 1, 10,  9,  8,  6,  0,  7,  3,  2,  5,  4],\n",
       "       [ 9, 10,  1,  6,  8,  3,  5,  0,  4,  7,  2]])"
      ]
     },
     "execution_count": 62,
     "metadata": {},
     "output_type": "execute_result"
    }
   ],
   "source": [
    "rank"
   ]
  },
  {
   "cell_type": "code",
   "execution_count": 63,
   "metadata": {},
   "outputs": [
    {
     "data": {
      "text/plain": [
       "array(['fixed_acidity', 'volatile_acidity', 'citric_acid',\n",
       "       'residual_sugar', 'chlorides', 'free_sulfur_dioxide',\n",
       "       'total_sulfur_dioxide', 'density', 'pH', 'sulphates', 'alcohol'],\n",
       "      dtype='<U20')"
      ]
     },
     "execution_count": 63,
     "metadata": {},
     "output_type": "execute_result"
    }
   ],
   "source": [
    "features"
   ]
  },
  {
   "cell_type": "code",
   "execution_count": 61,
   "metadata": {},
   "outputs": [],
   "source": [
    "rank = np.argsort(shap_values)\n",
    "features = np.array(list(X.columns.values))\n",
    "features[rank]"
   ]
  },
  {
   "cell_type": "code",
   "execution_count": 65,
   "metadata": {},
   "outputs": [
    {
     "data": {
      "text/plain": [
       "[['volatile_acidity',\n",
       "  'alcohol',\n",
       "  'sulphates',\n",
       "  'pH',\n",
       "  'total_sulfur_dioxide',\n",
       "  'fixed_acidity',\n",
       "  'density',\n",
       "  'residual_sugar',\n",
       "  'citric_acid',\n",
       "  'free_sulfur_dioxide',\n",
       "  'chlorides'],\n",
       " ['sulphates',\n",
       "  'alcohol',\n",
       "  'volatile_acidity',\n",
       "  'total_sulfur_dioxide',\n",
       "  'pH',\n",
       "  'residual_sugar',\n",
       "  'free_sulfur_dioxide',\n",
       "  'fixed_acidity',\n",
       "  'chlorides',\n",
       "  'density',\n",
       "  'citric_acid']]"
      ]
     },
     "execution_count": 65,
     "metadata": {},
     "output_type": "execute_result"
    }
   ],
   "source": [
    "features[rank].tolist()"
   ]
  },
  {
   "cell_type": "code",
   "execution_count": 50,
   "metadata": {},
   "outputs": [
    {
     "data": {
      "text/plain": [
       "[[-0.010070073418319225,\n",
       "  -0.339137464761734,\n",
       "  0.00934775359928608,\n",
       "  0.005017360206693411,\n",
       "  0.024394623935222626,\n",
       "  0.010929963551461697,\n",
       "  -0.04359666630625725,\n",
       "  0.003306679194793105,\n",
       "  -0.05497913807630539,\n",
       "  -0.11723686754703522,\n",
       "  -0.15097631514072418],\n",
       " [-0.010205386206507683,\n",
       "  -0.1923983246088028,\n",
       "  0.01088064257055521,\n",
       "  -0.05229617655277252,\n",
       "  -0.006652395240962505,\n",
       "  -0.05167738348245621,\n",
       "  -0.1608678549528122,\n",
       "  0.005725556518882513,\n",
       "  -0.053671497851610184,\n",
       "  -0.2724432945251465,\n",
       "  -0.24978449940681458]]"
      ]
     },
     "execution_count": 50,
     "metadata": {},
     "output_type": "execute_result"
    }
   ],
   "source": [
    "shap_values.tolist()"
   ]
  },
  {
   "cell_type": "code",
   "execution_count": 68,
   "metadata": {},
   "outputs": [],
   "source": [
    "class ShapWrapper:\n",
    "   \n",
    "   def _get_ranking_by_name(index_ranking: np.array, names: list[str]) -> list:\n",
    "\n",
    "        ranking = names[rank].tolist()\n",
    "        return ranking\n",
    "\n",
    "\n",
    "   def get_shap_ranking(self, xgb_tree: xgb.Booster, X: pd.DataFrame, return_str = True) -> list:\n",
    "        explainer = shap.TreeExplainer(xgb_tree)\n",
    "        shap_values = explainer.shap_values(X)\n",
    "        ranking = np.argsort(shap_values)\n",
    "        if return_str:\n",
    "            ranking = self._get_ranking_by_name(ranking, list(X.columns.values))\n",
    "        else:\n",
    "            ranking = ranking.tolist() \n",
    "        return ranking"
   ]
  },
  {
   "cell_type": "code",
   "execution_count": 67,
   "metadata": {},
   "outputs": [
    {
     "name": "stderr",
     "output_type": "stream",
     "text": [
      "[16:40:23] WARNING: /workspace/src/c_api/c_api.cc:1240: Saving into deprecated binary model format, please consider using `json` or `ubj`. Model format will default to JSON in XGBoost 2.2 if not specified.\n",
      "is_sparse is deprecated and will be removed in a future version. Check `isinstance(dtype, pd.SparseDtype)` instead.\n",
      "is_categorical_dtype is deprecated and will be removed in a future version. Use isinstance(dtype, CategoricalDtype) instead\n",
      "is_categorical_dtype is deprecated and will be removed in a future version. Use isinstance(dtype, CategoricalDtype) instead\n",
      "is_categorical_dtype is deprecated and will be removed in a future version. Use isinstance(dtype, CategoricalDtype) instead\n"
     ]
    }
   ],
   "source": [
    "sw = ShapWrapper()\n",
    "sw.get_shap_ranking()\n",
    "get_shap_ranking(model_xgb, X)"
   ]
  },
  {
   "cell_type": "code",
   "execution_count": null,
   "metadata": {},
   "outputs": [],
   "source": []
  }
 ],
 "metadata": {
  "kernelspec": {
   "display_name": "venv",
   "language": "python",
   "name": "python3"
  },
  "language_info": {
   "codemirror_mode": {
    "name": "ipython",
    "version": 3
   },
   "file_extension": ".py",
   "mimetype": "text/x-python",
   "name": "python",
   "nbconvert_exporter": "python",
   "pygments_lexer": "ipython3",
   "version": "3.10.12"
  }
 },
 "nbformat": 4,
 "nbformat_minor": 2
}
