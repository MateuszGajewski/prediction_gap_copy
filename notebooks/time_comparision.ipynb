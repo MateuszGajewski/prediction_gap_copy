{
 "cells": [
  {
   "cell_type": "markdown",
   "metadata": {},
   "source": [
    "# Testowanie róznicy w casie obliczeń pomiędzy róznymi konfiguracjami"
   ]
  },
  {
   "cell_type": "markdown",
   "metadata": {},
   "source": [
    "### Konfiguracja"
   ]
  },
  {
   "cell_type": "code",
   "execution_count": 1,
   "metadata": {},
   "outputs": [],
   "source": [
    "import os\n",
    "while \"notebooks\" in os.getcwd():\n",
    "    os.chdir(\"../\")\n"
   ]
  },
  {
   "cell_type": "code",
   "execution_count": 2,
   "metadata": {},
   "outputs": [],
   "source": [
    "from pathlib import Path\n",
    "import pandas as pd\n",
    "import time\n",
    "\n",
    "from src.decision_tree.tree import load_trees\n",
    "from src.decision_tree.prediction_gap import prediction_gap_by_exact_calc\n",
    "from src.decision_tree.prediction_gap import NormalPredictionGap\n",
    "\n",
    "from src.decision_tree.tree_float import load_trees as load_trees_float\n",
    "from src.decision_tree.prediction_gap_float import prediction_gap_by_exact_calc as prediction_gap_by_exact_calc_float \n",
    "from src.decision_tree.prediction_gap_float import NormalPredictionGap as NormalPredictionGap_float\n",
    "\n",
    "%load_ext autoreload\n",
    "%autoreload 2\n"
   ]
  },
  {
   "cell_type": "code",
   "execution_count": 3,
   "metadata": {},
   "outputs": [],
   "source": [
    "models_path = Path(\"models\")\n",
    "data_path = Path(\"data\")\n",
    "wine_model_name = \"winequality_red\"\n",
    "wine_test_data_path = data_path / \"wine_quality/test_winequality_red_scaled.csv\"\n",
    "housing_model_name = \"housing\"\n",
    "housing_test_data_path = data_path / \"housing_data/test_housing_scaled.csv\"\n"
   ]
  },
  {
   "cell_type": "code",
   "execution_count": 4,
   "metadata": {},
   "outputs": [],
   "source": [
    "stddev = 0.3\n"
   ]
  },
  {
   "cell_type": "markdown",
   "metadata": {},
   "source": [
    "### Wczytywanie modeli"
   ]
  },
  {
   "cell_type": "code",
   "execution_count": 5,
   "metadata": {},
   "outputs": [],
   "source": [
    "import os\n",
    "while \"notebooks\" in os.getcwd():\n",
    "    os.chdir(\"../\")\n"
   ]
  },
  {
   "cell_type": "code",
   "execution_count": 6,
   "metadata": {},
   "outputs": [
    {
     "name": "stdout",
     "output_type": "stream",
     "text": [
      "The autoreload extension is already loaded. To reload it, use:\n",
      "  %reload_ext autoreload\n"
     ]
    }
   ],
   "source": [
    "from pathlib import Path\n",
    "import pandas as pd\n",
    "\n",
    "from src.decision_tree.tree import load_trees\n",
    "from src.decision_tree.prediction_gap import (\n",
    "    NormalPredictionGap,\n",
    "    prediction_gap_on_single_feature_perturbation,\n",
    "    prediction_gap_by_random_sampling,\n",
    "    prediction_gap_by_exact_calc\n",
    ")\n",
    "\n",
    "%load_ext autoreload\n",
    "%autoreload 2\n"
   ]
  },
  {
   "cell_type": "code",
   "execution_count": 7,
   "metadata": {},
   "outputs": [],
   "source": [
    "models_path = Path(\"models\")\n",
    "data_path = Path(\"data\")\n",
    "wine_model_name = \"winequality_red\"\n",
    "big_wine_model_name = \"winequality_red_big\"\n",
    "wine_test_data_path = data_path / \"wine_quality/test_winequality_red_scaled.csv\"\n",
    "housing_model_name = \"housing\"\n",
    "big_housing_model_name = \"housing_big\""
   ]
  },
  {
   "cell_type": "code",
   "execution_count": 8,
   "metadata": {},
   "outputs": [],
   "source": [
    "wine_trees = load_trees(models_path, wine_model_name)\n",
    "wine_trees_float= load_trees_float(models_path, wine_model_name)\n",
    "wine_trees_big= load_trees(models_path, big_wine_model_name)\n",
    "\n",
    "housing_trees = load_trees(models_path, housing_model_name)\n",
    "housing_trees_float= load_trees_float(models_path, housing_model_name)\n",
    "housing_trees_big= load_trees(models_path, big_housing_model_name)\n"
   ]
  },
  {
   "cell_type": "code",
   "execution_count": 9,
   "metadata": {},
   "outputs": [],
   "source": [
    "wine_data = pd.read_csv(wine_test_data_path)\n",
    "housing_data = pd.read_csv(housing_test_data_path)"
   ]
  },
  {
   "cell_type": "code",
   "execution_count": 10,
   "metadata": {},
   "outputs": [],
   "source": [
    "stddev = 0.3\n"
   ]
  },
  {
   "cell_type": "markdown",
   "metadata": {},
   "source": [
    "### Testowanie różnicy w czasie - Wine model"
   ]
  },
  {
   "cell_type": "markdown",
   "metadata": {},
   "source": [
    "#### Testowanie zmiany z np.float32 na float"
   ]
  },
  {
   "cell_type": "code",
   "execution_count": 11,
   "metadata": {},
   "outputs": [],
   "source": [
    "features = ['alcohol', 'sulphates', 'total_sulfur_dioxide', 'volatile_acidity',\n",
    "       'chlorides', 'residual_sugar', 'pH', 'citric_acid',\n",
    "       'free_sulfur_dioxide', 'fixed_acidity', 'density']"
   ]
  },
  {
   "cell_type": "code",
   "execution_count": 12,
   "metadata": {},
   "outputs": [],
   "source": [
    "prediction_gap = NormalPredictionGap(stddev)\n",
    "prediction_gap_float = NormalPredictionGap_float(stddev)"
   ]
  },
  {
   "cell_type": "code",
   "execution_count": 13,
   "metadata": {},
   "outputs": [
    {
     "name": "stdout",
     "output_type": "stream",
     "text": [
      "There are 20 datapoints in the dataset.\n",
      "The following 1 features are subject to perturbation:\n",
      "['alcohol']\n",
      "Starting exact prediction gap calculation.\n"
     ]
    },
    {
     "name": "stdout",
     "output_type": "stream",
     "text": [
      "Datapoint 0 returned predgap value of 0.009961894626400574.\n",
      "Datapoint 6 returned predgap value of 0.08256291449303822.\n",
      "Datapoint 4 returned predgap value of 0.06822433780229976.\n",
      "Datapoint 2 returned predgap value of 0.017130650184473687.\n",
      "Datapoint 1 returned predgap value of 0.006269428552839615.\n",
      "Datapoint 7 returned predgap value of 0.00466620184826839.\n",
      "Datapoint 3 returned predgap value of 0.007913960483980687.\n",
      "Datapoint 5 returned predgap value of 0.007354241393369156.\n",
      "Datapoint 8 returned predgap value of 0.004228402540532536.\n",
      "Datapoint 10 returned predgap value of 0.00883218425803068.\n",
      "Datapoint 12 returned predgap value of 0.01833661776440575.\n",
      "Datapoint 14 returned predgap value of 0.00988571589010846.\n",
      "Datapoint 9 returned predgap value of 0.007220900555114093.\n",
      "Datapoint 13 returned predgap value of 0.009962945945979199.\n",
      "Datapoint 11 returned predgap value of 0.013004404318175525.\n",
      "Datapoint 15 returned predgap value of 0.012405523953909066.\n",
      "Datapoint 16 returned predgap value of 0.03810468697002073.\n",
      "Datapoint 18 returned predgap value of 0.009907596423724059.\n",
      "Datapoint 17 returned predgap value of 0.006259746414076502.\n",
      "Datapoint 19 returned predgap value of 0.0017297033048315601.\n",
      "There are 20 datapoints in the dataset.\n",
      "The following 2 features are subject to perturbation:\n",
      "['alcohol', 'sulphates']\n",
      "Starting exact prediction gap calculation.\n",
      "Datapoint 0 returned predgap value of 0.008415291063819812.\n",
      "Datapoint 2 returned predgap value of 0.016909968102972888.\n",
      "Datapoint 4 returned predgap value of 0.07109943426812146.\n",
      "Datapoint 6 returned predgap value of 0.11378308714547958.\n",
      "Datapoint 1 returned predgap value of 0.007248171123723788.\n",
      "Datapoint 3 returned predgap value of 0.02682450316021866.\n",
      "Datapoint 5 returned predgap value of 0.01742326225870657.\n",
      "Datapoint 7 returned predgap value of 0.01611236723249768.\n",
      "Datapoint 8 returned predgap value of 0.006072873550309217.\n",
      "Datapoint 10 returned predgap value of 0.008598040461066294.\n",
      "Datapoint 12 returned predgap value of 0.018373418115437513.\n",
      "Datapoint 14 returned predgap value of 0.014445835730427582.\n",
      "Datapoint 9 returned predgap value of 0.02379829522663731.\n",
      "Datapoint 11 returned predgap value of 0.013003960516893688.\n",
      "Datapoint 13 returned predgap value of 0.024647469830372245.\n",
      "Datapoint 15 returned predgap value of 0.018100394821406462.\n",
      "Datapoint 16 returned predgap value of 0.03787484646477111.\n",
      "Datapoint 18 returned predgap value of 0.019907783579454844.\n",
      "Datapoint 17 returned predgap value of 0.009647565656898307.\n",
      "Datapoint 19 returned predgap value of 0.010437537672909988.\n",
      "There are 20 datapoints in the dataset.\n",
      "The following 3 features are subject to perturbation:\n",
      "['alcohol', 'sulphates', 'total_sulfur_dioxide']\n",
      "Starting exact prediction gap calculation.\n",
      "Datapoint 0 returned predgap value of 0.010412711240805153.\n",
      "Datapoint 6 returned predgap value of 0.10343290302514509.\n",
      "Datapoint 2 returned predgap value of 0.014717521932004264.\n",
      "Datapoint 4 returned predgap value of 0.09602888525634032.\n",
      "Datapoint 1 returned predgap value of 0.037936946386088605.\n",
      "Datapoint 7 returned predgap value of 0.016736746353258676.\n",
      "Datapoint 3 returned predgap value of 0.024909366412893166.\n",
      "Datapoint 5 returned predgap value of 0.020559214722962346.\n",
      "Datapoint 8 returned predgap value of 0.006214610802236317.\n",
      "Datapoint 10 returned predgap value of 0.009504592807553593.\n",
      "Datapoint 12 returned predgap value of 0.03068427135272949.\n",
      "Datapoint 14 returned predgap value of 0.022270905908238253.\n",
      "Datapoint 9 returned predgap value of 0.024882170777625428.\n",
      "Datapoint 11 returned predgap value of 0.030156916171193458.\n",
      "Datapoint 13 returned predgap value of 0.03674127126354451.\n",
      "Datapoint 15 returned predgap value of 0.02314247533877083.\n",
      "Datapoint 16 returned predgap value of 0.05725929499301163.\n",
      "Datapoint 18 returned predgap value of 0.01975041202408363.\n",
      "Datapoint 17 returned predgap value of 0.010493409972958079.\n",
      "Datapoint 19 returned predgap value of 0.03173256106774049.\n",
      "There are 20 datapoints in the dataset.\n",
      "The following 4 features are subject to perturbation:\n",
      "['alcohol', 'sulphates', 'total_sulfur_dioxide', 'volatile_acidity']\n",
      "Starting exact prediction gap calculation.\n",
      "Datapoint 0 returned predgap value of 0.021803073814149383.\n",
      "Datapoint 2 returned predgap value of 0.014503737061374079.\n",
      "Datapoint 6 returned predgap value of 0.0922763417211352.\n",
      "Datapoint 4 returned predgap value of 0.14894298048900187.\n",
      "Datapoint 1 returned predgap value of 0.048867129332138354.\n",
      "Datapoint 5 returned predgap value of 0.02330801058874253.\n",
      "Datapoint 3 returned predgap value of 0.02742083042181131.\n",
      "Datapoint 7 returned predgap value of 0.024424240577688005.\n",
      "Datapoint 8 returned predgap value of 0.0072380719025039114.\n",
      "Datapoint 10 returned predgap value of 0.01409157828654509.\n",
      "Datapoint 12 returned predgap value of 0.03670404160356431.\n",
      "Datapoint 14 returned predgap value of 0.028814527652624822.\n",
      "Datapoint 9 returned predgap value of 0.03412509484892758.\n",
      "Datapoint 11 returned predgap value of 0.029738532892788456.\n",
      "Datapoint 13 returned predgap value of 0.04205074437023656.\n",
      "Datapoint 15 returned predgap value of 0.02625265537306353.\n",
      "Datapoint 16 returned predgap value of 0.05455324360647831.\n",
      "Datapoint 18 returned predgap value of 0.020841354150177207.\n",
      "Datapoint 17 returned predgap value of 0.010428801864767537.\n",
      "Datapoint 19 returned predgap value of 0.06526160788261957.\n"
     ]
    }
   ],
   "source": [
    "times = []\n",
    "\n",
    "for i in range(1, 5):\n",
    "    t = time.time()\n",
    "    exact_result = prediction_gap_by_exact_calc(prediction_gap, wine_trees, wine_data[:20], features[0:i], squared=True)\n",
    "    t = time.time() - t\n",
    "    times.append(t)"
   ]
  },
  {
   "cell_type": "code",
   "execution_count": 14,
   "metadata": {},
   "outputs": [
    {
     "name": "stdout",
     "output_type": "stream",
     "text": [
      "There are 20 datapoints in the dataset.\n",
      "The following 1 features are subject to perturbation:\n",
      "['alcohol']\n",
      "Starting exact prediction gap calculation.\n"
     ]
    },
    {
     "name": "stdout",
     "output_type": "stream",
     "text": [
      "Datapoint 0 returned predgap value of 0.003195137012516015.\n",
      "Datapoint 6 returned predgap value of 0.002299968761725282.\n",
      "Datapoint 4 returned predgap value of 0.06551769579726952.\n",
      "Datapoint 2 returned predgap value of 0.017130624755765454.\n",
      "Datapoint 1 returned predgap value of 0.002402166228184087.\n",
      "Datapoint 7 returned predgap value of 0.005362242229147442.\n",
      "Datapoint 3 returned predgap value of 0.007916692989029432.\n",
      "Datapoint 5 returned predgap value of 0.007354237971035082.\n",
      "Datapoint 8 returned predgap value of 0.004289196526012002.\n",
      "Datapoint 10 returned predgap value of 0.008832176783223098.\n",
      "Datapoint 14 returned predgap value of 0.009971076418964777.\n",
      "Datapoint 12 returned predgap value of 0.019724264426875724.\n",
      "Datapoint 9 returned predgap value of 0.007220903965404675.\n",
      "Datapoint 13 returned predgap value of 0.00438117548096376.\n",
      "Datapoint 11 returned predgap value of 0.013004407459116255.\n",
      "Datapoint 15 returned predgap value of 0.021748072196588225.\n",
      "Datapoint 16 returned predgap value of 0.017122573303659492.\n",
      "Datapoint 18 returned predgap value of 0.009907595283093849.\n",
      "Datapoint 17 returned predgap value of 0.008910589851676507.\n",
      "Datapoint 19 returned predgap value of 0.0029644228721476115.\n",
      "There are 20 datapoints in the dataset.\n",
      "The following 2 features are subject to perturbation:\n",
      "['alcohol', 'sulphates']\n",
      "Starting exact prediction gap calculation.\n",
      "Datapoint 0 returned predgap value of 0.012953667530171693.\n",
      "Datapoint 2 returned predgap value of 0.016909943571704146.\n",
      "Datapoint 4 returned predgap value of 0.06834596214099237.\n",
      "Datapoint 6 returned predgap value of 0.015915809066909176.\n",
      "Datapoint 1 returned predgap value of 0.005363523411029823.\n",
      "Datapoint 5 returned predgap value of 0.017423271038394843.\n",
      "Datapoint 3 returned predgap value of 0.026824522097961857.\n",
      "Datapoint 7 returned predgap value of 0.015095123561604192.\n",
      "Datapoint 8 returned predgap value of 0.006158840951660548.\n",
      "Datapoint 10 returned predgap value of 0.008598035011657432.\n",
      "Datapoint 12 returned predgap value of 0.019681064345810517.\n",
      "Datapoint 14 returned predgap value of 0.014967377147011846.\n",
      "Datapoint 9 returned predgap value of 0.02379828294547223.\n",
      "Datapoint 13 returned predgap value of 0.03221195553873899.\n",
      "Datapoint 11 returned predgap value of 0.013003963626882865.\n",
      "Datapoint 15 returned predgap value of 0.018100389538101083.\n",
      "Datapoint 16 returned predgap value of 0.0173693961418993.\n",
      "Datapoint 18 returned predgap value of 0.019907791121959565.\n",
      "Datapoint 17 returned predgap value of 0.014503886045254714.\n",
      "Datapoint 19 returned predgap value of 0.010437526963733176.\n",
      "There are 20 datapoints in the dataset.\n",
      "The following 3 features are subject to perturbation:\n",
      "['alcohol', 'sulphates', 'total_sulfur_dioxide']\n",
      "Starting exact prediction gap calculation.\n",
      "Datapoint 0 returned predgap value of 0.01092644600606873.\n",
      "Datapoint 6 returned predgap value of 0.016001869163100563.\n",
      "Datapoint 2 returned predgap value of 0.014717508267321135.\n",
      "Datapoint 4 returned predgap value of 0.09253715996352344.\n",
      "Datapoint 1 returned predgap value of 0.03793698809720121.\n",
      "Datapoint 7 returned predgap value of 0.015689554138058108.\n",
      "Datapoint 5 returned predgap value of 0.02055922566420225.\n",
      "Datapoint 3 returned predgap value of 0.024909384822051583.\n",
      "Datapoint 8 returned predgap value of 0.006302563301463924.\n",
      "Datapoint 10 returned predgap value of 0.009504589251552172.\n",
      "Datapoint 12 returned predgap value of 0.030303025857653144.\n",
      "Datapoint 14 returned predgap value of 0.024306146155444214.\n",
      "Datapoint 9 returned predgap value of 0.024882156136234554.\n",
      "Datapoint 13 returned predgap value of 0.03739917896968531.\n",
      "Datapoint 11 returned predgap value of 0.03015689953013067.\n",
      "Datapoint 15 returned predgap value of 0.023142488487550565.\n",
      "Datapoint 16 returned predgap value of 0.022043055483715178.\n",
      "Datapoint 18 returned predgap value of 0.019750419095642797.\n",
      "Datapoint 17 returned predgap value of 0.014153921372551065.\n",
      "Datapoint 19 returned predgap value of 0.031732550205678035.\n",
      "There are 20 datapoints in the dataset.\n",
      "The following 4 features are subject to perturbation:\n",
      "['alcohol', 'sulphates', 'total_sulfur_dioxide', 'volatile_acidity']\n",
      "Starting exact prediction gap calculation.\n",
      "Datapoint 0 returned predgap value of 0.024683559607028185.\n",
      "Datapoint 6 returned predgap value of 0.01806073940899021.\n",
      "Datapoint 2 returned predgap value of 0.01450373467042841.\n",
      "Datapoint 4 returned predgap value of 0.1441886562310294.\n",
      "Datapoint 1 returned predgap value of 0.048867183319538474.\n",
      "Datapoint 5 returned predgap value of 0.023308022796968437.\n",
      "Datapoint 7 returned predgap value of 0.023912259319467128.\n",
      "Datapoint 3 returned predgap value of 0.027420847613869162.\n",
      "Datapoint 8 returned predgap value of 0.007256370915853783.\n",
      "Datapoint 12 returned predgap value of 0.0376885554507313.\n",
      "Datapoint 10 returned predgap value of 0.014091571566227494.\n",
      "Datapoint 14 returned predgap value of 0.025791681658242915.\n",
      "Datapoint 9 returned predgap value of 0.03412506622541924.\n",
      "Datapoint 13 returned predgap value of 0.04634309443439087.\n",
      "Datapoint 11 returned predgap value of 0.029738522729606077.\n",
      "Datapoint 15 returned predgap value of 0.026252669068666516.\n",
      "Datapoint 16 returned predgap value of 0.024636047287004907.\n",
      "Datapoint 18 returned predgap value of 0.020841362307754435.\n",
      "Datapoint 17 returned predgap value of 0.012800002357108113.\n",
      "Datapoint 19 returned predgap value of 0.0652616511137586.\n"
     ]
    }
   ],
   "source": [
    "times_float = []\n",
    "\n",
    "for i in range(1, 5):\n",
    "    t = time.time()\n",
    "    exact_result = prediction_gap_by_exact_calc_float(prediction_gap_float, wine_trees_float, wine_data[:20], features[0:i], squared=True)\n",
    "    t = time.time() - t\n",
    "    times_float.append(t)"
   ]
  },
  {
   "cell_type": "code",
   "execution_count": 15,
   "metadata": {},
   "outputs": [
    {
     "name": "stdout",
     "output_type": "stream",
     "text": [
      "[2.646014451980591, 6.580998182296753, 11.679245948791504, 24.988547325134277]\n",
      "[2.225283145904541, 5.819832801818848, 10.708717346191406, 23.01026177406311]\n",
      "[0.4207313060760498, 0.7611653804779053, 0.9705286026000977, 1.978285551071167]\n"
     ]
    }
   ],
   "source": [
    "print(times)\n",
    "print(times_float)\n",
    "print([i-j for i, j in zip(times, times_float)])"
   ]
  },
  {
   "cell_type": "markdown",
   "metadata": {},
   "source": [
    "#### Różnica w czasie po przejściu na mniejszy model"
   ]
  },
  {
   "cell_type": "code",
   "execution_count": null,
   "metadata": {},
   "outputs": [],
   "source": []
  },
  {
   "cell_type": "code",
   "execution_count": 16,
   "metadata": {},
   "outputs": [
    {
     "name": "stdout",
     "output_type": "stream",
     "text": [
      "There are 20 datapoints in the dataset.\n",
      "The following 1 features are subject to perturbation:\n",
      "['alcohol']\n",
      "Starting exact prediction gap calculation.\n"
     ]
    },
    {
     "name": "stdout",
     "output_type": "stream",
     "text": [
      "Datapoint 0 returned predgap value of 0.0043070606183592845.\n",
      "Datapoint 6 returned predgap value of 0.0017482469810372924.\n",
      "Datapoint 2 returned predgap value of 0.04361715193581863.\n",
      "Datapoint 4 returned predgap value of 0.03991054766229579.\n",
      "Datapoint 1 returned predgap value of 0.0006586617573354249.\n",
      "Datapoint 7 returned predgap value of 0.013657041870025114.\n",
      "Datapoint 3 returned predgap value of 0.004440416971521214.\n",
      "Datapoint 5 returned predgap value of 0.023687695847587495.\n",
      "Datapoint 8 returned predgap value of 0.00820151680979141.\n",
      "Datapoint 10 returned predgap value of 0.012061886759428745.\n",
      "Datapoint 12 returned predgap value of 0.017374837956452033.\n",
      "Datapoint 14 returned predgap value of 0.018082851192373052.\n",
      "Datapoint 9 returned predgap value of 0.009954352718086467.\n",
      "Datapoint 13 returned predgap value of 0.008369137248947882.\n",
      "Datapoint 11 returned predgap value of 0.024041116284922684.\n",
      "Datapoint 15 returned predgap value of 0.011052685381863376.\n",
      "Datapoint 16 returned predgap value of 0.004267091018897943.\n",
      "Datapoint 18 returned predgap value of 0.007371473039379938.\n",
      "Datapoint 19 returned predgap value of 0.0004938792155006187.\n",
      "Datapoint 17 returned predgap value of 0.0017396300018623456.\n",
      "There are 20 datapoints in the dataset.\n",
      "The following 2 features are subject to perturbation:\n",
      "['alcohol', 'sulphates']\n",
      "Starting exact prediction gap calculation.\n",
      "Datapoint 0 returned predgap value of 0.008345551482100637.\n",
      "Datapoint 6 returned predgap value of 0.019083744990378407.\n",
      "Datapoint 4 returned predgap value of 0.04884435578321421.\n",
      "Datapoint 2 returned predgap value of 0.04575664696103711.\n",
      "Datapoint 1 returned predgap value of 0.005006168969383184.\n",
      "Datapoint 7 returned predgap value of 0.030650054092844155.\n",
      "Datapoint 5 returned predgap value of 0.0519861233642844.\n",
      "Datapoint 3 returned predgap value of 0.037025008465832385.\n",
      "Datapoint 8 returned predgap value of 0.010659003976088642.\n",
      "Datapoint 12 returned predgap value of 0.015554640926516497.\n",
      "Datapoint 10 returned predgap value of 0.012396058143996287.\n",
      "Datapoint 14 returned predgap value of 0.023869078223095634.\n",
      "Datapoint 9 returned predgap value of 0.018923765938532594.\n",
      "Datapoint 13 returned predgap value of 0.024153308568620017.\n",
      "Datapoint 11 returned predgap value of 0.024050853300162302.\n",
      "Datapoint 15 returned predgap value of 0.01993441773581176.\n",
      "Datapoint 16 returned predgap value of 0.004887219564734504.\n",
      "Datapoint 18 returned predgap value of 0.022566827358878827.\n",
      "Datapoint 17 returned predgap value of 0.0018213093758090658.\n",
      "Datapoint 19 returned predgap value of 0.011342919049641777.\n",
      "There are 20 datapoints in the dataset.\n",
      "The following 3 features are subject to perturbation:\n",
      "['alcohol', 'sulphates', 'total_sulfur_dioxide']\n",
      "Starting exact prediction gap calculation.\n",
      "Datapoint 0 returned predgap value of 0.007145515683922835.\n",
      "Datapoint 6 returned predgap value of 0.019369315868750115.\n",
      "Datapoint 2 returned predgap value of 0.04492346485068639.\n",
      "Datapoint 4 returned predgap value of 0.06607106338022745.\n",
      "Datapoint 1 returned predgap value of 0.01051111745525513.\n",
      "Datapoint 7 returned predgap value of 0.032422009357615515.\n",
      "Datapoint 3 returned predgap value of 0.031379662898812465.\n",
      "Datapoint 5 returned predgap value of 0.051862083449319.\n",
      "Datapoint 8 returned predgap value of 0.010780001433651647.\n",
      "Datapoint 10 returned predgap value of 0.014126869952281755.\n",
      "Datapoint 12 returned predgap value of 0.02619576814252255.\n",
      "Datapoint 14 returned predgap value of 0.025443746076859033.\n",
      "Datapoint 9 returned predgap value of 0.018631557352437846.\n",
      "Datapoint 11 returned predgap value of 0.02336749323772534.\n",
      "Datapoint 13 returned predgap value of 0.024695998381733184.\n",
      "Datapoint 15 returned predgap value of 0.02208921329974072.\n",
      "Datapoint 16 returned predgap value of 0.00723073595854655.\n",
      "Datapoint 18 returned predgap value of 0.023877873904492922.\n",
      "Datapoint 17 returned predgap value of 0.0026915189755820925.\n",
      "Datapoint 19 returned predgap value of 0.011968204087277768.\n",
      "There are 20 datapoints in the dataset.\n",
      "The following 4 features are subject to perturbation:\n",
      "['alcohol', 'sulphates', 'total_sulfur_dioxide', 'volatile_acidity']\n",
      "Starting exact prediction gap calculation.\n",
      "Datapoint 0 returned predgap value of 0.015210577983845647.\n",
      "Datapoint 6 returned predgap value of 0.019074800019430703.\n",
      "Datapoint 2 returned predgap value of 0.04700445686618526.\n",
      "Datapoint 4 returned predgap value of 0.10387937907760882.\n",
      "Datapoint 1 returned predgap value of 0.014981610642446769.\n",
      "Datapoint 7 returned predgap value of 0.0442523387668964.\n",
      "Datapoint 5 returned predgap value of 0.05680620613920305.\n",
      "Datapoint 3 returned predgap value of 0.033117911138968455.\n",
      "Datapoint 8 returned predgap value of 0.012143943669543661.\n",
      "Datapoint 10 returned predgap value of 0.019548332393723097.\n",
      "Datapoint 12 returned predgap value of 0.03493764656325825.\n",
      "Datapoint 14 returned predgap value of 0.035451381937696216.\n",
      "Datapoint 9 returned predgap value of 0.028051711876594995.\n",
      "Datapoint 13 returned predgap value of 0.0276114807830783.\n",
      "Datapoint 11 returned predgap value of 0.02413045794236595.\n",
      "Datapoint 15 returned predgap value of 0.02180123707713045.\n",
      "Datapoint 16 returned predgap value of 0.01164399420807251.\n",
      "Datapoint 18 returned predgap value of 0.02459928002331288.\n",
      "Datapoint 17 returned predgap value of 0.002955103652688394.\n",
      "Datapoint 19 returned predgap value of 0.028274895872849412.\n"
     ]
    }
   ],
   "source": [
    "times_big = []\n",
    "\n",
    "for i in range(1, 5):\n",
    "    t = time.time()\n",
    "    exact_result = prediction_gap_by_exact_calc(prediction_gap, wine_trees_big, wine_data[:20], features[0:i], squared=True)\n",
    "    t = time.time() - t\n",
    "    times_big.append(t)"
   ]
  },
  {
   "cell_type": "code",
   "execution_count": 17,
   "metadata": {},
   "outputs": [
    {
     "name": "stdout",
     "output_type": "stream",
     "text": [
      "[2.767120838165283, 8.001223802566528, 14.030475378036499, 30.347758054733276]\n",
      "[2.646014451980591, 6.580998182296753, 11.679245948791504, 24.988547325134277]\n",
      "[-0.12110638618469238, -1.4202256202697754, -2.351229429244995, -5.359210729598999]\n"
     ]
    }
   ],
   "source": [
    "print(times_big)\n",
    "print(times)\n",
    "print([i-j for i, j in zip(times, times_big)])"
   ]
  },
  {
   "cell_type": "code",
   "execution_count": null,
   "metadata": {},
   "outputs": [],
   "source": []
  },
  {
   "cell_type": "markdown",
   "metadata": {},
   "source": [
    "###  Testowanie różnicy w czasie - Housing model"
   ]
  },
  {
   "cell_type": "markdown",
   "metadata": {},
   "source": [
    "#### Testowanie zmiany z np.float32 na float"
   ]
  },
  {
   "cell_type": "code",
   "execution_count": 18,
   "metadata": {},
   "outputs": [],
   "source": [
    "features = ['longitude', 'latitude', 'median_income', 'population',\n",
    "       'households', 'housing_median_age', 'total_rooms',\n",
    "       'total_bedrooms']"
   ]
  },
  {
   "cell_type": "code",
   "execution_count": 19,
   "metadata": {},
   "outputs": [],
   "source": [
    "prediction_gap = NormalPredictionGap(stddev)\n",
    "prediction_gap_float = NormalPredictionGap_float(stddev)"
   ]
  },
  {
   "cell_type": "code",
   "execution_count": 20,
   "metadata": {},
   "outputs": [
    {
     "name": "stdout",
     "output_type": "stream",
     "text": [
      "There are 20 datapoints in the dataset.\n",
      "The following 1 features are subject to perturbation:\n",
      "['longitude']\n",
      "Starting exact prediction gap calculation.\n"
     ]
    },
    {
     "name": "stdout",
     "output_type": "stream",
     "text": [
      "Datapoint 6 returned predgap value of 2147874103.1646175.\n",
      "Datapoint 4 returned predgap value of 575547544.3247929.\n",
      "Datapoint 0 returned predgap value of 3728844732.5504975.\n",
      "Datapoint 2 returned predgap value of 3977975844.6321635.\n",
      "Datapoint 3 returned predgap value of 7192604601.442774.\n",
      "Datapoint 1 returned predgap value of 1036110156.0758018.\n",
      "Datapoint 7 returned predgap value of 740560713.9488819.\n",
      "Datapoint 5 returned predgap value of 192296999.24713215.\n",
      "Datapoint 8 returned predgap value of 755252390.4681877.\n",
      "Datapoint 14 returned predgap value of 344176786.7414682.\n",
      "Datapoint 12 returned predgap value of 5252336281.303322.\n",
      "Datapoint 10 returned predgap value of 6224725515.802461.\n",
      "Datapoint 9 returned predgap value of 7155512849.652548.\n",
      "Datapoint 13 returned predgap value of 317889326.5565662.\n",
      "Datapoint 15 returned predgap value of 321798491.7218494.\n",
      "Datapoint 11 returned predgap value of 6691382353.574624.\n",
      "Datapoint 16 returned predgap value of 4376192521.669079.\n",
      "Datapoint 18 returned predgap value of 437996228.8418854.\n",
      "Datapoint 17 returned predgap value of 3725603353.3660135.\n",
      "Datapoint 19 returned predgap value of 2868768730.0098248.\n",
      "There are 20 datapoints in the dataset.\n",
      "The following 2 features are subject to perturbation:\n",
      "['longitude', 'latitude']\n",
      "Starting exact prediction gap calculation.\n",
      "Datapoint 6 returned predgap value of 1977475010.4528377.\n",
      "Datapoint 2 returned predgap value of 4521318618.401824.\n",
      "Datapoint 0 returned predgap value of 6134336703.115989.\n",
      "Datapoint 4 returned predgap value of 12994878962.1477.\n",
      "Datapoint 1 returned predgap value of 1129836426.685823.\n",
      "Datapoint 3 returned predgap value of 7655961712.825782.\n",
      "Datapoint 7 returned predgap value of 4876339701.242849.\n",
      "Datapoint 5 returned predgap value of 228438752.8321538.\n",
      "Datapoint 8 returned predgap value of 2794296834.06108.\n",
      "Datapoint 10 returned predgap value of 13361119954.363857.\n",
      "Datapoint 12 returned predgap value of 12175172789.742128.\n",
      "Datapoint 14 returned predgap value of 1156924819.1755264.\n",
      "Datapoint 9 returned predgap value of 13314590278.735474.\n",
      "Datapoint 11 returned predgap value of 8305179633.762761.\n",
      "Datapoint 13 returned predgap value of 585147009.9708364.\n",
      "Datapoint 15 returned predgap value of 354716007.1312289.\n",
      "Datapoint 16 returned predgap value of 8771128036.098326.\n",
      "Datapoint 18 returned predgap value of 434605680.7033304.\n",
      "Datapoint 17 returned predgap value of 3945447015.683768.\n",
      "Datapoint 19 returned predgap value of 2128491479.7412481.\n",
      "There are 20 datapoints in the dataset.\n",
      "The following 3 features are subject to perturbation:\n",
      "['longitude', 'latitude', 'median_income']\n",
      "Starting exact prediction gap calculation.\n",
      "Datapoint 2 returned predgap value of 5158084951.334906.\n",
      "Datapoint 6 returned predgap value of 3444617777.9424596.\n",
      "Datapoint 0 returned predgap value of 6881073468.003102.\n",
      "Datapoint 4 returned predgap value of 12643056045.397427.\n",
      "Datapoint 1 returned predgap value of 1949298662.6738532.\n",
      "Datapoint 3 returned predgap value of 7809434209.370843.\n",
      "Datapoint 7 returned predgap value of 5106536492.376482.\n",
      "Datapoint 5 returned predgap value of 675027660.2780857.\n",
      "Datapoint 8 returned predgap value of 3334384085.999609.\n",
      "Datapoint 10 returned predgap value of 13660073775.821035.\n",
      "Datapoint 14 returned predgap value of 1311484413.1275244.\n",
      "Datapoint 12 returned predgap value of 11756803873.127354.\n",
      "Datapoint 9 returned predgap value of 13680430622.334326.\n",
      "Datapoint 11 returned predgap value of 8304209772.621668.\n",
      "Datapoint 13 returned predgap value of 987099185.0587727.\n",
      "Datapoint 15 returned predgap value of 870352175.6911886.\n",
      "Datapoint 16 returned predgap value of 8829952394.046934.\n",
      "Datapoint 18 returned predgap value of 555285744.666517.\n",
      "Datapoint 17 returned predgap value of 4828459353.44777.\n",
      "Datapoint 19 returned predgap value of 2685515918.3399677.\n",
      "There are 20 datapoints in the dataset.\n",
      "The following 4 features are subject to perturbation:\n",
      "['longitude', 'latitude', 'median_income', 'population']\n",
      "Starting exact prediction gap calculation.\n",
      "Datapoint 6 returned predgap value of 3594462578.447101.\n",
      "Datapoint 2 returned predgap value of 5424903093.743186.\n",
      "Datapoint 0 returned predgap value of 6613316768.994984.\n",
      "Datapoint 4 returned predgap value of 12604588756.791945.\n",
      "Datapoint 1 returned predgap value of 2351916257.6541986.\n",
      "Datapoint 3 returned predgap value of 7815895148.185086.\n",
      "Datapoint 7 returned predgap value of 5551818079.388043.\n",
      "Datapoint 5 returned predgap value of 841353615.2544667.\n",
      "Datapoint 8 returned predgap value of 3725401003.462275.\n",
      "Datapoint 10 returned predgap value of 13928651574.78062.\n",
      "Datapoint 14 returned predgap value of 1368710767.1195405.\n",
      "Datapoint 12 returned predgap value of 11858639443.368263.\n",
      "Datapoint 9 returned predgap value of 13811887275.801113.\n",
      "Datapoint 11 returned predgap value of 8206134097.063183.\n",
      "Datapoint 13 returned predgap value of 1266327695.459497.\n",
      "Datapoint 15 returned predgap value of 1251381478.7355087.\n",
      "Datapoint 16 returned predgap value of 8961674641.143198.\n",
      "Datapoint 18 returned predgap value of 844487955.5613372.\n",
      "Datapoint 17 returned predgap value of 4761636849.913359.\n",
      "Datapoint 19 returned predgap value of 2753435766.065258.\n"
     ]
    }
   ],
   "source": [
    "times = []\n",
    "\n",
    "for i in range(1, 5):\n",
    "    t = time.time()\n",
    "    exact_result = prediction_gap_by_exact_calc(prediction_gap, housing_trees, housing_data[:20], features[0:i], squared=True)\n",
    "    t = time.time() - t\n",
    "    times.append(t)"
   ]
  },
  {
   "cell_type": "code",
   "execution_count": 21,
   "metadata": {},
   "outputs": [
    {
     "name": "stdout",
     "output_type": "stream",
     "text": [
      "There are 20 datapoints in the dataset.\n",
      "The following 1 features are subject to perturbation:\n",
      "['longitude']\n",
      "Starting exact prediction gap calculation.\n"
     ]
    },
    {
     "name": "stdout",
     "output_type": "stream",
     "text": [
      "Datapoint 6 returned predgap value of 1774160982.7764633.\n",
      "Datapoint 4 returned predgap value of 575547417.2381544.\n",
      "Datapoint 0 returned predgap value of 3800503920.06152.\n",
      "Datapoint 2 returned predgap value of 3977976550.5886726.\n",
      "Datapoint 3 returned predgap value of 8863088946.693634.\n",
      "Datapoint 7 returned predgap value of 740560649.5373532.\n",
      "Datapoint 1 returned predgap value of 282375767.3423549.\n",
      "Datapoint 5 returned predgap value of 192297261.4901413.\n",
      "Datapoint 8 returned predgap value of 768146645.023417.\n",
      "Datapoint 14 returned predgap value of 344177201.6094975.\n",
      "Datapoint 10 returned predgap value of 6224725217.293062.\n",
      "Datapoint 12 returned predgap value of 5252336126.284694.\n",
      "Datapoint 9 returned predgap value of 9053798176.4945.\n",
      "Datapoint 13 returned predgap value of 317888826.0981266.\n",
      "Datapoint 15 returned predgap value of 321798866.597871.\n",
      "Datapoint 11 returned predgap value of 6691382512.862429.\n",
      "Datapoint 16 returned predgap value of 4376192036.33982.\n",
      "Datapoint 18 returned predgap value of 437996224.57251436.\n",
      "Datapoint 17 returned predgap value of 3725603100.099114.\n",
      "Datapoint 19 returned predgap value of 2868768963.4281254.\n",
      "There are 20 datapoints in the dataset.\n",
      "The following 2 features are subject to perturbation:\n",
      "['longitude', 'latitude']\n",
      "Starting exact prediction gap calculation.\n",
      "Datapoint 6 returned predgap value of 2067876927.0685754.\n",
      "Datapoint 2 returned predgap value of 4521318860.558951.\n",
      "Datapoint 0 returned predgap value of 6201351718.668355.\n",
      "Datapoint 4 returned predgap value of 12994879010.18903.\n",
      "Datapoint 1 returned predgap value of 480460791.66265076.\n",
      "Datapoint 3 returned predgap value of 9156116268.193794.\n",
      "Datapoint 7 returned predgap value of 5619995833.764579.\n",
      "Datapoint 5 returned predgap value of 228439037.87246323.\n",
      "Datapoint 8 returned predgap value of 2803491294.9740596.\n",
      "Datapoint 10 returned predgap value of 13361119634.357243.\n",
      "Datapoint 12 returned predgap value of 12175172418.488108.\n",
      "Datapoint 14 returned predgap value of 1156925458.9239118.\n",
      "Datapoint 9 returned predgap value of 14704519542.154917.\n",
      "Datapoint 11 returned predgap value of 8305179949.020665.\n",
      "Datapoint 13 returned predgap value of 585146603.7223103.\n",
      "Datapoint 15 returned predgap value of 356459892.1005723.\n",
      "Datapoint 16 returned predgap value of 8771128229.607756.\n",
      "Datapoint 18 returned predgap value of 434605678.9885655.\n",
      "Datapoint 17 returned predgap value of 3945446584.126155.\n",
      "Datapoint 19 returned predgap value of 2128491469.6148138.\n",
      "There are 20 datapoints in the dataset.\n",
      "The following 3 features are subject to perturbation:\n",
      "['longitude', 'latitude', 'median_income']\n",
      "Starting exact prediction gap calculation.\n",
      "Datapoint 0 returned predgap value of 6954342398.48493.\n",
      "Datapoint 6 returned predgap value of 3460711554.1138864.\n",
      "Datapoint 2 returned predgap value of 5158085134.769517.\n",
      "Datapoint 4 returned predgap value of 12649699862.174572.\n",
      "Datapoint 1 returned predgap value of 1081254392.17279.\n",
      "Datapoint 3 returned predgap value of 9165959314.910547.\n",
      "Datapoint 7 returned predgap value of 5867774067.326319.\n",
      "Datapoint 5 returned predgap value of 675027868.2970794.\n",
      "Datapoint 8 returned predgap value of 3343508035.5002446.\n",
      "Datapoint 10 returned predgap value of 13660073393.066061.\n",
      "Datapoint 14 returned predgap value of 1311485071.2548425.\n",
      "Datapoint 12 returned predgap value of 11756803549.674742.\n",
      "Datapoint 9 returned predgap value of 15170976108.22891.\n",
      "Datapoint 11 returned predgap value of 8304210098.29651.\n",
      "Datapoint 13 returned predgap value of 987098533.8441724.\n",
      "Datapoint 15 returned predgap value of 873898522.6471107.\n",
      "Datapoint 16 returned predgap value of 8829952472.626791.\n",
      "Datapoint 18 returned predgap value of 555285766.3607757.\n",
      "Datapoint 17 returned predgap value of 4828458905.089233.\n",
      "Datapoint 19 returned predgap value of 2685516027.806487.\n",
      "There are 20 datapoints in the dataset.\n",
      "The following 4 features are subject to perturbation:\n",
      "['longitude', 'latitude', 'median_income', 'population']\n",
      "Starting exact prediction gap calculation.\n",
      "Datapoint 6 returned predgap value of 3553412011.4699025.\n",
      "Datapoint 0 returned predgap value of 6664593943.242002.\n",
      "Datapoint 2 returned predgap value of 5424903122.860755.\n",
      "Datapoint 4 returned predgap value of 12611107831.737947.\n",
      "Datapoint 1 returned predgap value of 1434264406.1571934.\n",
      "Datapoint 3 returned predgap value of 9189339685.80503.\n",
      "Datapoint 7 returned predgap value of 6318430479.757156.\n",
      "Datapoint 5 returned predgap value of 841353874.3028854.\n",
      "Datapoint 8 returned predgap value of 3740486256.751428.\n",
      "Datapoint 10 returned predgap value of 13928651162.389551.\n",
      "Datapoint 14 returned predgap value of 1368711463.765451.\n",
      "Datapoint 12 returned predgap value of 11858639093.49206.\n",
      "Datapoint 9 returned predgap value of 15324133620.685165.\n",
      "Datapoint 11 returned predgap value of 8206134377.848722.\n",
      "Datapoint 13 returned predgap value of 1266326945.8025355.\n",
      "Datapoint 15 returned predgap value of 1255750006.6903126.\n",
      "Datapoint 16 returned predgap value of 8961674647.022505.\n",
      "Datapoint 18 returned predgap value of 844487961.6060983.\n",
      "Datapoint 17 returned predgap value of 4761636444.630464.\n",
      "Datapoint 19 returned predgap value of 2753435858.8756294.\n"
     ]
    }
   ],
   "source": [
    "times_float = []\n",
    "\n",
    "for i in range(1, 5):\n",
    "    t = time.time()\n",
    "    exact_result = prediction_gap_by_exact_calc_float(prediction_gap_float, housing_trees_float, housing_data[:20], features[0:i], squared=True)\n",
    "    t = time.time() - t\n",
    "    times_float.append(t)"
   ]
  },
  {
   "cell_type": "code",
   "execution_count": 22,
   "metadata": {},
   "outputs": [
    {
     "name": "stdout",
     "output_type": "stream",
     "text": [
      "[25.265269994735718, 147.60511565208435, 301.05758261680603, 420.3620150089264]\n",
      "[21.862010955810547, 138.5977144241333, 291.7063150405884, 377.06349658966064]\n",
      "[3.403259038925171, 9.00740122795105, 9.351267576217651, 43.29851841926575]\n"
     ]
    }
   ],
   "source": [
    "print(times)\n",
    "print(times_float)\n",
    "print([i-j for i, j in zip(times, times_float)])"
   ]
  },
  {
   "cell_type": "markdown",
   "metadata": {},
   "source": [
    "\n",
    "#### Różnica w czasie po prejściu na mniejszy model"
   ]
  },
  {
   "cell_type": "markdown",
   "metadata": {},
   "source": [
    "Zakresy eksperymentów zmniejszone, bo ten duży model się długo liczył"
   ]
  },
  {
   "cell_type": "code",
   "execution_count": null,
   "metadata": {},
   "outputs": [],
   "source": [
    "times = []\n",
    "\n",
    "for i in range(1, 4):\n",
    "    t = time.time()\n",
    "    exact_result = prediction_gap_by_exact_calc(prediction_gap, housing_trees, housing_data[:20], features[0:i], squared=True)\n",
    "    t = time.time() - t\n",
    "    times.append(t)"
   ]
  },
  {
   "cell_type": "code",
   "execution_count": null,
   "metadata": {},
   "outputs": [],
   "source": [
    "times_big = []\n",
    "\n",
    "for i in range(1, 4):\n",
    "    t = time.time()\n",
    "    exact_result = prediction_gap_by_exact_calc(prediction_gap, housing_trees_big, housing_data[:20], features[0:i], squared=True, processes=8)\n",
    "    t = time.time() - t\n",
    "    times_big.append(t)"
   ]
  },
  {
   "cell_type": "code",
   "execution_count": 27,
   "metadata": {},
   "outputs": [
    {
     "name": "stdout",
     "output_type": "stream",
     "text": [
      "[21.568105220794678, 124.8886775970459, 300.2667496204376]\n",
      "[51.0811185836792, 338.42005372047424, 1449.2556111812592]\n",
      "[-29.51301336288452, -213.53137612342834, -1148.9888615608215]\n"
     ]
    }
   ],
   "source": [
    "print(times)\n",
    "print(times_big)\n",
    "print([i-j for i, j in zip(times, times_big)])"
   ]
  },
  {
   "cell_type": "code",
   "execution_count": null,
   "metadata": {},
   "outputs": [],
   "source": []
  }
 ],
 "metadata": {
  "kernelspec": {
   "display_name": "venv",
   "language": "python",
   "name": "python3"
  },
  "language_info": {
   "codemirror_mode": {
    "name": "ipython",
    "version": 3
   },
   "file_extension": ".py",
   "mimetype": "text/x-python",
   "name": "python",
   "nbconvert_exporter": "python",
   "pygments_lexer": "ipython3",
   "version": "3.10.12"
  }
 },
 "nbformat": 4,
 "nbformat_minor": 2
}
