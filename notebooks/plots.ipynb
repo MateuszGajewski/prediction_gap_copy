{
 "cells": [
  {
   "cell_type": "markdown",
   "metadata": {},
   "source": [
    "# Plots for paper"
   ]
  },
  {
   "cell_type": "markdown",
   "metadata": {},
   "source": [
    "## Imports and directories"
   ]
  },
  {
   "cell_type": "code",
   "execution_count": 1,
   "metadata": {},
   "outputs": [],
   "source": [
    "import os\n",
    "while \"notebooks\" in os.getcwd():\n",
    "    os.chdir(\"../\")\n"
   ]
  },
  {
   "cell_type": "code",
   "execution_count": 2,
   "metadata": {},
   "outputs": [],
   "source": [
    "from pathlib import Path\n",
    "import pandas as pd\n",
    "import numpy as np\n",
    "import matplotlib.pyplot as plt\n",
    "import scienceplots\n",
    "plt.style.use(['science'])"
   ]
  },
  {
   "cell_type": "code",
   "execution_count": 3,
   "metadata": {},
   "outputs": [],
   "source": [
    "result_path = Path(\"results\")"
   ]
  },
  {
   "cell_type": "code",
   "execution_count": 16,
   "metadata": {},
   "outputs": [],
   "source": [
    "plot_directory = Path(\"plots\")"
   ]
  },
  {
   "cell_type": "markdown",
   "metadata": {},
   "source": [
    "## Plots for precision and time comparison"
   ]
  },
  {
   "cell_type": "markdown",
   "metadata": {},
   "source": [
    "### Separate"
   ]
  },
  {
   "cell_type": "code",
   "execution_count": 52,
   "metadata": {},
   "outputs": [],
   "source": [
    "iterations = [100, 500, 1000, 1500, 2000, 3000, 4000, 5000, 6000]\n",
    "\n",
    "def get_mean(std: float, comparison_path: Path):\n",
    "\n",
    "    means = []\n",
    "    stds = []\n",
    "    time_differences = []\n",
    "    for i in iterations:\n",
    "        arr = np.load(comparision_path / f'precision_comparision_std_{std}_iterations_{i}.npy')\n",
    "        arr = arr[arr[:, 2] != 0]\n",
    "        diffs =  np.abs(arr[:, 0] - arr[:, 1])\n",
    "        #diffs = diffs / arr[:, 1]\n",
    "        mean = np.mean(arr[:, 1])\n",
    "        means.append(np.mean(diffs))#/mean)\n",
    "        stds.append(np.std(diffs))\n",
    "        t_diff = np.mean(arr[:, 3] - arr[:, 4])\n",
    "        time_differences.append(np.mean(t_diff))\n",
    "    return means\n",
    "\n",
    "def get_mean_for_set_size(std: float, size: int, comparison_path: Path):\n",
    "\n",
    "    means = []\n",
    "    stds = []\n",
    "    time_differences = []\n",
    "    for i in iterations:\n",
    "        try:\n",
    "            arr = np.load(comparison_path / f'precision_comparision_std_{std}_iterations_{i}.npy')\n",
    "        except:\n",
    "            return means\n",
    "        arr = arr[arr[:, 2] == size]\n",
    "        arr = arr[arr[:, 2] != 0]\n",
    "        print(arr)\n",
    "        print(arr[0:10, :])\n",
    "        diffs =  np.abs(arr[:, 0] - arr[:, 1])#*arr[:, 2]\n",
    "        #diffs = diffs / arr[:, 1]\n",
    "        mean = np.mean(arr[:, 0])\n",
    "        means.append(np.mean(diffs))#/mean)\n",
    "        stds.append(np.std(diffs))\n",
    "        t_diff = np.mean(arr[:, 3] - arr[:, 4])\n",
    "        time_differences.append(np.mean(t_diff))\n",
    "    return means\n",
    "\n",
    "def plot_for_std_separate(std: float, comparision_path: Path, features_number: int):\n",
    "    fig, (ax1) = plt.subplots(1, 1, )\n",
    "    for i in range(1, features_number+1, 2):\n",
    "        means = get_mean_for_set_size(std, i, comparision_path)\n",
    "        if i >= 12:\n",
    "            ax1.plot(iterations, means, label = str(i), linestyle='dashed')\n",
    "        else:\n",
    "            ax1.plot(iterations, means, label = str(i))\n",
    "    \n",
    "    means = get_mean(std, comparision_path)\n",
    "    ax1.plot(iterations, means, label = \"Mean\", linestyle = 'dashed', linewidth=2)\n",
    "    ax1.set_xlim(0, 6000)\n",
    "    #ax1.set_ylim(0, 0.018)\n",
    "    ax1.set(xlabel='Iterations', ylabel='PG Difference')\n",
    "    ax1.legend(loc='center right', bbox_to_anchor=(1.35, 0.5), frameon=True)\n",
    "    title = f'Mean difference in PG \\n between methods'\n",
    "    ax1.set(title = title)\n",
    "    #plt.yscale(\"log\")\n",
    "    #fig.subplots_adjust(right=0.75)\n",
    "    print(comparision_path)\n",
    "    comparision_path = str(comparision_path)\n",
    "    comparision_path = comparision_path[comparision_path.find('/')+1:]\n",
    "    comparision_path = comparision_path[:comparision_path.find('/')]\n",
    "    model_name = comparision_path\n",
    "    print(model_name)\n",
    "    plt.savefig(f\"{plot_directory}/precision_{model_name}_{std}.pdf\")\n",
    "    plt.show()"
   ]
  },
  {
   "cell_type": "code",
   "execution_count": null,
   "metadata": {},
   "outputs": [],
   "source": [
    "comparision_path = Path(\"results/wine_model_single/time/\")\n",
    "for s in [0.01, 0.03, 0.1, 0.3]:\n",
    "    plot_for_std_separate(s, comparision_path, 11)"
   ]
  },
  {
   "cell_type": "code",
   "execution_count": null,
   "metadata": {},
   "outputs": [],
   "source": [
    "comparision_path = Path(\"results/housing_model_single/time/\")\n",
    "for s in [0.01, 0.03, 0.1, 0.3]:\n",
    "    plot_for_std_separate(s, comparision_path, 8)"
   ]
  },
  {
   "cell_type": "code",
   "execution_count": null,
   "metadata": {},
   "outputs": [],
   "source": []
  },
  {
   "cell_type": "markdown",
   "metadata": {},
   "source": [
    "## Get relative error for model, std, iterations"
   ]
  },
  {
   "cell_type": "code",
   "execution_count": null,
   "metadata": {},
   "outputs": [],
   "source": [
    "def get_relative_error(std: float, comparision_path: Path, iterations: int):\n",
    "\n",
    "    arr = np.load(comparison_path / f'precision_comparision_std_{std}_iterations_{iterations}.npy')\n",
    "    arr = arr[arr[:, 2] != 0]\n",
    "    diffs =  np.abs(arr[:, 0] - arr[:, 1])#*arr[:, 2]\n",
    "    diffs = diffs / arr[:, 1]\n",
    "    return np.mean(diffs)"
   ]
  },
  {
   "cell_type": "code",
   "execution_count": null,
   "metadata": {},
   "outputs": [],
   "source": [
    "comparision_path = Path(\"results/wine_model_single/time/\")\n",
    "parameters =[\n",
    "    [0.01, 100],\n",
    "    [0.03, 100],\n",
    "    [0.1, 100],\n",
    "    [0.3, 100]\n",
    "] "
   ]
  }
 ],
 "metadata": {
  "kernelspec": {
   "display_name": "venv",
   "language": "python",
   "name": "python3"
  },
  "language_info": {
   "codemirror_mode": {
    "name": "ipython",
    "version": 3
   },
   "file_extension": ".py",
   "mimetype": "text/x-python",
   "name": "python",
   "nbconvert_exporter": "python",
   "pygments_lexer": "ipython3",
   "version": "3.10.12"
  }
 },
 "nbformat": 4,
 "nbformat_minor": 2
}
