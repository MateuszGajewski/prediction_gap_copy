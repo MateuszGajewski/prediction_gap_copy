{
 "cells": [
  {
   "cell_type": "markdown",
   "source": [],
   "metadata": {
    "collapsed": false
   },
   "id": "b6937e466208840b"
  },
  {
   "cell_type": "code",
   "execution_count": 28,
   "outputs": [],
   "source": [],
   "metadata": {
    "collapsed": false,
    "ExecuteTime": {
     "end_time": "2023-09-28T08:23:50.329481174Z",
     "start_time": "2023-09-28T08:23:50.319557162Z"
    }
   },
   "id": "badf1b2c5646235e"
  },
  {
   "cell_type": "markdown",
   "source": [
    "# Learning regression datasets and training model"
   ],
   "metadata": {
    "collapsed": false
   },
   "id": "dcaaf2d9921ed1e8"
  },
  {
   "cell_type": "markdown",
   "source": [
    "### Imports"
   ],
   "metadata": {
    "collapsed": false
   },
   "id": "ead8bcafb37d277c"
  },
  {
   "cell_type": "code",
   "execution_count": 1,
   "outputs": [],
   "source": [
    "import pandas as pd\n",
    "import os\n",
    "from pathlib import Path\n",
    "import xgboost as xgb\n",
    "import pandas as pd\n",
    "import numpy as np\n",
    "from sklearn.preprocessing import StandardScaler\n",
    "from sklearn.model_selection import train_test_split\n",
    "from sklearn.model_selection import RandomizedSearchCV, GridSearchCV"
   ],
   "metadata": {
    "collapsed": false,
    "ExecuteTime": {
     "end_time": "2023-09-28T09:22:34.175721220Z",
     "start_time": "2023-09-28T09:22:33.758785189Z"
    }
   },
   "id": "7e238ad763746385"
  },
  {
   "cell_type": "code",
   "execution_count": 2,
   "outputs": [],
   "source": [
    "while \"notebooks\" in os.getcwd():\n",
    "    os.chdir(\"../\")"
   ],
   "metadata": {
    "collapsed": false,
    "ExecuteTime": {
     "end_time": "2023-09-28T09:22:34.184117061Z",
     "start_time": "2023-09-28T09:22:34.177457385Z"
    }
   },
   "id": "d1267002ff43122b"
  },
  {
   "cell_type": "code",
   "execution_count": 3,
   "outputs": [],
   "source": [
    "do_training = True"
   ],
   "metadata": {
    "collapsed": false,
    "ExecuteTime": {
     "end_time": "2023-09-28T09:22:34.295739432Z",
     "start_time": "2023-09-28T09:22:34.295189323Z"
    }
   },
   "id": "56e55ee1beebb549"
  },
  {
   "cell_type": "markdown",
   "source": [
    "### California Housing Prices Datset"
   ],
   "metadata": {
    "collapsed": false
   },
   "id": "6d5c280e3c21326d"
  },
  {
   "cell_type": "code",
   "execution_count": 67,
   "outputs": [],
   "source": [
    "DATA_DIR = Path('data/housing_data')\n",
    "file_name = 'housing.csv'\n",
    "scaled_file_name = 'housing_scaled.csv'\n",
    "train_file_name = 'train_housing_scaled.csv'\n",
    "test_file_name = 'test_housing_scaled.csv'\n",
    "scaler_params_file = 'housing_scaling_params.csv'"
   ],
   "metadata": {
    "collapsed": false,
    "ExecuteTime": {
     "end_time": "2023-09-28T10:07:46.555142419Z",
     "start_time": "2023-09-28T10:07:46.513550933Z"
    }
   },
   "id": "83c9877b5e539eb1"
  },
  {
   "cell_type": "code",
   "execution_count": 68,
   "outputs": [],
   "source": [
    "MODEL_PATH = Path('models/')\n",
    "housing_model_name = 'housing'"
   ],
   "metadata": {
    "collapsed": false,
    "ExecuteTime": {
     "end_time": "2023-09-28T10:07:46.875544110Z",
     "start_time": "2023-09-28T10:07:46.870644753Z"
    }
   },
   "id": "cfc250452d604e47"
  },
  {
   "cell_type": "code",
   "execution_count": 69,
   "outputs": [],
   "source": [
    "df = pd.read_csv(DATA_DIR / file_name)"
   ],
   "metadata": {
    "collapsed": false,
    "ExecuteTime": {
     "end_time": "2023-09-28T10:07:47.177230971Z",
     "start_time": "2023-09-28T10:07:47.158239684Z"
    }
   },
   "id": "b641c39ccc24d053"
  },
  {
   "cell_type": "code",
   "execution_count": 70,
   "outputs": [
    {
     "name": "stdout",
     "output_type": "stream",
     "text": [
      "<class 'pandas.core.frame.DataFrame'>\n",
      "RangeIndex: 20640 entries, 0 to 20639\n",
      "Data columns (total 10 columns):\n",
      " #   Column              Non-Null Count  Dtype  \n",
      "---  ------              --------------  -----  \n",
      " 0   longitude           20640 non-null  float64\n",
      " 1   latitude            20640 non-null  float64\n",
      " 2   housing_median_age  20640 non-null  float64\n",
      " 3   total_rooms         20640 non-null  float64\n",
      " 4   total_bedrooms      20433 non-null  float64\n",
      " 5   population          20640 non-null  float64\n",
      " 6   households          20640 non-null  float64\n",
      " 7   median_income       20640 non-null  float64\n",
      " 8   median_house_value  20640 non-null  float64\n",
      " 9   ocean_proximity     20640 non-null  object \n",
      "dtypes: float64(9), object(1)\n",
      "memory usage: 1.6+ MB\n"
     ]
    }
   ],
   "source": [
    "\n",
    "df.info()"
   ],
   "metadata": {
    "collapsed": false,
    "ExecuteTime": {
     "end_time": "2023-09-28T10:07:47.519141795Z",
     "start_time": "2023-09-28T10:07:47.514790777Z"
    }
   },
   "id": "6efa7dd4519357b7"
  },
  {
   "cell_type": "code",
   "execution_count": 71,
   "outputs": [
    {
     "data": {
      "text/plain": "array(['NEAR BAY', '<1H OCEAN', 'INLAND', 'NEAR OCEAN', 'ISLAND'],\n      dtype=object)"
     },
     "execution_count": 71,
     "metadata": {},
     "output_type": "execute_result"
    }
   ],
   "source": [
    "df.ocean_proximity.unique()"
   ],
   "metadata": {
    "collapsed": false,
    "ExecuteTime": {
     "end_time": "2023-09-28T10:07:48.153318668Z",
     "start_time": "2023-09-28T10:07:48.141404112Z"
    }
   },
   "id": "2371c88a8c1585d1"
  },
  {
   "cell_type": "code",
   "execution_count": 72,
   "outputs": [],
   "source": [
    "df = df.drop(columns=['ocean_proximity'])"
   ],
   "metadata": {
    "collapsed": false,
    "ExecuteTime": {
     "end_time": "2023-09-28T10:07:48.820888582Z",
     "start_time": "2023-09-28T10:07:48.819278883Z"
    }
   },
   "id": "65d7f58d125951f"
  },
  {
   "cell_type": "code",
   "execution_count": 73,
   "outputs": [
    {
     "data": {
      "text/plain": "       median_house_value\n0                452600.0\n1                358500.0\n2                352100.0\n3                341300.0\n4                342200.0\n...                   ...\n20635             78100.0\n20636             77100.0\n20637             92300.0\n20638             84700.0\n20639             89400.0\n\n[20640 rows x 1 columns]",
      "text/html": "<div>\n<style scoped>\n    .dataframe tbody tr th:only-of-type {\n        vertical-align: middle;\n    }\n\n    .dataframe tbody tr th {\n        vertical-align: top;\n    }\n\n    .dataframe thead th {\n        text-align: right;\n    }\n</style>\n<table border=\"1\" class=\"dataframe\">\n  <thead>\n    <tr style=\"text-align: right;\">\n      <th></th>\n      <th>median_house_value</th>\n    </tr>\n  </thead>\n  <tbody>\n    <tr>\n      <th>0</th>\n      <td>452600.0</td>\n    </tr>\n    <tr>\n      <th>1</th>\n      <td>358500.0</td>\n    </tr>\n    <tr>\n      <th>2</th>\n      <td>352100.0</td>\n    </tr>\n    <tr>\n      <th>3</th>\n      <td>341300.0</td>\n    </tr>\n    <tr>\n      <th>4</th>\n      <td>342200.0</td>\n    </tr>\n    <tr>\n      <th>...</th>\n      <td>...</td>\n    </tr>\n    <tr>\n      <th>20635</th>\n      <td>78100.0</td>\n    </tr>\n    <tr>\n      <th>20636</th>\n      <td>77100.0</td>\n    </tr>\n    <tr>\n      <th>20637</th>\n      <td>92300.0</td>\n    </tr>\n    <tr>\n      <th>20638</th>\n      <td>84700.0</td>\n    </tr>\n    <tr>\n      <th>20639</th>\n      <td>89400.0</td>\n    </tr>\n  </tbody>\n</table>\n<p>20640 rows × 1 columns</p>\n</div>"
     },
     "execution_count": 73,
     "metadata": {},
     "output_type": "execute_result"
    }
   ],
   "source": [
    "df.loc[:, df.columns == 'median_house_value']"
   ],
   "metadata": {
    "collapsed": false,
    "ExecuteTime": {
     "end_time": "2023-09-28T10:07:49.329332862Z",
     "start_time": "2023-09-28T10:07:49.320820216Z"
    }
   },
   "id": "548488366335ca3f"
  },
  {
   "cell_type": "code",
   "execution_count": 74,
   "outputs": [],
   "source": [
    "def scale_split_df(_df: pd.DataFrame, prediction_column: str, test_size: float, data_dir: Path, \n",
    "                   scaled_df_name: str, train_df_name: str, test_df_name: str, scaler_params_name: str):\n",
    "    \n",
    "    scaler = StandardScaler()\n",
    "    features_df = df.loc[:, df.columns != prediction_column]\n",
    "    prediction_df = df.loc[:, df.columns == prediction_column]\n",
    "    scaled_features = pd.DataFrame(scaler.fit_transform(features_df))\n",
    "    scaled_features.columns = features_df.columns.str.replace(' ', '_')\n",
    "    scaled_df = pd.concat([scaled_features, prediction_df], axis=1)\n",
    "    train_df, test_df = train_test_split(scaled_df, test_size=test_size)\n",
    "    \n",
    "    scaled_df.to_csv(data_dir/scaled_df_name, index=False)\n",
    "    train_df.to_csv(data_dir/train_df_name, index=False)\n",
    "    test_df.to_csv(data_dir/test_df_name, index=False)\n",
    "    \n",
    "    normalization_params = {\n",
    "    \"mean\": scaler.mean_,\n",
    "    \"variance\": scaler.var_,\n",
    "}\n",
    "\n",
    "    normalization_params_df = pd.DataFrame.from_dict(normalization_params, orient=\"index\")\n",
    "    normalization_params_df.columns = features_df.columns\n",
    "    normalization_params_df.to_csv(DATA_DIR/scaler_params_name)\n",
    "\n",
    "    return scaled_df, train_df, test_df"
   ],
   "metadata": {
    "collapsed": false,
    "ExecuteTime": {
     "end_time": "2023-09-28T10:07:50.224064650Z",
     "start_time": "2023-09-28T10:07:50.190564624Z"
    }
   },
   "id": "a01a9295acd092b0"
  },
  {
   "cell_type": "code",
   "execution_count": 75,
   "outputs": [
    {
     "data": {
      "text/plain": "          longitude      latitude  housing_median_age   total_rooms  \\\ncount  2.064000e+04  2.064000e+04        2.064000e+04  2.064000e+04   \nmean  -8.526513e-15 -1.079584e-15        5.508083e-18  3.201573e-17   \nstd    1.000024e+00  1.000024e+00        1.000024e+00  1.000024e+00   \nmin   -2.385992e+00 -1.447568e+00       -2.196180e+00 -1.207283e+00   \n25%   -1.113209e+00 -7.967887e-01       -8.453931e-01 -5.445698e-01   \n50%    5.389137e-01 -6.422871e-01        2.864572e-02 -2.332104e-01   \n75%    7.784964e-01  9.729566e-01        6.643103e-01  2.348028e-01   \nmax    2.625280e+00  2.958068e+00        1.856182e+00  1.681558e+01   \n\n       total_bedrooms    population    households  median_income  \\\ncount    2.043300e+04  2.064000e+04  2.064000e+04   2.064000e+04   \nmean    -7.233049e-17 -1.101617e-17  6.885104e-17   6.609700e-17   \nstd      1.000024e+00  1.000024e+00  1.000024e+00   1.000024e+00   \nmin     -1.274093e+00 -1.256123e+00 -1.303984e+00  -1.774299e+00   \n25%     -5.740034e-01 -5.638089e-01 -5.742294e-01  -6.881186e-01   \n50%     -2.441308e-01 -2.291318e-01 -2.368162e-01  -1.767951e-01   \n75%      2.589843e-01  2.644949e-01  2.758427e-01   4.593063e-01   \nmax      1.401871e+01  3.025033e+01  1.460152e+01   5.858286e+00   \n\n       median_house_value  \ncount        20640.000000  \nmean        206855.816909  \nstd         115395.615874  \nmin          14999.000000  \n25%         119600.000000  \n50%         179700.000000  \n75%         264725.000000  \nmax         500001.000000  ",
      "text/html": "<div>\n<style scoped>\n    .dataframe tbody tr th:only-of-type {\n        vertical-align: middle;\n    }\n\n    .dataframe tbody tr th {\n        vertical-align: top;\n    }\n\n    .dataframe thead th {\n        text-align: right;\n    }\n</style>\n<table border=\"1\" class=\"dataframe\">\n  <thead>\n    <tr style=\"text-align: right;\">\n      <th></th>\n      <th>longitude</th>\n      <th>latitude</th>\n      <th>housing_median_age</th>\n      <th>total_rooms</th>\n      <th>total_bedrooms</th>\n      <th>population</th>\n      <th>households</th>\n      <th>median_income</th>\n      <th>median_house_value</th>\n    </tr>\n  </thead>\n  <tbody>\n    <tr>\n      <th>count</th>\n      <td>2.064000e+04</td>\n      <td>2.064000e+04</td>\n      <td>2.064000e+04</td>\n      <td>2.064000e+04</td>\n      <td>2.043300e+04</td>\n      <td>2.064000e+04</td>\n      <td>2.064000e+04</td>\n      <td>2.064000e+04</td>\n      <td>20640.000000</td>\n    </tr>\n    <tr>\n      <th>mean</th>\n      <td>-8.526513e-15</td>\n      <td>-1.079584e-15</td>\n      <td>5.508083e-18</td>\n      <td>3.201573e-17</td>\n      <td>-7.233049e-17</td>\n      <td>-1.101617e-17</td>\n      <td>6.885104e-17</td>\n      <td>6.609700e-17</td>\n      <td>206855.816909</td>\n    </tr>\n    <tr>\n      <th>std</th>\n      <td>1.000024e+00</td>\n      <td>1.000024e+00</td>\n      <td>1.000024e+00</td>\n      <td>1.000024e+00</td>\n      <td>1.000024e+00</td>\n      <td>1.000024e+00</td>\n      <td>1.000024e+00</td>\n      <td>1.000024e+00</td>\n      <td>115395.615874</td>\n    </tr>\n    <tr>\n      <th>min</th>\n      <td>-2.385992e+00</td>\n      <td>-1.447568e+00</td>\n      <td>-2.196180e+00</td>\n      <td>-1.207283e+00</td>\n      <td>-1.274093e+00</td>\n      <td>-1.256123e+00</td>\n      <td>-1.303984e+00</td>\n      <td>-1.774299e+00</td>\n      <td>14999.000000</td>\n    </tr>\n    <tr>\n      <th>25%</th>\n      <td>-1.113209e+00</td>\n      <td>-7.967887e-01</td>\n      <td>-8.453931e-01</td>\n      <td>-5.445698e-01</td>\n      <td>-5.740034e-01</td>\n      <td>-5.638089e-01</td>\n      <td>-5.742294e-01</td>\n      <td>-6.881186e-01</td>\n      <td>119600.000000</td>\n    </tr>\n    <tr>\n      <th>50%</th>\n      <td>5.389137e-01</td>\n      <td>-6.422871e-01</td>\n      <td>2.864572e-02</td>\n      <td>-2.332104e-01</td>\n      <td>-2.441308e-01</td>\n      <td>-2.291318e-01</td>\n      <td>-2.368162e-01</td>\n      <td>-1.767951e-01</td>\n      <td>179700.000000</td>\n    </tr>\n    <tr>\n      <th>75%</th>\n      <td>7.784964e-01</td>\n      <td>9.729566e-01</td>\n      <td>6.643103e-01</td>\n      <td>2.348028e-01</td>\n      <td>2.589843e-01</td>\n      <td>2.644949e-01</td>\n      <td>2.758427e-01</td>\n      <td>4.593063e-01</td>\n      <td>264725.000000</td>\n    </tr>\n    <tr>\n      <th>max</th>\n      <td>2.625280e+00</td>\n      <td>2.958068e+00</td>\n      <td>1.856182e+00</td>\n      <td>1.681558e+01</td>\n      <td>1.401871e+01</td>\n      <td>3.025033e+01</td>\n      <td>1.460152e+01</td>\n      <td>5.858286e+00</td>\n      <td>500001.000000</td>\n    </tr>\n  </tbody>\n</table>\n</div>"
     },
     "execution_count": 75,
     "metadata": {},
     "output_type": "execute_result"
    }
   ],
   "source": [
    "scaled_df, train_df, test_df = scale_split_df(df, 'median_house_value', 0.2, DATA_DIR, scaled_file_name, train_file_name, test_file_name, scaler_params_file)\n",
    "scaled_df.describe()"
   ],
   "metadata": {
    "collapsed": false,
    "ExecuteTime": {
     "end_time": "2023-09-28T10:07:51.364831962Z",
     "start_time": "2023-09-28T10:07:51.128386631Z"
    }
   },
   "id": "d0a2c484d3c68436"
  },
  {
   "cell_type": "code",
   "execution_count": 113,
   "outputs": [],
   "source": [
    "X_train = train_df.loc[:, df.columns != 'median_house_value']\n",
    "y_train = train_df.loc[:, df.columns == 'median_house_value'] \n",
    "X_test = test_df.loc[:, df.columns != 'median_house_value']\n",
    "y_test = test_df.loc[:, df.columns == 'median_house_value']"
   ],
   "metadata": {
    "collapsed": false,
    "ExecuteTime": {
     "end_time": "2023-09-28T10:13:24.930441459Z",
     "start_time": "2023-09-28T10:13:24.877056137Z"
    }
   },
   "id": "4eaf74491a35c165"
  },
  {
   "cell_type": "markdown",
   "source": [
    "#### Housing model training"
   ],
   "metadata": {
    "collapsed": false
   },
   "id": "cd4ac7ec2102f984"
  },
  {
   "cell_type": "code",
   "execution_count": 114,
   "outputs": [],
   "source": [
    "def train_and_save_model(param: dict, steps: int, dtrain: xgb.DMatrix, dtest: xgb.DMatrix, model_path: Path, model_name: str):\n",
    "    if do_training:\n",
    "        gbdt_model = xgb.train(param, dtrain,\n",
    "                          evals=[(dtest, 'test'), (dtrain, 'train')],\n",
    "                          verbose_eval=50, early_stopping_rounds = 1, num_boost_round = steps\n",
    "                          )\n",
    "    if do_training:\n",
    "        gbdt_model.dump_model(model_path / f\"{model_name}_dumped.txt\", with_stats=True)\n",
    "        gbdt_model.save_model(model_path / f\"{model_name}_saved.json\")\n",
    "    else:\n",
    "        gbdt_model = xgb.Booster()\n",
    "        gbdt_model.load_model(model_path / f\"{model_name}_saved.json\")\n",
    "    return gbdt_model"
   ],
   "metadata": {
    "collapsed": false,
    "ExecuteTime": {
     "end_time": "2023-09-28T10:13:27.365144934Z",
     "start_time": "2023-09-28T10:13:27.359982580Z"
    }
   },
   "id": "f14fbe7185072711"
  },
  {
   "cell_type": "markdown",
   "source": [
    "#### Performing grid_search"
   ],
   "metadata": {
    "collapsed": false
   },
   "id": "d8e1830a4650ffb2"
  },
  {
   "cell_type": "code",
   "execution_count": 115,
   "outputs": [],
   "source": [
    "def grid_search(space: dict, X_train: pd.DataFrame, y_train: pd.DataFrame, X_test: pd.DataFrame, y_test: pd.DataFrame):\n",
    "    clf=xgb.XGBRegressor(\n",
    "                        objective = 'reg:squarederror',\n",
    "                        early_stopping_rounds = 10,\n",
    "                        n_boost_rounds = 300\n",
    "\n",
    "\n",
    "                        )\n",
    "    grid_search = GridSearchCV(clf, param_grid=space, scoring='neg_root_mean_squared_error', n_jobs=4, cv=5)\n",
    "    grid_search.fit(X_train, y_train, eval_set = [(X_test, y_test)])\n",
    "    return grid_search\n",
    "    \n",
    "        \n",
    "  \n",
    "    "
   ],
   "metadata": {
    "collapsed": false,
    "ExecuteTime": {
     "end_time": "2023-09-28T10:13:29.364995492Z",
     "start_time": "2023-09-28T10:13:29.362787844Z"
    }
   },
   "id": "24a8d66ba6a5d898"
  },
  {
   "cell_type": "code",
   "execution_count": 116,
   "outputs": [],
   "source": [
    "grid_params = {\n",
    "    'max_depth': [1, 2, 3, 4, 5, 6, 7, 8, 9 , 10],\n",
    "    'eta': [0.01, 0.1, 0.2, 0.3, 0.4, 0.5, 0.6, 0.7, 0.8, 0.9],\n",
    "    'subsample' : [0.01, 0.1, 0.2, 0.3, 0.4, 0.5, 0.6, 0.7, 0.8, 0.9]\n",
    "}"
   ],
   "metadata": {
    "collapsed": false,
    "ExecuteTime": {
     "end_time": "2023-09-28T10:13:31.749570119Z",
     "start_time": "2023-09-28T10:13:31.746897210Z"
    }
   },
   "id": "535c099b97655a41"
  },
  {
   "cell_type": "code",
   "execution_count": null,
   "outputs": [],
   "source": [
    "%%time\n",
    "best = grid_search(grid_params, X_train, y_train, X_test, y_test)"
   ],
   "metadata": {
    "collapsed": false
   },
   "id": "3073b371cb0ac78f"
  },
  {
   "cell_type": "code",
   "execution_count": 80,
   "outputs": [
    {
     "data": {
      "text/plain": "{'eta': 0.01, 'max_depth': 3, 'subsample': 0.01}"
     },
     "execution_count": 80,
     "metadata": {},
     "output_type": "execute_result"
    }
   ],
   "source": [
    "best.best_params_"
   ],
   "metadata": {
    "collapsed": false,
    "ExecuteTime": {
     "end_time": "2023-09-28T10:08:03.130436359Z",
     "start_time": "2023-09-28T10:08:03.109499328Z"
    }
   },
   "id": "7e2f7ba103555e56"
  },
  {
   "cell_type": "code",
   "execution_count": 81,
   "outputs": [
    {
     "data": {
      "text/plain": "100"
     },
     "execution_count": 81,
     "metadata": {},
     "output_type": "execute_result"
    }
   ],
   "source": [
    "len(best.best_estimator_.get_booster().get_dump())"
   ],
   "metadata": {
    "collapsed": false,
    "ExecuteTime": {
     "end_time": "2023-09-28T10:08:04.016854248Z",
     "start_time": "2023-09-28T10:08:03.974133684Z"
    }
   },
   "id": "69c8bd73bcd4e234"
  },
  {
   "cell_type": "code",
   "execution_count": 82,
   "outputs": [],
   "source": [
    "# training hyperparameters\n",
    "param = {\n",
    "    'eta': 0.1,\n",
    "    'max_depth': 7,\n",
    "    'objective': 'reg:squarederror',\n",
    "    'seed': 42,\n",
    "    'subsample': 0.9,\n",
    "}\n",
    "steps = 194"
   ],
   "metadata": {
    "collapsed": false,
    "ExecuteTime": {
     "end_time": "2023-09-28T10:08:06.278675257Z",
     "start_time": "2023-09-28T10:08:06.271190230Z"
    }
   },
   "id": "ad34dd1da228236e"
  },
  {
   "cell_type": "code",
   "execution_count": 83,
   "outputs": [
    {
     "name": "stdout",
     "output_type": "stream",
     "text": [
      "<class 'pandas.core.frame.DataFrame'>\n",
      "Index: 16512 entries, 17399 to 18520\n",
      "Data columns (total 8 columns):\n",
      " #   Column              Non-Null Count  Dtype  \n",
      "---  ------              --------------  -----  \n",
      " 0   longitude           16512 non-null  float64\n",
      " 1   latitude            16512 non-null  float64\n",
      " 2   housing_median_age  16512 non-null  float64\n",
      " 3   total_rooms         16512 non-null  float64\n",
      " 4   total_bedrooms      16342 non-null  float64\n",
      " 5   population          16512 non-null  float64\n",
      " 6   households          16512 non-null  float64\n",
      " 7   median_income       16512 non-null  float64\n",
      "dtypes: float64(8)\n",
      "memory usage: 1.1 MB\n",
      "<class 'pandas.core.frame.DataFrame'>\n",
      "Index: 16512 entries, 17399 to 18520\n",
      "Data columns (total 1 columns):\n",
      " #   Column              Non-Null Count  Dtype  \n",
      "---  ------              --------------  -----  \n",
      " 0   median_house_value  16512 non-null  float64\n",
      "dtypes: float64(1)\n",
      "memory usage: 258.0 KB\n"
     ]
    }
   ],
   "source": [
    "X_train.info()\n",
    "y_train.info()"
   ],
   "metadata": {
    "collapsed": false,
    "ExecuteTime": {
     "end_time": "2023-09-28T10:08:06.568742690Z",
     "start_time": "2023-09-28T10:08:06.565100043Z"
    }
   },
   "id": "7dacb0bff77b630f"
  },
  {
   "cell_type": "code",
   "execution_count": 84,
   "outputs": [
    {
     "name": "stderr",
     "output_type": "stream",
     "text": [
      "/home/mateusz/Documents/tmp/prediction-gap/venv/lib/python3.10/site-packages/xgboost/data.py:335: FutureWarning: is_sparse is deprecated and will be removed in a future version. Check `isinstance(dtype, pd.SparseDtype)` instead.\n",
      "  if is_sparse(dtype):\n",
      "/home/mateusz/Documents/tmp/prediction-gap/venv/lib/python3.10/site-packages/xgboost/data.py:338: FutureWarning: is_categorical_dtype is deprecated and will be removed in a future version. Use isinstance(dtype, CategoricalDtype) instead\n",
      "  is_categorical_dtype(dtype) or is_pa_ext_categorical_dtype(dtype)\n",
      "/home/mateusz/Documents/tmp/prediction-gap/venv/lib/python3.10/site-packages/xgboost/data.py:384: FutureWarning: is_categorical_dtype is deprecated and will be removed in a future version. Use isinstance(dtype, CategoricalDtype) instead\n",
      "  if is_categorical_dtype(dtype):\n",
      "/home/mateusz/Documents/tmp/prediction-gap/venv/lib/python3.10/site-packages/xgboost/data.py:359: FutureWarning: is_categorical_dtype is deprecated and will be removed in a future version. Use isinstance(dtype, CategoricalDtype) instead\n",
      "  return is_int or is_bool or is_float or is_categorical_dtype(dtype)\n",
      "/home/mateusz/Documents/tmp/prediction-gap/venv/lib/python3.10/site-packages/xgboost/data.py:384: FutureWarning: is_categorical_dtype is deprecated and will be removed in a future version. Use isinstance(dtype, CategoricalDtype) instead\n",
      "  if is_categorical_dtype(dtype):\n",
      "/home/mateusz/Documents/tmp/prediction-gap/venv/lib/python3.10/site-packages/xgboost/data.py:359: FutureWarning: is_categorical_dtype is deprecated and will be removed in a future version. Use isinstance(dtype, CategoricalDtype) instead\n",
      "  return is_int or is_bool or is_float or is_categorical_dtype(dtype)\n",
      "/home/mateusz/Documents/tmp/prediction-gap/venv/lib/python3.10/site-packages/xgboost/data.py:335: FutureWarning: is_sparse is deprecated and will be removed in a future version. Check `isinstance(dtype, pd.SparseDtype)` instead.\n",
      "  if is_sparse(dtype):\n",
      "/home/mateusz/Documents/tmp/prediction-gap/venv/lib/python3.10/site-packages/xgboost/data.py:338: FutureWarning: is_categorical_dtype is deprecated and will be removed in a future version. Use isinstance(dtype, CategoricalDtype) instead\n",
      "  is_categorical_dtype(dtype) or is_pa_ext_categorical_dtype(dtype)\n",
      "/home/mateusz/Documents/tmp/prediction-gap/venv/lib/python3.10/site-packages/xgboost/data.py:384: FutureWarning: is_categorical_dtype is deprecated and will be removed in a future version. Use isinstance(dtype, CategoricalDtype) instead\n",
      "  if is_categorical_dtype(dtype):\n",
      "/home/mateusz/Documents/tmp/prediction-gap/venv/lib/python3.10/site-packages/xgboost/data.py:359: FutureWarning: is_categorical_dtype is deprecated and will be removed in a future version. Use isinstance(dtype, CategoricalDtype) instead\n",
      "  return is_int or is_bool or is_float or is_categorical_dtype(dtype)\n",
      "/home/mateusz/Documents/tmp/prediction-gap/venv/lib/python3.10/site-packages/xgboost/data.py:384: FutureWarning: is_categorical_dtype is deprecated and will be removed in a future version. Use isinstance(dtype, CategoricalDtype) instead\n",
      "  if is_categorical_dtype(dtype):\n",
      "/home/mateusz/Documents/tmp/prediction-gap/venv/lib/python3.10/site-packages/xgboost/data.py:359: FutureWarning: is_categorical_dtype is deprecated and will be removed in a future version. Use isinstance(dtype, CategoricalDtype) instead\n",
      "  return is_int or is_bool or is_float or is_categorical_dtype(dtype)\n"
     ]
    }
   ],
   "source": [
    "dtrain = xgb.DMatrix(X_train, label=y_train)\n",
    "dtest = xgb.DMatrix(X_test, label=y_test)"
   ],
   "metadata": {
    "collapsed": false,
    "ExecuteTime": {
     "end_time": "2023-09-28T10:08:08.654889944Z",
     "start_time": "2023-09-28T10:08:08.631722403Z"
    }
   },
   "id": "488ff15324cf74cc"
  },
  {
   "cell_type": "code",
   "execution_count": 85,
   "outputs": [
    {
     "name": "stdout",
     "output_type": "stream",
     "text": [
      "[0]\ttest-rmse:107651.48522\ttrain-rmse:107466.58643\n",
      "[50]\ttest-rmse:50291.85706\ttrain-rmse:39232.00066\n",
      "[100]\ttest-rmse:48627.03735\ttrain-rmse:32628.54226\n",
      "[150]\ttest-rmse:48180.90234\ttrain-rmse:28580.23342\n",
      "[193]\ttest-rmse:47937.65673\ttrain-rmse:25915.65838\n",
      "CPU times: user 23.7 s, sys: 23.9 ms, total: 23.7 s\n",
      "Wall time: 1.75 s\n"
     ]
    },
    {
     "data": {
      "text/plain": "<xgboost.core.Booster at 0x7ff2707ed7b0>"
     },
     "execution_count": 85,
     "metadata": {},
     "output_type": "execute_result"
    }
   ],
   "source": [
    "%%time\n",
    "train_and_save_model(param, steps, dtrain, dtest, MODEL_PATH, housing_model_name)"
   ],
   "metadata": {
    "collapsed": false,
    "ExecuteTime": {
     "end_time": "2023-09-28T10:08:11.789380904Z",
     "start_time": "2023-09-28T10:08:10.037718335Z"
    }
   },
   "id": "392f5700b4df5923"
  },
  {
   "cell_type": "markdown",
   "source": [
    "### Red Wine Dataset"
   ],
   "metadata": {
    "collapsed": false
   },
   "id": "ae796dd7a8aff925"
  },
  {
   "cell_type": "code",
   "execution_count": 102,
   "outputs": [],
   "source": [
    "DATA_DIR = Path('data/wine_quality')\n",
    "file_name = 'winequality_red.csv'\n",
    "scaled_file_name = 'winequality_red_scaled.csv'\n",
    "train_file_name = 'train_winequality_red_scaled.csv'\n",
    "test_file_name = 'test_winequality_red_scaled.csv'\n",
    "scaler_params_file = 'winequality_red_scaling_params.csv'\n",
    "MODEL_PATH = Path('models/')\n",
    "wine_model_name = 'winequality_red'"
   ],
   "metadata": {
    "collapsed": false,
    "ExecuteTime": {
     "end_time": "2023-09-28T10:09:28.159475333Z",
     "start_time": "2023-09-28T10:09:28.111671248Z"
    }
   },
   "id": "d12ea99ef51862"
  },
  {
   "cell_type": "code",
   "execution_count": 121,
   "outputs": [
    {
     "name": "stdout",
     "output_type": "stream",
     "text": [
      "<class 'pandas.core.frame.DataFrame'>\n",
      "RangeIndex: 1599 entries, 0 to 1598\n",
      "Data columns (total 12 columns):\n",
      " #   Column                Non-Null Count  Dtype  \n",
      "---  ------                --------------  -----  \n",
      " 0   fixed acidity         1599 non-null   float64\n",
      " 1   volatile acidity      1599 non-null   float64\n",
      " 2   citric acid           1599 non-null   float64\n",
      " 3   residual sugar        1599 non-null   float64\n",
      " 4   chlorides             1599 non-null   float64\n",
      " 5   free sulfur dioxide   1599 non-null   float64\n",
      " 6   total sulfur dioxide  1599 non-null   float64\n",
      " 7   density               1599 non-null   float64\n",
      " 8   pH                    1599 non-null   float64\n",
      " 9   sulphates             1599 non-null   float64\n",
      " 10  alcohol               1599 non-null   float64\n",
      " 11  quality               1599 non-null   int64  \n",
      "dtypes: float64(11), int64(1)\n",
      "memory usage: 150.0 KB\n"
     ]
    }
   ],
   "source": [
    "df = pd.read_csv(DATA_DIR / file_name, sep=';')\n",
    "df.info()"
   ],
   "metadata": {
    "collapsed": false,
    "ExecuteTime": {
     "end_time": "2023-09-28T10:14:59.598846310Z",
     "start_time": "2023-09-28T10:14:59.590746513Z"
    }
   },
   "id": "b13f2f4aa6fe1da0"
  },
  {
   "cell_type": "code",
   "execution_count": 122,
   "outputs": [
    {
     "data": {
      "text/plain": "       fixed_acidity  volatile_acidity   citric_acid  residual_sugar  \\\ncount   1.599000e+03      1.599000e+03  1.599000e+03    1.599000e+03   \nmean    3.554936e-16      1.733031e-16 -8.887339e-17   -1.244227e-16   \nstd     1.000313e+00      1.000313e+00  1.000313e+00    1.000313e+00   \nmin    -2.137045e+00     -2.278280e+00 -1.391472e+00   -1.162696e+00   \n25%    -7.007187e-01     -7.699311e-01 -9.293181e-01   -4.532184e-01   \n50%    -2.410944e-01     -4.368911e-02 -5.636026e-02   -2.403750e-01   \n75%     5.057952e-01      6.266881e-01  7.652471e-01    4.341614e-02   \nmax     4.355149e+00      5.877976e+00  3.743574e+00    9.195681e+00   \n\n          chlorides  free_sulfur_dioxide  total_sulfur_dioxide       density  \\\ncount  1.599000e+03         1.599000e+03          1.599000e+03  1.599000e+03   \nmean   3.732682e-16        -6.221137e-17          4.443669e-17 -3.473172e-14   \nstd    1.000313e+00         1.000313e+00          1.000313e+00  1.000313e+00   \nmin   -1.603945e+00        -1.422500e+00         -1.230584e+00 -3.538731e+00   \n25%   -3.712290e-01        -8.487156e-01         -7.440403e-01 -6.077557e-01   \n50%   -1.799455e-01        -1.793002e-01         -2.574968e-01  1.760083e-03   \n75%    5.384542e-02         4.901152e-01          4.723184e-01  5.768249e-01   \nmax    1.112703e+01         5.367284e+00          7.375154e+00  3.680055e+00   \n\n                 pH     sulphates       alcohol      quality  \ncount  1.599000e+03  1.599000e+03  1.599000e+03  1599.000000  \nmean   2.861723e-15  6.754377e-16  1.066481e-16     5.636023  \nstd    1.000313e+00  1.000313e+00  1.000313e+00     0.807569  \nmin   -3.700401e+00 -1.936507e+00 -1.898919e+00     3.000000  \n25%   -6.551405e-01 -6.382196e-01 -8.663789e-01     5.000000  \n50%   -7.212705e-03 -2.251281e-01 -2.093081e-01     6.000000  \n75%    5.759223e-01  4.240158e-01  6.354971e-01     6.000000  \nmax    4.528282e+00  7.918677e+00  4.202453e+00     8.000000  ",
      "text/html": "<div>\n<style scoped>\n    .dataframe tbody tr th:only-of-type {\n        vertical-align: middle;\n    }\n\n    .dataframe tbody tr th {\n        vertical-align: top;\n    }\n\n    .dataframe thead th {\n        text-align: right;\n    }\n</style>\n<table border=\"1\" class=\"dataframe\">\n  <thead>\n    <tr style=\"text-align: right;\">\n      <th></th>\n      <th>fixed_acidity</th>\n      <th>volatile_acidity</th>\n      <th>citric_acid</th>\n      <th>residual_sugar</th>\n      <th>chlorides</th>\n      <th>free_sulfur_dioxide</th>\n      <th>total_sulfur_dioxide</th>\n      <th>density</th>\n      <th>pH</th>\n      <th>sulphates</th>\n      <th>alcohol</th>\n      <th>quality</th>\n    </tr>\n  </thead>\n  <tbody>\n    <tr>\n      <th>count</th>\n      <td>1.599000e+03</td>\n      <td>1.599000e+03</td>\n      <td>1.599000e+03</td>\n      <td>1.599000e+03</td>\n      <td>1.599000e+03</td>\n      <td>1.599000e+03</td>\n      <td>1.599000e+03</td>\n      <td>1.599000e+03</td>\n      <td>1.599000e+03</td>\n      <td>1.599000e+03</td>\n      <td>1.599000e+03</td>\n      <td>1599.000000</td>\n    </tr>\n    <tr>\n      <th>mean</th>\n      <td>3.554936e-16</td>\n      <td>1.733031e-16</td>\n      <td>-8.887339e-17</td>\n      <td>-1.244227e-16</td>\n      <td>3.732682e-16</td>\n      <td>-6.221137e-17</td>\n      <td>4.443669e-17</td>\n      <td>-3.473172e-14</td>\n      <td>2.861723e-15</td>\n      <td>6.754377e-16</td>\n      <td>1.066481e-16</td>\n      <td>5.636023</td>\n    </tr>\n    <tr>\n      <th>std</th>\n      <td>1.000313e+00</td>\n      <td>1.000313e+00</td>\n      <td>1.000313e+00</td>\n      <td>1.000313e+00</td>\n      <td>1.000313e+00</td>\n      <td>1.000313e+00</td>\n      <td>1.000313e+00</td>\n      <td>1.000313e+00</td>\n      <td>1.000313e+00</td>\n      <td>1.000313e+00</td>\n      <td>1.000313e+00</td>\n      <td>0.807569</td>\n    </tr>\n    <tr>\n      <th>min</th>\n      <td>-2.137045e+00</td>\n      <td>-2.278280e+00</td>\n      <td>-1.391472e+00</td>\n      <td>-1.162696e+00</td>\n      <td>-1.603945e+00</td>\n      <td>-1.422500e+00</td>\n      <td>-1.230584e+00</td>\n      <td>-3.538731e+00</td>\n      <td>-3.700401e+00</td>\n      <td>-1.936507e+00</td>\n      <td>-1.898919e+00</td>\n      <td>3.000000</td>\n    </tr>\n    <tr>\n      <th>25%</th>\n      <td>-7.007187e-01</td>\n      <td>-7.699311e-01</td>\n      <td>-9.293181e-01</td>\n      <td>-4.532184e-01</td>\n      <td>-3.712290e-01</td>\n      <td>-8.487156e-01</td>\n      <td>-7.440403e-01</td>\n      <td>-6.077557e-01</td>\n      <td>-6.551405e-01</td>\n      <td>-6.382196e-01</td>\n      <td>-8.663789e-01</td>\n      <td>5.000000</td>\n    </tr>\n    <tr>\n      <th>50%</th>\n      <td>-2.410944e-01</td>\n      <td>-4.368911e-02</td>\n      <td>-5.636026e-02</td>\n      <td>-2.403750e-01</td>\n      <td>-1.799455e-01</td>\n      <td>-1.793002e-01</td>\n      <td>-2.574968e-01</td>\n      <td>1.760083e-03</td>\n      <td>-7.212705e-03</td>\n      <td>-2.251281e-01</td>\n      <td>-2.093081e-01</td>\n      <td>6.000000</td>\n    </tr>\n    <tr>\n      <th>75%</th>\n      <td>5.057952e-01</td>\n      <td>6.266881e-01</td>\n      <td>7.652471e-01</td>\n      <td>4.341614e-02</td>\n      <td>5.384542e-02</td>\n      <td>4.901152e-01</td>\n      <td>4.723184e-01</td>\n      <td>5.768249e-01</td>\n      <td>5.759223e-01</td>\n      <td>4.240158e-01</td>\n      <td>6.354971e-01</td>\n      <td>6.000000</td>\n    </tr>\n    <tr>\n      <th>max</th>\n      <td>4.355149e+00</td>\n      <td>5.877976e+00</td>\n      <td>3.743574e+00</td>\n      <td>9.195681e+00</td>\n      <td>1.112703e+01</td>\n      <td>5.367284e+00</td>\n      <td>7.375154e+00</td>\n      <td>3.680055e+00</td>\n      <td>4.528282e+00</td>\n      <td>7.918677e+00</td>\n      <td>4.202453e+00</td>\n      <td>8.000000</td>\n    </tr>\n  </tbody>\n</table>\n</div>"
     },
     "execution_count": 122,
     "metadata": {},
     "output_type": "execute_result"
    }
   ],
   "source": [
    "scaled_df, train_df, test_df = scale_split_df(df, 'quality', 0.2, DATA_DIR, scaled_file_name, train_file_name, test_file_name, scaler_params_file)\n",
    "scaled_df.describe()"
   ],
   "metadata": {
    "collapsed": false,
    "ExecuteTime": {
     "end_time": "2023-09-28T10:15:00.259833588Z",
     "start_time": "2023-09-28T10:15:00.206950623Z"
    }
   },
   "id": "7bcfc129bbc50eda"
  },
  {
   "cell_type": "code",
   "execution_count": 123,
   "outputs": [],
   "source": [
    "X_train = train_df.loc[:, df.columns != 'quality']\n",
    "y_train = train_df.loc[:, df.columns == 'quality'] \n",
    "X_test = test_df.loc[:, df.columns != 'quality']\n",
    "y_test = test_df.loc[:, df.columns == 'quality']"
   ],
   "metadata": {
    "collapsed": false,
    "ExecuteTime": {
     "end_time": "2023-09-28T10:15:01.204232598Z",
     "start_time": "2023-09-28T10:15:01.200166487Z"
    }
   },
   "id": "bd2aa18d2a3b44c1"
  },
  {
   "cell_type": "markdown",
   "source": [
    "### Wine model training"
   ],
   "metadata": {
    "collapsed": false
   },
   "id": "aec445118e55570b"
  },
  {
   "cell_type": "markdown",
   "source": [
    "\n",
    "#### Grid search"
   ],
   "metadata": {
    "collapsed": false
   },
   "id": "afec1775587dd90b"
  },
  {
   "cell_type": "code",
   "execution_count": 123,
   "outputs": [],
   "source": [],
   "metadata": {
    "collapsed": false,
    "ExecuteTime": {
     "end_time": "2023-09-28T10:15:02.774530825Z",
     "start_time": "2023-09-28T10:15:02.767779472Z"
    }
   },
   "id": "536e771b8972c927"
  },
  {
   "cell_type": "code",
   "execution_count": 124,
   "outputs": [],
   "source": [
    "grid_params = {\n",
    "    'max_depth': [1, 2, 3, 4, 5, 6, 7, 8, 9 , 10],\n",
    "    'eta': [0.01, 0.1, 0.2, 0.3, 0.4, 0.5, 0.6, 0.7, 0.8, 0.9],\n",
    "    'subsample' : [0.01, 0.1, 0.2, 0.3, 0.4, 0.5, 0.6, 0.7, 0.8, 0.9]\n",
    "}"
   ],
   "metadata": {
    "collapsed": false,
    "ExecuteTime": {
     "end_time": "2023-09-28T10:15:03.118482402Z",
     "start_time": "2023-09-28T10:15:03.114012198Z"
    }
   },
   "id": "f4477e2125c548f6"
  },
  {
   "cell_type": "code",
   "execution_count": null,
   "outputs": [],
   "source": [
    "%%time\n",
    "best = grid_search(grid_params, X_train, y_train, X_test, y_test)"
   ],
   "metadata": {
    "collapsed": false
   },
   "id": "4b96416ee03ba42b"
  },
  {
   "cell_type": "code",
   "execution_count": 128,
   "outputs": [
    {
     "data": {
      "text/plain": "{'eta': 0.1, 'max_depth': 7, 'subsample': 0.9}"
     },
     "execution_count": 128,
     "metadata": {},
     "output_type": "execute_result"
    }
   ],
   "source": [
    "best.best_params_"
   ],
   "metadata": {
    "collapsed": false,
    "ExecuteTime": {
     "end_time": "2023-09-28T10:16:43.665334329Z",
     "start_time": "2023-09-28T10:16:43.584506678Z"
    }
   },
   "id": "921c7523589fb893"
  },
  {
   "cell_type": "code",
   "execution_count": 129,
   "outputs": [
    {
     "data": {
      "text/plain": "96"
     },
     "execution_count": 129,
     "metadata": {},
     "output_type": "execute_result"
    }
   ],
   "source": [
    "len(best.best_estimator_.get_booster().get_dump())"
   ],
   "metadata": {
    "collapsed": false,
    "ExecuteTime": {
     "end_time": "2023-09-28T10:16:44.921331254Z",
     "start_time": "2023-09-28T10:16:44.852175511Z"
    }
   },
   "id": "4c4a1c205deb9465"
  },
  {
   "cell_type": "code",
   "execution_count": 131,
   "outputs": [],
   "source": [
    "# training hyperparameters\n",
    "param = {\n",
    "    'eta': 0.1,\n",
    "    'max_depth': 10,\n",
    "    'objective': 'reg:squarederror',\n",
    "    'seed': 42,\n",
    "}\n",
    "steps = 96\n"
   ],
   "metadata": {
    "collapsed": false,
    "ExecuteTime": {
     "end_time": "2023-09-28T10:16:51.258041579Z",
     "start_time": "2023-09-28T10:16:50.768915541Z"
    }
   },
   "id": "13a1576d3ef1be72"
  },
  {
   "cell_type": "code",
   "execution_count": null,
   "outputs": [],
   "source": [
    "dtrain = xgb.DMatrix(X_train, label=y_train)\n",
    "dtest = xgb.DMatrix(X_test, label=y_test)"
   ],
   "metadata": {
    "collapsed": false
   },
   "id": "e18f300f6f681889"
  },
  {
   "cell_type": "code",
   "execution_count": 134,
   "outputs": [
    {
     "name": "stdout",
     "output_type": "stream",
     "text": [
      "[0]\ttest-rmse:0.80430\ttrain-rmse:0.74238\n",
      "[50]\ttest-rmse:0.61539\ttrain-rmse:0.09249\n",
      "[95]\ttest-rmse:0.61376\ttrain-rmse:0.03612\n"
     ]
    }
   ],
   "source": [
    "not_saved_model = train_and_save_model(param, steps, dtrain, dtest, MODEL_PATH, wine_model_name)"
   ],
   "metadata": {
    "collapsed": false,
    "ExecuteTime": {
     "end_time": "2023-09-28T10:17:12.986091021Z",
     "start_time": "2023-09-28T10:17:10.183783553Z"
    }
   },
   "id": "c8e136c7dcf59e9e"
  },
  {
   "cell_type": "code",
   "execution_count": null,
   "outputs": [],
   "source": [],
   "metadata": {
    "collapsed": false
   },
   "id": "c35f1da60bacc87b"
  }
 ],
 "metadata": {
  "kernelspec": {
   "display_name": "Python 3",
   "language": "python",
   "name": "python3"
  },
  "language_info": {
   "codemirror_mode": {
    "name": "ipython",
    "version": 2
   },
   "file_extension": ".py",
   "mimetype": "text/x-python",
   "name": "python",
   "nbconvert_exporter": "python",
   "pygments_lexer": "ipython2",
   "version": "2.7.6"
  }
 },
 "nbformat": 4,
 "nbformat_minor": 5
}
