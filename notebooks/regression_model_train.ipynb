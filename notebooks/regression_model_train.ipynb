{
 "cells": [
  {
   "cell_type": "markdown",
   "source": [
    "# Cleaning regression datasets and training model"
   ],
   "metadata": {
    "collapsed": false
   },
   "id": "b4b4bae58cac0ef4"
  },
  {
   "cell_type": "markdown",
   "source": [
    "### Imports"
   ],
   "metadata": {
    "collapsed": false
   },
   "id": "772bc8ba970a2a3d"
  },
  {
   "cell_type": "code",
   "execution_count": 328,
   "outputs": [],
   "source": [
    "import pandas as pd\n",
    "import os\n",
    "from pathlib import Path\n",
    "import xgboost as xgb\n",
    "import pandas as pd\n",
    "import numpy as np\n",
    "from sklearn.preprocessing import StandardScaler\n",
    "from sklearn.model_selection import train_test_split"
   ],
   "metadata": {
    "collapsed": false,
    "ExecuteTime": {
     "end_time": "2023-09-20T08:02:55.134368213Z",
     "start_time": "2023-09-20T08:02:55.091740941Z"
    }
   },
   "id": "b970e2129446d6fc"
  },
  {
   "cell_type": "code",
   "execution_count": 329,
   "outputs": [],
   "source": [
    "while \"notebooks\" in os.getcwd():\n",
    "    os.chdir(\"../\")"
   ],
   "metadata": {
    "collapsed": false,
    "ExecuteTime": {
     "end_time": "2023-09-20T08:02:55.354349762Z",
     "start_time": "2023-09-20T08:02:55.351468857Z"
    }
   },
   "id": "af82c239644218f3"
  },
  {
   "cell_type": "code",
   "execution_count": 330,
   "outputs": [],
   "source": [
    "do_training = True"
   ],
   "metadata": {
    "collapsed": false,
    "ExecuteTime": {
     "end_time": "2023-09-20T08:02:55.532019590Z",
     "start_time": "2023-09-20T08:02:55.529613288Z"
    }
   },
   "id": "136ecaf8fcbf0b20"
  },
  {
   "cell_type": "markdown",
   "source": [
    "### California Housing Prices Datset"
   ],
   "metadata": {
    "collapsed": false
   },
   "id": "5a224d3f3b8c4a2"
  },
  {
   "cell_type": "code",
   "execution_count": 331,
   "outputs": [],
   "source": [
    "DATA_DIR = Path('data/housing_data')\n",
    "file_name = 'housing.csv'\n",
    "scaled_file_name = 'housing_scaled.csv'\n",
    "train_file_name = 'train_housing_scaled.csv'\n",
    "test_file_name = 'test_housing_scaled.csv'\n",
    "scaler_params_file = 'housing_scaling_params.csv'"
   ],
   "metadata": {
    "collapsed": false,
    "ExecuteTime": {
     "end_time": "2023-09-20T08:02:57.631102215Z",
     "start_time": "2023-09-20T08:02:57.625953162Z"
    }
   },
   "id": "f9ae54f4c823dec9"
  },
  {
   "cell_type": "code",
   "execution_count": 332,
   "outputs": [],
   "source": [
    "MODEL_PATH = Path('models/')\n",
    "housing_model_name = 'housing'"
   ],
   "metadata": {
    "collapsed": false,
    "ExecuteTime": {
     "end_time": "2023-09-20T08:02:58.255947255Z",
     "start_time": "2023-09-20T08:02:58.253376251Z"
    }
   },
   "id": "8626e7c275e73894"
  },
  {
   "cell_type": "code",
   "execution_count": 333,
   "outputs": [],
   "source": [
    "df = pd.read_csv(DATA_DIR / file_name)"
   ],
   "metadata": {
    "collapsed": false,
    "ExecuteTime": {
     "end_time": "2023-09-20T08:02:58.591159251Z",
     "start_time": "2023-09-20T08:02:58.579347258Z"
    }
   },
   "id": "abe0237a634081fc"
  },
  {
   "cell_type": "code",
   "execution_count": 334,
   "outputs": [
    {
     "name": "stdout",
     "output_type": "stream",
     "text": [
      "<class 'pandas.core.frame.DataFrame'>\n",
      "RangeIndex: 20640 entries, 0 to 20639\n",
      "Data columns (total 10 columns):\n",
      " #   Column              Non-Null Count  Dtype  \n",
      "---  ------              --------------  -----  \n",
      " 0   longitude           20640 non-null  float64\n",
      " 1   latitude            20640 non-null  float64\n",
      " 2   housing_median_age  20640 non-null  float64\n",
      " 3   total_rooms         20640 non-null  float64\n",
      " 4   total_bedrooms      20433 non-null  float64\n",
      " 5   population          20640 non-null  float64\n",
      " 6   households          20640 non-null  float64\n",
      " 7   median_income       20640 non-null  float64\n",
      " 8   median_house_value  20640 non-null  float64\n",
      " 9   ocean_proximity     20640 non-null  object \n",
      "dtypes: float64(9), object(1)\n",
      "memory usage: 1.6+ MB\n"
     ]
    }
   ],
   "source": [
    "df.info()"
   ],
   "metadata": {
    "collapsed": false,
    "ExecuteTime": {
     "end_time": "2023-09-20T08:02:58.934172817Z",
     "start_time": "2023-09-20T08:02:58.927037384Z"
    }
   },
   "id": "e5c82d8271683962"
  },
  {
   "cell_type": "code",
   "execution_count": 335,
   "outputs": [
    {
     "data": {
      "text/plain": "array(['NEAR BAY', '<1H OCEAN', 'INLAND', 'NEAR OCEAN', 'ISLAND'],\n      dtype=object)"
     },
     "execution_count": 335,
     "metadata": {},
     "output_type": "execute_result"
    }
   ],
   "source": [
    "df.ocean_proximity.unique()"
   ],
   "metadata": {
    "collapsed": false,
    "ExecuteTime": {
     "end_time": "2023-09-20T08:02:59.446007969Z",
     "start_time": "2023-09-20T08:02:59.439493737Z"
    }
   },
   "id": "bb671636f84d5d64"
  },
  {
   "cell_type": "code",
   "execution_count": 336,
   "outputs": [],
   "source": [
    "df = df.drop(columns=['ocean_proximity'])"
   ],
   "metadata": {
    "collapsed": false,
    "ExecuteTime": {
     "end_time": "2023-09-20T08:03:00.190896504Z",
     "start_time": "2023-09-20T08:03:00.185068532Z"
    }
   },
   "id": "16267e11a4600de5"
  },
  {
   "cell_type": "code",
   "execution_count": 337,
   "outputs": [
    {
     "data": {
      "text/plain": "       median_house_value\n0                452600.0\n1                358500.0\n2                352100.0\n3                341300.0\n4                342200.0\n...                   ...\n20635             78100.0\n20636             77100.0\n20637             92300.0\n20638             84700.0\n20639             89400.0\n\n[20640 rows x 1 columns]",
      "text/html": "<div>\n<style scoped>\n    .dataframe tbody tr th:only-of-type {\n        vertical-align: middle;\n    }\n\n    .dataframe tbody tr th {\n        vertical-align: top;\n    }\n\n    .dataframe thead th {\n        text-align: right;\n    }\n</style>\n<table border=\"1\" class=\"dataframe\">\n  <thead>\n    <tr style=\"text-align: right;\">\n      <th></th>\n      <th>median_house_value</th>\n    </tr>\n  </thead>\n  <tbody>\n    <tr>\n      <th>0</th>\n      <td>452600.0</td>\n    </tr>\n    <tr>\n      <th>1</th>\n      <td>358500.0</td>\n    </tr>\n    <tr>\n      <th>2</th>\n      <td>352100.0</td>\n    </tr>\n    <tr>\n      <th>3</th>\n      <td>341300.0</td>\n    </tr>\n    <tr>\n      <th>4</th>\n      <td>342200.0</td>\n    </tr>\n    <tr>\n      <th>...</th>\n      <td>...</td>\n    </tr>\n    <tr>\n      <th>20635</th>\n      <td>78100.0</td>\n    </tr>\n    <tr>\n      <th>20636</th>\n      <td>77100.0</td>\n    </tr>\n    <tr>\n      <th>20637</th>\n      <td>92300.0</td>\n    </tr>\n    <tr>\n      <th>20638</th>\n      <td>84700.0</td>\n    </tr>\n    <tr>\n      <th>20639</th>\n      <td>89400.0</td>\n    </tr>\n  </tbody>\n</table>\n<p>20640 rows × 1 columns</p>\n</div>"
     },
     "execution_count": 337,
     "metadata": {},
     "output_type": "execute_result"
    }
   ],
   "source": [
    "df.loc[:, df.columns == 'median_house_value']"
   ],
   "metadata": {
    "collapsed": false,
    "ExecuteTime": {
     "end_time": "2023-09-20T08:03:00.724157431Z",
     "start_time": "2023-09-20T08:03:00.719784293Z"
    }
   },
   "id": "fd144e363d0f63e3"
  },
  {
   "cell_type": "code",
   "execution_count": 338,
   "outputs": [],
   "source": [
    "def scale_split_df(_df: pd.DataFrame, prediction_column: str, test_size: float, data_dir: Path, \n",
    "                   scaled_df_name: str, train_df_name: str, test_df_name: str, scaler_params_name: str):\n",
    "    \n",
    "    scaler = StandardScaler()\n",
    "    features_df = df.loc[:, df.columns != prediction_column]\n",
    "    prediction_df = df.loc[:, df.columns == prediction_column]\n",
    "    scaled_features = pd.DataFrame(scaler.fit_transform(features_df))\n",
    "    scaled_features.columns = features_df.columns\n",
    "    scaled_df = pd.concat([scaled_features, prediction_df], axis=1)\n",
    "    train_df, test_df = train_test_split(scaled_df, test_size=test_size)\n",
    "    \n",
    "    scaled_df.to_csv(data_dir/scaled_df_name)\n",
    "    train_df.to_csv(data_dir/train_df_name)\n",
    "    test_df.to_csv(data_dir/test_df_name)\n",
    "    \n",
    "    normalization_params = {\n",
    "    \"mean\": scaler.mean_,\n",
    "    \"variance\": scaler.var_,\n",
    "}\n",
    "\n",
    "    normalization_params_df = pd.DataFrame.from_dict(normalization_params, orient=\"index\")\n",
    "    normalization_params_df.columns = features_df.columns\n",
    "    normalization_params_df.to_csv(DATA_DIR/scaler_params_name)\n",
    "\n",
    "    return scaled_df, train_df, test_df"
   ],
   "metadata": {
    "collapsed": false,
    "ExecuteTime": {
     "end_time": "2023-09-20T08:03:01.701805111Z",
     "start_time": "2023-09-20T08:03:01.697163448Z"
    }
   },
   "id": "a11ea90e17e21453"
  },
  {
   "cell_type": "code",
   "execution_count": 339,
   "outputs": [
    {
     "data": {
      "text/plain": "          longitude      latitude  housing_median_age   total_rooms  \\\ncount  2.064000e+04  2.064000e+04        2.064000e+04  2.064000e+04   \nmean  -8.526513e-15 -1.079584e-15        5.508083e-18  3.201573e-17   \nstd    1.000024e+00  1.000024e+00        1.000024e+00  1.000024e+00   \nmin   -2.385992e+00 -1.447568e+00       -2.196180e+00 -1.207283e+00   \n25%   -1.113209e+00 -7.967887e-01       -8.453931e-01 -5.445698e-01   \n50%    5.389137e-01 -6.422871e-01        2.864572e-02 -2.332104e-01   \n75%    7.784964e-01  9.729566e-01        6.643103e-01  2.348028e-01   \nmax    2.625280e+00  2.958068e+00        1.856182e+00  1.681558e+01   \n\n       total_bedrooms    population    households  median_income  \\\ncount    2.043300e+04  2.064000e+04  2.064000e+04   2.064000e+04   \nmean    -7.233049e-17 -1.101617e-17  6.885104e-17   6.609700e-17   \nstd      1.000024e+00  1.000024e+00  1.000024e+00   1.000024e+00   \nmin     -1.274093e+00 -1.256123e+00 -1.303984e+00  -1.774299e+00   \n25%     -5.740034e-01 -5.638089e-01 -5.742294e-01  -6.881186e-01   \n50%     -2.441308e-01 -2.291318e-01 -2.368162e-01  -1.767951e-01   \n75%      2.589843e-01  2.644949e-01  2.758427e-01   4.593063e-01   \nmax      1.401871e+01  3.025033e+01  1.460152e+01   5.858286e+00   \n\n       median_house_value  \ncount        20640.000000  \nmean        206855.816909  \nstd         115395.615874  \nmin          14999.000000  \n25%         119600.000000  \n50%         179700.000000  \n75%         264725.000000  \nmax         500001.000000  ",
      "text/html": "<div>\n<style scoped>\n    .dataframe tbody tr th:only-of-type {\n        vertical-align: middle;\n    }\n\n    .dataframe tbody tr th {\n        vertical-align: top;\n    }\n\n    .dataframe thead th {\n        text-align: right;\n    }\n</style>\n<table border=\"1\" class=\"dataframe\">\n  <thead>\n    <tr style=\"text-align: right;\">\n      <th></th>\n      <th>longitude</th>\n      <th>latitude</th>\n      <th>housing_median_age</th>\n      <th>total_rooms</th>\n      <th>total_bedrooms</th>\n      <th>population</th>\n      <th>households</th>\n      <th>median_income</th>\n      <th>median_house_value</th>\n    </tr>\n  </thead>\n  <tbody>\n    <tr>\n      <th>count</th>\n      <td>2.064000e+04</td>\n      <td>2.064000e+04</td>\n      <td>2.064000e+04</td>\n      <td>2.064000e+04</td>\n      <td>2.043300e+04</td>\n      <td>2.064000e+04</td>\n      <td>2.064000e+04</td>\n      <td>2.064000e+04</td>\n      <td>20640.000000</td>\n    </tr>\n    <tr>\n      <th>mean</th>\n      <td>-8.526513e-15</td>\n      <td>-1.079584e-15</td>\n      <td>5.508083e-18</td>\n      <td>3.201573e-17</td>\n      <td>-7.233049e-17</td>\n      <td>-1.101617e-17</td>\n      <td>6.885104e-17</td>\n      <td>6.609700e-17</td>\n      <td>206855.816909</td>\n    </tr>\n    <tr>\n      <th>std</th>\n      <td>1.000024e+00</td>\n      <td>1.000024e+00</td>\n      <td>1.000024e+00</td>\n      <td>1.000024e+00</td>\n      <td>1.000024e+00</td>\n      <td>1.000024e+00</td>\n      <td>1.000024e+00</td>\n      <td>1.000024e+00</td>\n      <td>115395.615874</td>\n    </tr>\n    <tr>\n      <th>min</th>\n      <td>-2.385992e+00</td>\n      <td>-1.447568e+00</td>\n      <td>-2.196180e+00</td>\n      <td>-1.207283e+00</td>\n      <td>-1.274093e+00</td>\n      <td>-1.256123e+00</td>\n      <td>-1.303984e+00</td>\n      <td>-1.774299e+00</td>\n      <td>14999.000000</td>\n    </tr>\n    <tr>\n      <th>25%</th>\n      <td>-1.113209e+00</td>\n      <td>-7.967887e-01</td>\n      <td>-8.453931e-01</td>\n      <td>-5.445698e-01</td>\n      <td>-5.740034e-01</td>\n      <td>-5.638089e-01</td>\n      <td>-5.742294e-01</td>\n      <td>-6.881186e-01</td>\n      <td>119600.000000</td>\n    </tr>\n    <tr>\n      <th>50%</th>\n      <td>5.389137e-01</td>\n      <td>-6.422871e-01</td>\n      <td>2.864572e-02</td>\n      <td>-2.332104e-01</td>\n      <td>-2.441308e-01</td>\n      <td>-2.291318e-01</td>\n      <td>-2.368162e-01</td>\n      <td>-1.767951e-01</td>\n      <td>179700.000000</td>\n    </tr>\n    <tr>\n      <th>75%</th>\n      <td>7.784964e-01</td>\n      <td>9.729566e-01</td>\n      <td>6.643103e-01</td>\n      <td>2.348028e-01</td>\n      <td>2.589843e-01</td>\n      <td>2.644949e-01</td>\n      <td>2.758427e-01</td>\n      <td>4.593063e-01</td>\n      <td>264725.000000</td>\n    </tr>\n    <tr>\n      <th>max</th>\n      <td>2.625280e+00</td>\n      <td>2.958068e+00</td>\n      <td>1.856182e+00</td>\n      <td>1.681558e+01</td>\n      <td>1.401871e+01</td>\n      <td>3.025033e+01</td>\n      <td>1.460152e+01</td>\n      <td>5.858286e+00</td>\n      <td>500001.000000</td>\n    </tr>\n  </tbody>\n</table>\n</div>"
     },
     "execution_count": 339,
     "metadata": {},
     "output_type": "execute_result"
    }
   ],
   "source": [
    "scaled_df, train_df, test_df = scale_split_df(df, 'median_house_value', 0.2, DATA_DIR, scaled_file_name, train_file_name, test_file_name, scaler_params_file)\n",
    "scaled_df.describe()"
   ],
   "metadata": {
    "collapsed": false,
    "ExecuteTime": {
     "end_time": "2023-09-20T08:03:02.803317090Z",
     "start_time": "2023-09-20T08:03:02.583249748Z"
    }
   },
   "id": "e314aae3cd7c014a"
  },
  {
   "cell_type": "code",
   "execution_count": 340,
   "outputs": [],
   "source": [
    "X_train = train_df.loc[:, df.columns != 'median_house_value']\n",
    "y_train = train_df.loc[:, df.columns == 'median_house_value'] \n",
    "X_test = test_df.loc[:, df.columns != 'median_house_value']\n",
    "y_test = test_df.loc[:, df.columns == 'median_house_value']"
   ],
   "metadata": {
    "collapsed": false,
    "ExecuteTime": {
     "end_time": "2023-09-20T08:03:03.675435654Z",
     "start_time": "2023-09-20T08:03:03.664212956Z"
    }
   },
   "id": "386d132a200aeea5"
  },
  {
   "cell_type": "markdown",
   "source": [
    "#### Housing model training"
   ],
   "metadata": {
    "collapsed": false
   },
   "id": "baf6b408e44e8d3e"
  },
  {
   "cell_type": "code",
   "execution_count": 341,
   "outputs": [],
   "source": [
    "def train_and_save_model(param: dict, dtrain: xgb.DMatrix, dtest: xgb.DMatrix, steps, model_path: Path, model_name: str):\n",
    "    if do_training:\n",
    "        gbdt_model = xgb.train(param, dtrain,\n",
    "                          num_boost_round=steps,\n",
    "                          evals=[(dtest, 'test'), (dtrain, 'train')],\n",
    "                          verbose_eval=50)\n",
    "    if do_training:\n",
    "        gbdt_model.dump_model(model_path / f\"{model_name}_dumped.txt\", with_stats=True)\n",
    "        gbdt_model.save_model(model_path / f\"{model_name}_saved.json\")\n",
    "    else:\n",
    "        gbdt_model = xgb.Booster()\n",
    "        gbdt_model.load_model(model_path / f\"{model_name}_saved.json\")"
   ],
   "metadata": {
    "collapsed": false,
    "ExecuteTime": {
     "end_time": "2023-09-20T08:03:05.244666307Z",
     "start_time": "2023-09-20T08:03:05.234500865Z"
    }
   },
   "id": "a664e1a1a42437de"
  },
  {
   "cell_type": "code",
   "execution_count": 342,
   "outputs": [],
   "source": [
    "# training hyperparameters\n",
    "param = {\n",
    "    'eta': 0.01,\n",
    "    'max_depth': 8,\n",
    "    'objective': 'reg:squarederror',\n",
    "    'seed': 42,\n",
    "}\n",
    "steps = 10000\n"
   ],
   "metadata": {
    "collapsed": false,
    "ExecuteTime": {
     "end_time": "2023-09-20T08:03:06.908883717Z",
     "start_time": "2023-09-20T08:03:06.902500038Z"
    }
   },
   "id": "739819601dbb8fb9"
  },
  {
   "cell_type": "code",
   "execution_count": 343,
   "outputs": [
    {
     "name": "stderr",
     "output_type": "stream",
     "text": [
      "/home/mateusz/Documents/Implementations/prediction-gap/venv/lib/python3.10/site-packages/xgboost/data.py:335: FutureWarning: is_sparse is deprecated and will be removed in a future version. Check `isinstance(dtype, pd.SparseDtype)` instead.\n",
      "  if is_sparse(dtype):\n",
      "/home/mateusz/Documents/Implementations/prediction-gap/venv/lib/python3.10/site-packages/xgboost/data.py:338: FutureWarning: is_categorical_dtype is deprecated and will be removed in a future version. Use isinstance(dtype, CategoricalDtype) instead\n",
      "  is_categorical_dtype(dtype) or is_pa_ext_categorical_dtype(dtype)\n",
      "/home/mateusz/Documents/Implementations/prediction-gap/venv/lib/python3.10/site-packages/xgboost/data.py:384: FutureWarning: is_categorical_dtype is deprecated and will be removed in a future version. Use isinstance(dtype, CategoricalDtype) instead\n",
      "  if is_categorical_dtype(dtype):\n",
      "/home/mateusz/Documents/Implementations/prediction-gap/venv/lib/python3.10/site-packages/xgboost/data.py:359: FutureWarning: is_categorical_dtype is deprecated and will be removed in a future version. Use isinstance(dtype, CategoricalDtype) instead\n",
      "  return is_int or is_bool or is_float or is_categorical_dtype(dtype)\n",
      "/home/mateusz/Documents/Implementations/prediction-gap/venv/lib/python3.10/site-packages/xgboost/data.py:384: FutureWarning: is_categorical_dtype is deprecated and will be removed in a future version. Use isinstance(dtype, CategoricalDtype) instead\n",
      "  if is_categorical_dtype(dtype):\n",
      "/home/mateusz/Documents/Implementations/prediction-gap/venv/lib/python3.10/site-packages/xgboost/data.py:359: FutureWarning: is_categorical_dtype is deprecated and will be removed in a future version. Use isinstance(dtype, CategoricalDtype) instead\n",
      "  return is_int or is_bool or is_float or is_categorical_dtype(dtype)\n",
      "/home/mateusz/Documents/Implementations/prediction-gap/venv/lib/python3.10/site-packages/xgboost/data.py:335: FutureWarning: is_sparse is deprecated and will be removed in a future version. Check `isinstance(dtype, pd.SparseDtype)` instead.\n",
      "  if is_sparse(dtype):\n",
      "/home/mateusz/Documents/Implementations/prediction-gap/venv/lib/python3.10/site-packages/xgboost/data.py:338: FutureWarning: is_categorical_dtype is deprecated and will be removed in a future version. Use isinstance(dtype, CategoricalDtype) instead\n",
      "  is_categorical_dtype(dtype) or is_pa_ext_categorical_dtype(dtype)\n",
      "/home/mateusz/Documents/Implementations/prediction-gap/venv/lib/python3.10/site-packages/xgboost/data.py:384: FutureWarning: is_categorical_dtype is deprecated and will be removed in a future version. Use isinstance(dtype, CategoricalDtype) instead\n",
      "  if is_categorical_dtype(dtype):\n",
      "/home/mateusz/Documents/Implementations/prediction-gap/venv/lib/python3.10/site-packages/xgboost/data.py:359: FutureWarning: is_categorical_dtype is deprecated and will be removed in a future version. Use isinstance(dtype, CategoricalDtype) instead\n",
      "  return is_int or is_bool or is_float or is_categorical_dtype(dtype)\n",
      "/home/mateusz/Documents/Implementations/prediction-gap/venv/lib/python3.10/site-packages/xgboost/data.py:384: FutureWarning: is_categorical_dtype is deprecated and will be removed in a future version. Use isinstance(dtype, CategoricalDtype) instead\n",
      "  if is_categorical_dtype(dtype):\n",
      "/home/mateusz/Documents/Implementations/prediction-gap/venv/lib/python3.10/site-packages/xgboost/data.py:359: FutureWarning: is_categorical_dtype is deprecated and will be removed in a future version. Use isinstance(dtype, CategoricalDtype) instead\n",
      "  return is_int or is_bool or is_float or is_categorical_dtype(dtype)\n"
     ]
    }
   ],
   "source": [
    "dtrain = xgb.DMatrix(X_train, label=y_train)\n",
    "dtest = xgb.DMatrix(X_test, label=y_test)"
   ],
   "metadata": {
    "collapsed": false,
    "ExecuteTime": {
     "end_time": "2023-09-20T08:03:07.472538734Z",
     "start_time": "2023-09-20T08:03:07.467940011Z"
    }
   },
   "id": "40a4268b2236f0d5"
  },
  {
   "cell_type": "code",
   "execution_count": 344,
   "outputs": [
    {
     "name": "stdout",
     "output_type": "stream",
     "text": [
      "[0]\ttest-rmse:113291.37249\ttrain-rmse:114904.40257\n",
      "[50]\ttest-rmse:83811.31803\ttrain-rmse:83148.69348\n",
      "[100]\ttest-rmse:68132.37475\ttrain-rmse:65130.09453\n",
      "[150]\ttest-rmse:60214.44676\ttrain-rmse:54791.01936\n",
      "[200]\ttest-rmse:55672.09710\ttrain-rmse:48430.51908\n",
      "[250]\ttest-rmse:53098.36844\ttrain-rmse:44221.65442\n",
      "[300]\ttest-rmse:51548.85364\ttrain-rmse:41353.85370\n",
      "[350]\ttest-rmse:50389.72656\ttrain-rmse:39211.29196\n",
      "[400]\ttest-rmse:49571.26916\ttrain-rmse:37462.36284\n",
      "[450]\ttest-rmse:48962.01552\ttrain-rmse:35896.49008\n",
      "[500]\ttest-rmse:48395.65594\ttrain-rmse:34599.17474\n",
      "[550]\ttest-rmse:48028.10669\ttrain-rmse:33546.38695\n",
      "[600]\ttest-rmse:47748.41193\ttrain-rmse:32611.33554\n",
      "[650]\ttest-rmse:47506.22287\ttrain-rmse:31727.74931\n",
      "[700]\ttest-rmse:47315.11400\ttrain-rmse:30954.02914\n",
      "[750]\ttest-rmse:47193.82151\ttrain-rmse:30361.67198\n",
      "[800]\ttest-rmse:47047.83481\ttrain-rmse:29690.12876\n",
      "[850]\ttest-rmse:46955.10010\ttrain-rmse:29066.25693\n",
      "[900]\ttest-rmse:46867.88535\ttrain-rmse:28512.95685\n",
      "[950]\ttest-rmse:46831.07213\ttrain-rmse:27992.08755\n",
      "[1000]\ttest-rmse:46763.38100\ttrain-rmse:27464.50931\n",
      "[1050]\ttest-rmse:46699.66989\ttrain-rmse:27008.52803\n",
      "[1100]\ttest-rmse:46643.15500\ttrain-rmse:26572.38461\n",
      "[1150]\ttest-rmse:46569.36043\ttrain-rmse:26128.22213\n",
      "[1200]\ttest-rmse:46501.03866\ttrain-rmse:25664.72275\n",
      "[1250]\ttest-rmse:46450.08143\ttrain-rmse:25257.90861\n",
      "[1300]\ttest-rmse:46412.28341\ttrain-rmse:24846.00512\n",
      "[1350]\ttest-rmse:46372.66638\ttrain-rmse:24436.15314\n",
      "[1400]\ttest-rmse:46342.24109\ttrain-rmse:24049.93886\n",
      "[1450]\ttest-rmse:46298.49203\ttrain-rmse:23663.30063\n",
      "[1500]\ttest-rmse:46249.51896\ttrain-rmse:23282.72966\n",
      "[1550]\ttest-rmse:46214.11985\ttrain-rmse:22924.28073\n",
      "[1600]\ttest-rmse:46179.19104\ttrain-rmse:22604.62719\n",
      "[1650]\ttest-rmse:46147.19792\ttrain-rmse:22244.67830\n",
      "[1700]\ttest-rmse:46121.07599\ttrain-rmse:21911.71207\n",
      "[1750]\ttest-rmse:46089.04487\ttrain-rmse:21629.39555\n",
      "[1800]\ttest-rmse:46050.58398\ttrain-rmse:21339.25534\n",
      "[1850]\ttest-rmse:46020.89656\ttrain-rmse:21053.83565\n",
      "[1900]\ttest-rmse:45991.23346\ttrain-rmse:20757.09730\n",
      "[1950]\ttest-rmse:45941.22209\ttrain-rmse:20403.71351\n",
      "[2000]\ttest-rmse:45913.39220\ttrain-rmse:20122.12916\n",
      "[2050]\ttest-rmse:45888.58355\ttrain-rmse:19871.17868\n",
      "[2100]\ttest-rmse:45874.46833\ttrain-rmse:19618.53013\n",
      "[2150]\ttest-rmse:45858.28304\ttrain-rmse:19353.89524\n",
      "[2200]\ttest-rmse:45839.60975\ttrain-rmse:19087.70447\n",
      "[2250]\ttest-rmse:45822.05928\ttrain-rmse:18805.44025\n",
      "[2300]\ttest-rmse:45806.59531\ttrain-rmse:18545.77967\n",
      "[2350]\ttest-rmse:45793.78425\ttrain-rmse:18317.47295\n",
      "[2400]\ttest-rmse:45779.11834\ttrain-rmse:18081.57862\n",
      "[2450]\ttest-rmse:45766.34087\ttrain-rmse:17884.66843\n",
      "[2500]\ttest-rmse:45751.11874\ttrain-rmse:17681.27489\n",
      "[2550]\ttest-rmse:45732.18187\ttrain-rmse:17443.55951\n",
      "[2600]\ttest-rmse:45724.10776\ttrain-rmse:17246.81987\n",
      "[2650]\ttest-rmse:45708.57795\ttrain-rmse:17023.15213\n",
      "[2700]\ttest-rmse:45698.07282\ttrain-rmse:16825.00999\n",
      "[2750]\ttest-rmse:45692.26869\ttrain-rmse:16637.36418\n",
      "[2800]\ttest-rmse:45685.10264\ttrain-rmse:16447.42915\n",
      "[2850]\ttest-rmse:45673.78703\ttrain-rmse:16257.82732\n",
      "[2900]\ttest-rmse:45671.91163\ttrain-rmse:16070.34875\n",
      "[2950]\ttest-rmse:45666.05552\ttrain-rmse:15896.73622\n",
      "[3000]\ttest-rmse:45661.90511\ttrain-rmse:15710.57680\n",
      "[3050]\ttest-rmse:45653.34760\ttrain-rmse:15505.26071\n",
      "[3100]\ttest-rmse:45653.91526\ttrain-rmse:15282.41093\n",
      "[3150]\ttest-rmse:45647.62108\ttrain-rmse:15096.46798\n",
      "[3200]\ttest-rmse:45636.49287\ttrain-rmse:14897.13284\n",
      "[3250]\ttest-rmse:45626.33808\ttrain-rmse:14715.40260\n",
      "[3300]\ttest-rmse:45617.52727\ttrain-rmse:14533.59300\n",
      "[3350]\ttest-rmse:45617.90941\ttrain-rmse:14372.57617\n",
      "[3400]\ttest-rmse:45608.79296\ttrain-rmse:14209.76316\n",
      "[3450]\ttest-rmse:45600.82257\ttrain-rmse:14050.27810\n",
      "[3500]\ttest-rmse:45601.26065\ttrain-rmse:13909.76441\n",
      "[3550]\ttest-rmse:45594.27567\ttrain-rmse:13754.31874\n",
      "[3600]\ttest-rmse:45582.12403\ttrain-rmse:13630.23901\n",
      "[3650]\ttest-rmse:45580.97740\ttrain-rmse:13522.63554\n",
      "[3700]\ttest-rmse:45581.47246\ttrain-rmse:13376.49862\n",
      "[3750]\ttest-rmse:45575.16032\ttrain-rmse:13212.74786\n",
      "[3800]\ttest-rmse:45567.59331\ttrain-rmse:13075.44694\n",
      "[3850]\ttest-rmse:45561.95381\ttrain-rmse:12930.16983\n",
      "[3900]\ttest-rmse:45559.49002\ttrain-rmse:12755.58477\n",
      "[3950]\ttest-rmse:45551.91631\ttrain-rmse:12615.72554\n",
      "[4000]\ttest-rmse:45553.38261\ttrain-rmse:12489.24848\n",
      "[4050]\ttest-rmse:45555.63876\ttrain-rmse:12359.24196\n",
      "[4100]\ttest-rmse:45552.57447\ttrain-rmse:12207.53333\n",
      "[4150]\ttest-rmse:45546.83855\ttrain-rmse:12057.25219\n",
      "[4200]\ttest-rmse:45549.60629\ttrain-rmse:11905.05433\n",
      "[4250]\ttest-rmse:45542.86154\ttrain-rmse:11775.42441\n",
      "[4300]\ttest-rmse:45545.90653\ttrain-rmse:11640.16161\n",
      "[4350]\ttest-rmse:45545.64224\ttrain-rmse:11506.74371\n",
      "[4400]\ttest-rmse:45540.92031\ttrain-rmse:11382.45699\n",
      "[4450]\ttest-rmse:45532.48350\ttrain-rmse:11261.50562\n",
      "[4500]\ttest-rmse:45529.53155\ttrain-rmse:11147.64381\n",
      "[4550]\ttest-rmse:45522.40580\ttrain-rmse:11035.72419\n",
      "[4600]\ttest-rmse:45516.89021\ttrain-rmse:10896.88764\n",
      "[4650]\ttest-rmse:45516.84143\ttrain-rmse:10782.80243\n",
      "[4700]\ttest-rmse:45522.08864\ttrain-rmse:10669.95700\n",
      "[4750]\ttest-rmse:45522.40514\ttrain-rmse:10567.40892\n",
      "[4800]\ttest-rmse:45524.21297\ttrain-rmse:10461.18172\n",
      "[4850]\ttest-rmse:45521.70042\ttrain-rmse:10355.07636\n",
      "[4900]\ttest-rmse:45518.78144\ttrain-rmse:10227.81983\n",
      "[4950]\ttest-rmse:45516.38180\ttrain-rmse:10114.99643\n",
      "[5000]\ttest-rmse:45517.80639\ttrain-rmse:9997.33887\n",
      "[5050]\ttest-rmse:45517.05054\ttrain-rmse:9882.92564\n",
      "[5100]\ttest-rmse:45515.01029\ttrain-rmse:9799.77375\n",
      "[5150]\ttest-rmse:45513.80196\ttrain-rmse:9707.36932\n",
      "[5200]\ttest-rmse:45505.05905\ttrain-rmse:9615.71639\n",
      "[5250]\ttest-rmse:45506.11651\ttrain-rmse:9518.24267\n",
      "[5300]\ttest-rmse:45503.53296\ttrain-rmse:9432.98899\n",
      "[5350]\ttest-rmse:45501.32129\ttrain-rmse:9358.07488\n",
      "[5400]\ttest-rmse:45497.82350\ttrain-rmse:9270.74263\n",
      "[5450]\ttest-rmse:45494.63780\ttrain-rmse:9178.79832\n",
      "[5500]\ttest-rmse:45493.85006\ttrain-rmse:9101.54347\n",
      "[5550]\ttest-rmse:45490.17806\ttrain-rmse:9002.85701\n",
      "[5600]\ttest-rmse:45488.58012\ttrain-rmse:8919.29209\n",
      "[5650]\ttest-rmse:45489.03239\ttrain-rmse:8838.31712\n",
      "[5700]\ttest-rmse:45483.71412\ttrain-rmse:8765.54406\n",
      "[5750]\ttest-rmse:45486.56713\ttrain-rmse:8686.52746\n",
      "[5800]\ttest-rmse:45486.81641\ttrain-rmse:8609.12733\n",
      "[5850]\ttest-rmse:45489.78462\ttrain-rmse:8507.97511\n",
      "[5900]\ttest-rmse:45485.81923\ttrain-rmse:8423.54791\n",
      "[5950]\ttest-rmse:45483.34138\ttrain-rmse:8350.79769\n",
      "[6000]\ttest-rmse:45479.97328\ttrain-rmse:8270.92141\n",
      "[6050]\ttest-rmse:45478.04136\ttrain-rmse:8188.72603\n",
      "[6100]\ttest-rmse:45479.91529\ttrain-rmse:8122.95532\n",
      "[6150]\ttest-rmse:45477.94158\ttrain-rmse:8065.99242\n",
      "[6200]\ttest-rmse:45477.90405\ttrain-rmse:7990.17082\n",
      "[6250]\ttest-rmse:45476.33276\ttrain-rmse:7898.65039\n",
      "[6300]\ttest-rmse:45476.66146\ttrain-rmse:7820.83632\n",
      "[6350]\ttest-rmse:45474.36000\ttrain-rmse:7748.01637\n",
      "[6400]\ttest-rmse:45472.60469\ttrain-rmse:7665.06795\n",
      "[6450]\ttest-rmse:45467.01761\ttrain-rmse:7585.55233\n",
      "[6500]\ttest-rmse:45466.78793\ttrain-rmse:7524.83540\n",
      "[6550]\ttest-rmse:45465.99411\ttrain-rmse:7457.74212\n",
      "[6600]\ttest-rmse:45461.87572\ttrain-rmse:7392.70161\n",
      "[6650]\ttest-rmse:45462.09328\ttrain-rmse:7334.29001\n",
      "[6700]\ttest-rmse:45460.51365\ttrain-rmse:7255.05869\n",
      "[6750]\ttest-rmse:45459.28185\ttrain-rmse:7174.47644\n",
      "[6800]\ttest-rmse:45456.26344\ttrain-rmse:7097.17170\n",
      "[6850]\ttest-rmse:45452.00297\ttrain-rmse:7030.86731\n",
      "[6900]\ttest-rmse:45450.36283\ttrain-rmse:6980.48388\n",
      "[6950]\ttest-rmse:45447.80091\ttrain-rmse:6938.54201\n",
      "[7000]\ttest-rmse:45443.57509\ttrain-rmse:6882.97675\n",
      "[7050]\ttest-rmse:45441.51239\ttrain-rmse:6817.44648\n",
      "[7100]\ttest-rmse:45440.08968\ttrain-rmse:6748.99415\n",
      "[7150]\ttest-rmse:45438.41553\ttrain-rmse:6674.36170\n",
      "[7200]\ttest-rmse:45437.91025\ttrain-rmse:6604.52425\n",
      "[7250]\ttest-rmse:45437.79573\ttrain-rmse:6543.79347\n",
      "[7300]\ttest-rmse:45439.78733\ttrain-rmse:6485.84627\n",
      "[7350]\ttest-rmse:45440.10181\ttrain-rmse:6430.11688\n",
      "[7400]\ttest-rmse:45443.52436\ttrain-rmse:6379.69317\n",
      "[7450]\ttest-rmse:45445.59841\ttrain-rmse:6323.26574\n",
      "[7500]\ttest-rmse:45445.37548\ttrain-rmse:6262.55898\n",
      "[7550]\ttest-rmse:45444.49265\ttrain-rmse:6202.73886\n",
      "[7600]\ttest-rmse:45446.15415\ttrain-rmse:6146.08530\n",
      "[7650]\ttest-rmse:45444.55669\ttrain-rmse:6083.22708\n",
      "[7700]\ttest-rmse:45445.66593\ttrain-rmse:6027.96859\n",
      "[7750]\ttest-rmse:45445.49082\ttrain-rmse:5966.52616\n",
      "[7800]\ttest-rmse:45446.81085\ttrain-rmse:5901.52284\n",
      "[7850]\ttest-rmse:45446.48737\ttrain-rmse:5847.97362\n",
      "[7900]\ttest-rmse:45446.77310\ttrain-rmse:5793.57739\n",
      "[7950]\ttest-rmse:45447.06976\ttrain-rmse:5737.82769\n",
      "[8000]\ttest-rmse:45447.34301\ttrain-rmse:5691.09844\n",
      "[8050]\ttest-rmse:45448.38794\ttrain-rmse:5639.89544\n",
      "[8100]\ttest-rmse:45447.02686\ttrain-rmse:5583.79106\n",
      "[8150]\ttest-rmse:45447.07420\ttrain-rmse:5543.43073\n",
      "[8200]\ttest-rmse:45447.64869\ttrain-rmse:5493.12067\n",
      "[8250]\ttest-rmse:45447.42994\ttrain-rmse:5450.33963\n",
      "[8300]\ttest-rmse:45446.74154\ttrain-rmse:5411.20093\n",
      "[8350]\ttest-rmse:45446.08630\ttrain-rmse:5367.37449\n",
      "[8400]\ttest-rmse:45446.11251\ttrain-rmse:5327.53925\n",
      "[8450]\ttest-rmse:45446.34189\ttrain-rmse:5273.04909\n",
      "[8500]\ttest-rmse:45445.30902\ttrain-rmse:5221.38295\n",
      "[8550]\ttest-rmse:45444.81961\ttrain-rmse:5169.52464\n",
      "[8600]\ttest-rmse:45445.54300\ttrain-rmse:5106.02889\n",
      "[8650]\ttest-rmse:45446.42314\ttrain-rmse:5051.97464\n",
      "[8700]\ttest-rmse:45446.46421\ttrain-rmse:5003.04748\n",
      "[8750]\ttest-rmse:45446.88590\ttrain-rmse:4959.71765\n",
      "[8800]\ttest-rmse:45447.52155\ttrain-rmse:4917.47102\n",
      "[8850]\ttest-rmse:45447.37380\ttrain-rmse:4878.98530\n",
      "[8900]\ttest-rmse:45449.22138\ttrain-rmse:4839.87407\n",
      "[8950]\ttest-rmse:45450.73430\ttrain-rmse:4795.75782\n",
      "[9000]\ttest-rmse:45451.49841\ttrain-rmse:4755.34082\n",
      "[9050]\ttest-rmse:45451.44400\ttrain-rmse:4714.70235\n",
      "[9100]\ttest-rmse:45449.26843\ttrain-rmse:4670.97091\n",
      "[9150]\ttest-rmse:45448.31515\ttrain-rmse:4631.30713\n",
      "[9200]\ttest-rmse:45446.81958\ttrain-rmse:4593.74476\n",
      "[9250]\ttest-rmse:45446.15329\ttrain-rmse:4546.19524\n",
      "[9300]\ttest-rmse:45445.59038\ttrain-rmse:4499.66676\n",
      "[9350]\ttest-rmse:45444.20583\ttrain-rmse:4452.29445\n",
      "[9400]\ttest-rmse:45444.43969\ttrain-rmse:4409.77694\n",
      "[9450]\ttest-rmse:45442.18647\ttrain-rmse:4367.05004\n",
      "[9500]\ttest-rmse:45440.62424\ttrain-rmse:4321.52815\n",
      "[9550]\ttest-rmse:45440.38137\ttrain-rmse:4275.43202\n",
      "[9600]\ttest-rmse:45439.59720\ttrain-rmse:4240.22789\n",
      "[9650]\ttest-rmse:45439.77665\ttrain-rmse:4209.77545\n",
      "[9700]\ttest-rmse:45439.85805\ttrain-rmse:4176.70184\n",
      "[9750]\ttest-rmse:45438.88174\ttrain-rmse:4141.68333\n",
      "[9800]\ttest-rmse:45437.85464\ttrain-rmse:4115.61401\n",
      "[9850]\ttest-rmse:45436.00790\ttrain-rmse:4082.80961\n",
      "[9900]\ttest-rmse:45434.91765\ttrain-rmse:4067.47138\n",
      "[9950]\ttest-rmse:45435.05533\ttrain-rmse:4036.81169\n",
      "[9999]\ttest-rmse:45435.30546\ttrain-rmse:3999.45322\n",
      "CPU times: user 7min 32s, sys: 804 ms, total: 7min 32s\n",
      "Wall time: 31.3 s\n"
     ]
    }
   ],
   "source": [
    "%%time\n",
    "train_and_save_model(param, dtrain, dtest, steps, MODEL_PATH, housing_model_name)"
   ],
   "metadata": {
    "collapsed": false,
    "ExecuteTime": {
     "end_time": "2023-09-20T08:03:39.602271343Z",
     "start_time": "2023-09-20T08:03:08.341770990Z"
    }
   },
   "id": "10d4352b9fdc0d82"
  },
  {
   "cell_type": "markdown",
   "source": [
    "### Red Wine Dataset"
   ],
   "metadata": {
    "collapsed": false
   },
   "id": "3640d0176a83e8f"
  },
  {
   "cell_type": "code",
   "execution_count": 345,
   "outputs": [],
   "source": [
    "DATA_DIR = Path('data/wine_quality')\n",
    "file_name = 'winequality_red.csv'\n",
    "scaled_file_name = 'winequality_red_scaled.csv'\n",
    "train_file_name = 'train_winequality_red_scaled.csv'\n",
    "test_file_name = 'test_winequality_red_scaled.csv'\n",
    "scaler_params_file = 'winequality_red_scaling_params.csv'\n",
    "MODEL_PATH = Path('models/')\n",
    "wine_model_name = 'winequality_red'"
   ],
   "metadata": {
    "collapsed": false,
    "ExecuteTime": {
     "end_time": "2023-09-20T08:03:43.275142437Z",
     "start_time": "2023-09-20T08:03:43.269358204Z"
    }
   },
   "id": "a91b9a230603342e"
  },
  {
   "cell_type": "code",
   "execution_count": 346,
   "outputs": [
    {
     "name": "stdout",
     "output_type": "stream",
     "text": [
      "<class 'pandas.core.frame.DataFrame'>\n",
      "RangeIndex: 1599 entries, 0 to 1598\n",
      "Data columns (total 12 columns):\n",
      " #   Column                Non-Null Count  Dtype  \n",
      "---  ------                --------------  -----  \n",
      " 0   fixed acidity         1599 non-null   float64\n",
      " 1   volatile acidity      1599 non-null   float64\n",
      " 2   citric acid           1599 non-null   float64\n",
      " 3   residual sugar        1599 non-null   float64\n",
      " 4   chlorides             1599 non-null   float64\n",
      " 5   free sulfur dioxide   1599 non-null   float64\n",
      " 6   total sulfur dioxide  1599 non-null   float64\n",
      " 7   density               1599 non-null   float64\n",
      " 8   pH                    1599 non-null   float64\n",
      " 9   sulphates             1599 non-null   float64\n",
      " 10  alcohol               1599 non-null   float64\n",
      " 11  quality               1599 non-null   int64  \n",
      "dtypes: float64(11), int64(1)\n",
      "memory usage: 150.0 KB\n"
     ]
    }
   ],
   "source": [
    "df = pd.read_csv(DATA_DIR / file_name, sep=';')\n",
    "df.info()"
   ],
   "metadata": {
    "collapsed": false,
    "ExecuteTime": {
     "end_time": "2023-09-20T08:03:44.042856815Z",
     "start_time": "2023-09-20T08:03:44.035809099Z"
    }
   },
   "id": "4a30ccbed4390451"
  },
  {
   "cell_type": "code",
   "execution_count": 347,
   "outputs": [
    {
     "data": {
      "text/plain": "       fixed acidity  volatile acidity   citric acid  residual sugar  \\\ncount   1.599000e+03      1.599000e+03  1.599000e+03    1.599000e+03   \nmean    3.554936e-16      1.733031e-16 -8.887339e-17   -1.244227e-16   \nstd     1.000313e+00      1.000313e+00  1.000313e+00    1.000313e+00   \nmin    -2.137045e+00     -2.278280e+00 -1.391472e+00   -1.162696e+00   \n25%    -7.007187e-01     -7.699311e-01 -9.293181e-01   -4.532184e-01   \n50%    -2.410944e-01     -4.368911e-02 -5.636026e-02   -2.403750e-01   \n75%     5.057952e-01      6.266881e-01  7.652471e-01    4.341614e-02   \nmax     4.355149e+00      5.877976e+00  3.743574e+00    9.195681e+00   \n\n          chlorides  free sulfur dioxide  total sulfur dioxide       density  \\\ncount  1.599000e+03         1.599000e+03          1.599000e+03  1.599000e+03   \nmean   3.732682e-16        -6.221137e-17          4.443669e-17 -3.473172e-14   \nstd    1.000313e+00         1.000313e+00          1.000313e+00  1.000313e+00   \nmin   -1.603945e+00        -1.422500e+00         -1.230584e+00 -3.538731e+00   \n25%   -3.712290e-01        -8.487156e-01         -7.440403e-01 -6.077557e-01   \n50%   -1.799455e-01        -1.793002e-01         -2.574968e-01  1.760083e-03   \n75%    5.384542e-02         4.901152e-01          4.723184e-01  5.768249e-01   \nmax    1.112703e+01         5.367284e+00          7.375154e+00  3.680055e+00   \n\n                 pH     sulphates       alcohol      quality  \ncount  1.599000e+03  1.599000e+03  1.599000e+03  1599.000000  \nmean   2.861723e-15  6.754377e-16  1.066481e-16     5.636023  \nstd    1.000313e+00  1.000313e+00  1.000313e+00     0.807569  \nmin   -3.700401e+00 -1.936507e+00 -1.898919e+00     3.000000  \n25%   -6.551405e-01 -6.382196e-01 -8.663789e-01     5.000000  \n50%   -7.212705e-03 -2.251281e-01 -2.093081e-01     6.000000  \n75%    5.759223e-01  4.240158e-01  6.354971e-01     6.000000  \nmax    4.528282e+00  7.918677e+00  4.202453e+00     8.000000  ",
      "text/html": "<div>\n<style scoped>\n    .dataframe tbody tr th:only-of-type {\n        vertical-align: middle;\n    }\n\n    .dataframe tbody tr th {\n        vertical-align: top;\n    }\n\n    .dataframe thead th {\n        text-align: right;\n    }\n</style>\n<table border=\"1\" class=\"dataframe\">\n  <thead>\n    <tr style=\"text-align: right;\">\n      <th></th>\n      <th>fixed acidity</th>\n      <th>volatile acidity</th>\n      <th>citric acid</th>\n      <th>residual sugar</th>\n      <th>chlorides</th>\n      <th>free sulfur dioxide</th>\n      <th>total sulfur dioxide</th>\n      <th>density</th>\n      <th>pH</th>\n      <th>sulphates</th>\n      <th>alcohol</th>\n      <th>quality</th>\n    </tr>\n  </thead>\n  <tbody>\n    <tr>\n      <th>count</th>\n      <td>1.599000e+03</td>\n      <td>1.599000e+03</td>\n      <td>1.599000e+03</td>\n      <td>1.599000e+03</td>\n      <td>1.599000e+03</td>\n      <td>1.599000e+03</td>\n      <td>1.599000e+03</td>\n      <td>1.599000e+03</td>\n      <td>1.599000e+03</td>\n      <td>1.599000e+03</td>\n      <td>1.599000e+03</td>\n      <td>1599.000000</td>\n    </tr>\n    <tr>\n      <th>mean</th>\n      <td>3.554936e-16</td>\n      <td>1.733031e-16</td>\n      <td>-8.887339e-17</td>\n      <td>-1.244227e-16</td>\n      <td>3.732682e-16</td>\n      <td>-6.221137e-17</td>\n      <td>4.443669e-17</td>\n      <td>-3.473172e-14</td>\n      <td>2.861723e-15</td>\n      <td>6.754377e-16</td>\n      <td>1.066481e-16</td>\n      <td>5.636023</td>\n    </tr>\n    <tr>\n      <th>std</th>\n      <td>1.000313e+00</td>\n      <td>1.000313e+00</td>\n      <td>1.000313e+00</td>\n      <td>1.000313e+00</td>\n      <td>1.000313e+00</td>\n      <td>1.000313e+00</td>\n      <td>1.000313e+00</td>\n      <td>1.000313e+00</td>\n      <td>1.000313e+00</td>\n      <td>1.000313e+00</td>\n      <td>1.000313e+00</td>\n      <td>0.807569</td>\n    </tr>\n    <tr>\n      <th>min</th>\n      <td>-2.137045e+00</td>\n      <td>-2.278280e+00</td>\n      <td>-1.391472e+00</td>\n      <td>-1.162696e+00</td>\n      <td>-1.603945e+00</td>\n      <td>-1.422500e+00</td>\n      <td>-1.230584e+00</td>\n      <td>-3.538731e+00</td>\n      <td>-3.700401e+00</td>\n      <td>-1.936507e+00</td>\n      <td>-1.898919e+00</td>\n      <td>3.000000</td>\n    </tr>\n    <tr>\n      <th>25%</th>\n      <td>-7.007187e-01</td>\n      <td>-7.699311e-01</td>\n      <td>-9.293181e-01</td>\n      <td>-4.532184e-01</td>\n      <td>-3.712290e-01</td>\n      <td>-8.487156e-01</td>\n      <td>-7.440403e-01</td>\n      <td>-6.077557e-01</td>\n      <td>-6.551405e-01</td>\n      <td>-6.382196e-01</td>\n      <td>-8.663789e-01</td>\n      <td>5.000000</td>\n    </tr>\n    <tr>\n      <th>50%</th>\n      <td>-2.410944e-01</td>\n      <td>-4.368911e-02</td>\n      <td>-5.636026e-02</td>\n      <td>-2.403750e-01</td>\n      <td>-1.799455e-01</td>\n      <td>-1.793002e-01</td>\n      <td>-2.574968e-01</td>\n      <td>1.760083e-03</td>\n      <td>-7.212705e-03</td>\n      <td>-2.251281e-01</td>\n      <td>-2.093081e-01</td>\n      <td>6.000000</td>\n    </tr>\n    <tr>\n      <th>75%</th>\n      <td>5.057952e-01</td>\n      <td>6.266881e-01</td>\n      <td>7.652471e-01</td>\n      <td>4.341614e-02</td>\n      <td>5.384542e-02</td>\n      <td>4.901152e-01</td>\n      <td>4.723184e-01</td>\n      <td>5.768249e-01</td>\n      <td>5.759223e-01</td>\n      <td>4.240158e-01</td>\n      <td>6.354971e-01</td>\n      <td>6.000000</td>\n    </tr>\n    <tr>\n      <th>max</th>\n      <td>4.355149e+00</td>\n      <td>5.877976e+00</td>\n      <td>3.743574e+00</td>\n      <td>9.195681e+00</td>\n      <td>1.112703e+01</td>\n      <td>5.367284e+00</td>\n      <td>7.375154e+00</td>\n      <td>3.680055e+00</td>\n      <td>4.528282e+00</td>\n      <td>7.918677e+00</td>\n      <td>4.202453e+00</td>\n      <td>8.000000</td>\n    </tr>\n  </tbody>\n</table>\n</div>"
     },
     "execution_count": 347,
     "metadata": {},
     "output_type": "execute_result"
    }
   ],
   "source": [
    "scaled_df, train_df, test_df = scale_split_df(df, 'quality', 0.2, DATA_DIR, scaled_file_name, train_file_name, test_file_name, scaler_params_file)\n",
    "scaled_df.describe()"
   ],
   "metadata": {
    "collapsed": false,
    "ExecuteTime": {
     "end_time": "2023-09-20T08:03:45.477444090Z",
     "start_time": "2023-09-20T08:03:45.424131364Z"
    }
   },
   "id": "a7f5bd41faba426b"
  },
  {
   "cell_type": "code",
   "execution_count": 348,
   "outputs": [],
   "source": [
    "X_train = train_df.loc[:, df.columns != 'quality']\n",
    "y_train = train_df.loc[:, df.columns == 'quality'] \n",
    "X_test = test_df.loc[:, df.columns != 'quality']\n",
    "y_test = test_df.loc[:, df.columns == 'quality']"
   ],
   "metadata": {
    "collapsed": false,
    "ExecuteTime": {
     "end_time": "2023-09-20T08:03:45.931849676Z",
     "start_time": "2023-09-20T08:03:45.926467648Z"
    }
   },
   "id": "4f3426f0fb4f0c0e"
  },
  {
   "cell_type": "markdown",
   "source": [
    "### Wine model training"
   ],
   "metadata": {
    "collapsed": false
   },
   "id": "c34f1e3ab1ec5289"
  },
  {
   "cell_type": "code",
   "execution_count": 349,
   "outputs": [
    {
     "name": "stderr",
     "output_type": "stream",
     "text": [
      "/home/mateusz/Documents/Implementations/prediction-gap/venv/lib/python3.10/site-packages/xgboost/data.py:335: FutureWarning: is_sparse is deprecated and will be removed in a future version. Check `isinstance(dtype, pd.SparseDtype)` instead.\n",
      "  if is_sparse(dtype):\n",
      "/home/mateusz/Documents/Implementations/prediction-gap/venv/lib/python3.10/site-packages/xgboost/data.py:338: FutureWarning: is_categorical_dtype is deprecated and will be removed in a future version. Use isinstance(dtype, CategoricalDtype) instead\n",
      "  is_categorical_dtype(dtype) or is_pa_ext_categorical_dtype(dtype)\n",
      "/home/mateusz/Documents/Implementations/prediction-gap/venv/lib/python3.10/site-packages/xgboost/data.py:384: FutureWarning: is_categorical_dtype is deprecated and will be removed in a future version. Use isinstance(dtype, CategoricalDtype) instead\n",
      "  if is_categorical_dtype(dtype):\n",
      "/home/mateusz/Documents/Implementations/prediction-gap/venv/lib/python3.10/site-packages/xgboost/data.py:359: FutureWarning: is_categorical_dtype is deprecated and will be removed in a future version. Use isinstance(dtype, CategoricalDtype) instead\n",
      "  return is_int or is_bool or is_float or is_categorical_dtype(dtype)\n",
      "/home/mateusz/Documents/Implementations/prediction-gap/venv/lib/python3.10/site-packages/xgboost/data.py:384: FutureWarning: is_categorical_dtype is deprecated and will be removed in a future version. Use isinstance(dtype, CategoricalDtype) instead\n",
      "  if is_categorical_dtype(dtype):\n",
      "/home/mateusz/Documents/Implementations/prediction-gap/venv/lib/python3.10/site-packages/xgboost/data.py:359: FutureWarning: is_categorical_dtype is deprecated and will be removed in a future version. Use isinstance(dtype, CategoricalDtype) instead\n",
      "  return is_int or is_bool or is_float or is_categorical_dtype(dtype)\n",
      "/home/mateusz/Documents/Implementations/prediction-gap/venv/lib/python3.10/site-packages/xgboost/data.py:335: FutureWarning: is_sparse is deprecated and will be removed in a future version. Check `isinstance(dtype, pd.SparseDtype)` instead.\n",
      "  if is_sparse(dtype):\n",
      "/home/mateusz/Documents/Implementations/prediction-gap/venv/lib/python3.10/site-packages/xgboost/data.py:338: FutureWarning: is_categorical_dtype is deprecated and will be removed in a future version. Use isinstance(dtype, CategoricalDtype) instead\n",
      "  is_categorical_dtype(dtype) or is_pa_ext_categorical_dtype(dtype)\n",
      "/home/mateusz/Documents/Implementations/prediction-gap/venv/lib/python3.10/site-packages/xgboost/data.py:384: FutureWarning: is_categorical_dtype is deprecated and will be removed in a future version. Use isinstance(dtype, CategoricalDtype) instead\n",
      "  if is_categorical_dtype(dtype):\n",
      "/home/mateusz/Documents/Implementations/prediction-gap/venv/lib/python3.10/site-packages/xgboost/data.py:359: FutureWarning: is_categorical_dtype is deprecated and will be removed in a future version. Use isinstance(dtype, CategoricalDtype) instead\n",
      "  return is_int or is_bool or is_float or is_categorical_dtype(dtype)\n",
      "/home/mateusz/Documents/Implementations/prediction-gap/venv/lib/python3.10/site-packages/xgboost/data.py:384: FutureWarning: is_categorical_dtype is deprecated and will be removed in a future version. Use isinstance(dtype, CategoricalDtype) instead\n",
      "  if is_categorical_dtype(dtype):\n",
      "/home/mateusz/Documents/Implementations/prediction-gap/venv/lib/python3.10/site-packages/xgboost/data.py:359: FutureWarning: is_categorical_dtype is deprecated and will be removed in a future version. Use isinstance(dtype, CategoricalDtype) instead\n",
      "  return is_int or is_bool or is_float or is_categorical_dtype(dtype)\n"
     ]
    }
   ],
   "source": [
    "# training hyperparameters\n",
    "param = {\n",
    "    'eta': 0.01,\n",
    "    'max_depth': 8,\n",
    "    'objective': 'reg:squarederror',\n",
    "    'seed': 42,\n",
    "}\n",
    "steps = 3000\n",
    "\n",
    "dtrain = xgb.DMatrix(X_train, label=y_train)\n",
    "dtest = xgb.DMatrix(X_test, label=y_test)"
   ],
   "metadata": {
    "collapsed": false,
    "ExecuteTime": {
     "end_time": "2023-09-20T08:03:47.233136018Z",
     "start_time": "2023-09-20T08:03:47.172412506Z"
    }
   },
   "id": "dbf12c0fd23a45cd"
  },
  {
   "cell_type": "code",
   "execution_count": 350,
   "outputs": [
    {
     "name": "stdout",
     "output_type": "stream",
     "text": [
      "[0]\ttest-rmse:0.80343\ttrain-rmse:0.80218\n",
      "[50]\ttest-rmse:0.67788\ttrain-rmse:0.59131\n",
      "[100]\ttest-rmse:0.62565\ttrain-rmse:0.45740\n",
      "[150]\ttest-rmse:0.60196\ttrain-rmse:0.37078\n",
      "[200]\ttest-rmse:0.59076\ttrain-rmse:0.31179\n",
      "[250]\ttest-rmse:0.58498\ttrain-rmse:0.27243\n",
      "[300]\ttest-rmse:0.58063\ttrain-rmse:0.24386\n",
      "[350]\ttest-rmse:0.57627\ttrain-rmse:0.21826\n",
      "[400]\ttest-rmse:0.57291\ttrain-rmse:0.19530\n",
      "[450]\ttest-rmse:0.57248\ttrain-rmse:0.17818\n",
      "[500]\ttest-rmse:0.57119\ttrain-rmse:0.16226\n",
      "[550]\ttest-rmse:0.57053\ttrain-rmse:0.15269\n",
      "[600]\ttest-rmse:0.57062\ttrain-rmse:0.14417\n",
      "[650]\ttest-rmse:0.57068\ttrain-rmse:0.13401\n",
      "[700]\ttest-rmse:0.57109\ttrain-rmse:0.12501\n",
      "[750]\ttest-rmse:0.57111\ttrain-rmse:0.11941\n",
      "[800]\ttest-rmse:0.57066\ttrain-rmse:0.11391\n",
      "[850]\ttest-rmse:0.57008\ttrain-rmse:0.10860\n",
      "[900]\ttest-rmse:0.56978\ttrain-rmse:0.10381\n",
      "[950]\ttest-rmse:0.56965\ttrain-rmse:0.09791\n",
      "[1000]\ttest-rmse:0.56948\ttrain-rmse:0.09353\n",
      "[1050]\ttest-rmse:0.56946\ttrain-rmse:0.08901\n",
      "[1100]\ttest-rmse:0.56947\ttrain-rmse:0.08320\n",
      "[1150]\ttest-rmse:0.56947\ttrain-rmse:0.07916\n",
      "[1200]\ttest-rmse:0.56914\ttrain-rmse:0.07491\n",
      "[1250]\ttest-rmse:0.56882\ttrain-rmse:0.07071\n",
      "[1300]\ttest-rmse:0.56848\ttrain-rmse:0.06615\n",
      "[1350]\ttest-rmse:0.56821\ttrain-rmse:0.06057\n",
      "[1400]\ttest-rmse:0.56808\ttrain-rmse:0.05674\n",
      "[1450]\ttest-rmse:0.56792\ttrain-rmse:0.05290\n",
      "[1500]\ttest-rmse:0.56775\ttrain-rmse:0.04939\n",
      "[1550]\ttest-rmse:0.56758\ttrain-rmse:0.04597\n",
      "[1600]\ttest-rmse:0.56756\ttrain-rmse:0.04201\n",
      "[1650]\ttest-rmse:0.56741\ttrain-rmse:0.03743\n",
      "[1700]\ttest-rmse:0.56740\ttrain-rmse:0.03431\n",
      "[1750]\ttest-rmse:0.56741\ttrain-rmse:0.03142\n",
      "[1800]\ttest-rmse:0.56740\ttrain-rmse:0.02963\n",
      "[1850]\ttest-rmse:0.56756\ttrain-rmse:0.02780\n",
      "[1900]\ttest-rmse:0.56753\ttrain-rmse:0.02611\n",
      "[1950]\ttest-rmse:0.56746\ttrain-rmse:0.02400\n",
      "[2000]\ttest-rmse:0.56745\ttrain-rmse:0.02241\n",
      "[2050]\ttest-rmse:0.56743\ttrain-rmse:0.02124\n",
      "[2100]\ttest-rmse:0.56742\ttrain-rmse:0.01983\n",
      "[2150]\ttest-rmse:0.56739\ttrain-rmse:0.01854\n",
      "[2200]\ttest-rmse:0.56740\ttrain-rmse:0.01723\n",
      "[2250]\ttest-rmse:0.56734\ttrain-rmse:0.01601\n",
      "[2300]\ttest-rmse:0.56730\ttrain-rmse:0.01483\n",
      "[2350]\ttest-rmse:0.56731\ttrain-rmse:0.01383\n",
      "[2400]\ttest-rmse:0.56736\ttrain-rmse:0.01278\n",
      "[2450]\ttest-rmse:0.56745\ttrain-rmse:0.01161\n",
      "[2500]\ttest-rmse:0.56751\ttrain-rmse:0.01112\n",
      "[2550]\ttest-rmse:0.56759\ttrain-rmse:0.01046\n",
      "[2600]\ttest-rmse:0.56769\ttrain-rmse:0.00976\n",
      "[2650]\ttest-rmse:0.56770\ttrain-rmse:0.00915\n",
      "[2700]\ttest-rmse:0.56777\ttrain-rmse:0.00853\n",
      "[2750]\ttest-rmse:0.56780\ttrain-rmse:0.00786\n",
      "[2800]\ttest-rmse:0.56782\ttrain-rmse:0.00713\n",
      "[2850]\ttest-rmse:0.56783\ttrain-rmse:0.00664\n",
      "[2900]\ttest-rmse:0.56782\ttrain-rmse:0.00602\n",
      "[2950]\ttest-rmse:0.56780\ttrain-rmse:0.00554\n",
      "[2999]\ttest-rmse:0.56781\ttrain-rmse:0.00529\n"
     ]
    }
   ],
   "source": [
    "train_and_save_model(param, dtrain, dtest, steps, MODEL_PATH, wine_model_name)"
   ],
   "metadata": {
    "collapsed": false,
    "ExecuteTime": {
     "end_time": "2023-09-20T08:03:54.241044473Z",
     "start_time": "2023-09-20T08:03:47.785101077Z"
    }
   },
   "id": "5b810cee925d95d8"
  },
  {
   "cell_type": "code",
   "execution_count": 327,
   "outputs": [],
   "source": [],
   "metadata": {
    "collapsed": false,
    "ExecuteTime": {
     "end_time": "2023-09-20T08:02:52.803955289Z",
     "start_time": "2023-09-20T08:02:52.801954089Z"
    }
   },
   "id": "1039c3b50a9cd31c"
  }
 ],
 "metadata": {
  "kernelspec": {
   "display_name": "Python 3",
   "language": "python",
   "name": "python3"
  },
  "language_info": {
   "codemirror_mode": {
    "name": "ipython",
    "version": 2
   },
   "file_extension": ".py",
   "mimetype": "text/x-python",
   "name": "python",
   "nbconvert_exporter": "python",
   "pygments_lexer": "ipython2",
   "version": "2.7.6"
  }
 },
 "nbformat": 4,
 "nbformat_minor": 5
}
