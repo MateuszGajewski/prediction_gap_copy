{
 "cells": [
  {
   "cell_type": "markdown",
   "id": "b6937e466208840b",
   "metadata": {
    "collapsed": false
   },
   "source": []
  },
  {
   "cell_type": "code",
   "execution_count": null,
   "id": "badf1b2c5646235e",
   "metadata": {
    "ExecuteTime": {
     "end_time": "2023-10-17T09:00:38.930300064Z",
     "start_time": "2023-10-17T09:00:38.878617975Z"
    },
    "collapsed": false
   },
   "outputs": [],
   "source": []
  },
  {
   "cell_type": "markdown",
   "id": "dcaaf2d9921ed1e8",
   "metadata": {
    "collapsed": false
   },
   "source": [
    "# Learning regression datasets and training model"
   ]
  },
  {
   "cell_type": "markdown",
   "id": "ead8bcafb37d277c",
   "metadata": {
    "collapsed": false
   },
   "source": [
    "### Imports"
   ]
  },
  {
   "cell_type": "code",
   "execution_count": 2,
   "id": "7e238ad763746385",
   "metadata": {
    "ExecuteTime": {
     "end_time": "2023-10-17T09:00:39.494868176Z",
     "start_time": "2023-10-17T09:00:38.923646234Z"
    },
    "collapsed": false
   },
   "outputs": [],
   "source": [
    "import pandas as pd\n",
    "import os\n",
    "from pathlib import Path\n",
    "import xgboost as xgb\n",
    "import pandas as pd\n",
    "import numpy as np\n",
    "from sklearn.preprocessing import StandardScaler\n",
    "from sklearn.model_selection import train_test_split\n",
    "from sklearn.model_selection import RandomizedSearchCV, GridSearchCV"
   ]
  },
  {
   "cell_type": "code",
   "execution_count": 3,
   "id": "d1267002ff43122b",
   "metadata": {
    "ExecuteTime": {
     "end_time": "2023-10-17T09:00:39.497359829Z",
     "start_time": "2023-10-17T09:00:39.495525506Z"
    },
    "collapsed": false
   },
   "outputs": [],
   "source": [
    "while \"notebooks\" in os.getcwd():\n",
    "    os.chdir(\"../\")"
   ]
  },
  {
   "cell_type": "code",
   "execution_count": 4,
   "id": "56e55ee1beebb549",
   "metadata": {
    "ExecuteTime": {
     "end_time": "2023-10-17T09:00:39.508860228Z",
     "start_time": "2023-10-17T09:00:39.499246203Z"
    },
    "collapsed": false
   },
   "outputs": [],
   "source": [
    "do_training = True"
   ]
  },
  {
   "cell_type": "markdown",
   "id": "6d5c280e3c21326d",
   "metadata": {
    "collapsed": false
   },
   "source": [
    "### California Housing Prices Datset"
   ]
  },
  {
   "cell_type": "code",
   "execution_count": 5,
   "id": "83c9877b5e539eb1",
   "metadata": {
    "ExecuteTime": {
     "end_time": "2023-10-17T09:00:39.578978446Z",
     "start_time": "2023-10-17T09:00:39.531487713Z"
    },
    "collapsed": false
   },
   "outputs": [],
   "source": [
    "DATA_DIR = Path('data/housing_data')\n",
    "file_name = 'housing.csv'\n",
    "scaled_file_name = 'housing_scaled.csv'\n",
    "train_file_name = 'train_housing_scaled.csv'\n",
    "test_file_name = 'test_housing_scaled.csv'\n",
    "scaler_params_file = 'housing_scaling_params.csv'"
   ]
  },
  {
   "cell_type": "code",
   "execution_count": 6,
   "id": "cfc250452d604e47",
   "metadata": {
    "ExecuteTime": {
     "end_time": "2023-10-17T09:00:39.714241037Z",
     "start_time": "2023-10-17T09:00:39.670748228Z"
    },
    "collapsed": false
   },
   "outputs": [],
   "source": [
    "MODEL_PATH = Path('models/')\n",
    "housing_model_name = 'housing'"
   ]
  },
  {
   "cell_type": "code",
   "execution_count": 7,
   "id": "b641c39ccc24d053",
   "metadata": {
    "ExecuteTime": {
     "end_time": "2023-10-17T09:00:40.260280141Z",
     "start_time": "2023-10-17T09:00:40.227393298Z"
    },
    "collapsed": false
   },
   "outputs": [],
   "source": [
    "df = pd.read_csv(DATA_DIR / file_name)"
   ]
  },
  {
   "cell_type": "code",
   "execution_count": 8,
   "id": "6efa7dd4519357b7",
   "metadata": {
    "ExecuteTime": {
     "end_time": "2023-10-17T09:00:40.444832830Z",
     "start_time": "2023-10-17T09:00:40.388870888Z"
    },
    "collapsed": false
   },
   "outputs": [
    {
     "name": "stdout",
     "output_type": "stream",
     "text": [
      "<class 'pandas.core.frame.DataFrame'>\n",
      "RangeIndex: 20640 entries, 0 to 20639\n",
      "Data columns (total 10 columns):\n",
      " #   Column              Non-Null Count  Dtype  \n",
      "---  ------              --------------  -----  \n",
      " 0   longitude           20640 non-null  float64\n",
      " 1   latitude            20640 non-null  float64\n",
      " 2   housing_median_age  20640 non-null  float64\n",
      " 3   total_rooms         20640 non-null  float64\n",
      " 4   total_bedrooms      20433 non-null  float64\n",
      " 5   population          20640 non-null  float64\n",
      " 6   households          20640 non-null  float64\n",
      " 7   median_income       20640 non-null  float64\n",
      " 8   median_house_value  20640 non-null  float64\n",
      " 9   ocean_proximity     20640 non-null  object \n",
      "dtypes: float64(9), object(1)\n",
      "memory usage: 1.6+ MB\n"
     ]
    }
   ],
   "source": [
    "\n",
    "df.info()"
   ]
  },
  {
   "cell_type": "code",
   "execution_count": 9,
   "id": "2371c88a8c1585d1",
   "metadata": {
    "ExecuteTime": {
     "end_time": "2023-10-17T09:00:40.633738487Z",
     "start_time": "2023-10-17T09:00:40.588945228Z"
    },
    "collapsed": false
   },
   "outputs": [
    {
     "data": {
      "text/plain": [
       "array(['NEAR BAY', '<1H OCEAN', 'INLAND', 'NEAR OCEAN', 'ISLAND'],\n",
       "      dtype=object)"
      ]
     },
     "execution_count": 9,
     "metadata": {},
     "output_type": "execute_result"
    }
   ],
   "source": [
    "df.ocean_proximity.unique()"
   ]
  },
  {
   "cell_type": "code",
   "execution_count": 10,
   "id": "65d7f58d125951f",
   "metadata": {
    "ExecuteTime": {
     "end_time": "2023-10-17T09:00:41.566587554Z",
     "start_time": "2023-10-17T09:00:41.559804040Z"
    },
    "collapsed": false
   },
   "outputs": [],
   "source": [
    "df = df.drop(columns=['ocean_proximity'])"
   ]
  },
  {
   "cell_type": "code",
   "execution_count": 11,
   "id": "548488366335ca3f",
   "metadata": {
    "ExecuteTime": {
     "end_time": "2023-10-17T09:00:42.376981052Z",
     "start_time": "2023-10-17T09:00:42.366291410Z"
    },
    "collapsed": false
   },
   "outputs": [
    {
     "data": {
      "text/html": [
       "<div>\n",
       "<style scoped>\n",
       "    .dataframe tbody tr th:only-of-type {\n",
       "        vertical-align: middle;\n",
       "    }\n",
       "\n",
       "    .dataframe tbody tr th {\n",
       "        vertical-align: top;\n",
       "    }\n",
       "\n",
       "    .dataframe thead th {\n",
       "        text-align: right;\n",
       "    }\n",
       "</style>\n",
       "<table border=\"1\" class=\"dataframe\">\n",
       "  <thead>\n",
       "    <tr style=\"text-align: right;\">\n",
       "      <th></th>\n",
       "      <th>median_house_value</th>\n",
       "    </tr>\n",
       "  </thead>\n",
       "  <tbody>\n",
       "    <tr>\n",
       "      <th>0</th>\n",
       "      <td>452600.0</td>\n",
       "    </tr>\n",
       "    <tr>\n",
       "      <th>1</th>\n",
       "      <td>358500.0</td>\n",
       "    </tr>\n",
       "    <tr>\n",
       "      <th>2</th>\n",
       "      <td>352100.0</td>\n",
       "    </tr>\n",
       "    <tr>\n",
       "      <th>3</th>\n",
       "      <td>341300.0</td>\n",
       "    </tr>\n",
       "    <tr>\n",
       "      <th>4</th>\n",
       "      <td>342200.0</td>\n",
       "    </tr>\n",
       "    <tr>\n",
       "      <th>...</th>\n",
       "      <td>...</td>\n",
       "    </tr>\n",
       "    <tr>\n",
       "      <th>20635</th>\n",
       "      <td>78100.0</td>\n",
       "    </tr>\n",
       "    <tr>\n",
       "      <th>20636</th>\n",
       "      <td>77100.0</td>\n",
       "    </tr>\n",
       "    <tr>\n",
       "      <th>20637</th>\n",
       "      <td>92300.0</td>\n",
       "    </tr>\n",
       "    <tr>\n",
       "      <th>20638</th>\n",
       "      <td>84700.0</td>\n",
       "    </tr>\n",
       "    <tr>\n",
       "      <th>20639</th>\n",
       "      <td>89400.0</td>\n",
       "    </tr>\n",
       "  </tbody>\n",
       "</table>\n",
       "<p>20640 rows × 1 columns</p>\n",
       "</div>"
      ],
      "text/plain": [
       "       median_house_value\n",
       "0                452600.0\n",
       "1                358500.0\n",
       "2                352100.0\n",
       "3                341300.0\n",
       "4                342200.0\n",
       "...                   ...\n",
       "20635             78100.0\n",
       "20636             77100.0\n",
       "20637             92300.0\n",
       "20638             84700.0\n",
       "20639             89400.0\n",
       "\n",
       "[20640 rows x 1 columns]"
      ]
     },
     "execution_count": 11,
     "metadata": {},
     "output_type": "execute_result"
    }
   ],
   "source": [
    "df.loc[:, df.columns == 'median_house_value']"
   ]
  },
  {
   "cell_type": "code",
   "execution_count": 12,
   "id": "a01a9295acd092b0",
   "metadata": {
    "ExecuteTime": {
     "end_time": "2023-10-17T09:00:43.232760686Z",
     "start_time": "2023-10-17T09:00:43.228575977Z"
    },
    "collapsed": false
   },
   "outputs": [],
   "source": [
    "def scale_split_df(_df: pd.DataFrame, prediction_column: str, test_size: float, data_dir: Path,\n",
    "                   scaled_df_name: str, train_df_name: str, test_df_name: str, scaler_params_name: str):\n",
    "\n",
    "    scaler = StandardScaler()\n",
    "    features_df = df.loc[:, df.columns != prediction_column]\n",
    "    prediction_df = df.loc[:, df.columns == prediction_column]\n",
    "    scaled_features = pd.DataFrame(scaler.fit_transform(features_df))\n",
    "    scaled_features.columns = features_df.columns.str.replace(' ', '_')\n",
    "    scaled_df = pd.concat([scaled_features, prediction_df], axis=1)\n",
    "    train_df, test_df = train_test_split(scaled_df, test_size=test_size)\n",
    "\n",
    "    scaled_df.to_csv(data_dir/scaled_df_name, index=False)\n",
    "    train_df.to_csv(data_dir/train_df_name, index=False)\n",
    "    test_df.to_csv(data_dir/test_df_name, index=False)\n",
    "\n",
    "    normalization_params = {\n",
    "        \"mean\": scaler.mean_,\n",
    "        \"variance\": scaler.var_,\n",
    "    }\n",
    "\n",
    "    normalization_params_df = pd.DataFrame.from_dict(\n",
    "        normalization_params, orient=\"index\")\n",
    "    normalization_params_df.columns = features_df.columns\n",
    "    normalization_params_df.to_csv(DATA_DIR/scaler_params_name)\n",
    "\n",
    "    return scaled_df, train_df, test_df"
   ]
  },
  {
   "cell_type": "code",
   "execution_count": 13,
   "id": "d0a2c484d3c68436",
   "metadata": {
    "ExecuteTime": {
     "end_time": "2023-10-17T09:00:44.231457307Z",
     "start_time": "2023-10-17T09:00:43.982228675Z"
    },
    "collapsed": false
   },
   "outputs": [
    {
     "data": {
      "text/html": [
       "<div>\n",
       "<style scoped>\n",
       "    .dataframe tbody tr th:only-of-type {\n",
       "        vertical-align: middle;\n",
       "    }\n",
       "\n",
       "    .dataframe tbody tr th {\n",
       "        vertical-align: top;\n",
       "    }\n",
       "\n",
       "    .dataframe thead th {\n",
       "        text-align: right;\n",
       "    }\n",
       "</style>\n",
       "<table border=\"1\" class=\"dataframe\">\n",
       "  <thead>\n",
       "    <tr style=\"text-align: right;\">\n",
       "      <th></th>\n",
       "      <th>longitude</th>\n",
       "      <th>latitude</th>\n",
       "      <th>housing_median_age</th>\n",
       "      <th>total_rooms</th>\n",
       "      <th>total_bedrooms</th>\n",
       "      <th>population</th>\n",
       "      <th>households</th>\n",
       "      <th>median_income</th>\n",
       "      <th>median_house_value</th>\n",
       "    </tr>\n",
       "  </thead>\n",
       "  <tbody>\n",
       "    <tr>\n",
       "      <th>count</th>\n",
       "      <td>2.064000e+04</td>\n",
       "      <td>2.064000e+04</td>\n",
       "      <td>2.064000e+04</td>\n",
       "      <td>2.064000e+04</td>\n",
       "      <td>2.043300e+04</td>\n",
       "      <td>2.064000e+04</td>\n",
       "      <td>2.064000e+04</td>\n",
       "      <td>2.064000e+04</td>\n",
       "      <td>20640.000000</td>\n",
       "    </tr>\n",
       "    <tr>\n",
       "      <th>mean</th>\n",
       "      <td>-8.526513e-15</td>\n",
       "      <td>-1.079584e-15</td>\n",
       "      <td>5.508083e-18</td>\n",
       "      <td>3.201573e-17</td>\n",
       "      <td>-7.233049e-17</td>\n",
       "      <td>-1.101617e-17</td>\n",
       "      <td>6.885104e-17</td>\n",
       "      <td>6.609700e-17</td>\n",
       "      <td>206855.816909</td>\n",
       "    </tr>\n",
       "    <tr>\n",
       "      <th>std</th>\n",
       "      <td>1.000024e+00</td>\n",
       "      <td>1.000024e+00</td>\n",
       "      <td>1.000024e+00</td>\n",
       "      <td>1.000024e+00</td>\n",
       "      <td>1.000024e+00</td>\n",
       "      <td>1.000024e+00</td>\n",
       "      <td>1.000024e+00</td>\n",
       "      <td>1.000024e+00</td>\n",
       "      <td>115395.615874</td>\n",
       "    </tr>\n",
       "    <tr>\n",
       "      <th>min</th>\n",
       "      <td>-2.385992e+00</td>\n",
       "      <td>-1.447568e+00</td>\n",
       "      <td>-2.196180e+00</td>\n",
       "      <td>-1.207283e+00</td>\n",
       "      <td>-1.274093e+00</td>\n",
       "      <td>-1.256123e+00</td>\n",
       "      <td>-1.303984e+00</td>\n",
       "      <td>-1.774299e+00</td>\n",
       "      <td>14999.000000</td>\n",
       "    </tr>\n",
       "    <tr>\n",
       "      <th>25%</th>\n",
       "      <td>-1.113209e+00</td>\n",
       "      <td>-7.967887e-01</td>\n",
       "      <td>-8.453931e-01</td>\n",
       "      <td>-5.445698e-01</td>\n",
       "      <td>-5.740034e-01</td>\n",
       "      <td>-5.638089e-01</td>\n",
       "      <td>-5.742294e-01</td>\n",
       "      <td>-6.881186e-01</td>\n",
       "      <td>119600.000000</td>\n",
       "    </tr>\n",
       "    <tr>\n",
       "      <th>50%</th>\n",
       "      <td>5.389137e-01</td>\n",
       "      <td>-6.422871e-01</td>\n",
       "      <td>2.864572e-02</td>\n",
       "      <td>-2.332104e-01</td>\n",
       "      <td>-2.441308e-01</td>\n",
       "      <td>-2.291318e-01</td>\n",
       "      <td>-2.368162e-01</td>\n",
       "      <td>-1.767951e-01</td>\n",
       "      <td>179700.000000</td>\n",
       "    </tr>\n",
       "    <tr>\n",
       "      <th>75%</th>\n",
       "      <td>7.784964e-01</td>\n",
       "      <td>9.729566e-01</td>\n",
       "      <td>6.643103e-01</td>\n",
       "      <td>2.348028e-01</td>\n",
       "      <td>2.589843e-01</td>\n",
       "      <td>2.644949e-01</td>\n",
       "      <td>2.758427e-01</td>\n",
       "      <td>4.593063e-01</td>\n",
       "      <td>264725.000000</td>\n",
       "    </tr>\n",
       "    <tr>\n",
       "      <th>max</th>\n",
       "      <td>2.625280e+00</td>\n",
       "      <td>2.958068e+00</td>\n",
       "      <td>1.856182e+00</td>\n",
       "      <td>1.681558e+01</td>\n",
       "      <td>1.401871e+01</td>\n",
       "      <td>3.025033e+01</td>\n",
       "      <td>1.460152e+01</td>\n",
       "      <td>5.858286e+00</td>\n",
       "      <td>500001.000000</td>\n",
       "    </tr>\n",
       "  </tbody>\n",
       "</table>\n",
       "</div>"
      ],
      "text/plain": [
       "          longitude      latitude  housing_median_age   total_rooms  \\\n",
       "count  2.064000e+04  2.064000e+04        2.064000e+04  2.064000e+04   \n",
       "mean  -8.526513e-15 -1.079584e-15        5.508083e-18  3.201573e-17   \n",
       "std    1.000024e+00  1.000024e+00        1.000024e+00  1.000024e+00   \n",
       "min   -2.385992e+00 -1.447568e+00       -2.196180e+00 -1.207283e+00   \n",
       "25%   -1.113209e+00 -7.967887e-01       -8.453931e-01 -5.445698e-01   \n",
       "50%    5.389137e-01 -6.422871e-01        2.864572e-02 -2.332104e-01   \n",
       "75%    7.784964e-01  9.729566e-01        6.643103e-01  2.348028e-01   \n",
       "max    2.625280e+00  2.958068e+00        1.856182e+00  1.681558e+01   \n",
       "\n",
       "       total_bedrooms    population    households  median_income  \\\n",
       "count    2.043300e+04  2.064000e+04  2.064000e+04   2.064000e+04   \n",
       "mean    -7.233049e-17 -1.101617e-17  6.885104e-17   6.609700e-17   \n",
       "std      1.000024e+00  1.000024e+00  1.000024e+00   1.000024e+00   \n",
       "min     -1.274093e+00 -1.256123e+00 -1.303984e+00  -1.774299e+00   \n",
       "25%     -5.740034e-01 -5.638089e-01 -5.742294e-01  -6.881186e-01   \n",
       "50%     -2.441308e-01 -2.291318e-01 -2.368162e-01  -1.767951e-01   \n",
       "75%      2.589843e-01  2.644949e-01  2.758427e-01   4.593063e-01   \n",
       "max      1.401871e+01  3.025033e+01  1.460152e+01   5.858286e+00   \n",
       "\n",
       "       median_house_value  \n",
       "count        20640.000000  \n",
       "mean        206855.816909  \n",
       "std         115395.615874  \n",
       "min          14999.000000  \n",
       "25%         119600.000000  \n",
       "50%         179700.000000  \n",
       "75%         264725.000000  \n",
       "max         500001.000000  "
      ]
     },
     "execution_count": 13,
     "metadata": {},
     "output_type": "execute_result"
    }
   ],
   "source": [
    "scaled_df, train_df, test_df = scale_split_df(\n",
    "    df, 'median_house_value', 0.2, DATA_DIR, scaled_file_name, train_file_name, test_file_name, scaler_params_file)\n",
    "scaled_df.describe()"
   ]
  },
  {
   "cell_type": "code",
   "execution_count": 14,
   "id": "4eaf74491a35c165",
   "metadata": {
    "ExecuteTime": {
     "end_time": "2023-10-17T09:00:44.635830560Z",
     "start_time": "2023-10-17T09:00:44.628940725Z"
    },
    "collapsed": false
   },
   "outputs": [],
   "source": [
    "X_train = train_df.loc[:, df.columns != 'median_house_value']\n",
    "y_train = train_df.loc[:, df.columns == 'median_house_value']\n",
    "X_test = test_df.loc[:, df.columns != 'median_house_value']\n",
    "y_test = test_df.loc[:, df.columns == 'median_house_value']"
   ]
  },
  {
   "cell_type": "markdown",
   "id": "cd4ac7ec2102f984",
   "metadata": {
    "collapsed": false
   },
   "source": [
    "#### Housing model training"
   ]
  },
  {
   "cell_type": "code",
   "execution_count": 15,
   "id": "f14fbe7185072711",
   "metadata": {
    "ExecuteTime": {
     "end_time": "2023-10-17T09:00:51.575363915Z",
     "start_time": "2023-10-17T09:00:51.570669957Z"
    },
    "collapsed": false
   },
   "outputs": [],
   "source": [
    "def train_and_save_model(param: dict, steps: int, dtrain: xgb.DMatrix, dtest: xgb.DMatrix, model_path: Path, model_name: str):\n",
    "    if do_training:\n",
    "        gbdt_model = xgb.train(param, dtrain,\n",
    "                               evals=[(dtest, 'test'), (dtrain, 'train')],\n",
    "                               verbose_eval=50, early_stopping_rounds=1, num_boost_round=steps\n",
    "                               )\n",
    "    if do_training:\n",
    "        gbdt_model.dump_model(\n",
    "            model_path / f\"{model_name}_dumped.txt\", with_stats=True)\n",
    "        gbdt_model.save_model(model_path / f\"{model_name}_saved.json\")\n",
    "    else:\n",
    "        gbdt_model = xgb.Booster()\n",
    "        gbdt_model.load_model(model_path / f\"{model_name}_saved.json\")\n",
    "    return gbdt_model"
   ]
  },
  {
   "cell_type": "markdown",
   "id": "d8e1830a4650ffb2",
   "metadata": {
    "collapsed": false
   },
   "source": [
    "#### Performing grid_search"
   ]
  },
  {
   "cell_type": "code",
   "execution_count": 31,
   "id": "24a8d66ba6a5d898",
   "metadata": {
    "ExecuteTime": {
     "end_time": "2023-10-17T09:01:31.841517016Z",
     "start_time": "2023-10-17T09:01:31.791042149Z"
    },
    "collapsed": false
   },
   "outputs": [],
   "source": [
    "def grid_search(space: dict, X_train: pd.DataFrame, y_train: pd.DataFrame, X_test: pd.DataFrame, y_test: pd.DataFrame):\n",
    "    clf = xgb.XGBRegressor(\n",
    "        objective='reg:squarederror',\n",
    "        early_stopping_rounds=10,\n",
    "        n_boost_rounds=300\n",
    "\n",
    "\n",
    "    )\n",
    "    grid_search = GridSearchCV(\n",
    "        clf, param_grid=space, scoring='neg_root_mean_squared_error', n_jobs=4, cv=5)\n",
    "    grid_search.fit(X_train, y_train, eval_set=[(X_test, y_test)])\n",
    "    return grid_search"
   ]
  },
  {
   "cell_type": "code",
   "execution_count": 32,
   "id": "535c099b97655a41",
   "metadata": {
    "ExecuteTime": {
     "end_time": "2023-10-17T09:01:32.490866621Z",
     "start_time": "2023-10-17T09:01:32.484090263Z"
    },
    "collapsed": false
   },
   "outputs": [],
   "source": [
    "grid_params = {\n",
    "    'max_depth': [1, 2, 3, 4],\n",
    "    'eta': [0.01, 0.1, 0.2, 0.3, 0.4, 0.5, 0.6, 0.7, 0.8, 0.9],\n",
    "    'subsample': [0.01, 0.1, 0.2, 0.3, 0.4, 0.5, 0.6, 0.7, 0.8, 0.9]\n",
    "}"
   ]
  },
  {
   "cell_type": "code",
   "execution_count": 33,
   "id": "99b8652f",
   "metadata": {},
   "outputs": [],
   "source": [
    "grid_params_big = {\n",
    "    'max_depth': [1, 2, 3, 4, 5, 6, 7, 8, 9, 10],\n",
    "    'eta': [0.01, 0.1, 0.2, 0.3, 0.4, 0.5, 0.6, 0.7, 0.8, 0.9],\n",
    "    'subsample': [0.01, 0.1, 0.2, 0.3, 0.4, 0.5, 0.6, 0.7, 0.8, 0.9]\n",
    "}"
   ]
  },
  {
   "cell_type": "code",
   "execution_count": null,
   "id": "3073b371cb0ac78f",
   "metadata": {
    "collapsed": false
   },
   "outputs": [],
   "source": [
    "%%time\n",
    "best = grid_search(grid_params, X_train, y_train, X_test, y_test)"
   ]
  },
  {
   "cell_type": "code",
   "execution_count": null,
   "id": "410cf2a0",
   "metadata": {},
   "outputs": [],
   "source": [
    "%%time\n",
    "best_big = grid_search(grid_params_big, X_train, y_train, X_test, y_test)"
   ]
  },
  {
   "cell_type": "code",
   "execution_count": 39,
   "id": "7e2f7ba103555e56",
   "metadata": {
    "ExecuteTime": {
     "end_time": "2023-10-17T09:05:56.287569241Z",
     "start_time": "2023-10-17T09:05:56.284664225Z"
    },
    "collapsed": false
   },
   "outputs": [
    {
     "data": {
      "text/plain": [
       "{'eta': 0.3, 'max_depth': 4, 'subsample': 0.9}"
      ]
     },
     "execution_count": 39,
     "metadata": {},
     "output_type": "execute_result"
    }
   ],
   "source": [
    "best.best_params_"
   ]
  },
  {
   "cell_type": "code",
   "execution_count": 40,
   "id": "69c8bd73bcd4e234",
   "metadata": {
    "ExecuteTime": {
     "end_time": "2023-10-17T09:06:02.121747830Z",
     "start_time": "2023-10-17T09:06:02.098368522Z"
    },
    "collapsed": false
   },
   "outputs": [
    {
     "data": {
      "text/plain": [
       "100"
      ]
     },
     "execution_count": 40,
     "metadata": {},
     "output_type": "execute_result"
    }
   ],
   "source": [
    "len(best.best_estimator_.get_booster().get_dump())"
   ]
  },
  {
   "cell_type": "code",
   "execution_count": 41,
   "id": "b2f28cd8",
   "metadata": {},
   "outputs": [
    {
     "data": {
      "text/plain": [
       "{'eta': 0.1, 'max_depth': 7, 'subsample': 0.8}"
      ]
     },
     "execution_count": 41,
     "metadata": {},
     "output_type": "execute_result"
    }
   ],
   "source": [
    "best_big.best_params_"
   ]
  },
  {
   "cell_type": "code",
   "execution_count": 42,
   "id": "f402822a",
   "metadata": {},
   "outputs": [
    {
     "data": {
      "text/plain": [
       "100"
      ]
     },
     "execution_count": 42,
     "metadata": {},
     "output_type": "execute_result"
    }
   ],
   "source": [
    "len(best_big.best_estimator_.get_booster().get_dump())"
   ]
  },
  {
   "cell_type": "code",
   "execution_count": 26,
   "id": "ad34dd1da228236e",
   "metadata": {
    "ExecuteTime": {
     "end_time": "2023-10-17T09:07:24.008070365Z",
     "start_time": "2023-10-17T09:07:23.982120816Z"
    },
    "collapsed": false
   },
   "outputs": [],
   "source": [
    "# training hyperparameters\n",
    "param = {\n",
    "    'eta': 0.1,\n",
    "    'max_depth': 4,\n",
    "    'objective': 'reg:squarederror',\n",
    "    'seed': 42,\n",
    "    'subsample': 0.9,\n",
    "}\n",
    "steps = 100"
   ]
  },
  {
   "cell_type": "code",
   "execution_count": 43,
   "id": "ccf68161",
   "metadata": {},
   "outputs": [],
   "source": [
    "# training hyperparameters\n",
    "param_big = {\n",
    "    'eta': 0.1,\n",
    "    'max_depth': 7,\n",
    "    'objective': 'reg:squarederror',\n",
    "    'seed': 42,\n",
    "    'subsample': 0.8,\n",
    "}\n",
    "steps = 100"
   ]
  },
  {
   "cell_type": "code",
   "execution_count": null,
   "id": "488ff15324cf74cc",
   "metadata": {
    "ExecuteTime": {
     "end_time": "2023-10-17T09:07:24.953870435Z",
     "start_time": "2023-10-17T09:07:24.905073106Z"
    },
    "collapsed": false
   },
   "outputs": [],
   "source": [
    "dtrain = xgb.DMatrix(X_train, label=y_train)\n",
    "dtest = xgb.DMatrix(X_test, label=y_test)"
   ]
  },
  {
   "cell_type": "code",
   "execution_count": 45,
   "id": "392f5700b4df5923",
   "metadata": {
    "ExecuteTime": {
     "end_time": "2023-10-17T09:07:26.077328665Z",
     "start_time": "2023-10-17T09:07:25.503877308Z"
    },
    "collapsed": false
   },
   "outputs": [
    {
     "name": "stdout",
     "output_type": "stream",
     "text": [
      "[0]\ttest-rmse:107902.39448\ttrain-rmse:109480.31063\n",
      "[50]\ttest-rmse:55464.40336\ttrain-rmse:53688.37479\n",
      "[99]\ttest-rmse:51646.68341\ttrain-rmse:47863.76901\n",
      "CPU times: user 8.02 s, sys: 446 µs, total: 8.02 s\n",
      "Wall time: 559 ms\n"
     ]
    },
    {
     "data": {
      "text/plain": [
       "<xgboost.core.Booster at 0x7f664bfd6e90>"
      ]
     },
     "execution_count": 45,
     "metadata": {},
     "output_type": "execute_result"
    }
   ],
   "source": [
    "%%time\n",
    "train_and_save_model(param, steps, dtrain, dtest, MODEL_PATH, housing_model_name)"
   ]
  },
  {
   "cell_type": "code",
   "execution_count": 46,
   "id": "6daaecc7",
   "metadata": {},
   "outputs": [
    {
     "name": "stdout",
     "output_type": "stream",
     "text": [
      "[0]\ttest-rmse:106355.53035\ttrain-rmse:107748.06093\n",
      "[50]\ttest-rmse:49341.76109\ttrain-rmse:39524.67722\n",
      "[99]\ttest-rmse:47751.58023\ttrain-rmse:33234.35557\n",
      "CPU times: user 16.1 s, sys: 0 ns, total: 16.1 s\n",
      "Wall time: 1.11 s\n"
     ]
    },
    {
     "data": {
      "text/plain": [
       "<xgboost.core.Booster at 0x7f664bfd76d0>"
      ]
     },
     "execution_count": 46,
     "metadata": {},
     "output_type": "execute_result"
    }
   ],
   "source": [
    "%%time\n",
    "train_and_save_model(param_big, steps, dtrain, dtest, MODEL_PATH, housing_model_name + '_big')"
   ]
  },
  {
   "cell_type": "markdown",
   "id": "ae796dd7a8aff925",
   "metadata": {
    "collapsed": false
   },
   "source": [
    "### Red Wine Dataset"
   ]
  },
  {
   "cell_type": "code",
   "execution_count": 47,
   "id": "d12ea99ef51862",
   "metadata": {
    "ExecuteTime": {
     "end_time": "2023-10-17T09:07:51.951752972Z",
     "start_time": "2023-10-17T09:07:51.908502608Z"
    },
    "collapsed": false
   },
   "outputs": [],
   "source": [
    "DATA_DIR = Path('data/wine_quality')\n",
    "file_name = 'winequality_red.csv'\n",
    "scaled_file_name = 'winequality_red_scaled.csv'\n",
    "train_file_name = 'train_winequality_red_scaled.csv'\n",
    "test_file_name = 'test_winequality_red_scaled.csv'\n",
    "scaler_params_file = 'winequality_red_scaling_params.csv'\n",
    "MODEL_PATH = Path('models/')\n",
    "wine_model_name = 'winequality_red'"
   ]
  },
  {
   "cell_type": "code",
   "execution_count": 48,
   "id": "b13f2f4aa6fe1da0",
   "metadata": {
    "ExecuteTime": {
     "end_time": "2023-10-17T09:07:52.469454751Z",
     "start_time": "2023-10-17T09:07:52.455540465Z"
    },
    "collapsed": false
   },
   "outputs": [
    {
     "name": "stdout",
     "output_type": "stream",
     "text": [
      "<class 'pandas.core.frame.DataFrame'>\n",
      "RangeIndex: 1599 entries, 0 to 1598\n",
      "Data columns (total 12 columns):\n",
      " #   Column                Non-Null Count  Dtype  \n",
      "---  ------                --------------  -----  \n",
      " 0   fixed acidity         1599 non-null   float64\n",
      " 1   volatile acidity      1599 non-null   float64\n",
      " 2   citric acid           1599 non-null   float64\n",
      " 3   residual sugar        1599 non-null   float64\n",
      " 4   chlorides             1599 non-null   float64\n",
      " 5   free sulfur dioxide   1599 non-null   float64\n",
      " 6   total sulfur dioxide  1599 non-null   float64\n",
      " 7   density               1599 non-null   float64\n",
      " 8   pH                    1599 non-null   float64\n",
      " 9   sulphates             1599 non-null   float64\n",
      " 10  alcohol               1599 non-null   float64\n",
      " 11  quality               1599 non-null   int64  \n",
      "dtypes: float64(11), int64(1)\n",
      "memory usage: 150.0 KB\n"
     ]
    }
   ],
   "source": [
    "df = pd.read_csv(DATA_DIR / file_name, sep=';')\n",
    "df.info()"
   ]
  },
  {
   "cell_type": "code",
   "execution_count": 49,
   "id": "7bcfc129bbc50eda",
   "metadata": {
    "ExecuteTime": {
     "end_time": "2023-10-17T09:07:53.086924971Z",
     "start_time": "2023-10-17T09:07:53.020241715Z"
    },
    "collapsed": false
   },
   "outputs": [
    {
     "data": {
      "text/html": [
       "<div>\n",
       "<style scoped>\n",
       "    .dataframe tbody tr th:only-of-type {\n",
       "        vertical-align: middle;\n",
       "    }\n",
       "\n",
       "    .dataframe tbody tr th {\n",
       "        vertical-align: top;\n",
       "    }\n",
       "\n",
       "    .dataframe thead th {\n",
       "        text-align: right;\n",
       "    }\n",
       "</style>\n",
       "<table border=\"1\" class=\"dataframe\">\n",
       "  <thead>\n",
       "    <tr style=\"text-align: right;\">\n",
       "      <th></th>\n",
       "      <th>fixed_acidity</th>\n",
       "      <th>volatile_acidity</th>\n",
       "      <th>citric_acid</th>\n",
       "      <th>residual_sugar</th>\n",
       "      <th>chlorides</th>\n",
       "      <th>free_sulfur_dioxide</th>\n",
       "      <th>total_sulfur_dioxide</th>\n",
       "      <th>density</th>\n",
       "      <th>pH</th>\n",
       "      <th>sulphates</th>\n",
       "      <th>alcohol</th>\n",
       "      <th>quality</th>\n",
       "    </tr>\n",
       "  </thead>\n",
       "  <tbody>\n",
       "    <tr>\n",
       "      <th>count</th>\n",
       "      <td>1.599000e+03</td>\n",
       "      <td>1.599000e+03</td>\n",
       "      <td>1.599000e+03</td>\n",
       "      <td>1.599000e+03</td>\n",
       "      <td>1.599000e+03</td>\n",
       "      <td>1.599000e+03</td>\n",
       "      <td>1.599000e+03</td>\n",
       "      <td>1.599000e+03</td>\n",
       "      <td>1.599000e+03</td>\n",
       "      <td>1.599000e+03</td>\n",
       "      <td>1.599000e+03</td>\n",
       "      <td>1599.000000</td>\n",
       "    </tr>\n",
       "    <tr>\n",
       "      <th>mean</th>\n",
       "      <td>3.554936e-16</td>\n",
       "      <td>1.733031e-16</td>\n",
       "      <td>-8.887339e-17</td>\n",
       "      <td>-1.244227e-16</td>\n",
       "      <td>3.732682e-16</td>\n",
       "      <td>-6.221137e-17</td>\n",
       "      <td>4.443669e-17</td>\n",
       "      <td>-3.473172e-14</td>\n",
       "      <td>2.861723e-15</td>\n",
       "      <td>6.754377e-16</td>\n",
       "      <td>1.066481e-16</td>\n",
       "      <td>5.636023</td>\n",
       "    </tr>\n",
       "    <tr>\n",
       "      <th>std</th>\n",
       "      <td>1.000313e+00</td>\n",
       "      <td>1.000313e+00</td>\n",
       "      <td>1.000313e+00</td>\n",
       "      <td>1.000313e+00</td>\n",
       "      <td>1.000313e+00</td>\n",
       "      <td>1.000313e+00</td>\n",
       "      <td>1.000313e+00</td>\n",
       "      <td>1.000313e+00</td>\n",
       "      <td>1.000313e+00</td>\n",
       "      <td>1.000313e+00</td>\n",
       "      <td>1.000313e+00</td>\n",
       "      <td>0.807569</td>\n",
       "    </tr>\n",
       "    <tr>\n",
       "      <th>min</th>\n",
       "      <td>-2.137045e+00</td>\n",
       "      <td>-2.278280e+00</td>\n",
       "      <td>-1.391472e+00</td>\n",
       "      <td>-1.162696e+00</td>\n",
       "      <td>-1.603945e+00</td>\n",
       "      <td>-1.422500e+00</td>\n",
       "      <td>-1.230584e+00</td>\n",
       "      <td>-3.538731e+00</td>\n",
       "      <td>-3.700401e+00</td>\n",
       "      <td>-1.936507e+00</td>\n",
       "      <td>-1.898919e+00</td>\n",
       "      <td>3.000000</td>\n",
       "    </tr>\n",
       "    <tr>\n",
       "      <th>25%</th>\n",
       "      <td>-7.007187e-01</td>\n",
       "      <td>-7.699311e-01</td>\n",
       "      <td>-9.293181e-01</td>\n",
       "      <td>-4.532184e-01</td>\n",
       "      <td>-3.712290e-01</td>\n",
       "      <td>-8.487156e-01</td>\n",
       "      <td>-7.440403e-01</td>\n",
       "      <td>-6.077557e-01</td>\n",
       "      <td>-6.551405e-01</td>\n",
       "      <td>-6.382196e-01</td>\n",
       "      <td>-8.663789e-01</td>\n",
       "      <td>5.000000</td>\n",
       "    </tr>\n",
       "    <tr>\n",
       "      <th>50%</th>\n",
       "      <td>-2.410944e-01</td>\n",
       "      <td>-4.368911e-02</td>\n",
       "      <td>-5.636026e-02</td>\n",
       "      <td>-2.403750e-01</td>\n",
       "      <td>-1.799455e-01</td>\n",
       "      <td>-1.793002e-01</td>\n",
       "      <td>-2.574968e-01</td>\n",
       "      <td>1.760083e-03</td>\n",
       "      <td>-7.212705e-03</td>\n",
       "      <td>-2.251281e-01</td>\n",
       "      <td>-2.093081e-01</td>\n",
       "      <td>6.000000</td>\n",
       "    </tr>\n",
       "    <tr>\n",
       "      <th>75%</th>\n",
       "      <td>5.057952e-01</td>\n",
       "      <td>6.266881e-01</td>\n",
       "      <td>7.652471e-01</td>\n",
       "      <td>4.341614e-02</td>\n",
       "      <td>5.384542e-02</td>\n",
       "      <td>4.901152e-01</td>\n",
       "      <td>4.723184e-01</td>\n",
       "      <td>5.768249e-01</td>\n",
       "      <td>5.759223e-01</td>\n",
       "      <td>4.240158e-01</td>\n",
       "      <td>6.354971e-01</td>\n",
       "      <td>6.000000</td>\n",
       "    </tr>\n",
       "    <tr>\n",
       "      <th>max</th>\n",
       "      <td>4.355149e+00</td>\n",
       "      <td>5.877976e+00</td>\n",
       "      <td>3.743574e+00</td>\n",
       "      <td>9.195681e+00</td>\n",
       "      <td>1.112703e+01</td>\n",
       "      <td>5.367284e+00</td>\n",
       "      <td>7.375154e+00</td>\n",
       "      <td>3.680055e+00</td>\n",
       "      <td>4.528282e+00</td>\n",
       "      <td>7.918677e+00</td>\n",
       "      <td>4.202453e+00</td>\n",
       "      <td>8.000000</td>\n",
       "    </tr>\n",
       "  </tbody>\n",
       "</table>\n",
       "</div>"
      ],
      "text/plain": [
       "       fixed_acidity  volatile_acidity   citric_acid  residual_sugar  \\\n",
       "count   1.599000e+03      1.599000e+03  1.599000e+03    1.599000e+03   \n",
       "mean    3.554936e-16      1.733031e-16 -8.887339e-17   -1.244227e-16   \n",
       "std     1.000313e+00      1.000313e+00  1.000313e+00    1.000313e+00   \n",
       "min    -2.137045e+00     -2.278280e+00 -1.391472e+00   -1.162696e+00   \n",
       "25%    -7.007187e-01     -7.699311e-01 -9.293181e-01   -4.532184e-01   \n",
       "50%    -2.410944e-01     -4.368911e-02 -5.636026e-02   -2.403750e-01   \n",
       "75%     5.057952e-01      6.266881e-01  7.652471e-01    4.341614e-02   \n",
       "max     4.355149e+00      5.877976e+00  3.743574e+00    9.195681e+00   \n",
       "\n",
       "          chlorides  free_sulfur_dioxide  total_sulfur_dioxide       density  \\\n",
       "count  1.599000e+03         1.599000e+03          1.599000e+03  1.599000e+03   \n",
       "mean   3.732682e-16        -6.221137e-17          4.443669e-17 -3.473172e-14   \n",
       "std    1.000313e+00         1.000313e+00          1.000313e+00  1.000313e+00   \n",
       "min   -1.603945e+00        -1.422500e+00         -1.230584e+00 -3.538731e+00   \n",
       "25%   -3.712290e-01        -8.487156e-01         -7.440403e-01 -6.077557e-01   \n",
       "50%   -1.799455e-01        -1.793002e-01         -2.574968e-01  1.760083e-03   \n",
       "75%    5.384542e-02         4.901152e-01          4.723184e-01  5.768249e-01   \n",
       "max    1.112703e+01         5.367284e+00          7.375154e+00  3.680055e+00   \n",
       "\n",
       "                 pH     sulphates       alcohol      quality  \n",
       "count  1.599000e+03  1.599000e+03  1.599000e+03  1599.000000  \n",
       "mean   2.861723e-15  6.754377e-16  1.066481e-16     5.636023  \n",
       "std    1.000313e+00  1.000313e+00  1.000313e+00     0.807569  \n",
       "min   -3.700401e+00 -1.936507e+00 -1.898919e+00     3.000000  \n",
       "25%   -6.551405e-01 -6.382196e-01 -8.663789e-01     5.000000  \n",
       "50%   -7.212705e-03 -2.251281e-01 -2.093081e-01     6.000000  \n",
       "75%    5.759223e-01  4.240158e-01  6.354971e-01     6.000000  \n",
       "max    4.528282e+00  7.918677e+00  4.202453e+00     8.000000  "
      ]
     },
     "execution_count": 49,
     "metadata": {},
     "output_type": "execute_result"
    }
   ],
   "source": [
    "scaled_df, train_df, test_df = scale_split_df(\n",
    "    df, 'quality', 0.2, DATA_DIR, scaled_file_name, train_file_name, test_file_name, scaler_params_file)\n",
    "scaled_df.describe()"
   ]
  },
  {
   "cell_type": "code",
   "execution_count": 50,
   "id": "bd2aa18d2a3b44c1",
   "metadata": {
    "ExecuteTime": {
     "end_time": "2023-10-17T09:07:53.757164533Z",
     "start_time": "2023-10-17T09:07:53.749906927Z"
    },
    "collapsed": false
   },
   "outputs": [],
   "source": [
    "X_train = train_df.loc[:, df.columns != 'quality']\n",
    "y_train = train_df.loc[:, df.columns == 'quality']\n",
    "X_test = test_df.loc[:, df.columns != 'quality']\n",
    "y_test = test_df.loc[:, df.columns == 'quality']"
   ]
  },
  {
   "cell_type": "markdown",
   "id": "aec445118e55570b",
   "metadata": {
    "collapsed": false
   },
   "source": [
    "### Wine model training"
   ]
  },
  {
   "cell_type": "markdown",
   "id": "afec1775587dd90b",
   "metadata": {
    "collapsed": false
   },
   "source": [
    "\n",
    "#### Grid search"
   ]
  },
  {
   "cell_type": "code",
   "execution_count": 55,
   "id": "f4477e2125c548f6",
   "metadata": {
    "ExecuteTime": {
     "end_time": "2023-10-17T09:08:07.037744002Z",
     "start_time": "2023-10-17T09:08:07.029106513Z"
    },
    "collapsed": false
   },
   "outputs": [],
   "source": [
    "grid_params = {\n",
    "    'max_depth': [1, 2, 3, 4],\n",
    "    'eta': [0.01, 0.1, 0.2, 0.3, 0.4, 0.5, 0.6, 0.7, 0.8, 0.9],\n",
    "    'subsample': [0.01, 0.1, 0.2, 0.3, 0.4, 0.5, 0.6, 0.7, 0.8, 0.9]\n",
    "}"
   ]
  },
  {
   "cell_type": "code",
   "execution_count": 56,
   "id": "8582c467",
   "metadata": {},
   "outputs": [],
   "source": [
    "grid_params_big = {\n",
    "    'max_depth': [1, 2, 3, 4, 5, 6, 7, 8, 9, 10],\n",
    "    'eta': [0.01, 0.1, 0.2, 0.3, 0.4, 0.5, 0.6, 0.7, 0.8, 0.9],\n",
    "    'subsample': [0.01, 0.1, 0.2, 0.3, 0.4, 0.5, 0.6, 0.7, 0.8, 0.9]\n",
    "}"
   ]
  },
  {
   "cell_type": "code",
   "execution_count": null,
   "id": "4b96416ee03ba42b",
   "metadata": {
    "collapsed": false
   },
   "outputs": [],
   "source": [
    "%%time\n",
    "best = grid_search(grid_params, X_train, y_train, X_test, y_test)"
   ]
  },
  {
   "cell_type": "code",
   "execution_count": null,
   "id": "ad5fb0f2",
   "metadata": {},
   "outputs": [],
   "source": [
    "%%time\n",
    "best_big = grid_search(grid_params_big, X_train, y_train, X_test, y_test)"
   ]
  },
  {
   "cell_type": "code",
   "execution_count": 64,
   "id": "921c7523589fb893",
   "metadata": {
    "ExecuteTime": {
     "end_time": "2023-10-17T09:08:58.018869066Z",
     "start_time": "2023-10-17T09:08:58.015881298Z"
    },
    "collapsed": false
   },
   "outputs": [
    {
     "data": {
      "text/plain": [
       "{'eta': 0.1, 'max_depth': 4, 'subsample': 0.6}"
      ]
     },
     "execution_count": 64,
     "metadata": {},
     "output_type": "execute_result"
    }
   ],
   "source": [
    "best.best_params_"
   ]
  },
  {
   "cell_type": "code",
   "execution_count": 65,
   "id": "4c4a1c205deb9465",
   "metadata": {
    "ExecuteTime": {
     "end_time": "2023-10-17T09:11:43.391686420Z",
     "start_time": "2023-10-17T09:11:43.350324344Z"
    },
    "collapsed": false
   },
   "outputs": [
    {
     "data": {
      "text/plain": [
       "34"
      ]
     },
     "execution_count": 65,
     "metadata": {},
     "output_type": "execute_result"
    }
   ],
   "source": [
    "len(best.best_estimator_.get_booster().get_dump())"
   ]
  },
  {
   "cell_type": "code",
   "execution_count": 66,
   "id": "0360c0c2",
   "metadata": {},
   "outputs": [
    {
     "data": {
      "text/plain": [
       "{'eta': 0.1, 'max_depth': 6, 'subsample': 0.8}"
      ]
     },
     "execution_count": 66,
     "metadata": {},
     "output_type": "execute_result"
    }
   ],
   "source": [
    "best_big.best_params_"
   ]
  },
  {
   "cell_type": "code",
   "execution_count": 67,
   "id": "612db336",
   "metadata": {},
   "outputs": [
    {
     "data": {
      "text/plain": [
       "32"
      ]
     },
     "execution_count": 67,
     "metadata": {},
     "output_type": "execute_result"
    }
   ],
   "source": [
    "len(best_big.best_estimator_.get_booster().get_dump())"
   ]
  },
  {
   "cell_type": "code",
   "execution_count": 70,
   "id": "13a1576d3ef1be72",
   "metadata": {
    "ExecuteTime": {
     "end_time": "2023-10-17T09:52:41.371558299Z",
     "start_time": "2023-10-17T09:52:41.368595777Z"
    },
    "collapsed": false
   },
   "outputs": [],
   "source": [
    "# training hyperparameters\n",
    "param = {\n",
    "    'eta': 0.1,\n",
    "    'max_depth': 4,\n",
    "    'objective': 'reg:squarederror',\n",
    "    'seed': 42,\n",
    "    'subsample': 0.6\n",
    "}\n",
    "steps = 34"
   ]
  },
  {
   "cell_type": "code",
   "execution_count": 71,
   "id": "6806f376",
   "metadata": {},
   "outputs": [],
   "source": [
    "# training hyperparameters\n",
    "param_big = {\n",
    "    'eta': 0.1,\n",
    "    'max_depth': 4,\n",
    "    'objective': 'reg:squarederror',\n",
    "    'seed': 42,\n",
    "    'subsample': 0.8\n",
    "}\n",
    "steps = 32"
   ]
  },
  {
   "cell_type": "code",
   "execution_count": null,
   "id": "e18f300f6f681889",
   "metadata": {
    "ExecuteTime": {
     "end_time": "2023-10-17T09:52:41.709541197Z",
     "start_time": "2023-10-17T09:52:41.531955005Z"
    },
    "collapsed": false
   },
   "outputs": [],
   "source": [
    "dtrain = xgb.DMatrix(X_train, label=y_train)\n",
    "dtest = xgb.DMatrix(X_test, label=y_test)"
   ]
  },
  {
   "cell_type": "code",
   "execution_count": 73,
   "id": "c8e136c7dcf59e9e",
   "metadata": {
    "ExecuteTime": {
     "end_time": "2023-10-17T09:52:42.446448562Z",
     "start_time": "2023-10-17T09:52:42.255336590Z"
    },
    "collapsed": false
   },
   "outputs": [
    {
     "name": "stdout",
     "output_type": "stream",
     "text": [
      "[0]\ttest-rmse:0.72275\ttrain-rmse:0.79116\n"
     ]
    },
    {
     "name": "stdout",
     "output_type": "stream",
     "text": [
      "[31]\ttest-rmse:0.60616\ttrain-rmse:0.51858\n"
     ]
    },
    {
     "data": {
      "text/plain": [
       "<xgboost.core.Booster at 0x7f664bfd7a30>"
      ]
     },
     "execution_count": 73,
     "metadata": {},
     "output_type": "execute_result"
    }
   ],
   "source": [
    "train_and_save_model(param, steps, dtrain, dtest, MODEL_PATH, wine_model_name)"
   ]
  },
  {
   "cell_type": "code",
   "execution_count": 74,
   "id": "f205633f",
   "metadata": {},
   "outputs": [
    {
     "name": "stdout",
     "output_type": "stream",
     "text": [
      "[0]\ttest-rmse:0.72319\ttrain-rmse:0.79035\n",
      "[31]\ttest-rmse:0.61175\ttrain-rmse:0.51737\n"
     ]
    },
    {
     "data": {
      "text/plain": [
       "<xgboost.core.Booster at 0x7f66331e8130>"
      ]
     },
     "execution_count": 74,
     "metadata": {},
     "output_type": "execute_result"
    }
   ],
   "source": [
    "train_and_save_model(param_big, steps, dtrain, dtest, MODEL_PATH, wine_model_name + \"_big\")"
   ]
  },
  {
   "cell_type": "markdown",
   "id": "57e280e20351e530",
   "metadata": {
    "collapsed": false
   },
   "source": [
    "#### Mniejsze modele (maks. głębokość 4 zamiast 10) mają trochę gorsze wyniki ale mają znacznie mniej liści:\n",
    "- Housing  RMSE: 51 51393.33848 vs 47937.65673, spadek liczby liści z ok 20 0000 do 1500\n",
    "- Wine  RSE: 0.61376 vs 0.63269, spadek liczby liści z ok. 15 000 do 600"
   ]
  },
  {
   "cell_type": "code",
   "execution_count": null,
   "id": "278ca658cbe5a8ba",
   "metadata": {
    "collapsed": false
   },
   "outputs": [],
   "source": [
    "\n"
   ]
  }
 ],
 "metadata": {
  "kernelspec": {
   "display_name": "Python 3",
   "language": "python",
   "name": "python3"
  },
  "language_info": {
   "codemirror_mode": {
    "name": "ipython",
    "version": 3
   },
   "file_extension": ".py",
   "mimetype": "text/x-python",
   "name": "python",
   "nbconvert_exporter": "python",
   "pygments_lexer": "ipython3",
   "version": "3.10.12"
  }
 },
 "nbformat": 4,
 "nbformat_minor": 5
}
