{
 "cells": [
  {
   "cell_type": "markdown",
   "source": [
    "# Cleaning regression datasets and training model"
   ],
   "metadata": {
    "collapsed": false
   },
   "id": "b4b4bae58cac0ef4"
  },
  {
   "cell_type": "markdown",
   "source": [
    "### Imports"
   ],
   "metadata": {
    "collapsed": false
   },
   "id": "772bc8ba970a2a3d"
  },
  {
   "cell_type": "code",
   "execution_count": 351,
   "outputs": [],
   "source": [
    "import pandas as pd\n",
    "import os\n",
    "from pathlib import Path\n",
    "import xgboost as xgb\n",
    "import pandas as pd\n",
    "import numpy as np\n",
    "from sklearn.preprocessing import StandardScaler\n",
    "from sklearn.model_selection import train_test_split"
   ],
   "metadata": {
    "collapsed": false,
    "ExecuteTime": {
     "end_time": "2023-09-20T08:23:44.228570270Z",
     "start_time": "2023-09-20T08:23:44.226492773Z"
    }
   },
   "id": "b970e2129446d6fc"
  },
  {
   "cell_type": "code",
   "execution_count": 352,
   "outputs": [],
   "source": [
    "while \"notebooks\" in os.getcwd():\n",
    "    os.chdir(\"../\")"
   ],
   "metadata": {
    "collapsed": false,
    "ExecuteTime": {
     "end_time": "2023-09-20T08:23:44.624104272Z",
     "start_time": "2023-09-20T08:23:44.617048340Z"
    }
   },
   "id": "af82c239644218f3"
  },
  {
   "cell_type": "code",
   "execution_count": 353,
   "outputs": [],
   "source": [
    "do_training = True"
   ],
   "metadata": {
    "collapsed": false,
    "ExecuteTime": {
     "end_time": "2023-09-20T08:23:44.923192270Z",
     "start_time": "2023-09-20T08:23:44.917932989Z"
    }
   },
   "id": "136ecaf8fcbf0b20"
  },
  {
   "cell_type": "markdown",
   "source": [
    "### California Housing Prices Datset"
   ],
   "metadata": {
    "collapsed": false
   },
   "id": "5a224d3f3b8c4a2"
  },
  {
   "cell_type": "code",
   "execution_count": 354,
   "outputs": [],
   "source": [
    "DATA_DIR = Path('data/housing_data')\n",
    "file_name = 'housing.csv'\n",
    "scaled_file_name = 'housing_scaled.csv'\n",
    "train_file_name = 'train_housing_scaled.csv'\n",
    "test_file_name = 'test_housing_scaled.csv'\n",
    "scaler_params_file = 'housing_scaling_params.csv'"
   ],
   "metadata": {
    "collapsed": false,
    "ExecuteTime": {
     "end_time": "2023-09-20T08:23:45.698495543Z",
     "start_time": "2023-09-20T08:23:45.688339026Z"
    }
   },
   "id": "f9ae54f4c823dec9"
  },
  {
   "cell_type": "code",
   "execution_count": 355,
   "outputs": [],
   "source": [
    "MODEL_PATH = Path('models/')\n",
    "housing_model_name = 'housing'"
   ],
   "metadata": {
    "collapsed": false,
    "ExecuteTime": {
     "end_time": "2023-09-20T08:23:46.083875847Z",
     "start_time": "2023-09-20T08:23:46.081049778Z"
    }
   },
   "id": "8626e7c275e73894"
  },
  {
   "cell_type": "code",
   "execution_count": 356,
   "outputs": [],
   "source": [
    "df = pd.read_csv(DATA_DIR / file_name)"
   ],
   "metadata": {
    "collapsed": false,
    "ExecuteTime": {
     "end_time": "2023-09-20T08:23:46.530750366Z",
     "start_time": "2023-09-20T08:23:46.519829120Z"
    }
   },
   "id": "abe0237a634081fc"
  },
  {
   "cell_type": "code",
   "execution_count": 357,
   "outputs": [
    {
     "name": "stdout",
     "output_type": "stream",
     "text": [
      "<class 'pandas.core.frame.DataFrame'>\n",
      "RangeIndex: 20640 entries, 0 to 20639\n",
      "Data columns (total 10 columns):\n",
      " #   Column              Non-Null Count  Dtype  \n",
      "---  ------              --------------  -----  \n",
      " 0   longitude           20640 non-null  float64\n",
      " 1   latitude            20640 non-null  float64\n",
      " 2   housing_median_age  20640 non-null  float64\n",
      " 3   total_rooms         20640 non-null  float64\n",
      " 4   total_bedrooms      20433 non-null  float64\n",
      " 5   population          20640 non-null  float64\n",
      " 6   households          20640 non-null  float64\n",
      " 7   median_income       20640 non-null  float64\n",
      " 8   median_house_value  20640 non-null  float64\n",
      " 9   ocean_proximity     20640 non-null  object \n",
      "dtypes: float64(9), object(1)\n",
      "memory usage: 1.6+ MB\n"
     ]
    }
   ],
   "source": [
    "df.info()"
   ],
   "metadata": {
    "collapsed": false,
    "ExecuteTime": {
     "end_time": "2023-09-20T08:23:46.939647602Z",
     "start_time": "2023-09-20T08:23:46.937000743Z"
    }
   },
   "id": "e5c82d8271683962"
  },
  {
   "cell_type": "code",
   "execution_count": 358,
   "outputs": [
    {
     "data": {
      "text/plain": "array(['NEAR BAY', '<1H OCEAN', 'INLAND', 'NEAR OCEAN', 'ISLAND'],\n      dtype=object)"
     },
     "execution_count": 358,
     "metadata": {},
     "output_type": "execute_result"
    }
   ],
   "source": [
    "df.ocean_proximity.unique()"
   ],
   "metadata": {
    "collapsed": false,
    "ExecuteTime": {
     "end_time": "2023-09-20T08:23:47.464499290Z",
     "start_time": "2023-09-20T08:23:47.450756107Z"
    }
   },
   "id": "bb671636f84d5d64"
  },
  {
   "cell_type": "code",
   "execution_count": 359,
   "outputs": [],
   "source": [
    "df = df.drop(columns=['ocean_proximity'])"
   ],
   "metadata": {
    "collapsed": false,
    "ExecuteTime": {
     "end_time": "2023-09-20T08:23:49.094824209Z",
     "start_time": "2023-09-20T08:23:49.088395342Z"
    }
   },
   "id": "16267e11a4600de5"
  },
  {
   "cell_type": "code",
   "execution_count": 360,
   "outputs": [
    {
     "data": {
      "text/plain": "       median_house_value\n0                452600.0\n1                358500.0\n2                352100.0\n3                341300.0\n4                342200.0\n...                   ...\n20635             78100.0\n20636             77100.0\n20637             92300.0\n20638             84700.0\n20639             89400.0\n\n[20640 rows x 1 columns]",
      "text/html": "<div>\n<style scoped>\n    .dataframe tbody tr th:only-of-type {\n        vertical-align: middle;\n    }\n\n    .dataframe tbody tr th {\n        vertical-align: top;\n    }\n\n    .dataframe thead th {\n        text-align: right;\n    }\n</style>\n<table border=\"1\" class=\"dataframe\">\n  <thead>\n    <tr style=\"text-align: right;\">\n      <th></th>\n      <th>median_house_value</th>\n    </tr>\n  </thead>\n  <tbody>\n    <tr>\n      <th>0</th>\n      <td>452600.0</td>\n    </tr>\n    <tr>\n      <th>1</th>\n      <td>358500.0</td>\n    </tr>\n    <tr>\n      <th>2</th>\n      <td>352100.0</td>\n    </tr>\n    <tr>\n      <th>3</th>\n      <td>341300.0</td>\n    </tr>\n    <tr>\n      <th>4</th>\n      <td>342200.0</td>\n    </tr>\n    <tr>\n      <th>...</th>\n      <td>...</td>\n    </tr>\n    <tr>\n      <th>20635</th>\n      <td>78100.0</td>\n    </tr>\n    <tr>\n      <th>20636</th>\n      <td>77100.0</td>\n    </tr>\n    <tr>\n      <th>20637</th>\n      <td>92300.0</td>\n    </tr>\n    <tr>\n      <th>20638</th>\n      <td>84700.0</td>\n    </tr>\n    <tr>\n      <th>20639</th>\n      <td>89400.0</td>\n    </tr>\n  </tbody>\n</table>\n<p>20640 rows × 1 columns</p>\n</div>"
     },
     "execution_count": 360,
     "metadata": {},
     "output_type": "execute_result"
    }
   ],
   "source": [
    "df.loc[:, df.columns == 'median_house_value']"
   ],
   "metadata": {
    "collapsed": false,
    "ExecuteTime": {
     "end_time": "2023-09-20T08:23:49.796244115Z",
     "start_time": "2023-09-20T08:23:49.790325339Z"
    }
   },
   "id": "fd144e363d0f63e3"
  },
  {
   "cell_type": "code",
   "execution_count": 363,
   "outputs": [],
   "source": [
    "def scale_split_df(_df: pd.DataFrame, prediction_column: str, test_size: float, data_dir: Path, \n",
    "                   scaled_df_name: str, train_df_name: str, test_df_name: str, scaler_params_name: str):\n",
    "    \n",
    "    scaler = StandardScaler()\n",
    "    features_df = df.loc[:, df.columns != prediction_column]\n",
    "    prediction_df = df.loc[:, df.columns == prediction_column]\n",
    "    scaled_features = pd.DataFrame(scaler.fit_transform(features_df))\n",
    "    scaled_features.columns = features_df.columns\n",
    "    scaled_df = pd.concat([scaled_features, prediction_df], axis=1)\n",
    "    train_df, test_df = train_test_split(scaled_df, test_size=test_size)\n",
    "    \n",
    "    scaled_df.to_csv(data_dir/scaled_df_name, index=False)\n",
    "    train_df.to_csv(data_dir/train_df_name, index=False)\n",
    "    test_df.to_csv(data_dir/test_df_name, index=False)\n",
    "    \n",
    "    normalization_params = {\n",
    "    \"mean\": scaler.mean_,\n",
    "    \"variance\": scaler.var_,\n",
    "}\n",
    "\n",
    "    normalization_params_df = pd.DataFrame.from_dict(normalization_params, orient=\"index\")\n",
    "    normalization_params_df.columns = features_df.columns\n",
    "    normalization_params_df.to_csv(DATA_DIR/scaler_params_name)\n",
    "\n",
    "    return scaled_df, train_df, test_df"
   ],
   "metadata": {
    "collapsed": false,
    "ExecuteTime": {
     "end_time": "2023-09-20T08:24:35.840242645Z",
     "start_time": "2023-09-20T08:24:35.821339269Z"
    }
   },
   "id": "a11ea90e17e21453"
  },
  {
   "cell_type": "code",
   "execution_count": 364,
   "outputs": [
    {
     "data": {
      "text/plain": "          longitude      latitude  housing_median_age   total_rooms  \\\ncount  2.064000e+04  2.064000e+04        2.064000e+04  2.064000e+04   \nmean  -8.526513e-15 -1.079584e-15        5.508083e-18  3.201573e-17   \nstd    1.000024e+00  1.000024e+00        1.000024e+00  1.000024e+00   \nmin   -2.385992e+00 -1.447568e+00       -2.196180e+00 -1.207283e+00   \n25%   -1.113209e+00 -7.967887e-01       -8.453931e-01 -5.445698e-01   \n50%    5.389137e-01 -6.422871e-01        2.864572e-02 -2.332104e-01   \n75%    7.784964e-01  9.729566e-01        6.643103e-01  2.348028e-01   \nmax    2.625280e+00  2.958068e+00        1.856182e+00  1.681558e+01   \n\n       total_bedrooms    population    households  median_income  \\\ncount    2.043300e+04  2.064000e+04  2.064000e+04   2.064000e+04   \nmean    -7.233049e-17 -1.101617e-17  6.885104e-17   6.609700e-17   \nstd      1.000024e+00  1.000024e+00  1.000024e+00   1.000024e+00   \nmin     -1.274093e+00 -1.256123e+00 -1.303984e+00  -1.774299e+00   \n25%     -5.740034e-01 -5.638089e-01 -5.742294e-01  -6.881186e-01   \n50%     -2.441308e-01 -2.291318e-01 -2.368162e-01  -1.767951e-01   \n75%      2.589843e-01  2.644949e-01  2.758427e-01   4.593063e-01   \nmax      1.401871e+01  3.025033e+01  1.460152e+01   5.858286e+00   \n\n       median_house_value  \ncount        20640.000000  \nmean        206855.816909  \nstd         115395.615874  \nmin          14999.000000  \n25%         119600.000000  \n50%         179700.000000  \n75%         264725.000000  \nmax         500001.000000  ",
      "text/html": "<div>\n<style scoped>\n    .dataframe tbody tr th:only-of-type {\n        vertical-align: middle;\n    }\n\n    .dataframe tbody tr th {\n        vertical-align: top;\n    }\n\n    .dataframe thead th {\n        text-align: right;\n    }\n</style>\n<table border=\"1\" class=\"dataframe\">\n  <thead>\n    <tr style=\"text-align: right;\">\n      <th></th>\n      <th>longitude</th>\n      <th>latitude</th>\n      <th>housing_median_age</th>\n      <th>total_rooms</th>\n      <th>total_bedrooms</th>\n      <th>population</th>\n      <th>households</th>\n      <th>median_income</th>\n      <th>median_house_value</th>\n    </tr>\n  </thead>\n  <tbody>\n    <tr>\n      <th>count</th>\n      <td>2.064000e+04</td>\n      <td>2.064000e+04</td>\n      <td>2.064000e+04</td>\n      <td>2.064000e+04</td>\n      <td>2.043300e+04</td>\n      <td>2.064000e+04</td>\n      <td>2.064000e+04</td>\n      <td>2.064000e+04</td>\n      <td>20640.000000</td>\n    </tr>\n    <tr>\n      <th>mean</th>\n      <td>-8.526513e-15</td>\n      <td>-1.079584e-15</td>\n      <td>5.508083e-18</td>\n      <td>3.201573e-17</td>\n      <td>-7.233049e-17</td>\n      <td>-1.101617e-17</td>\n      <td>6.885104e-17</td>\n      <td>6.609700e-17</td>\n      <td>206855.816909</td>\n    </tr>\n    <tr>\n      <th>std</th>\n      <td>1.000024e+00</td>\n      <td>1.000024e+00</td>\n      <td>1.000024e+00</td>\n      <td>1.000024e+00</td>\n      <td>1.000024e+00</td>\n      <td>1.000024e+00</td>\n      <td>1.000024e+00</td>\n      <td>1.000024e+00</td>\n      <td>115395.615874</td>\n    </tr>\n    <tr>\n      <th>min</th>\n      <td>-2.385992e+00</td>\n      <td>-1.447568e+00</td>\n      <td>-2.196180e+00</td>\n      <td>-1.207283e+00</td>\n      <td>-1.274093e+00</td>\n      <td>-1.256123e+00</td>\n      <td>-1.303984e+00</td>\n      <td>-1.774299e+00</td>\n      <td>14999.000000</td>\n    </tr>\n    <tr>\n      <th>25%</th>\n      <td>-1.113209e+00</td>\n      <td>-7.967887e-01</td>\n      <td>-8.453931e-01</td>\n      <td>-5.445698e-01</td>\n      <td>-5.740034e-01</td>\n      <td>-5.638089e-01</td>\n      <td>-5.742294e-01</td>\n      <td>-6.881186e-01</td>\n      <td>119600.000000</td>\n    </tr>\n    <tr>\n      <th>50%</th>\n      <td>5.389137e-01</td>\n      <td>-6.422871e-01</td>\n      <td>2.864572e-02</td>\n      <td>-2.332104e-01</td>\n      <td>-2.441308e-01</td>\n      <td>-2.291318e-01</td>\n      <td>-2.368162e-01</td>\n      <td>-1.767951e-01</td>\n      <td>179700.000000</td>\n    </tr>\n    <tr>\n      <th>75%</th>\n      <td>7.784964e-01</td>\n      <td>9.729566e-01</td>\n      <td>6.643103e-01</td>\n      <td>2.348028e-01</td>\n      <td>2.589843e-01</td>\n      <td>2.644949e-01</td>\n      <td>2.758427e-01</td>\n      <td>4.593063e-01</td>\n      <td>264725.000000</td>\n    </tr>\n    <tr>\n      <th>max</th>\n      <td>2.625280e+00</td>\n      <td>2.958068e+00</td>\n      <td>1.856182e+00</td>\n      <td>1.681558e+01</td>\n      <td>1.401871e+01</td>\n      <td>3.025033e+01</td>\n      <td>1.460152e+01</td>\n      <td>5.858286e+00</td>\n      <td>500001.000000</td>\n    </tr>\n  </tbody>\n</table>\n</div>"
     },
     "execution_count": 364,
     "metadata": {},
     "output_type": "execute_result"
    }
   ],
   "source": [
    "scaled_df, train_df, test_df = scale_split_df(df, 'median_house_value', 0.2, DATA_DIR, scaled_file_name, train_file_name, test_file_name, scaler_params_file)\n",
    "scaled_df.describe()"
   ],
   "metadata": {
    "collapsed": false,
    "ExecuteTime": {
     "end_time": "2023-09-20T08:24:38.250267119Z",
     "start_time": "2023-09-20T08:24:38.037873556Z"
    }
   },
   "id": "e314aae3cd7c014a"
  },
  {
   "cell_type": "code",
   "execution_count": 365,
   "outputs": [],
   "source": [
    "X_train = train_df.loc[:, df.columns != 'median_house_value']\n",
    "y_train = train_df.loc[:, df.columns == 'median_house_value'] \n",
    "X_test = test_df.loc[:, df.columns != 'median_house_value']\n",
    "y_test = test_df.loc[:, df.columns == 'median_house_value']"
   ],
   "metadata": {
    "collapsed": false,
    "ExecuteTime": {
     "end_time": "2023-09-20T08:24:38.253209312Z",
     "start_time": "2023-09-20T08:24:38.249256664Z"
    }
   },
   "id": "386d132a200aeea5"
  },
  {
   "cell_type": "markdown",
   "source": [
    "#### Housing model training"
   ],
   "metadata": {
    "collapsed": false
   },
   "id": "baf6b408e44e8d3e"
  },
  {
   "cell_type": "code",
   "execution_count": 366,
   "outputs": [],
   "source": [
    "def train_and_save_model(param: dict, dtrain: xgb.DMatrix, dtest: xgb.DMatrix, steps, model_path: Path, model_name: str):\n",
    "    if do_training:\n",
    "        gbdt_model = xgb.train(param, dtrain,\n",
    "                          num_boost_round=steps,\n",
    "                          evals=[(dtest, 'test'), (dtrain, 'train')],\n",
    "                          verbose_eval=50)\n",
    "    if do_training:\n",
    "        gbdt_model.dump_model(model_path / f\"{model_name}_dumped.txt\", with_stats=True)\n",
    "        gbdt_model.save_model(model_path / f\"{model_name}_saved.json\")\n",
    "    else:\n",
    "        gbdt_model = xgb.Booster()\n",
    "        gbdt_model.load_model(model_path / f\"{model_name}_saved.json\")"
   ],
   "metadata": {
    "collapsed": false,
    "ExecuteTime": {
     "end_time": "2023-09-20T08:24:38.549979539Z",
     "start_time": "2023-09-20T08:24:38.549784698Z"
    }
   },
   "id": "a664e1a1a42437de"
  },
  {
   "cell_type": "code",
   "execution_count": 367,
   "outputs": [],
   "source": [
    "# training hyperparameters\n",
    "param = {\n",
    "    'eta': 0.01,\n",
    "    'max_depth': 8,\n",
    "    'objective': 'reg:squarederror',\n",
    "    'seed': 42,\n",
    "}\n",
    "steps = 10000\n"
   ],
   "metadata": {
    "collapsed": false,
    "ExecuteTime": {
     "end_time": "2023-09-20T08:24:38.674228323Z",
     "start_time": "2023-09-20T08:24:38.632016910Z"
    }
   },
   "id": "739819601dbb8fb9"
  },
  {
   "cell_type": "code",
   "execution_count": 368,
   "outputs": [
    {
     "name": "stderr",
     "output_type": "stream",
     "text": [
      "/home/mateusz/Documents/Implementations/prediction-gap/venv/lib/python3.10/site-packages/xgboost/data.py:335: FutureWarning: is_sparse is deprecated and will be removed in a future version. Check `isinstance(dtype, pd.SparseDtype)` instead.\n",
      "  if is_sparse(dtype):\n",
      "/home/mateusz/Documents/Implementations/prediction-gap/venv/lib/python3.10/site-packages/xgboost/data.py:338: FutureWarning: is_categorical_dtype is deprecated and will be removed in a future version. Use isinstance(dtype, CategoricalDtype) instead\n",
      "  is_categorical_dtype(dtype) or is_pa_ext_categorical_dtype(dtype)\n",
      "/home/mateusz/Documents/Implementations/prediction-gap/venv/lib/python3.10/site-packages/xgboost/data.py:384: FutureWarning: is_categorical_dtype is deprecated and will be removed in a future version. Use isinstance(dtype, CategoricalDtype) instead\n",
      "  if is_categorical_dtype(dtype):\n",
      "/home/mateusz/Documents/Implementations/prediction-gap/venv/lib/python3.10/site-packages/xgboost/data.py:359: FutureWarning: is_categorical_dtype is deprecated and will be removed in a future version. Use isinstance(dtype, CategoricalDtype) instead\n",
      "  return is_int or is_bool or is_float or is_categorical_dtype(dtype)\n",
      "/home/mateusz/Documents/Implementations/prediction-gap/venv/lib/python3.10/site-packages/xgboost/data.py:384: FutureWarning: is_categorical_dtype is deprecated and will be removed in a future version. Use isinstance(dtype, CategoricalDtype) instead\n",
      "  if is_categorical_dtype(dtype):\n",
      "/home/mateusz/Documents/Implementations/prediction-gap/venv/lib/python3.10/site-packages/xgboost/data.py:359: FutureWarning: is_categorical_dtype is deprecated and will be removed in a future version. Use isinstance(dtype, CategoricalDtype) instead\n",
      "  return is_int or is_bool or is_float or is_categorical_dtype(dtype)\n",
      "/home/mateusz/Documents/Implementations/prediction-gap/venv/lib/python3.10/site-packages/xgboost/data.py:335: FutureWarning: is_sparse is deprecated and will be removed in a future version. Check `isinstance(dtype, pd.SparseDtype)` instead.\n",
      "  if is_sparse(dtype):\n",
      "/home/mateusz/Documents/Implementations/prediction-gap/venv/lib/python3.10/site-packages/xgboost/data.py:338: FutureWarning: is_categorical_dtype is deprecated and will be removed in a future version. Use isinstance(dtype, CategoricalDtype) instead\n",
      "  is_categorical_dtype(dtype) or is_pa_ext_categorical_dtype(dtype)\n",
      "/home/mateusz/Documents/Implementations/prediction-gap/venv/lib/python3.10/site-packages/xgboost/data.py:384: FutureWarning: is_categorical_dtype is deprecated and will be removed in a future version. Use isinstance(dtype, CategoricalDtype) instead\n",
      "  if is_categorical_dtype(dtype):\n",
      "/home/mateusz/Documents/Implementations/prediction-gap/venv/lib/python3.10/site-packages/xgboost/data.py:359: FutureWarning: is_categorical_dtype is deprecated and will be removed in a future version. Use isinstance(dtype, CategoricalDtype) instead\n",
      "  return is_int or is_bool or is_float or is_categorical_dtype(dtype)\n",
      "/home/mateusz/Documents/Implementations/prediction-gap/venv/lib/python3.10/site-packages/xgboost/data.py:384: FutureWarning: is_categorical_dtype is deprecated and will be removed in a future version. Use isinstance(dtype, CategoricalDtype) instead\n",
      "  if is_categorical_dtype(dtype):\n",
      "/home/mateusz/Documents/Implementations/prediction-gap/venv/lib/python3.10/site-packages/xgboost/data.py:359: FutureWarning: is_categorical_dtype is deprecated and will be removed in a future version. Use isinstance(dtype, CategoricalDtype) instead\n",
      "  return is_int or is_bool or is_float or is_categorical_dtype(dtype)\n"
     ]
    }
   ],
   "source": [
    "dtrain = xgb.DMatrix(X_train, label=y_train)\n",
    "dtest = xgb.DMatrix(X_test, label=y_test)"
   ],
   "metadata": {
    "collapsed": false,
    "ExecuteTime": {
     "end_time": "2023-09-20T08:24:38.872868813Z",
     "start_time": "2023-09-20T08:24:38.803240110Z"
    }
   },
   "id": "40a4268b2236f0d5"
  },
  {
   "cell_type": "code",
   "execution_count": 369,
   "outputs": [
    {
     "name": "stdout",
     "output_type": "stream",
     "text": [
      "[0]\ttest-rmse:115957.03981\ttrain-rmse:114197.18540\n",
      "[50]\ttest-rmse:85619.59869\ttrain-rmse:82474.10646\n",
      "[100]\ttest-rmse:69749.51557\ttrain-rmse:64696.92167\n",
      "[150]\ttest-rmse:61476.58022\ttrain-rmse:54453.02790\n",
      "[200]\ttest-rmse:56643.74686\ttrain-rmse:48119.80440\n",
      "[250]\ttest-rmse:53833.27067\ttrain-rmse:43964.56202\n",
      "[300]\ttest-rmse:52199.30548\ttrain-rmse:41049.34219\n",
      "[350]\ttest-rmse:51010.34500\ttrain-rmse:38866.55876\n",
      "[400]\ttest-rmse:50208.14913\ttrain-rmse:37186.38287\n",
      "[450]\ttest-rmse:49417.29336\ttrain-rmse:35502.25079\n",
      "[500]\ttest-rmse:48838.24092\ttrain-rmse:34137.65425\n",
      "[550]\ttest-rmse:48429.91527\ttrain-rmse:32980.47265\n",
      "[600]\ttest-rmse:48133.98558\ttrain-rmse:32055.87525\n",
      "[650]\ttest-rmse:47930.02071\ttrain-rmse:31243.93598\n",
      "[700]\ttest-rmse:47802.24340\ttrain-rmse:30548.13224\n",
      "[750]\ttest-rmse:47661.86101\ttrain-rmse:29896.13949\n",
      "[800]\ttest-rmse:47589.33823\ttrain-rmse:29332.07088\n",
      "[850]\ttest-rmse:47520.74039\ttrain-rmse:28751.42831\n",
      "[900]\ttest-rmse:47463.49319\ttrain-rmse:28185.80739\n",
      "[950]\ttest-rmse:47396.98045\ttrain-rmse:27643.71400\n",
      "[1000]\ttest-rmse:47358.76898\ttrain-rmse:27165.96667\n",
      "[1050]\ttest-rmse:47352.97182\ttrain-rmse:26730.10981\n",
      "[1100]\ttest-rmse:47350.77027\ttrain-rmse:26255.90094\n",
      "[1150]\ttest-rmse:47338.17007\ttrain-rmse:25826.37156\n",
      "[1200]\ttest-rmse:47336.21558\ttrain-rmse:25411.65060\n",
      "[1250]\ttest-rmse:47328.35959\ttrain-rmse:24990.64187\n",
      "[1300]\ttest-rmse:47296.01266\ttrain-rmse:24591.02655\n",
      "[1350]\ttest-rmse:47278.75186\ttrain-rmse:24212.12886\n",
      "[1400]\ttest-rmse:47260.21228\ttrain-rmse:23804.44824\n",
      "[1450]\ttest-rmse:47239.38126\ttrain-rmse:23464.55616\n",
      "[1500]\ttest-rmse:47229.21531\ttrain-rmse:23114.43621\n",
      "[1550]\ttest-rmse:47213.38628\ttrain-rmse:22801.93716\n",
      "[1600]\ttest-rmse:47191.32459\ttrain-rmse:22489.99598\n",
      "[1650]\ttest-rmse:47174.67597\ttrain-rmse:22193.28371\n",
      "[1700]\ttest-rmse:47177.79879\ttrain-rmse:21899.69643\n",
      "[1750]\ttest-rmse:47169.45490\ttrain-rmse:21578.18590\n",
      "[1800]\ttest-rmse:47165.64640\ttrain-rmse:21315.47843\n",
      "[1850]\ttest-rmse:47145.24299\ttrain-rmse:21016.39530\n",
      "[1900]\ttest-rmse:47137.90584\ttrain-rmse:20761.71066\n",
      "[1950]\ttest-rmse:47130.10695\ttrain-rmse:20482.50103\n",
      "[2000]\ttest-rmse:47117.37634\ttrain-rmse:20207.53938\n",
      "[2050]\ttest-rmse:47102.39796\ttrain-rmse:19922.49608\n",
      "[2100]\ttest-rmse:47076.54042\ttrain-rmse:19646.78750\n",
      "[2150]\ttest-rmse:47060.54643\ttrain-rmse:19400.42087\n",
      "[2200]\ttest-rmse:47047.28478\ttrain-rmse:19150.95476\n",
      "[2250]\ttest-rmse:47025.79687\ttrain-rmse:18911.44924\n",
      "[2300]\ttest-rmse:47002.99195\ttrain-rmse:18643.52728\n",
      "[2350]\ttest-rmse:47001.65546\ttrain-rmse:18391.78439\n",
      "[2400]\ttest-rmse:46997.76433\ttrain-rmse:18182.95097\n",
      "[2450]\ttest-rmse:46997.14567\ttrain-rmse:17989.64174\n",
      "[2500]\ttest-rmse:46993.91680\ttrain-rmse:17771.38755\n",
      "[2550]\ttest-rmse:47003.20317\ttrain-rmse:17546.75862\n",
      "[2600]\ttest-rmse:47003.18702\ttrain-rmse:17336.03995\n",
      "[2650]\ttest-rmse:46998.01170\ttrain-rmse:17163.62916\n",
      "[2700]\ttest-rmse:46998.18056\ttrain-rmse:16962.62012\n",
      "[2750]\ttest-rmse:46994.26382\ttrain-rmse:16758.35509\n",
      "[2800]\ttest-rmse:46993.50467\ttrain-rmse:16558.66624\n",
      "[2850]\ttest-rmse:46995.12438\ttrain-rmse:16383.80149\n",
      "[2900]\ttest-rmse:46994.85659\ttrain-rmse:16194.58074\n",
      "[2950]\ttest-rmse:46992.05939\ttrain-rmse:15994.48983\n",
      "[3000]\ttest-rmse:46982.06411\ttrain-rmse:15778.58104\n",
      "[3050]\ttest-rmse:46970.87473\ttrain-rmse:15593.38867\n",
      "[3100]\ttest-rmse:46979.80483\ttrain-rmse:15419.66569\n",
      "[3150]\ttest-rmse:46976.68834\ttrain-rmse:15225.50649\n",
      "[3200]\ttest-rmse:46972.37477\ttrain-rmse:15042.54045\n",
      "[3250]\ttest-rmse:46966.20900\ttrain-rmse:14882.99997\n",
      "[3300]\ttest-rmse:46961.87262\ttrain-rmse:14721.03388\n",
      "[3350]\ttest-rmse:46957.13910\ttrain-rmse:14566.39656\n",
      "[3400]\ttest-rmse:46952.77865\ttrain-rmse:14394.37017\n",
      "[3450]\ttest-rmse:46954.96892\ttrain-rmse:14222.78097\n",
      "[3500]\ttest-rmse:46955.77956\ttrain-rmse:14050.90456\n",
      "[3550]\ttest-rmse:46954.69275\ttrain-rmse:13871.76847\n",
      "[3600]\ttest-rmse:46948.04325\ttrain-rmse:13707.40499\n",
      "[3650]\ttest-rmse:46943.50507\ttrain-rmse:13549.68672\n",
      "[3700]\ttest-rmse:46942.88641\ttrain-rmse:13406.06679\n",
      "[3750]\ttest-rmse:46942.48876\ttrain-rmse:13261.38115\n",
      "[3800]\ttest-rmse:46943.65150\ttrain-rmse:13111.09765\n",
      "[3850]\ttest-rmse:46941.46641\ttrain-rmse:12963.82424\n",
      "[3900]\ttest-rmse:46940.38182\ttrain-rmse:12828.86644\n",
      "[3950]\ttest-rmse:46933.42896\ttrain-rmse:12680.30632\n",
      "[4000]\ttest-rmse:46930.02426\ttrain-rmse:12550.67564\n",
      "[4050]\ttest-rmse:46923.18996\ttrain-rmse:12434.26056\n",
      "[4100]\ttest-rmse:46922.78226\ttrain-rmse:12305.70585\n",
      "[4150]\ttest-rmse:46922.98270\ttrain-rmse:12193.27346\n",
      "[4200]\ttest-rmse:46920.88255\ttrain-rmse:12072.24807\n",
      "[4250]\ttest-rmse:46926.04007\ttrain-rmse:11925.30634\n",
      "[4300]\ttest-rmse:46925.39174\ttrain-rmse:11789.37883\n",
      "[4350]\ttest-rmse:46927.33003\ttrain-rmse:11658.26788\n",
      "[4400]\ttest-rmse:46926.98493\ttrain-rmse:11515.76136\n",
      "[4450]\ttest-rmse:46930.46631\ttrain-rmse:11376.18530\n",
      "[4500]\ttest-rmse:46931.07476\ttrain-rmse:11248.39869\n",
      "[4550]\ttest-rmse:46933.19537\ttrain-rmse:11104.82339\n",
      "[4600]\ttest-rmse:46937.33293\ttrain-rmse:10992.82952\n",
      "[4650]\ttest-rmse:46941.64292\ttrain-rmse:10868.82599\n",
      "[4700]\ttest-rmse:46946.40007\ttrain-rmse:10752.15573\n",
      "[4750]\ttest-rmse:46947.07001\ttrain-rmse:10644.05009\n",
      "[4800]\ttest-rmse:46947.74122\ttrain-rmse:10518.89650\n",
      "[4850]\ttest-rmse:46943.25284\ttrain-rmse:10404.01946\n",
      "[4900]\ttest-rmse:46943.10430\ttrain-rmse:10302.72000\n",
      "[4950]\ttest-rmse:46943.76182\ttrain-rmse:10196.80137\n",
      "[5000]\ttest-rmse:46942.43925\ttrain-rmse:10071.74466\n",
      "[5050]\ttest-rmse:46942.47986\ttrain-rmse:9974.97598\n",
      "[5100]\ttest-rmse:46943.07585\ttrain-rmse:9862.87561\n",
      "[5150]\ttest-rmse:46938.58102\ttrain-rmse:9754.83015\n",
      "[5200]\ttest-rmse:46942.09811\ttrain-rmse:9650.64779\n",
      "[5250]\ttest-rmse:46938.83902\ttrain-rmse:9533.28749\n",
      "[5300]\ttest-rmse:46934.51977\ttrain-rmse:9423.49922\n",
      "[5350]\ttest-rmse:46929.16935\ttrain-rmse:9311.73227\n",
      "[5400]\ttest-rmse:46924.80440\ttrain-rmse:9215.14108\n",
      "[5450]\ttest-rmse:46919.57682\ttrain-rmse:9096.71308\n",
      "[5500]\ttest-rmse:46920.15385\ttrain-rmse:9000.28608\n",
      "[5550]\ttest-rmse:46915.60605\ttrain-rmse:8924.25935\n",
      "[5600]\ttest-rmse:46913.38089\ttrain-rmse:8842.27543\n",
      "[5650]\ttest-rmse:46909.15973\ttrain-rmse:8750.24408\n",
      "[5700]\ttest-rmse:46907.50798\ttrain-rmse:8676.11498\n",
      "[5750]\ttest-rmse:46908.23219\ttrain-rmse:8593.44169\n",
      "[5800]\ttest-rmse:46908.84050\ttrain-rmse:8518.18153\n",
      "[5850]\ttest-rmse:46906.59278\ttrain-rmse:8432.32703\n",
      "[5900]\ttest-rmse:46907.83231\ttrain-rmse:8357.92817\n",
      "[5950]\ttest-rmse:46905.52816\ttrain-rmse:8280.70275\n",
      "[6000]\ttest-rmse:46903.35718\ttrain-rmse:8204.28003\n",
      "[6050]\ttest-rmse:46904.47681\ttrain-rmse:8120.51536\n",
      "[6100]\ttest-rmse:46904.84654\ttrain-rmse:8041.98573\n",
      "[6150]\ttest-rmse:46904.57265\ttrain-rmse:7975.54706\n",
      "[6200]\ttest-rmse:46905.12286\ttrain-rmse:7913.71178\n",
      "[6250]\ttest-rmse:46904.35006\ttrain-rmse:7829.54452\n",
      "[6300]\ttest-rmse:46904.23245\ttrain-rmse:7763.72034\n",
      "[6350]\ttest-rmse:46902.79676\ttrain-rmse:7692.06095\n",
      "[6400]\ttest-rmse:46901.05166\ttrain-rmse:7618.25884\n",
      "[6450]\ttest-rmse:46900.94042\ttrain-rmse:7551.38948\n",
      "[6500]\ttest-rmse:46899.22234\ttrain-rmse:7487.96475\n",
      "[6550]\ttest-rmse:46898.91537\ttrain-rmse:7412.67266\n",
      "[6600]\ttest-rmse:46897.27518\ttrain-rmse:7344.73520\n",
      "[6650]\ttest-rmse:46899.69670\ttrain-rmse:7280.14752\n",
      "[6700]\ttest-rmse:46898.83933\ttrain-rmse:7200.23893\n",
      "[6750]\ttest-rmse:46899.20685\ttrain-rmse:7133.41448\n",
      "[6800]\ttest-rmse:46901.22804\ttrain-rmse:7066.67012\n",
      "[6850]\ttest-rmse:46902.18599\ttrain-rmse:7014.95620\n",
      "[6900]\ttest-rmse:46900.62961\ttrain-rmse:6950.04899\n",
      "[6950]\ttest-rmse:46896.23995\ttrain-rmse:6884.69660\n",
      "[7000]\ttest-rmse:46892.98842\ttrain-rmse:6816.61006\n",
      "[7050]\ttest-rmse:46891.62202\ttrain-rmse:6751.64081\n",
      "[7100]\ttest-rmse:46890.84773\ttrain-rmse:6689.09639\n",
      "[7150]\ttest-rmse:46887.27274\ttrain-rmse:6593.04582\n",
      "[7200]\ttest-rmse:46887.58799\ttrain-rmse:6508.81138\n",
      "[7250]\ttest-rmse:46885.48847\ttrain-rmse:6439.33906\n",
      "[7300]\ttest-rmse:46888.10185\ttrain-rmse:6382.34819\n",
      "[7350]\ttest-rmse:46887.09328\ttrain-rmse:6332.09211\n",
      "[7400]\ttest-rmse:46888.34200\ttrain-rmse:6268.69963\n",
      "[7450]\ttest-rmse:46890.08066\ttrain-rmse:6206.05120\n",
      "[7500]\ttest-rmse:46891.66161\ttrain-rmse:6141.00087\n",
      "[7550]\ttest-rmse:46892.95652\ttrain-rmse:6087.88631\n",
      "[7600]\ttest-rmse:46893.86663\ttrain-rmse:6034.71934\n",
      "[7650]\ttest-rmse:46894.12880\ttrain-rmse:5980.47317\n",
      "[7700]\ttest-rmse:46895.38619\ttrain-rmse:5913.77121\n",
      "[7750]\ttest-rmse:46896.49102\ttrain-rmse:5849.87021\n",
      "[7800]\ttest-rmse:46896.50655\ttrain-rmse:5794.15186\n",
      "[7850]\ttest-rmse:46899.52373\ttrain-rmse:5739.54243\n",
      "[7900]\ttest-rmse:46898.69043\ttrain-rmse:5682.35788\n",
      "[7950]\ttest-rmse:46897.94704\ttrain-rmse:5632.38210\n",
      "[8000]\ttest-rmse:46897.94579\ttrain-rmse:5575.93334\n",
      "[8050]\ttest-rmse:46898.50917\ttrain-rmse:5517.03374\n",
      "[8100]\ttest-rmse:46901.16064\ttrain-rmse:5467.35854\n",
      "[8150]\ttest-rmse:46904.74604\ttrain-rmse:5420.81281\n",
      "[8200]\ttest-rmse:46908.28899\ttrain-rmse:5370.76487\n",
      "[8250]\ttest-rmse:46909.13134\ttrain-rmse:5325.26912\n",
      "[8300]\ttest-rmse:46909.38620\ttrain-rmse:5274.65098\n",
      "[8350]\ttest-rmse:46911.40219\ttrain-rmse:5224.64114\n",
      "[8400]\ttest-rmse:46912.56278\ttrain-rmse:5183.39988\n",
      "[8450]\ttest-rmse:46914.91935\ttrain-rmse:5126.86883\n",
      "[8500]\ttest-rmse:46914.54089\ttrain-rmse:5062.64690\n",
      "[8550]\ttest-rmse:46913.11606\ttrain-rmse:5003.50635\n",
      "[8600]\ttest-rmse:46912.86849\ttrain-rmse:4961.35111\n",
      "[8650]\ttest-rmse:46914.09038\ttrain-rmse:4916.48290\n",
      "[8700]\ttest-rmse:46913.81034\ttrain-rmse:4863.70576\n",
      "[8750]\ttest-rmse:46911.85526\ttrain-rmse:4808.87576\n",
      "[8800]\ttest-rmse:46910.82385\ttrain-rmse:4743.30641\n",
      "[8850]\ttest-rmse:46909.87231\ttrain-rmse:4689.37861\n",
      "[8900]\ttest-rmse:46909.62296\ttrain-rmse:4635.77697\n",
      "[8950]\ttest-rmse:46908.93313\ttrain-rmse:4589.49229\n",
      "[9000]\ttest-rmse:46909.90747\ttrain-rmse:4546.80255\n",
      "[9050]\ttest-rmse:46911.90708\ttrain-rmse:4499.02800\n",
      "[9100]\ttest-rmse:46912.30407\ttrain-rmse:4443.06747\n",
      "[9150]\ttest-rmse:46913.34435\ttrain-rmse:4399.14123\n",
      "[9200]\ttest-rmse:46912.44367\ttrain-rmse:4353.21663\n",
      "[9250]\ttest-rmse:46912.47577\ttrain-rmse:4313.12377\n",
      "[9300]\ttest-rmse:46912.02212\ttrain-rmse:4277.15980\n",
      "[9350]\ttest-rmse:46910.92387\ttrain-rmse:4236.44394\n",
      "[9400]\ttest-rmse:46910.32538\ttrain-rmse:4197.80585\n",
      "[9450]\ttest-rmse:46910.56357\ttrain-rmse:4156.69049\n",
      "[9500]\ttest-rmse:46909.77823\ttrain-rmse:4117.35232\n",
      "[9550]\ttest-rmse:46908.56485\ttrain-rmse:4084.19257\n",
      "[9600]\ttest-rmse:46908.87429\ttrain-rmse:4048.17383\n",
      "[9650]\ttest-rmse:46908.98523\ttrain-rmse:4017.78122\n",
      "[9700]\ttest-rmse:46908.16190\ttrain-rmse:3990.15462\n",
      "[9750]\ttest-rmse:46909.20957\ttrain-rmse:3960.19117\n",
      "[9800]\ttest-rmse:46911.22632\ttrain-rmse:3925.53670\n",
      "[9850]\ttest-rmse:46912.98192\ttrain-rmse:3896.31186\n",
      "[9900]\ttest-rmse:46914.24951\ttrain-rmse:3864.08886\n",
      "[9950]\ttest-rmse:46913.91596\ttrain-rmse:3825.79094\n",
      "[9999]\ttest-rmse:46914.07529\ttrain-rmse:3794.21955\n",
      "CPU times: user 8min 41s, sys: 887 ms, total: 8min 42s\n",
      "Wall time: 36.2 s\n"
     ]
    }
   ],
   "source": [
    "%%time\n",
    "train_and_save_model(param, dtrain, dtest, steps, MODEL_PATH, housing_model_name)"
   ],
   "metadata": {
    "collapsed": false,
    "ExecuteTime": {
     "end_time": "2023-09-20T08:25:15.128181628Z",
     "start_time": "2023-09-20T08:24:38.949763177Z"
    }
   },
   "id": "10d4352b9fdc0d82"
  },
  {
   "cell_type": "markdown",
   "source": [
    "### Red Wine Dataset"
   ],
   "metadata": {
    "collapsed": false
   },
   "id": "3640d0176a83e8f"
  },
  {
   "cell_type": "code",
   "execution_count": 370,
   "outputs": [],
   "source": [
    "DATA_DIR = Path('data/wine_quality')\n",
    "file_name = 'winequality_red.csv'\n",
    "scaled_file_name = 'winequality_red_scaled.csv'\n",
    "train_file_name = 'train_winequality_red_scaled.csv'\n",
    "test_file_name = 'test_winequality_red_scaled.csv'\n",
    "scaler_params_file = 'winequality_red_scaling_params.csv'\n",
    "MODEL_PATH = Path('models/')\n",
    "wine_model_name = 'winequality_red'"
   ],
   "metadata": {
    "collapsed": false,
    "ExecuteTime": {
     "end_time": "2023-09-20T08:25:15.134667791Z",
     "start_time": "2023-09-20T08:25:15.129737502Z"
    }
   },
   "id": "a91b9a230603342e"
  },
  {
   "cell_type": "code",
   "execution_count": 371,
   "outputs": [
    {
     "name": "stdout",
     "output_type": "stream",
     "text": [
      "<class 'pandas.core.frame.DataFrame'>\n",
      "RangeIndex: 1599 entries, 0 to 1598\n",
      "Data columns (total 12 columns):\n",
      " #   Column                Non-Null Count  Dtype  \n",
      "---  ------                --------------  -----  \n",
      " 0   fixed acidity         1599 non-null   float64\n",
      " 1   volatile acidity      1599 non-null   float64\n",
      " 2   citric acid           1599 non-null   float64\n",
      " 3   residual sugar        1599 non-null   float64\n",
      " 4   chlorides             1599 non-null   float64\n",
      " 5   free sulfur dioxide   1599 non-null   float64\n",
      " 6   total sulfur dioxide  1599 non-null   float64\n",
      " 7   density               1599 non-null   float64\n",
      " 8   pH                    1599 non-null   float64\n",
      " 9   sulphates             1599 non-null   float64\n",
      " 10  alcohol               1599 non-null   float64\n",
      " 11  quality               1599 non-null   int64  \n",
      "dtypes: float64(11), int64(1)\n",
      "memory usage: 150.0 KB\n"
     ]
    }
   ],
   "source": [
    "df = pd.read_csv(DATA_DIR / file_name, sep=';')\n",
    "df.info()"
   ],
   "metadata": {
    "collapsed": false,
    "ExecuteTime": {
     "end_time": "2023-09-20T08:25:15.145548078Z",
     "start_time": "2023-09-20T08:25:15.131318621Z"
    }
   },
   "id": "4a30ccbed4390451"
  },
  {
   "cell_type": "code",
   "execution_count": 372,
   "outputs": [
    {
     "data": {
      "text/plain": "       fixed acidity  volatile acidity   citric acid  residual sugar  \\\ncount   1.599000e+03      1.599000e+03  1.599000e+03    1.599000e+03   \nmean    3.554936e-16      1.733031e-16 -8.887339e-17   -1.244227e-16   \nstd     1.000313e+00      1.000313e+00  1.000313e+00    1.000313e+00   \nmin    -2.137045e+00     -2.278280e+00 -1.391472e+00   -1.162696e+00   \n25%    -7.007187e-01     -7.699311e-01 -9.293181e-01   -4.532184e-01   \n50%    -2.410944e-01     -4.368911e-02 -5.636026e-02   -2.403750e-01   \n75%     5.057952e-01      6.266881e-01  7.652471e-01    4.341614e-02   \nmax     4.355149e+00      5.877976e+00  3.743574e+00    9.195681e+00   \n\n          chlorides  free sulfur dioxide  total sulfur dioxide       density  \\\ncount  1.599000e+03         1.599000e+03          1.599000e+03  1.599000e+03   \nmean   3.732682e-16        -6.221137e-17          4.443669e-17 -3.473172e-14   \nstd    1.000313e+00         1.000313e+00          1.000313e+00  1.000313e+00   \nmin   -1.603945e+00        -1.422500e+00         -1.230584e+00 -3.538731e+00   \n25%   -3.712290e-01        -8.487156e-01         -7.440403e-01 -6.077557e-01   \n50%   -1.799455e-01        -1.793002e-01         -2.574968e-01  1.760083e-03   \n75%    5.384542e-02         4.901152e-01          4.723184e-01  5.768249e-01   \nmax    1.112703e+01         5.367284e+00          7.375154e+00  3.680055e+00   \n\n                 pH     sulphates       alcohol      quality  \ncount  1.599000e+03  1.599000e+03  1.599000e+03  1599.000000  \nmean   2.861723e-15  6.754377e-16  1.066481e-16     5.636023  \nstd    1.000313e+00  1.000313e+00  1.000313e+00     0.807569  \nmin   -3.700401e+00 -1.936507e+00 -1.898919e+00     3.000000  \n25%   -6.551405e-01 -6.382196e-01 -8.663789e-01     5.000000  \n50%   -7.212705e-03 -2.251281e-01 -2.093081e-01     6.000000  \n75%    5.759223e-01  4.240158e-01  6.354971e-01     6.000000  \nmax    4.528282e+00  7.918677e+00  4.202453e+00     8.000000  ",
      "text/html": "<div>\n<style scoped>\n    .dataframe tbody tr th:only-of-type {\n        vertical-align: middle;\n    }\n\n    .dataframe tbody tr th {\n        vertical-align: top;\n    }\n\n    .dataframe thead th {\n        text-align: right;\n    }\n</style>\n<table border=\"1\" class=\"dataframe\">\n  <thead>\n    <tr style=\"text-align: right;\">\n      <th></th>\n      <th>fixed acidity</th>\n      <th>volatile acidity</th>\n      <th>citric acid</th>\n      <th>residual sugar</th>\n      <th>chlorides</th>\n      <th>free sulfur dioxide</th>\n      <th>total sulfur dioxide</th>\n      <th>density</th>\n      <th>pH</th>\n      <th>sulphates</th>\n      <th>alcohol</th>\n      <th>quality</th>\n    </tr>\n  </thead>\n  <tbody>\n    <tr>\n      <th>count</th>\n      <td>1.599000e+03</td>\n      <td>1.599000e+03</td>\n      <td>1.599000e+03</td>\n      <td>1.599000e+03</td>\n      <td>1.599000e+03</td>\n      <td>1.599000e+03</td>\n      <td>1.599000e+03</td>\n      <td>1.599000e+03</td>\n      <td>1.599000e+03</td>\n      <td>1.599000e+03</td>\n      <td>1.599000e+03</td>\n      <td>1599.000000</td>\n    </tr>\n    <tr>\n      <th>mean</th>\n      <td>3.554936e-16</td>\n      <td>1.733031e-16</td>\n      <td>-8.887339e-17</td>\n      <td>-1.244227e-16</td>\n      <td>3.732682e-16</td>\n      <td>-6.221137e-17</td>\n      <td>4.443669e-17</td>\n      <td>-3.473172e-14</td>\n      <td>2.861723e-15</td>\n      <td>6.754377e-16</td>\n      <td>1.066481e-16</td>\n      <td>5.636023</td>\n    </tr>\n    <tr>\n      <th>std</th>\n      <td>1.000313e+00</td>\n      <td>1.000313e+00</td>\n      <td>1.000313e+00</td>\n      <td>1.000313e+00</td>\n      <td>1.000313e+00</td>\n      <td>1.000313e+00</td>\n      <td>1.000313e+00</td>\n      <td>1.000313e+00</td>\n      <td>1.000313e+00</td>\n      <td>1.000313e+00</td>\n      <td>1.000313e+00</td>\n      <td>0.807569</td>\n    </tr>\n    <tr>\n      <th>min</th>\n      <td>-2.137045e+00</td>\n      <td>-2.278280e+00</td>\n      <td>-1.391472e+00</td>\n      <td>-1.162696e+00</td>\n      <td>-1.603945e+00</td>\n      <td>-1.422500e+00</td>\n      <td>-1.230584e+00</td>\n      <td>-3.538731e+00</td>\n      <td>-3.700401e+00</td>\n      <td>-1.936507e+00</td>\n      <td>-1.898919e+00</td>\n      <td>3.000000</td>\n    </tr>\n    <tr>\n      <th>25%</th>\n      <td>-7.007187e-01</td>\n      <td>-7.699311e-01</td>\n      <td>-9.293181e-01</td>\n      <td>-4.532184e-01</td>\n      <td>-3.712290e-01</td>\n      <td>-8.487156e-01</td>\n      <td>-7.440403e-01</td>\n      <td>-6.077557e-01</td>\n      <td>-6.551405e-01</td>\n      <td>-6.382196e-01</td>\n      <td>-8.663789e-01</td>\n      <td>5.000000</td>\n    </tr>\n    <tr>\n      <th>50%</th>\n      <td>-2.410944e-01</td>\n      <td>-4.368911e-02</td>\n      <td>-5.636026e-02</td>\n      <td>-2.403750e-01</td>\n      <td>-1.799455e-01</td>\n      <td>-1.793002e-01</td>\n      <td>-2.574968e-01</td>\n      <td>1.760083e-03</td>\n      <td>-7.212705e-03</td>\n      <td>-2.251281e-01</td>\n      <td>-2.093081e-01</td>\n      <td>6.000000</td>\n    </tr>\n    <tr>\n      <th>75%</th>\n      <td>5.057952e-01</td>\n      <td>6.266881e-01</td>\n      <td>7.652471e-01</td>\n      <td>4.341614e-02</td>\n      <td>5.384542e-02</td>\n      <td>4.901152e-01</td>\n      <td>4.723184e-01</td>\n      <td>5.768249e-01</td>\n      <td>5.759223e-01</td>\n      <td>4.240158e-01</td>\n      <td>6.354971e-01</td>\n      <td>6.000000</td>\n    </tr>\n    <tr>\n      <th>max</th>\n      <td>4.355149e+00</td>\n      <td>5.877976e+00</td>\n      <td>3.743574e+00</td>\n      <td>9.195681e+00</td>\n      <td>1.112703e+01</td>\n      <td>5.367284e+00</td>\n      <td>7.375154e+00</td>\n      <td>3.680055e+00</td>\n      <td>4.528282e+00</td>\n      <td>7.918677e+00</td>\n      <td>4.202453e+00</td>\n      <td>8.000000</td>\n    </tr>\n  </tbody>\n</table>\n</div>"
     },
     "execution_count": 372,
     "metadata": {},
     "output_type": "execute_result"
    }
   ],
   "source": [
    "scaled_df, train_df, test_df = scale_split_df(df, 'quality', 0.2, DATA_DIR, scaled_file_name, train_file_name, test_file_name, scaler_params_file)\n",
    "scaled_df.describe()"
   ],
   "metadata": {
    "collapsed": false,
    "ExecuteTime": {
     "end_time": "2023-09-20T08:25:15.185168050Z",
     "start_time": "2023-09-20T08:25:15.145242080Z"
    }
   },
   "id": "a7f5bd41faba426b"
  },
  {
   "cell_type": "code",
   "execution_count": 373,
   "outputs": [],
   "source": [
    "X_train = train_df.loc[:, df.columns != 'quality']\n",
    "y_train = train_df.loc[:, df.columns == 'quality'] \n",
    "X_test = test_df.loc[:, df.columns != 'quality']\n",
    "y_test = test_df.loc[:, df.columns == 'quality']"
   ],
   "metadata": {
    "collapsed": false,
    "ExecuteTime": {
     "end_time": "2023-09-20T08:25:15.286527175Z",
     "start_time": "2023-09-20T08:25:15.185893579Z"
    }
   },
   "id": "4f3426f0fb4f0c0e"
  },
  {
   "cell_type": "markdown",
   "source": [
    "### Wine model training"
   ],
   "metadata": {
    "collapsed": false
   },
   "id": "c34f1e3ab1ec5289"
  },
  {
   "cell_type": "code",
   "execution_count": 374,
   "outputs": [
    {
     "name": "stderr",
     "output_type": "stream",
     "text": [
      "/home/mateusz/Documents/Implementations/prediction-gap/venv/lib/python3.10/site-packages/xgboost/data.py:335: FutureWarning: is_sparse is deprecated and will be removed in a future version. Check `isinstance(dtype, pd.SparseDtype)` instead.\n",
      "  if is_sparse(dtype):\n",
      "/home/mateusz/Documents/Implementations/prediction-gap/venv/lib/python3.10/site-packages/xgboost/data.py:338: FutureWarning: is_categorical_dtype is deprecated and will be removed in a future version. Use isinstance(dtype, CategoricalDtype) instead\n",
      "  is_categorical_dtype(dtype) or is_pa_ext_categorical_dtype(dtype)\n",
      "/home/mateusz/Documents/Implementations/prediction-gap/venv/lib/python3.10/site-packages/xgboost/data.py:384: FutureWarning: is_categorical_dtype is deprecated and will be removed in a future version. Use isinstance(dtype, CategoricalDtype) instead\n",
      "  if is_categorical_dtype(dtype):\n",
      "/home/mateusz/Documents/Implementations/prediction-gap/venv/lib/python3.10/site-packages/xgboost/data.py:359: FutureWarning: is_categorical_dtype is deprecated and will be removed in a future version. Use isinstance(dtype, CategoricalDtype) instead\n",
      "  return is_int or is_bool or is_float or is_categorical_dtype(dtype)\n",
      "/home/mateusz/Documents/Implementations/prediction-gap/venv/lib/python3.10/site-packages/xgboost/data.py:384: FutureWarning: is_categorical_dtype is deprecated and will be removed in a future version. Use isinstance(dtype, CategoricalDtype) instead\n",
      "  if is_categorical_dtype(dtype):\n",
      "/home/mateusz/Documents/Implementations/prediction-gap/venv/lib/python3.10/site-packages/xgboost/data.py:359: FutureWarning: is_categorical_dtype is deprecated and will be removed in a future version. Use isinstance(dtype, CategoricalDtype) instead\n",
      "  return is_int or is_bool or is_float or is_categorical_dtype(dtype)\n",
      "/home/mateusz/Documents/Implementations/prediction-gap/venv/lib/python3.10/site-packages/xgboost/data.py:335: FutureWarning: is_sparse is deprecated and will be removed in a future version. Check `isinstance(dtype, pd.SparseDtype)` instead.\n",
      "  if is_sparse(dtype):\n",
      "/home/mateusz/Documents/Implementations/prediction-gap/venv/lib/python3.10/site-packages/xgboost/data.py:338: FutureWarning: is_categorical_dtype is deprecated and will be removed in a future version. Use isinstance(dtype, CategoricalDtype) instead\n",
      "  is_categorical_dtype(dtype) or is_pa_ext_categorical_dtype(dtype)\n",
      "/home/mateusz/Documents/Implementations/prediction-gap/venv/lib/python3.10/site-packages/xgboost/data.py:384: FutureWarning: is_categorical_dtype is deprecated and will be removed in a future version. Use isinstance(dtype, CategoricalDtype) instead\n",
      "  if is_categorical_dtype(dtype):\n",
      "/home/mateusz/Documents/Implementations/prediction-gap/venv/lib/python3.10/site-packages/xgboost/data.py:359: FutureWarning: is_categorical_dtype is deprecated and will be removed in a future version. Use isinstance(dtype, CategoricalDtype) instead\n",
      "  return is_int or is_bool or is_float or is_categorical_dtype(dtype)\n",
      "/home/mateusz/Documents/Implementations/prediction-gap/venv/lib/python3.10/site-packages/xgboost/data.py:384: FutureWarning: is_categorical_dtype is deprecated and will be removed in a future version. Use isinstance(dtype, CategoricalDtype) instead\n",
      "  if is_categorical_dtype(dtype):\n",
      "/home/mateusz/Documents/Implementations/prediction-gap/venv/lib/python3.10/site-packages/xgboost/data.py:359: FutureWarning: is_categorical_dtype is deprecated and will be removed in a future version. Use isinstance(dtype, CategoricalDtype) instead\n",
      "  return is_int or is_bool or is_float or is_categorical_dtype(dtype)\n"
     ]
    }
   ],
   "source": [
    "# training hyperparameters\n",
    "param = {\n",
    "    'eta': 0.01,\n",
    "    'max_depth': 8,\n",
    "    'objective': 'reg:squarederror',\n",
    "    'seed': 42,\n",
    "}\n",
    "steps = 3000\n",
    "\n",
    "dtrain = xgb.DMatrix(X_train, label=y_train)\n",
    "dtest = xgb.DMatrix(X_test, label=y_test)"
   ],
   "metadata": {
    "collapsed": false,
    "ExecuteTime": {
     "end_time": "2023-09-20T08:25:15.286839655Z",
     "start_time": "2023-09-20T08:25:15.233726571Z"
    }
   },
   "id": "dbf12c0fd23a45cd"
  },
  {
   "cell_type": "code",
   "execution_count": 375,
   "outputs": [
    {
     "name": "stdout",
     "output_type": "stream",
     "text": [
      "[0]\ttest-rmse:0.80256\ttrain-rmse:0.80277\n",
      "[50]\ttest-rmse:0.69013\ttrain-rmse:0.60238\n",
      "[100]\ttest-rmse:0.63072\ttrain-rmse:0.47271\n",
      "[150]\ttest-rmse:0.59414\ttrain-rmse:0.38414\n",
      "[200]\ttest-rmse:0.57838\ttrain-rmse:0.32799\n",
      "[250]\ttest-rmse:0.57031\ttrain-rmse:0.28522\n",
      "[300]\ttest-rmse:0.56352\ttrain-rmse:0.25594\n",
      "[350]\ttest-rmse:0.56089\ttrain-rmse:0.22577\n",
      "[400]\ttest-rmse:0.55953\ttrain-rmse:0.20020\n",
      "[450]\ttest-rmse:0.55883\ttrain-rmse:0.18484\n",
      "[500]\ttest-rmse:0.55856\ttrain-rmse:0.17342\n",
      "[550]\ttest-rmse:0.55812\ttrain-rmse:0.16502\n",
      "[600]\ttest-rmse:0.55758\ttrain-rmse:0.16028\n",
      "[650]\ttest-rmse:0.55631\ttrain-rmse:0.15243\n",
      "[700]\ttest-rmse:0.55649\ttrain-rmse:0.14586\n",
      "[750]\ttest-rmse:0.55596\ttrain-rmse:0.13853\n",
      "[800]\ttest-rmse:0.55602\ttrain-rmse:0.12807\n",
      "[850]\ttest-rmse:0.55585\ttrain-rmse:0.12022\n",
      "[900]\ttest-rmse:0.55609\ttrain-rmse:0.11250\n",
      "[950]\ttest-rmse:0.55568\ttrain-rmse:0.10571\n",
      "[1000]\ttest-rmse:0.55578\ttrain-rmse:0.09890\n",
      "[1050]\ttest-rmse:0.55615\ttrain-rmse:0.09261\n",
      "[1100]\ttest-rmse:0.55634\ttrain-rmse:0.08823\n",
      "[1150]\ttest-rmse:0.55647\ttrain-rmse:0.08271\n",
      "[1200]\ttest-rmse:0.55691\ttrain-rmse:0.07827\n",
      "[1250]\ttest-rmse:0.55704\ttrain-rmse:0.07352\n",
      "[1300]\ttest-rmse:0.55765\ttrain-rmse:0.06722\n",
      "[1350]\ttest-rmse:0.55799\ttrain-rmse:0.06205\n",
      "[1400]\ttest-rmse:0.55833\ttrain-rmse:0.05647\n",
      "[1450]\ttest-rmse:0.55849\ttrain-rmse:0.05222\n",
      "[1500]\ttest-rmse:0.55845\ttrain-rmse:0.04850\n",
      "[1550]\ttest-rmse:0.55852\ttrain-rmse:0.04517\n",
      "[1600]\ttest-rmse:0.55870\ttrain-rmse:0.04235\n",
      "[1650]\ttest-rmse:0.55885\ttrain-rmse:0.03800\n",
      "[1700]\ttest-rmse:0.55887\ttrain-rmse:0.03489\n",
      "[1750]\ttest-rmse:0.55915\ttrain-rmse:0.03267\n",
      "[1800]\ttest-rmse:0.55929\ttrain-rmse:0.03021\n",
      "[1850]\ttest-rmse:0.55932\ttrain-rmse:0.02696\n",
      "[1900]\ttest-rmse:0.55932\ttrain-rmse:0.02413\n",
      "[1950]\ttest-rmse:0.55934\ttrain-rmse:0.02245\n",
      "[2000]\ttest-rmse:0.55938\ttrain-rmse:0.02095\n",
      "[2050]\ttest-rmse:0.55944\ttrain-rmse:0.01976\n",
      "[2100]\ttest-rmse:0.55948\ttrain-rmse:0.01790\n",
      "[2150]\ttest-rmse:0.55956\ttrain-rmse:0.01661\n",
      "[2200]\ttest-rmse:0.55971\ttrain-rmse:0.01538\n",
      "[2250]\ttest-rmse:0.55981\ttrain-rmse:0.01440\n",
      "[2300]\ttest-rmse:0.55985\ttrain-rmse:0.01362\n",
      "[2350]\ttest-rmse:0.55989\ttrain-rmse:0.01261\n",
      "[2400]\ttest-rmse:0.55990\ttrain-rmse:0.01197\n",
      "[2450]\ttest-rmse:0.55998\ttrain-rmse:0.01093\n",
      "[2500]\ttest-rmse:0.56004\ttrain-rmse:0.01007\n",
      "[2550]\ttest-rmse:0.56007\ttrain-rmse:0.00938\n",
      "[2600]\ttest-rmse:0.56010\ttrain-rmse:0.00884\n",
      "[2650]\ttest-rmse:0.56010\ttrain-rmse:0.00837\n",
      "[2700]\ttest-rmse:0.56015\ttrain-rmse:0.00793\n",
      "[2750]\ttest-rmse:0.56019\ttrain-rmse:0.00737\n",
      "[2800]\ttest-rmse:0.56017\ttrain-rmse:0.00693\n",
      "[2850]\ttest-rmse:0.56018\ttrain-rmse:0.00638\n",
      "[2900]\ttest-rmse:0.56016\ttrain-rmse:0.00611\n",
      "[2950]\ttest-rmse:0.56019\ttrain-rmse:0.00556\n",
      "[2999]\ttest-rmse:0.56019\ttrain-rmse:0.00508\n"
     ]
    }
   ],
   "source": [
    "train_and_save_model(param, dtrain, dtest, steps, MODEL_PATH, wine_model_name)"
   ],
   "metadata": {
    "collapsed": false,
    "ExecuteTime": {
     "end_time": "2023-09-20T08:25:21.689017230Z",
     "start_time": "2023-09-20T08:25:15.233820881Z"
    }
   },
   "id": "5b810cee925d95d8"
  },
  {
   "cell_type": "code",
   "execution_count": 327,
   "outputs": [],
   "source": [],
   "metadata": {
    "collapsed": false,
    "ExecuteTime": {
     "end_time": "2023-09-20T08:02:52.803955289Z",
     "start_time": "2023-09-20T08:02:52.801954089Z"
    }
   },
   "id": "1039c3b50a9cd31c"
  }
 ],
 "metadata": {
  "kernelspec": {
   "display_name": "Python 3",
   "language": "python",
   "name": "python3"
  },
  "language_info": {
   "codemirror_mode": {
    "name": "ipython",
    "version": 2
   },
   "file_extension": ".py",
   "mimetype": "text/x-python",
   "name": "python",
   "nbconvert_exporter": "python",
   "pygments_lexer": "ipython2",
   "version": "2.7.6"
  }
 },
 "nbformat": 4,
 "nbformat_minor": 5
}
