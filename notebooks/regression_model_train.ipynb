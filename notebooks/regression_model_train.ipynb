{
 "cells": [
  {
   "cell_type": "markdown",
   "source": [],
   "metadata": {
    "collapsed": false
   },
   "id": "b6937e466208840b"
  },
  {
   "cell_type": "code",
   "execution_count": null,
   "outputs": [],
   "source": [],
   "metadata": {
    "collapsed": false,
    "ExecuteTime": {
     "end_time": "2023-09-27T08:17:23.821047367Z",
     "start_time": "2023-09-27T08:17:23.654744063Z"
    }
   },
   "id": "badf1b2c5646235e"
  },
  {
   "cell_type": "markdown",
   "source": [
    "# Learning regression datasets and training model"
   ],
   "metadata": {
    "collapsed": false
   },
   "id": "dcaaf2d9921ed1e8"
  },
  {
   "cell_type": "markdown",
   "source": [
    "### Imports"
   ],
   "metadata": {
    "collapsed": false
   },
   "id": "ead8bcafb37d277c"
  },
  {
   "cell_type": "code",
   "execution_count": 1,
   "outputs": [],
   "source": [
    "import pandas as pd\n",
    "import os\n",
    "from pathlib import Path\n",
    "import xgboost as xgb\n",
    "import pandas as pd\n",
    "import numpy as np\n",
    "from sklearn.preprocessing import StandardScaler\n",
    "from sklearn.model_selection import train_test_split"
   ],
   "metadata": {
    "collapsed": false,
    "ExecuteTime": {
     "end_time": "2023-09-27T08:17:24.152859456Z",
     "start_time": "2023-09-27T08:17:23.659568162Z"
    }
   },
   "id": "7e238ad763746385"
  },
  {
   "cell_type": "code",
   "execution_count": 2,
   "outputs": [],
   "source": [
    "while \"notebooks\" in os.getcwd():\n",
    "    os.chdir(\"../\")"
   ],
   "metadata": {
    "collapsed": false,
    "ExecuteTime": {
     "end_time": "2023-09-27T08:17:24.164339605Z",
     "start_time": "2023-09-27T08:17:24.153628985Z"
    }
   },
   "id": "d1267002ff43122b"
  },
  {
   "cell_type": "code",
   "execution_count": 3,
   "outputs": [],
   "source": [
    "do_training = True"
   ],
   "metadata": {
    "collapsed": false,
    "ExecuteTime": {
     "end_time": "2023-09-27T08:17:24.178356346Z",
     "start_time": "2023-09-27T08:17:24.158697459Z"
    }
   },
   "id": "56e55ee1beebb549"
  },
  {
   "cell_type": "markdown",
   "source": [
    "### California Housing Prices Datset"
   ],
   "metadata": {
    "collapsed": false
   },
   "id": "6d5c280e3c21326d"
  },
  {
   "cell_type": "code",
   "execution_count": 4,
   "outputs": [],
   "source": [
    "DATA_DIR = Path('data/housing_data')\n",
    "file_name = 'housing.csv'\n",
    "scaled_file_name = 'housing_scaled.csv'\n",
    "train_file_name = 'train_housing_scaled.csv'\n",
    "test_file_name = 'test_housing_scaled.csv'\n",
    "scaler_params_file = 'housing_scaling_params.csv'"
   ],
   "metadata": {
    "collapsed": false,
    "ExecuteTime": {
     "end_time": "2023-09-27T08:17:24.186495673Z",
     "start_time": "2023-09-27T08:17:24.177431218Z"
    }
   },
   "id": "83c9877b5e539eb1"
  },
  {
   "cell_type": "code",
   "execution_count": 5,
   "outputs": [],
   "source": [
    "MODEL_PATH = Path('models/')\n",
    "housing_model_name = 'housing'"
   ],
   "metadata": {
    "collapsed": false,
    "ExecuteTime": {
     "end_time": "2023-09-27T08:17:24.196267499Z",
     "start_time": "2023-09-27T08:17:24.187996813Z"
    }
   },
   "id": "cfc250452d604e47"
  },
  {
   "cell_type": "code",
   "execution_count": 6,
   "outputs": [],
   "source": [
    "df = pd.read_csv(DATA_DIR / file_name)"
   ],
   "metadata": {
    "collapsed": false,
    "ExecuteTime": {
     "end_time": "2023-09-27T08:17:24.238304507Z",
     "start_time": "2023-09-27T08:17:24.238035936Z"
    }
   },
   "id": "b641c39ccc24d053"
  },
  {
   "cell_type": "code",
   "execution_count": 7,
   "outputs": [
    {
     "name": "stdout",
     "output_type": "stream",
     "text": [
      "<class 'pandas.core.frame.DataFrame'>\n",
      "RangeIndex: 20640 entries, 0 to 20639\n",
      "Data columns (total 10 columns):\n",
      " #   Column              Non-Null Count  Dtype  \n",
      "---  ------              --------------  -----  \n",
      " 0   longitude           20640 non-null  float64\n",
      " 1   latitude            20640 non-null  float64\n",
      " 2   housing_median_age  20640 non-null  float64\n",
      " 3   total_rooms         20640 non-null  float64\n",
      " 4   total_bedrooms      20433 non-null  float64\n",
      " 5   population          20640 non-null  float64\n",
      " 6   households          20640 non-null  float64\n",
      " 7   median_income       20640 non-null  float64\n",
      " 8   median_house_value  20640 non-null  float64\n",
      " 9   ocean_proximity     20640 non-null  object \n",
      "dtypes: float64(9), object(1)\n",
      "memory usage: 1.6+ MB\n"
     ]
    }
   ],
   "source": [
    "df.info()"
   ],
   "metadata": {
    "collapsed": false,
    "ExecuteTime": {
     "end_time": "2023-09-27T08:17:24.238675084Z",
     "start_time": "2023-09-27T08:17:24.238190191Z"
    }
   },
   "id": "6efa7dd4519357b7"
  },
  {
   "cell_type": "code",
   "execution_count": 8,
   "outputs": [
    {
     "data": {
      "text/plain": "array(['NEAR BAY', '<1H OCEAN', 'INLAND', 'NEAR OCEAN', 'ISLAND'],\n      dtype=object)"
     },
     "execution_count": 8,
     "metadata": {},
     "output_type": "execute_result"
    }
   ],
   "source": [
    "df.ocean_proximity.unique()"
   ],
   "metadata": {
    "collapsed": false,
    "ExecuteTime": {
     "end_time": "2023-09-27T08:17:24.238998153Z",
     "start_time": "2023-09-27T08:17:24.238264758Z"
    }
   },
   "id": "2371c88a8c1585d1"
  },
  {
   "cell_type": "code",
   "execution_count": 9,
   "outputs": [],
   "source": [
    "df = df.drop(columns=['ocean_proximity'])"
   ],
   "metadata": {
    "collapsed": false,
    "ExecuteTime": {
     "end_time": "2023-09-27T08:17:24.286411689Z",
     "start_time": "2023-09-27T08:17:24.286021637Z"
    }
   },
   "id": "65d7f58d125951f"
  },
  {
   "cell_type": "code",
   "execution_count": 10,
   "outputs": [
    {
     "data": {
      "text/plain": "       median_house_value\n0                452600.0\n1                358500.0\n2                352100.0\n3                341300.0\n4                342200.0\n...                   ...\n20635             78100.0\n20636             77100.0\n20637             92300.0\n20638             84700.0\n20639             89400.0\n\n[20640 rows x 1 columns]",
      "text/html": "<div>\n<style scoped>\n    .dataframe tbody tr th:only-of-type {\n        vertical-align: middle;\n    }\n\n    .dataframe tbody tr th {\n        vertical-align: top;\n    }\n\n    .dataframe thead th {\n        text-align: right;\n    }\n</style>\n<table border=\"1\" class=\"dataframe\">\n  <thead>\n    <tr style=\"text-align: right;\">\n      <th></th>\n      <th>median_house_value</th>\n    </tr>\n  </thead>\n  <tbody>\n    <tr>\n      <th>0</th>\n      <td>452600.0</td>\n    </tr>\n    <tr>\n      <th>1</th>\n      <td>358500.0</td>\n    </tr>\n    <tr>\n      <th>2</th>\n      <td>352100.0</td>\n    </tr>\n    <tr>\n      <th>3</th>\n      <td>341300.0</td>\n    </tr>\n    <tr>\n      <th>4</th>\n      <td>342200.0</td>\n    </tr>\n    <tr>\n      <th>...</th>\n      <td>...</td>\n    </tr>\n    <tr>\n      <th>20635</th>\n      <td>78100.0</td>\n    </tr>\n    <tr>\n      <th>20636</th>\n      <td>77100.0</td>\n    </tr>\n    <tr>\n      <th>20637</th>\n      <td>92300.0</td>\n    </tr>\n    <tr>\n      <th>20638</th>\n      <td>84700.0</td>\n    </tr>\n    <tr>\n      <th>20639</th>\n      <td>89400.0</td>\n    </tr>\n  </tbody>\n</table>\n<p>20640 rows × 1 columns</p>\n</div>"
     },
     "execution_count": 10,
     "metadata": {},
     "output_type": "execute_result"
    }
   ],
   "source": [
    "df.loc[:, df.columns == 'median_house_value']"
   ],
   "metadata": {
    "collapsed": false,
    "ExecuteTime": {
     "end_time": "2023-09-27T08:17:24.287239834Z",
     "start_time": "2023-09-27T08:17:24.286189859Z"
    }
   },
   "id": "548488366335ca3f"
  },
  {
   "cell_type": "code",
   "execution_count": 11,
   "outputs": [],
   "source": [
    "def scale_split_df(_df: pd.DataFrame, prediction_column: str, test_size: float, data_dir: Path, \n",
    "                   scaled_df_name: str, train_df_name: str, test_df_name: str, scaler_params_name: str):\n",
    "    \n",
    "    scaler = StandardScaler()\n",
    "    features_df = df.loc[:, df.columns != prediction_column]\n",
    "    prediction_df = df.loc[:, df.columns == prediction_column]\n",
    "    scaled_features = pd.DataFrame(scaler.fit_transform(features_df))\n",
    "    scaled_features.columns = features_df.columns.str.replace(' ', '_')\n",
    "    scaled_df = pd.concat([scaled_features, prediction_df], axis=1)\n",
    "    train_df, test_df = train_test_split(scaled_df, test_size=test_size)\n",
    "    \n",
    "    scaled_df.to_csv(data_dir/scaled_df_name, index=False)\n",
    "    train_df.to_csv(data_dir/train_df_name, index=False)\n",
    "    test_df.to_csv(data_dir/test_df_name, index=False)\n",
    "    \n",
    "    normalization_params = {\n",
    "    \"mean\": scaler.mean_,\n",
    "    \"variance\": scaler.var_,\n",
    "}\n",
    "\n",
    "    normalization_params_df = pd.DataFrame.from_dict(normalization_params, orient=\"index\")\n",
    "    normalization_params_df.columns = features_df.columns\n",
    "    normalization_params_df.to_csv(DATA_DIR/scaler_params_name)\n",
    "\n",
    "    return scaled_df, train_df, test_df"
   ],
   "metadata": {
    "collapsed": false,
    "ExecuteTime": {
     "end_time": "2023-09-27T08:17:24.287408497Z",
     "start_time": "2023-09-27T08:17:24.286257086Z"
    }
   },
   "id": "a01a9295acd092b0"
  },
  {
   "cell_type": "code",
   "execution_count": 12,
   "outputs": [
    {
     "data": {
      "text/plain": "          longitude      latitude  housing_median_age   total_rooms  \\\ncount  2.064000e+04  2.064000e+04        2.064000e+04  2.064000e+04   \nmean  -8.526513e-15 -1.079584e-15        5.508083e-18  3.201573e-17   \nstd    1.000024e+00  1.000024e+00        1.000024e+00  1.000024e+00   \nmin   -2.385992e+00 -1.447568e+00       -2.196180e+00 -1.207283e+00   \n25%   -1.113209e+00 -7.967887e-01       -8.453931e-01 -5.445698e-01   \n50%    5.389137e-01 -6.422871e-01        2.864572e-02 -2.332104e-01   \n75%    7.784964e-01  9.729566e-01        6.643103e-01  2.348028e-01   \nmax    2.625280e+00  2.958068e+00        1.856182e+00  1.681558e+01   \n\n       total_bedrooms    population    households  median_income  \\\ncount    2.043300e+04  2.064000e+04  2.064000e+04   2.064000e+04   \nmean    -7.233049e-17 -1.101617e-17  6.885104e-17   6.609700e-17   \nstd      1.000024e+00  1.000024e+00  1.000024e+00   1.000024e+00   \nmin     -1.274093e+00 -1.256123e+00 -1.303984e+00  -1.774299e+00   \n25%     -5.740034e-01 -5.638089e-01 -5.742294e-01  -6.881186e-01   \n50%     -2.441308e-01 -2.291318e-01 -2.368162e-01  -1.767951e-01   \n75%      2.589843e-01  2.644949e-01  2.758427e-01   4.593063e-01   \nmax      1.401871e+01  3.025033e+01  1.460152e+01   5.858286e+00   \n\n       median_house_value  \ncount        20640.000000  \nmean        206855.816909  \nstd         115395.615874  \nmin          14999.000000  \n25%         119600.000000  \n50%         179700.000000  \n75%         264725.000000  \nmax         500001.000000  ",
      "text/html": "<div>\n<style scoped>\n    .dataframe tbody tr th:only-of-type {\n        vertical-align: middle;\n    }\n\n    .dataframe tbody tr th {\n        vertical-align: top;\n    }\n\n    .dataframe thead th {\n        text-align: right;\n    }\n</style>\n<table border=\"1\" class=\"dataframe\">\n  <thead>\n    <tr style=\"text-align: right;\">\n      <th></th>\n      <th>longitude</th>\n      <th>latitude</th>\n      <th>housing_median_age</th>\n      <th>total_rooms</th>\n      <th>total_bedrooms</th>\n      <th>population</th>\n      <th>households</th>\n      <th>median_income</th>\n      <th>median_house_value</th>\n    </tr>\n  </thead>\n  <tbody>\n    <tr>\n      <th>count</th>\n      <td>2.064000e+04</td>\n      <td>2.064000e+04</td>\n      <td>2.064000e+04</td>\n      <td>2.064000e+04</td>\n      <td>2.043300e+04</td>\n      <td>2.064000e+04</td>\n      <td>2.064000e+04</td>\n      <td>2.064000e+04</td>\n      <td>20640.000000</td>\n    </tr>\n    <tr>\n      <th>mean</th>\n      <td>-8.526513e-15</td>\n      <td>-1.079584e-15</td>\n      <td>5.508083e-18</td>\n      <td>3.201573e-17</td>\n      <td>-7.233049e-17</td>\n      <td>-1.101617e-17</td>\n      <td>6.885104e-17</td>\n      <td>6.609700e-17</td>\n      <td>206855.816909</td>\n    </tr>\n    <tr>\n      <th>std</th>\n      <td>1.000024e+00</td>\n      <td>1.000024e+00</td>\n      <td>1.000024e+00</td>\n      <td>1.000024e+00</td>\n      <td>1.000024e+00</td>\n      <td>1.000024e+00</td>\n      <td>1.000024e+00</td>\n      <td>1.000024e+00</td>\n      <td>115395.615874</td>\n    </tr>\n    <tr>\n      <th>min</th>\n      <td>-2.385992e+00</td>\n      <td>-1.447568e+00</td>\n      <td>-2.196180e+00</td>\n      <td>-1.207283e+00</td>\n      <td>-1.274093e+00</td>\n      <td>-1.256123e+00</td>\n      <td>-1.303984e+00</td>\n      <td>-1.774299e+00</td>\n      <td>14999.000000</td>\n    </tr>\n    <tr>\n      <th>25%</th>\n      <td>-1.113209e+00</td>\n      <td>-7.967887e-01</td>\n      <td>-8.453931e-01</td>\n      <td>-5.445698e-01</td>\n      <td>-5.740034e-01</td>\n      <td>-5.638089e-01</td>\n      <td>-5.742294e-01</td>\n      <td>-6.881186e-01</td>\n      <td>119600.000000</td>\n    </tr>\n    <tr>\n      <th>50%</th>\n      <td>5.389137e-01</td>\n      <td>-6.422871e-01</td>\n      <td>2.864572e-02</td>\n      <td>-2.332104e-01</td>\n      <td>-2.441308e-01</td>\n      <td>-2.291318e-01</td>\n      <td>-2.368162e-01</td>\n      <td>-1.767951e-01</td>\n      <td>179700.000000</td>\n    </tr>\n    <tr>\n      <th>75%</th>\n      <td>7.784964e-01</td>\n      <td>9.729566e-01</td>\n      <td>6.643103e-01</td>\n      <td>2.348028e-01</td>\n      <td>2.589843e-01</td>\n      <td>2.644949e-01</td>\n      <td>2.758427e-01</td>\n      <td>4.593063e-01</td>\n      <td>264725.000000</td>\n    </tr>\n    <tr>\n      <th>max</th>\n      <td>2.625280e+00</td>\n      <td>2.958068e+00</td>\n      <td>1.856182e+00</td>\n      <td>1.681558e+01</td>\n      <td>1.401871e+01</td>\n      <td>3.025033e+01</td>\n      <td>1.460152e+01</td>\n      <td>5.858286e+00</td>\n      <td>500001.000000</td>\n    </tr>\n  </tbody>\n</table>\n</div>"
     },
     "execution_count": 12,
     "metadata": {},
     "output_type": "execute_result"
    }
   ],
   "source": [
    "scaled_df, train_df, test_df = scale_split_df(df, 'median_house_value', 0.2, DATA_DIR, scaled_file_name, train_file_name, test_file_name, scaler_params_file)\n",
    "scaled_df.describe()"
   ],
   "metadata": {
    "collapsed": false,
    "ExecuteTime": {
     "end_time": "2023-09-27T08:17:24.592620631Z",
     "start_time": "2023-09-27T08:17:24.286296828Z"
    }
   },
   "id": "d0a2c484d3c68436"
  },
  {
   "cell_type": "code",
   "execution_count": 13,
   "outputs": [],
   "source": [
    "X_train = train_df.loc[:, df.columns != 'median_house_value']\n",
    "y_train = train_df.loc[:, df.columns == 'median_house_value'] \n",
    "X_test = test_df.loc[:, df.columns != 'median_house_value']\n",
    "y_test = test_df.loc[:, df.columns == 'median_house_value']"
   ],
   "metadata": {
    "collapsed": false,
    "ExecuteTime": {
     "end_time": "2023-09-27T08:17:24.712826531Z",
     "start_time": "2023-09-27T08:17:24.593927445Z"
    }
   },
   "id": "4eaf74491a35c165"
  },
  {
   "cell_type": "markdown",
   "source": [
    "#### Housing model training"
   ],
   "metadata": {
    "collapsed": false
   },
   "id": "cd4ac7ec2102f984"
  },
  {
   "cell_type": "code",
   "execution_count": 14,
   "outputs": [],
   "source": [
    "def train_and_save_model(param: dict, dtrain: xgb.DMatrix, dtest: xgb.DMatrix, steps, model_path: Path, model_name: str):\n",
    "    if do_training:\n",
    "        gbdt_model = xgb.train(param, dtrain,\n",
    "                          num_boost_round=steps,\n",
    "                          evals=[(dtest, 'test'), (dtrain, 'train')],\n",
    "                          verbose_eval=50,\n",
    "                          )\n",
    "    if do_training:\n",
    "        gbdt_model.dump_model(model_path / f\"{model_name}_dumped.txt\", with_stats=True)\n",
    "        gbdt_model.save_model(model_path / f\"{model_name}_saved.json\")\n",
    "    else:\n",
    "        gbdt_model = xgb.Booster()\n",
    "        gbdt_model.load_model(model_path / f\"{model_name}_saved.json\")\n",
    "    return gbdt_model"
   ],
   "metadata": {
    "collapsed": false,
    "ExecuteTime": {
     "end_time": "2023-09-27T08:17:24.713120945Z",
     "start_time": "2023-09-27T08:17:24.638027482Z"
    }
   },
   "id": "f14fbe7185072711"
  },
  {
   "cell_type": "code",
   "execution_count": 15,
   "outputs": [],
   "source": [
    "# training hyperparameters\n",
    "param = {\n",
    "    'eta': 0.01,\n",
    "    'max_depth': 4,\n",
    "    'objective': 'reg:squarederror',\n",
    "    'seed': 42,\n",
    "}\n",
    "steps = 100"
   ],
   "metadata": {
    "collapsed": false,
    "ExecuteTime": {
     "end_time": "2023-09-27T08:17:24.713310523Z",
     "start_time": "2023-09-27T08:17:24.638134421Z"
    }
   },
   "id": "ad34dd1da228236e"
  },
  {
   "cell_type": "code",
   "execution_count": 16,
   "outputs": [
    {
     "name": "stdout",
     "output_type": "stream",
     "text": [
      "<class 'pandas.core.frame.DataFrame'>\n",
      "Index: 16512 entries, 11392 to 17072\n",
      "Data columns (total 8 columns):\n",
      " #   Column              Non-Null Count  Dtype  \n",
      "---  ------              --------------  -----  \n",
      " 0   longitude           16512 non-null  float64\n",
      " 1   latitude            16512 non-null  float64\n",
      " 2   housing_median_age  16512 non-null  float64\n",
      " 3   total_rooms         16512 non-null  float64\n",
      " 4   total_bedrooms      16343 non-null  float64\n",
      " 5   population          16512 non-null  float64\n",
      " 6   households          16512 non-null  float64\n",
      " 7   median_income       16512 non-null  float64\n",
      "dtypes: float64(8)\n",
      "memory usage: 1.1 MB\n",
      "<class 'pandas.core.frame.DataFrame'>\n",
      "Index: 16512 entries, 11392 to 17072\n",
      "Data columns (total 1 columns):\n",
      " #   Column              Non-Null Count  Dtype  \n",
      "---  ------              --------------  -----  \n",
      " 0   median_house_value  16512 non-null  float64\n",
      "dtypes: float64(1)\n",
      "memory usage: 258.0 KB\n"
     ]
    }
   ],
   "source": [
    "X_train.info()\n",
    "y_train.info()"
   ],
   "metadata": {
    "collapsed": false,
    "ExecuteTime": {
     "end_time": "2023-09-27T08:17:24.713549234Z",
     "start_time": "2023-09-27T08:17:24.638167185Z"
    }
   },
   "id": "7dacb0bff77b630f"
  },
  {
   "cell_type": "code",
   "execution_count": 17,
   "outputs": [
    {
     "name": "stderr",
     "output_type": "stream",
     "text": [
      "/home/mateusz/Documents/tmp/prediction-gap/venv/lib/python3.10/site-packages/xgboost/data.py:335: FutureWarning: is_sparse is deprecated and will be removed in a future version. Check `isinstance(dtype, pd.SparseDtype)` instead.\n",
      "  if is_sparse(dtype):\n",
      "/home/mateusz/Documents/tmp/prediction-gap/venv/lib/python3.10/site-packages/xgboost/data.py:338: FutureWarning: is_categorical_dtype is deprecated and will be removed in a future version. Use isinstance(dtype, CategoricalDtype) instead\n",
      "  is_categorical_dtype(dtype) or is_pa_ext_categorical_dtype(dtype)\n",
      "/home/mateusz/Documents/tmp/prediction-gap/venv/lib/python3.10/site-packages/xgboost/data.py:384: FutureWarning: is_categorical_dtype is deprecated and will be removed in a future version. Use isinstance(dtype, CategoricalDtype) instead\n",
      "  if is_categorical_dtype(dtype):\n",
      "/home/mateusz/Documents/tmp/prediction-gap/venv/lib/python3.10/site-packages/xgboost/data.py:359: FutureWarning: is_categorical_dtype is deprecated and will be removed in a future version. Use isinstance(dtype, CategoricalDtype) instead\n",
      "  return is_int or is_bool or is_float or is_categorical_dtype(dtype)\n",
      "/home/mateusz/Documents/tmp/prediction-gap/venv/lib/python3.10/site-packages/xgboost/data.py:384: FutureWarning: is_categorical_dtype is deprecated and will be removed in a future version. Use isinstance(dtype, CategoricalDtype) instead\n",
      "  if is_categorical_dtype(dtype):\n",
      "/home/mateusz/Documents/tmp/prediction-gap/venv/lib/python3.10/site-packages/xgboost/data.py:359: FutureWarning: is_categorical_dtype is deprecated and will be removed in a future version. Use isinstance(dtype, CategoricalDtype) instead\n",
      "  return is_int or is_bool or is_float or is_categorical_dtype(dtype)\n",
      "/home/mateusz/Documents/tmp/prediction-gap/venv/lib/python3.10/site-packages/xgboost/data.py:335: FutureWarning: is_sparse is deprecated and will be removed in a future version. Check `isinstance(dtype, pd.SparseDtype)` instead.\n",
      "  if is_sparse(dtype):\n",
      "/home/mateusz/Documents/tmp/prediction-gap/venv/lib/python3.10/site-packages/xgboost/data.py:338: FutureWarning: is_categorical_dtype is deprecated and will be removed in a future version. Use isinstance(dtype, CategoricalDtype) instead\n",
      "  is_categorical_dtype(dtype) or is_pa_ext_categorical_dtype(dtype)\n",
      "/home/mateusz/Documents/tmp/prediction-gap/venv/lib/python3.10/site-packages/xgboost/data.py:384: FutureWarning: is_categorical_dtype is deprecated and will be removed in a future version. Use isinstance(dtype, CategoricalDtype) instead\n",
      "  if is_categorical_dtype(dtype):\n",
      "/home/mateusz/Documents/tmp/prediction-gap/venv/lib/python3.10/site-packages/xgboost/data.py:359: FutureWarning: is_categorical_dtype is deprecated and will be removed in a future version. Use isinstance(dtype, CategoricalDtype) instead\n",
      "  return is_int or is_bool or is_float or is_categorical_dtype(dtype)\n",
      "/home/mateusz/Documents/tmp/prediction-gap/venv/lib/python3.10/site-packages/xgboost/data.py:384: FutureWarning: is_categorical_dtype is deprecated and will be removed in a future version. Use isinstance(dtype, CategoricalDtype) instead\n",
      "  if is_categorical_dtype(dtype):\n",
      "/home/mateusz/Documents/tmp/prediction-gap/venv/lib/python3.10/site-packages/xgboost/data.py:359: FutureWarning: is_categorical_dtype is deprecated and will be removed in a future version. Use isinstance(dtype, CategoricalDtype) instead\n",
      "  return is_int or is_bool or is_float or is_categorical_dtype(dtype)\n"
     ]
    }
   ],
   "source": [
    "dtrain = xgb.DMatrix(X_train, label=y_train)\n",
    "dtest = xgb.DMatrix(X_test, label=y_test)"
   ],
   "metadata": {
    "collapsed": false,
    "ExecuteTime": {
     "end_time": "2023-09-27T08:17:24.715242160Z",
     "start_time": "2023-09-27T08:17:24.638213818Z"
    }
   },
   "id": "488ff15324cf74cc"
  },
  {
   "cell_type": "code",
   "execution_count": 18,
   "outputs": [
    {
     "name": "stdout",
     "output_type": "stream",
     "text": [
      "[0]\ttest-rmse:114775.57823\ttrain-rmse:114750.77089\n",
      "[50]\ttest-rmse:92462.79790\ttrain-rmse:91820.50478\n",
      "[99]\ttest-rmse:81240.73281\ttrain-rmse:80076.06979\n",
      "CPU times: user 35.9 s, sys: 81.3 ms, total: 36 s\n",
      "Wall time: 2.98 s\n"
     ]
    },
    {
     "data": {
      "text/plain": "<xgboost.core.Booster at 0x7f46fa081060>"
     },
     "execution_count": 18,
     "metadata": {},
     "output_type": "execute_result"
    }
   ],
   "source": [
    "%%time\n",
    "train_and_save_model(param, dtrain, dtest, steps, MODEL_PATH, housing_model_name)"
   ],
   "metadata": {
    "collapsed": false,
    "ExecuteTime": {
     "end_time": "2023-09-27T08:17:27.688152660Z",
     "start_time": "2023-09-27T08:17:24.697383813Z"
    }
   },
   "id": "392f5700b4df5923"
  },
  {
   "cell_type": "markdown",
   "source": [
    "### Red Wine Dataset"
   ],
   "metadata": {
    "collapsed": false
   },
   "id": "ae796dd7a8aff925"
  },
  {
   "cell_type": "code",
   "execution_count": 19,
   "outputs": [],
   "source": [
    "DATA_DIR = Path('data/wine_quality')\n",
    "file_name = 'winequality_red.csv'\n",
    "scaled_file_name = 'winequality_red_scaled.csv'\n",
    "train_file_name = 'train_winequality_red_scaled.csv'\n",
    "test_file_name = 'test_winequality_red_scaled.csv'\n",
    "scaler_params_file = 'winequality_red_scaling_params.csv'\n",
    "MODEL_PATH = Path('models/')\n",
    "wine_model_name = 'winequality_red'"
   ],
   "metadata": {
    "collapsed": false,
    "ExecuteTime": {
     "end_time": "2023-09-27T08:17:27.691875071Z",
     "start_time": "2023-09-27T08:17:27.686363133Z"
    }
   },
   "id": "d12ea99ef51862"
  },
  {
   "cell_type": "code",
   "execution_count": 20,
   "outputs": [
    {
     "name": "stdout",
     "output_type": "stream",
     "text": [
      "<class 'pandas.core.frame.DataFrame'>\n",
      "RangeIndex: 1599 entries, 0 to 1598\n",
      "Data columns (total 12 columns):\n",
      " #   Column                Non-Null Count  Dtype  \n",
      "---  ------                --------------  -----  \n",
      " 0   fixed acidity         1599 non-null   float64\n",
      " 1   volatile acidity      1599 non-null   float64\n",
      " 2   citric acid           1599 non-null   float64\n",
      " 3   residual sugar        1599 non-null   float64\n",
      " 4   chlorides             1599 non-null   float64\n",
      " 5   free sulfur dioxide   1599 non-null   float64\n",
      " 6   total sulfur dioxide  1599 non-null   float64\n",
      " 7   density               1599 non-null   float64\n",
      " 8   pH                    1599 non-null   float64\n",
      " 9   sulphates             1599 non-null   float64\n",
      " 10  alcohol               1599 non-null   float64\n",
      " 11  quality               1599 non-null   int64  \n",
      "dtypes: float64(11), int64(1)\n",
      "memory usage: 150.0 KB\n"
     ]
    }
   ],
   "source": [
    "df = pd.read_csv(DATA_DIR / file_name, sep=';')\n",
    "df.info()"
   ],
   "metadata": {
    "collapsed": false,
    "ExecuteTime": {
     "end_time": "2023-09-27T08:17:27.711042321Z",
     "start_time": "2023-09-27T08:17:27.691468418Z"
    }
   },
   "id": "b13f2f4aa6fe1da0"
  },
  {
   "cell_type": "code",
   "execution_count": 21,
   "outputs": [
    {
     "data": {
      "text/plain": "       fixed_acidity  volatile_acidity   citric_acid  residual_sugar  \\\ncount   1.599000e+03      1.599000e+03  1.599000e+03    1.599000e+03   \nmean    3.554936e-16      1.733031e-16 -8.887339e-17   -1.244227e-16   \nstd     1.000313e+00      1.000313e+00  1.000313e+00    1.000313e+00   \nmin    -2.137045e+00     -2.278280e+00 -1.391472e+00   -1.162696e+00   \n25%    -7.007187e-01     -7.699311e-01 -9.293181e-01   -4.532184e-01   \n50%    -2.410944e-01     -4.368911e-02 -5.636026e-02   -2.403750e-01   \n75%     5.057952e-01      6.266881e-01  7.652471e-01    4.341614e-02   \nmax     4.355149e+00      5.877976e+00  3.743574e+00    9.195681e+00   \n\n          chlorides  free_sulfur_dioxide  total_sulfur_dioxide       density  \\\ncount  1.599000e+03         1.599000e+03          1.599000e+03  1.599000e+03   \nmean   3.732682e-16        -6.221137e-17          4.443669e-17 -3.473172e-14   \nstd    1.000313e+00         1.000313e+00          1.000313e+00  1.000313e+00   \nmin   -1.603945e+00        -1.422500e+00         -1.230584e+00 -3.538731e+00   \n25%   -3.712290e-01        -8.487156e-01         -7.440403e-01 -6.077557e-01   \n50%   -1.799455e-01        -1.793002e-01         -2.574968e-01  1.760083e-03   \n75%    5.384542e-02         4.901152e-01          4.723184e-01  5.768249e-01   \nmax    1.112703e+01         5.367284e+00          7.375154e+00  3.680055e+00   \n\n                 pH     sulphates       alcohol      quality  \ncount  1.599000e+03  1.599000e+03  1.599000e+03  1599.000000  \nmean   2.861723e-15  6.754377e-16  1.066481e-16     5.636023  \nstd    1.000313e+00  1.000313e+00  1.000313e+00     0.807569  \nmin   -3.700401e+00 -1.936507e+00 -1.898919e+00     3.000000  \n25%   -6.551405e-01 -6.382196e-01 -8.663789e-01     5.000000  \n50%   -7.212705e-03 -2.251281e-01 -2.093081e-01     6.000000  \n75%    5.759223e-01  4.240158e-01  6.354971e-01     6.000000  \nmax    4.528282e+00  7.918677e+00  4.202453e+00     8.000000  ",
      "text/html": "<div>\n<style scoped>\n    .dataframe tbody tr th:only-of-type {\n        vertical-align: middle;\n    }\n\n    .dataframe tbody tr th {\n        vertical-align: top;\n    }\n\n    .dataframe thead th {\n        text-align: right;\n    }\n</style>\n<table border=\"1\" class=\"dataframe\">\n  <thead>\n    <tr style=\"text-align: right;\">\n      <th></th>\n      <th>fixed_acidity</th>\n      <th>volatile_acidity</th>\n      <th>citric_acid</th>\n      <th>residual_sugar</th>\n      <th>chlorides</th>\n      <th>free_sulfur_dioxide</th>\n      <th>total_sulfur_dioxide</th>\n      <th>density</th>\n      <th>pH</th>\n      <th>sulphates</th>\n      <th>alcohol</th>\n      <th>quality</th>\n    </tr>\n  </thead>\n  <tbody>\n    <tr>\n      <th>count</th>\n      <td>1.599000e+03</td>\n      <td>1.599000e+03</td>\n      <td>1.599000e+03</td>\n      <td>1.599000e+03</td>\n      <td>1.599000e+03</td>\n      <td>1.599000e+03</td>\n      <td>1.599000e+03</td>\n      <td>1.599000e+03</td>\n      <td>1.599000e+03</td>\n      <td>1.599000e+03</td>\n      <td>1.599000e+03</td>\n      <td>1599.000000</td>\n    </tr>\n    <tr>\n      <th>mean</th>\n      <td>3.554936e-16</td>\n      <td>1.733031e-16</td>\n      <td>-8.887339e-17</td>\n      <td>-1.244227e-16</td>\n      <td>3.732682e-16</td>\n      <td>-6.221137e-17</td>\n      <td>4.443669e-17</td>\n      <td>-3.473172e-14</td>\n      <td>2.861723e-15</td>\n      <td>6.754377e-16</td>\n      <td>1.066481e-16</td>\n      <td>5.636023</td>\n    </tr>\n    <tr>\n      <th>std</th>\n      <td>1.000313e+00</td>\n      <td>1.000313e+00</td>\n      <td>1.000313e+00</td>\n      <td>1.000313e+00</td>\n      <td>1.000313e+00</td>\n      <td>1.000313e+00</td>\n      <td>1.000313e+00</td>\n      <td>1.000313e+00</td>\n      <td>1.000313e+00</td>\n      <td>1.000313e+00</td>\n      <td>1.000313e+00</td>\n      <td>0.807569</td>\n    </tr>\n    <tr>\n      <th>min</th>\n      <td>-2.137045e+00</td>\n      <td>-2.278280e+00</td>\n      <td>-1.391472e+00</td>\n      <td>-1.162696e+00</td>\n      <td>-1.603945e+00</td>\n      <td>-1.422500e+00</td>\n      <td>-1.230584e+00</td>\n      <td>-3.538731e+00</td>\n      <td>-3.700401e+00</td>\n      <td>-1.936507e+00</td>\n      <td>-1.898919e+00</td>\n      <td>3.000000</td>\n    </tr>\n    <tr>\n      <th>25%</th>\n      <td>-7.007187e-01</td>\n      <td>-7.699311e-01</td>\n      <td>-9.293181e-01</td>\n      <td>-4.532184e-01</td>\n      <td>-3.712290e-01</td>\n      <td>-8.487156e-01</td>\n      <td>-7.440403e-01</td>\n      <td>-6.077557e-01</td>\n      <td>-6.551405e-01</td>\n      <td>-6.382196e-01</td>\n      <td>-8.663789e-01</td>\n      <td>5.000000</td>\n    </tr>\n    <tr>\n      <th>50%</th>\n      <td>-2.410944e-01</td>\n      <td>-4.368911e-02</td>\n      <td>-5.636026e-02</td>\n      <td>-2.403750e-01</td>\n      <td>-1.799455e-01</td>\n      <td>-1.793002e-01</td>\n      <td>-2.574968e-01</td>\n      <td>1.760083e-03</td>\n      <td>-7.212705e-03</td>\n      <td>-2.251281e-01</td>\n      <td>-2.093081e-01</td>\n      <td>6.000000</td>\n    </tr>\n    <tr>\n      <th>75%</th>\n      <td>5.057952e-01</td>\n      <td>6.266881e-01</td>\n      <td>7.652471e-01</td>\n      <td>4.341614e-02</td>\n      <td>5.384542e-02</td>\n      <td>4.901152e-01</td>\n      <td>4.723184e-01</td>\n      <td>5.768249e-01</td>\n      <td>5.759223e-01</td>\n      <td>4.240158e-01</td>\n      <td>6.354971e-01</td>\n      <td>6.000000</td>\n    </tr>\n    <tr>\n      <th>max</th>\n      <td>4.355149e+00</td>\n      <td>5.877976e+00</td>\n      <td>3.743574e+00</td>\n      <td>9.195681e+00</td>\n      <td>1.112703e+01</td>\n      <td>5.367284e+00</td>\n      <td>7.375154e+00</td>\n      <td>3.680055e+00</td>\n      <td>4.528282e+00</td>\n      <td>7.918677e+00</td>\n      <td>4.202453e+00</td>\n      <td>8.000000</td>\n    </tr>\n  </tbody>\n</table>\n</div>"
     },
     "execution_count": 21,
     "metadata": {},
     "output_type": "execute_result"
    }
   ],
   "source": [
    "scaled_df, train_df, test_df = scale_split_df(df, 'quality', 0.2, DATA_DIR, scaled_file_name, train_file_name, test_file_name, scaler_params_file)\n",
    "scaled_df.describe()"
   ],
   "metadata": {
    "collapsed": false,
    "ExecuteTime": {
     "end_time": "2023-09-27T08:17:27.853539183Z",
     "start_time": "2023-09-27T08:17:27.712301615Z"
    }
   },
   "id": "7bcfc129bbc50eda"
  },
  {
   "cell_type": "code",
   "execution_count": 22,
   "outputs": [],
   "source": [
    "X_train = train_df.loc[:, df.columns != 'quality']\n",
    "y_train = train_df.loc[:, df.columns == 'quality'] \n",
    "X_test = test_df.loc[:, df.columns != 'quality']\n",
    "y_test = test_df.loc[:, df.columns == 'quality']"
   ],
   "metadata": {
    "collapsed": false,
    "ExecuteTime": {
     "end_time": "2023-09-27T08:17:27.853880901Z",
     "start_time": "2023-09-27T08:17:27.806117057Z"
    }
   },
   "id": "bd2aa18d2a3b44c1"
  },
  {
   "cell_type": "markdown",
   "source": [
    "### Wine model training"
   ],
   "metadata": {
    "collapsed": false
   },
   "id": "aec445118e55570b"
  },
  {
   "cell_type": "code",
   "execution_count": 23,
   "outputs": [
    {
     "name": "stderr",
     "output_type": "stream",
     "text": [
      "/home/mateusz/Documents/tmp/prediction-gap/venv/lib/python3.10/site-packages/xgboost/data.py:335: FutureWarning: is_sparse is deprecated and will be removed in a future version. Check `isinstance(dtype, pd.SparseDtype)` instead.\n",
      "  if is_sparse(dtype):\n",
      "/home/mateusz/Documents/tmp/prediction-gap/venv/lib/python3.10/site-packages/xgboost/data.py:338: FutureWarning: is_categorical_dtype is deprecated and will be removed in a future version. Use isinstance(dtype, CategoricalDtype) instead\n",
      "  is_categorical_dtype(dtype) or is_pa_ext_categorical_dtype(dtype)\n",
      "/home/mateusz/Documents/tmp/prediction-gap/venv/lib/python3.10/site-packages/xgboost/data.py:384: FutureWarning: is_categorical_dtype is deprecated and will be removed in a future version. Use isinstance(dtype, CategoricalDtype) instead\n",
      "  if is_categorical_dtype(dtype):\n",
      "/home/mateusz/Documents/tmp/prediction-gap/venv/lib/python3.10/site-packages/xgboost/data.py:359: FutureWarning: is_categorical_dtype is deprecated and will be removed in a future version. Use isinstance(dtype, CategoricalDtype) instead\n",
      "  return is_int or is_bool or is_float or is_categorical_dtype(dtype)\n",
      "/home/mateusz/Documents/tmp/prediction-gap/venv/lib/python3.10/site-packages/xgboost/data.py:384: FutureWarning: is_categorical_dtype is deprecated and will be removed in a future version. Use isinstance(dtype, CategoricalDtype) instead\n",
      "  if is_categorical_dtype(dtype):\n",
      "/home/mateusz/Documents/tmp/prediction-gap/venv/lib/python3.10/site-packages/xgboost/data.py:359: FutureWarning: is_categorical_dtype is deprecated and will be removed in a future version. Use isinstance(dtype, CategoricalDtype) instead\n",
      "  return is_int or is_bool or is_float or is_categorical_dtype(dtype)\n",
      "/home/mateusz/Documents/tmp/prediction-gap/venv/lib/python3.10/site-packages/xgboost/data.py:335: FutureWarning: is_sparse is deprecated and will be removed in a future version. Check `isinstance(dtype, pd.SparseDtype)` instead.\n",
      "  if is_sparse(dtype):\n",
      "/home/mateusz/Documents/tmp/prediction-gap/venv/lib/python3.10/site-packages/xgboost/data.py:338: FutureWarning: is_categorical_dtype is deprecated and will be removed in a future version. Use isinstance(dtype, CategoricalDtype) instead\n",
      "  is_categorical_dtype(dtype) or is_pa_ext_categorical_dtype(dtype)\n",
      "/home/mateusz/Documents/tmp/prediction-gap/venv/lib/python3.10/site-packages/xgboost/data.py:384: FutureWarning: is_categorical_dtype is deprecated and will be removed in a future version. Use isinstance(dtype, CategoricalDtype) instead\n",
      "  if is_categorical_dtype(dtype):\n",
      "/home/mateusz/Documents/tmp/prediction-gap/venv/lib/python3.10/site-packages/xgboost/data.py:359: FutureWarning: is_categorical_dtype is deprecated and will be removed in a future version. Use isinstance(dtype, CategoricalDtype) instead\n",
      "  return is_int or is_bool or is_float or is_categorical_dtype(dtype)\n",
      "/home/mateusz/Documents/tmp/prediction-gap/venv/lib/python3.10/site-packages/xgboost/data.py:384: FutureWarning: is_categorical_dtype is deprecated and will be removed in a future version. Use isinstance(dtype, CategoricalDtype) instead\n",
      "  if is_categorical_dtype(dtype):\n",
      "/home/mateusz/Documents/tmp/prediction-gap/venv/lib/python3.10/site-packages/xgboost/data.py:359: FutureWarning: is_categorical_dtype is deprecated and will be removed in a future version. Use isinstance(dtype, CategoricalDtype) instead\n",
      "  return is_int or is_bool or is_float or is_categorical_dtype(dtype)\n"
     ]
    }
   ],
   "source": [
    "# training hyperparameters\n",
    "param = {\n",
    "    'eta': 0.01,\n",
    "    'max_depth': 1,\n",
    "    'objective': 'reg:squarederror',\n",
    "    'seed': 42,\n",
    "}\n",
    "steps = 100\n",
    "\n",
    "dtrain = xgb.DMatrix(X_train, label=y_train)\n",
    "dtest = xgb.DMatrix(X_test, label=y_test)"
   ],
   "metadata": {
    "collapsed": false,
    "ExecuteTime": {
     "end_time": "2023-09-27T08:17:27.982606199Z",
     "start_time": "2023-09-27T08:17:27.806255116Z"
    }
   },
   "id": "13a1576d3ef1be72"
  },
  {
   "cell_type": "code",
   "execution_count": 24,
   "outputs": [
    {
     "name": "stdout",
     "output_type": "stream",
     "text": [
      "[0]\ttest-rmse:0.81835\ttrain-rmse:0.80281\n",
      "[50]\ttest-rmse:0.77340\ttrain-rmse:0.75254\n",
      "[99]\ttest-rmse:0.74064\ttrain-rmse:0.72141\n"
     ]
    }
   ],
   "source": [
    "not_saved_model = train_and_save_model(param, dtrain, dtest, steps, MODEL_PATH, wine_model_name)"
   ],
   "metadata": {
    "collapsed": false,
    "ExecuteTime": {
     "end_time": "2023-09-27T08:17:28.420682285Z",
     "start_time": "2023-09-27T08:17:27.977450832Z"
    }
   },
   "id": "c8e136c7dcf59e9e"
  },
  {
   "cell_type": "code",
   "execution_count": 25,
   "outputs": [],
   "source": [
    "model_path = Path(\"models\")\n",
    "model_name = \"winequality_red\"\n",
    "saved_model = xgb.Booster()\n",
    "saved_model.load_model(model_path / f\"{model_name}_saved.json\")"
   ],
   "metadata": {
    "collapsed": false,
    "ExecuteTime": {
     "end_time": "2023-09-27T08:17:28.422352952Z",
     "start_time": "2023-09-27T08:17:28.392970928Z"
    }
   },
   "id": "c99f740efbc73f1"
  },
  {
   "cell_type": "code",
   "execution_count": 26,
   "outputs": [
    {
     "data": {
      "text/plain": "<xgboost.core.Booster at 0x7f46fa080b50>"
     },
     "execution_count": 26,
     "metadata": {},
     "output_type": "execute_result"
    }
   ],
   "source": [
    "saved_model"
   ],
   "metadata": {
    "collapsed": false,
    "ExecuteTime": {
     "end_time": "2023-09-27T08:17:28.466235164Z",
     "start_time": "2023-09-27T08:17:28.457950741Z"
    }
   },
   "id": "6745a3af85b9cd1e"
  },
  {
   "cell_type": "code",
   "execution_count": 27,
   "outputs": [
    {
     "data": {
      "text/plain": "<xgboost.core.Booster at 0x7f46fa080fd0>"
     },
     "execution_count": 27,
     "metadata": {},
     "output_type": "execute_result"
    }
   ],
   "source": [
    "not_saved_model"
   ],
   "metadata": {
    "collapsed": false,
    "ExecuteTime": {
     "end_time": "2023-09-27T08:17:28.466733806Z",
     "start_time": "2023-09-27T08:17:28.458091023Z"
    }
   },
   "id": "54cc915b40738731"
  },
  {
   "cell_type": "code",
   "execution_count": 28,
   "outputs": [
    {
     "name": "stderr",
     "output_type": "stream",
     "text": [
      "/home/mateusz/Documents/tmp/prediction-gap/venv/lib/python3.10/site-packages/xgboost/data.py:335: FutureWarning: is_sparse is deprecated and will be removed in a future version. Check `isinstance(dtype, pd.SparseDtype)` instead.\n",
      "  if is_sparse(dtype):\n",
      "/home/mateusz/Documents/tmp/prediction-gap/venv/lib/python3.10/site-packages/xgboost/data.py:338: FutureWarning: is_categorical_dtype is deprecated and will be removed in a future version. Use isinstance(dtype, CategoricalDtype) instead\n",
      "  is_categorical_dtype(dtype) or is_pa_ext_categorical_dtype(dtype)\n",
      "/home/mateusz/Documents/tmp/prediction-gap/venv/lib/python3.10/site-packages/xgboost/data.py:384: FutureWarning: is_categorical_dtype is deprecated and will be removed in a future version. Use isinstance(dtype, CategoricalDtype) instead\n",
      "  if is_categorical_dtype(dtype):\n",
      "/home/mateusz/Documents/tmp/prediction-gap/venv/lib/python3.10/site-packages/xgboost/data.py:359: FutureWarning: is_categorical_dtype is deprecated and will be removed in a future version. Use isinstance(dtype, CategoricalDtype) instead\n",
      "  return is_int or is_bool or is_float or is_categorical_dtype(dtype)\n"
     ]
    }
   ],
   "source": [
    "test_df = pd.read_csv(\"data/wine_quality/test_winequality_red_scaled.csv\")\n",
    "x_test_matrix = xgb.DMatrix(test_df.iloc[:20, :-1])\n",
    "no_saved_pred = not_saved_model.predict(x_test_matrix)\n",
    "saved_pred = saved_model.predict(x_test_matrix)"
   ],
   "metadata": {
    "collapsed": false,
    "ExecuteTime": {
     "end_time": "2023-09-27T08:17:28.524010613Z",
     "start_time": "2023-09-27T08:17:28.458140294Z"
    }
   },
   "id": "7e75cc222165a401"
  },
  {
   "cell_type": "code",
   "execution_count": 29,
   "outputs": [
    {
     "data": {
      "text/plain": "    Not saved     Saved\n0    5.682260  5.682260\n1    5.603909  5.603909\n2    5.591124  5.591124\n3    5.468012  5.468012\n4    5.642080  5.642080\n5    5.518968  5.518968\n6    5.560310  5.560310\n7    5.760271  5.760271\n8    5.641052  5.641052\n9    5.510474  5.510474\n10   5.459517  5.459517\n11   5.705923  5.705923\n12   5.552953  5.552953\n13   5.468012  5.468012\n14   5.459517  5.459517\n15   5.513113  5.513113\n16   5.713605  5.713605\n17   5.577708  5.577708\n18   5.531355  5.531355\n19   5.459517  5.459517",
      "text/html": "<div>\n<style scoped>\n    .dataframe tbody tr th:only-of-type {\n        vertical-align: middle;\n    }\n\n    .dataframe tbody tr th {\n        vertical-align: top;\n    }\n\n    .dataframe thead th {\n        text-align: right;\n    }\n</style>\n<table border=\"1\" class=\"dataframe\">\n  <thead>\n    <tr style=\"text-align: right;\">\n      <th></th>\n      <th>Not saved</th>\n      <th>Saved</th>\n    </tr>\n  </thead>\n  <tbody>\n    <tr>\n      <th>0</th>\n      <td>5.682260</td>\n      <td>5.682260</td>\n    </tr>\n    <tr>\n      <th>1</th>\n      <td>5.603909</td>\n      <td>5.603909</td>\n    </tr>\n    <tr>\n      <th>2</th>\n      <td>5.591124</td>\n      <td>5.591124</td>\n    </tr>\n    <tr>\n      <th>3</th>\n      <td>5.468012</td>\n      <td>5.468012</td>\n    </tr>\n    <tr>\n      <th>4</th>\n      <td>5.642080</td>\n      <td>5.642080</td>\n    </tr>\n    <tr>\n      <th>5</th>\n      <td>5.518968</td>\n      <td>5.518968</td>\n    </tr>\n    <tr>\n      <th>6</th>\n      <td>5.560310</td>\n      <td>5.560310</td>\n    </tr>\n    <tr>\n      <th>7</th>\n      <td>5.760271</td>\n      <td>5.760271</td>\n    </tr>\n    <tr>\n      <th>8</th>\n      <td>5.641052</td>\n      <td>5.641052</td>\n    </tr>\n    <tr>\n      <th>9</th>\n      <td>5.510474</td>\n      <td>5.510474</td>\n    </tr>\n    <tr>\n      <th>10</th>\n      <td>5.459517</td>\n      <td>5.459517</td>\n    </tr>\n    <tr>\n      <th>11</th>\n      <td>5.705923</td>\n      <td>5.705923</td>\n    </tr>\n    <tr>\n      <th>12</th>\n      <td>5.552953</td>\n      <td>5.552953</td>\n    </tr>\n    <tr>\n      <th>13</th>\n      <td>5.468012</td>\n      <td>5.468012</td>\n    </tr>\n    <tr>\n      <th>14</th>\n      <td>5.459517</td>\n      <td>5.459517</td>\n    </tr>\n    <tr>\n      <th>15</th>\n      <td>5.513113</td>\n      <td>5.513113</td>\n    </tr>\n    <tr>\n      <th>16</th>\n      <td>5.713605</td>\n      <td>5.713605</td>\n    </tr>\n    <tr>\n      <th>17</th>\n      <td>5.577708</td>\n      <td>5.577708</td>\n    </tr>\n    <tr>\n      <th>18</th>\n      <td>5.531355</td>\n      <td>5.531355</td>\n    </tr>\n    <tr>\n      <th>19</th>\n      <td>5.459517</td>\n      <td>5.459517</td>\n    </tr>\n  </tbody>\n</table>\n</div>"
     },
     "execution_count": 29,
     "metadata": {},
     "output_type": "execute_result"
    }
   ],
   "source": [
    "pd.DataFrame(zip(no_saved_pred, saved_pred),\n",
    "             columns=[\"Not saved\", \"Saved\"])"
   ],
   "metadata": {
    "collapsed": false,
    "ExecuteTime": {
     "end_time": "2023-09-27T08:17:28.524608849Z",
     "start_time": "2023-09-27T08:17:28.506211697Z"
    }
   },
   "id": "aec2412f261283db"
  },
  {
   "cell_type": "code",
   "execution_count": 30,
   "outputs": [
    {
     "name": "stdout",
     "output_type": "stream",
     "text": [
      "<class 'pandas.core.frame.DataFrame'>\n",
      "RangeIndex: 320 entries, 0 to 319\n",
      "Data columns (total 12 columns):\n",
      " #   Column                Non-Null Count  Dtype  \n",
      "---  ------                --------------  -----  \n",
      " 0   fixed_acidity         320 non-null    float64\n",
      " 1   volatile_acidity      320 non-null    float64\n",
      " 2   citric_acid           320 non-null    float64\n",
      " 3   residual_sugar        320 non-null    float64\n",
      " 4   chlorides             320 non-null    float64\n",
      " 5   free_sulfur_dioxide   320 non-null    float64\n",
      " 6   total_sulfur_dioxide  320 non-null    float64\n",
      " 7   density               320 non-null    float64\n",
      " 8   pH                    320 non-null    float64\n",
      " 9   sulphates             320 non-null    float64\n",
      " 10  alcohol               320 non-null    float64\n",
      " 11  quality               320 non-null    int64  \n",
      "dtypes: float64(11), int64(1)\n",
      "memory usage: 30.1 KB\n"
     ]
    }
   ],
   "source": [
    "test_df.info()"
   ],
   "metadata": {
    "collapsed": false,
    "ExecuteTime": {
     "end_time": "2023-09-27T08:17:28.524758558Z",
     "start_time": "2023-09-27T08:17:28.506422692Z"
    }
   },
   "id": "97a34fa84caade68"
  },
  {
   "cell_type": "code",
   "execution_count": 30,
   "outputs": [],
   "source": [],
   "metadata": {
    "collapsed": false,
    "ExecuteTime": {
     "end_time": "2023-09-27T08:17:28.524810844Z",
     "start_time": "2023-09-27T08:17:28.506517973Z"
    }
   },
   "id": "ba71ef7bee83398"
  }
 ],
 "metadata": {
  "kernelspec": {
   "display_name": "Python 3",
   "language": "python",
   "name": "python3"
  },
  "language_info": {
   "codemirror_mode": {
    "name": "ipython",
    "version": 2
   },
   "file_extension": ".py",
   "mimetype": "text/x-python",
   "name": "python",
   "nbconvert_exporter": "python",
   "pygments_lexer": "ipython2",
   "version": "2.7.6"
  }
 },
 "nbformat": 4,
 "nbformat_minor": 5
}
