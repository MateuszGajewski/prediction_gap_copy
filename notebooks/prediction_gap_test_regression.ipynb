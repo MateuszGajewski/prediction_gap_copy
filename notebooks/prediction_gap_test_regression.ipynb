{
 "cells": [
  {
   "cell_type": "markdown",
   "source": [
    "### Prediction gap test for regression= true_labels= true_labels= true_labels"
   ],
   "metadata": {
    "collapsed": false
   },
   "id": "f053d639182c6d84"
  },
  {
   "cell_type": "markdown",
   "source": [
    "### Imports"
   ],
   "metadata": {
    "collapsed": false
   },
   "id": "f3759a1345207aa3"
  },
  {
   "cell_type": "code",
   "execution_count": 1,
   "outputs": [],
   "source": [
    "import pandas as pd\n",
    "import os\n",
    "import xgboost as xgb\n",
    "from pathlib import Path\n",
    "import json\n",
    "from src.decision_tree.tree import parse_xgboost_dump,  TreeEnsemble\n",
    "import numpy as np"
   ],
   "metadata": {
    "collapsed": false,
    "ExecuteTime": {
     "end_time": "2023-09-28T10:43:48.164495165Z",
     "start_time": "2023-09-28T10:43:47.766728770Z"
    }
   },
   "id": "7efe13de86114d48"
  },
  {
   "cell_type": "code",
   "execution_count": 2,
   "outputs": [],
   "source": [
    "while \"notebooks\" in os.getcwd():\n",
    "    os.chdir(\"../\")\n",
    "os.chdir(\"src\")"
   ],
   "metadata": {
    "collapsed": false,
    "ExecuteTime": {
     "end_time": "2023-09-28T10:43:48.170644587Z",
     "start_time": "2023-09-28T10:43:48.166856166Z"
    }
   },
   "id": "28e407c80f97591e"
  },
  {
   "cell_type": "markdown",
   "source": [
    "### Wine data"
   ],
   "metadata": {
    "collapsed": false
   },
   "id": "6afd3921aaf1e2ec"
  },
  {
   "cell_type": "code",
   "execution_count": 3,
   "outputs": [],
   "source": [
    "model_path = Path(\"../models\")\n",
    "model_name = \"winequality_red\""
   ],
   "metadata": {
    "collapsed": false,
    "ExecuteTime": {
     "end_time": "2023-09-28T10:43:48.712556319Z",
     "start_time": "2023-09-28T10:43:48.707683972Z"
    }
   },
   "id": "a2e0fe6dfec82999"
  },
  {
   "cell_type": "code",
   "execution_count": 4,
   "outputs": [
    {
     "name": "stdout",
     "output_type": "stream",
     "text": [
      "<class 'pandas.core.frame.DataFrame'>\n",
      "RangeIndex: 320 entries, 0 to 319\n",
      "Data columns (total 12 columns):\n",
      " #   Column                Non-Null Count  Dtype  \n",
      "---  ------                --------------  -----  \n",
      " 0   fixed_acidity         320 non-null    float32\n",
      " 1   volatile_acidity      320 non-null    float32\n",
      " 2   citric_acid           320 non-null    float32\n",
      " 3   residual_sugar        320 non-null    float32\n",
      " 4   chlorides             320 non-null    float32\n",
      " 5   free_sulfur_dioxide   320 non-null    float32\n",
      " 6   total_sulfur_dioxide  320 non-null    float32\n",
      " 7   density               320 non-null    float32\n",
      " 8   pH                    320 non-null    float32\n",
      " 9   sulphates             320 non-null    float32\n",
      " 10  alcohol               320 non-null    float32\n",
      " 11  quality               320 non-null    int64  \n",
      "dtypes: float32(11), int64(1)\n",
      "memory usage: 16.4 KB\n"
     ]
    }
   ],
   "source": [
    "trees = parse_xgboost_dump(model_path / f\"{model_name}_dumped.txt\")\n",
    "some_trees = TreeEnsemble(trees.trees, model_path / f\"{model_name}_saved.json\")\n",
    "#some_trees = TreeEnsemble(trees.trees[0:10])\n",
    "df = pd.read_csv(\"../data/wine_quality/test_winequality_red_scaled.csv\")\n",
    "df[df.select_dtypes(np.float64).columns] = df.select_dtypes(np.float64).astype(np.float32)\n",
    "df.info()"
   ],
   "metadata": {
    "collapsed": false,
    "ExecuteTime": {
     "end_time": "2023-09-28T10:43:49.253580491Z",
     "start_time": "2023-09-28T10:43:49.095269393Z"
    }
   },
   "id": "847e0955a038231c"
  },
  {
   "cell_type": "markdown",
   "source": [
    "### Sprawdzenie eval() "
   ],
   "metadata": {
    "collapsed": false
   },
   "id": "2fc9d76ee140ab1e"
  },
  {
   "cell_type": "code",
   "execution_count": 6,
   "outputs": [
    {
     "name": "stderr",
     "output_type": "stream",
     "text": [
      "/home/mateusz/Documents/tmp/prediction-gap/venv/lib/python3.10/site-packages/xgboost/data.py:335: FutureWarning: is_sparse is deprecated and will be removed in a future version. Check `isinstance(dtype, pd.SparseDtype)` instead.\n",
      "  if is_sparse(dtype):\n",
      "/home/mateusz/Documents/tmp/prediction-gap/venv/lib/python3.10/site-packages/xgboost/data.py:338: FutureWarning: is_categorical_dtype is deprecated and will be removed in a future version. Use isinstance(dtype, CategoricalDtype) instead\n",
      "  is_categorical_dtype(dtype) or is_pa_ext_categorical_dtype(dtype)\n",
      "/home/mateusz/Documents/tmp/prediction-gap/venv/lib/python3.10/site-packages/xgboost/data.py:384: FutureWarning: is_categorical_dtype is deprecated and will be removed in a future version. Use isinstance(dtype, CategoricalDtype) instead\n",
      "  if is_categorical_dtype(dtype):\n",
      "/home/mateusz/Documents/tmp/prediction-gap/venv/lib/python3.10/site-packages/xgboost/data.py:359: FutureWarning: is_categorical_dtype is deprecated and will be removed in a future version. Use isinstance(dtype, CategoricalDtype) instead\n",
      "  return is_int or is_bool or is_float or is_categorical_dtype(dtype)\n"
     ]
    },
    {
     "data": {
      "text/plain": "     Quality  Eval by Adam Trees  Actual eval by XGB model          diff\n0          5            5.075910                  5.075910  0.000000e+00\n1          5            5.015626                  5.015625  9.536743e-07\n2          6            4.422324                  4.422326 -2.384186e-06\n3          6            5.984006                  5.984005  1.430511e-06\n4          6            5.956180                  5.956178  1.430511e-06\n..       ...                 ...                       ...           ...\n315        4            6.572219                  6.572220 -4.768372e-07\n316        5            5.049266                  5.049266  0.000000e+00\n317        6            5.927140                  5.927141 -4.768372e-07\n318        5            4.972984                  4.972983  9.536743e-07\n319        6            5.994739                  5.994738  4.768372e-07\n\n[320 rows x 4 columns]",
      "text/html": "<div>\n<style scoped>\n    .dataframe tbody tr th:only-of-type {\n        vertical-align: middle;\n    }\n\n    .dataframe tbody tr th {\n        vertical-align: top;\n    }\n\n    .dataframe thead th {\n        text-align: right;\n    }\n</style>\n<table border=\"1\" class=\"dataframe\">\n  <thead>\n    <tr style=\"text-align: right;\">\n      <th></th>\n      <th>Quality</th>\n      <th>Eval by Adam Trees</th>\n      <th>Actual eval by XGB model</th>\n      <th>diff</th>\n    </tr>\n  </thead>\n  <tbody>\n    <tr>\n      <th>0</th>\n      <td>5</td>\n      <td>5.075910</td>\n      <td>5.075910</td>\n      <td>0.000000e+00</td>\n    </tr>\n    <tr>\n      <th>1</th>\n      <td>5</td>\n      <td>5.015626</td>\n      <td>5.015625</td>\n      <td>9.536743e-07</td>\n    </tr>\n    <tr>\n      <th>2</th>\n      <td>6</td>\n      <td>4.422324</td>\n      <td>4.422326</td>\n      <td>-2.384186e-06</td>\n    </tr>\n    <tr>\n      <th>3</th>\n      <td>6</td>\n      <td>5.984006</td>\n      <td>5.984005</td>\n      <td>1.430511e-06</td>\n    </tr>\n    <tr>\n      <th>4</th>\n      <td>6</td>\n      <td>5.956180</td>\n      <td>5.956178</td>\n      <td>1.430511e-06</td>\n    </tr>\n    <tr>\n      <th>...</th>\n      <td>...</td>\n      <td>...</td>\n      <td>...</td>\n      <td>...</td>\n    </tr>\n    <tr>\n      <th>315</th>\n      <td>4</td>\n      <td>6.572219</td>\n      <td>6.572220</td>\n      <td>-4.768372e-07</td>\n    </tr>\n    <tr>\n      <th>316</th>\n      <td>5</td>\n      <td>5.049266</td>\n      <td>5.049266</td>\n      <td>0.000000e+00</td>\n    </tr>\n    <tr>\n      <th>317</th>\n      <td>6</td>\n      <td>5.927140</td>\n      <td>5.927141</td>\n      <td>-4.768372e-07</td>\n    </tr>\n    <tr>\n      <th>318</th>\n      <td>5</td>\n      <td>4.972984</td>\n      <td>4.972983</td>\n      <td>9.536743e-07</td>\n    </tr>\n    <tr>\n      <th>319</th>\n      <td>6</td>\n      <td>5.994739</td>\n      <td>5.994738</td>\n      <td>4.768372e-07</td>\n    </tr>\n  </tbody>\n</table>\n<p>320 rows × 4 columns</p>\n</div>"
     },
     "execution_count": 6,
     "metadata": {},
     "output_type": "execute_result"
    }
   ],
   "source": [
    "gbdt_model = xgb.Booster()\n",
    "gbdt_model.load_model(model_path / f\"{model_name}_saved.json\")\n",
    "\n",
    "true_labels = df.iloc[:, -1]\n",
    "adam_trees_eval = [some_trees.eval(df.iloc[i, :-1]) for i in range(len(df))]\n",
    "\n",
    "x_dmatrix = xgb.DMatrix(df.iloc[:, :-1])\n",
    "actual_xgb_model_eval = gbdt_model.predict(x_dmatrix)\n",
    "\n",
    "from numpy import exp\n",
    "\n",
    "pd.DataFrame(zip(true_labels, adam_trees_eval, actual_xgb_model_eval, adam_trees_eval - actual_xgb_model_eval),\n",
    "             columns=[\"Quality\", \"Eval by Adam Trees\",\n",
    "                      \"Actual eval by XGB model\", 'diff'])"
   ],
   "metadata": {
    "collapsed": false,
    "ExecuteTime": {
     "end_time": "2023-09-28T10:43:57.061904744Z",
     "start_time": "2023-09-28T10:43:56.264262825Z"
    }
   },
   "id": "8e3e96ed262b8492"
  },
  {
   "cell_type": "markdown",
   "source": [
    "~~Z jakiegoś powodu powstają małe różnice, które wraz ze wzrostem liczby drzew zaczynają się zwiększać i dochodzą do dosyć wyskich wartości jak na przykład 0.1~~ - błąd zmniejszony, chociaż jakaś mała niedokładność numeryczna wysępuje\n",
    "    "
   ],
   "metadata": {
    "collapsed": false
   },
   "id": "dd2bdc3a25db248f"
  },
  {
   "cell_type": "markdown",
   "source": [
    "### Housing data"
   ],
   "metadata": {
    "collapsed": false
   },
   "id": "b16b1e04c6a2d0a9"
  },
  {
   "cell_type": "code",
   "execution_count": 6,
   "outputs": [],
   "source": [],
   "metadata": {
    "collapsed": false,
    "ExecuteTime": {
     "end_time": "2023-09-28T10:43:58.311815947Z",
     "start_time": "2023-09-28T10:43:58.309129352Z"
    }
   },
   "id": "f04a06fefc6eae3f"
  },
  {
   "cell_type": "code",
   "execution_count": 7,
   "outputs": [],
   "source": [
    "model_path = Path(\"../models\")\n",
    "model_name = \"housing\""
   ],
   "metadata": {
    "collapsed": false,
    "ExecuteTime": {
     "end_time": "2023-09-28T10:43:58.951495738Z",
     "start_time": "2023-09-28T10:43:58.947175305Z"
    }
   },
   "id": "c7e0afb0c2bb0d45"
  },
  {
   "cell_type": "code",
   "execution_count": 10,
   "outputs": [
    {
     "name": "stdout",
     "output_type": "stream",
     "text": [
      "<class 'pandas.core.frame.DataFrame'>\n",
      "Index: 4091 entries, 0 to 4127\n",
      "Data columns (total 9 columns):\n",
      " #   Column              Non-Null Count  Dtype  \n",
      "---  ------              --------------  -----  \n",
      " 0   longitude           4091 non-null   float32\n",
      " 1   latitude            4091 non-null   float32\n",
      " 2   housing_median_age  4091 non-null   float32\n",
      " 3   total_rooms         4091 non-null   float32\n",
      " 4   total_bedrooms      4091 non-null   float32\n",
      " 5   population          4091 non-null   float32\n",
      " 6   households          4091 non-null   float32\n",
      " 7   median_income       4091 non-null   float32\n",
      " 8   median_house_value  4091 non-null   float32\n",
      "dtypes: float32(9)\n",
      "memory usage: 175.8 KB\n"
     ]
    }
   ],
   "source": [
    "trees = parse_xgboost_dump(model_path / f\"{model_name}_dumped.txt\")\n",
    "some_trees = TreeEnsemble(trees.trees, model_path / f\"{model_name}_saved.json\")\n",
    "#some_trees = TreeEnsemble(trees.trees[0:10])\n",
    "df = pd.read_csv(\"../data/housing_data/test_housing_scaled.csv\")\n",
    "df = df.dropna() #No missing values are in training set, so i assume we also drop those in test set?\n",
    "df[df.select_dtypes(np.float64).columns] = df.select_dtypes(np.float64).astype(np.float32)\n",
    "df.info()"
   ],
   "metadata": {
    "collapsed": false,
    "ExecuteTime": {
     "end_time": "2023-09-28T10:46:50.294893476Z",
     "start_time": "2023-09-28T10:46:50.071541238Z"
    }
   },
   "id": "7f110505b2e6f593"
  },
  {
   "cell_type": "code",
   "execution_count": 11,
   "outputs": [
    {
     "name": "stderr",
     "output_type": "stream",
     "text": [
      "/home/mateusz/Documents/tmp/prediction-gap/venv/lib/python3.10/site-packages/xgboost/data.py:335: FutureWarning: is_sparse is deprecated and will be removed in a future version. Check `isinstance(dtype, pd.SparseDtype)` instead.\n",
      "  if is_sparse(dtype):\n",
      "/home/mateusz/Documents/tmp/prediction-gap/venv/lib/python3.10/site-packages/xgboost/data.py:338: FutureWarning: is_categorical_dtype is deprecated and will be removed in a future version. Use isinstance(dtype, CategoricalDtype) instead\n",
      "  is_categorical_dtype(dtype) or is_pa_ext_categorical_dtype(dtype)\n",
      "/home/mateusz/Documents/tmp/prediction-gap/venv/lib/python3.10/site-packages/xgboost/data.py:384: FutureWarning: is_categorical_dtype is deprecated and will be removed in a future version. Use isinstance(dtype, CategoricalDtype) instead\n",
      "  if is_categorical_dtype(dtype):\n",
      "/home/mateusz/Documents/tmp/prediction-gap/venv/lib/python3.10/site-packages/xgboost/data.py:359: FutureWarning: is_categorical_dtype is deprecated and will be removed in a future version. Use isinstance(dtype, CategoricalDtype) instead\n",
      "  return is_int or is_bool or is_float or is_categorical_dtype(dtype)\n"
     ]
    },
    {
     "data": {
      "text/plain": "       Quality  Eval by Adam Trees  Actual eval by XGB model      diff\n0      77700.0        88779.914062              88779.929688 -0.015625\n1     314300.0       325716.562500             325716.656250 -0.093750\n2      99100.0       103045.085938             103045.054688  0.031250\n3     109400.0       139330.468750             139330.281250  0.187500\n4      76400.0       111683.140625             111683.132812  0.007812\n...        ...                 ...                       ...       ...\n4086  161500.0       180265.750000             180265.640625  0.109375\n4087   87200.0        71559.000000              71559.085938 -0.085938\n4088  112900.0       104490.453125             104490.453125  0.000000\n4089  185100.0       206854.906250             206854.859375  0.046875\n4090   94500.0        95314.507812              95314.492188  0.015625\n\n[4091 rows x 4 columns]",
      "text/html": "<div>\n<style scoped>\n    .dataframe tbody tr th:only-of-type {\n        vertical-align: middle;\n    }\n\n    .dataframe tbody tr th {\n        vertical-align: top;\n    }\n\n    .dataframe thead th {\n        text-align: right;\n    }\n</style>\n<table border=\"1\" class=\"dataframe\">\n  <thead>\n    <tr style=\"text-align: right;\">\n      <th></th>\n      <th>Quality</th>\n      <th>Eval by Adam Trees</th>\n      <th>Actual eval by XGB model</th>\n      <th>diff</th>\n    </tr>\n  </thead>\n  <tbody>\n    <tr>\n      <th>0</th>\n      <td>77700.0</td>\n      <td>88779.914062</td>\n      <td>88779.929688</td>\n      <td>-0.015625</td>\n    </tr>\n    <tr>\n      <th>1</th>\n      <td>314300.0</td>\n      <td>325716.562500</td>\n      <td>325716.656250</td>\n      <td>-0.093750</td>\n    </tr>\n    <tr>\n      <th>2</th>\n      <td>99100.0</td>\n      <td>103045.085938</td>\n      <td>103045.054688</td>\n      <td>0.031250</td>\n    </tr>\n    <tr>\n      <th>3</th>\n      <td>109400.0</td>\n      <td>139330.468750</td>\n      <td>139330.281250</td>\n      <td>0.187500</td>\n    </tr>\n    <tr>\n      <th>4</th>\n      <td>76400.0</td>\n      <td>111683.140625</td>\n      <td>111683.132812</td>\n      <td>0.007812</td>\n    </tr>\n    <tr>\n      <th>...</th>\n      <td>...</td>\n      <td>...</td>\n      <td>...</td>\n      <td>...</td>\n    </tr>\n    <tr>\n      <th>4086</th>\n      <td>161500.0</td>\n      <td>180265.750000</td>\n      <td>180265.640625</td>\n      <td>0.109375</td>\n    </tr>\n    <tr>\n      <th>4087</th>\n      <td>87200.0</td>\n      <td>71559.000000</td>\n      <td>71559.085938</td>\n      <td>-0.085938</td>\n    </tr>\n    <tr>\n      <th>4088</th>\n      <td>112900.0</td>\n      <td>104490.453125</td>\n      <td>104490.453125</td>\n      <td>0.000000</td>\n    </tr>\n    <tr>\n      <th>4089</th>\n      <td>185100.0</td>\n      <td>206854.906250</td>\n      <td>206854.859375</td>\n      <td>0.046875</td>\n    </tr>\n    <tr>\n      <th>4090</th>\n      <td>94500.0</td>\n      <td>95314.507812</td>\n      <td>95314.492188</td>\n      <td>0.015625</td>\n    </tr>\n  </tbody>\n</table>\n<p>4091 rows × 4 columns</p>\n</div>"
     },
     "execution_count": 11,
     "metadata": {},
     "output_type": "execute_result"
    }
   ],
   "source": [
    "bdt_model = xgb.Booster()\n",
    "gbdt_model.load_model(model_path / f\"{model_name}_saved.json\")\n",
    "\n",
    "true_labels = df.iloc[:, -1]\n",
    "adam_trees_eval = [some_trees.eval(df.iloc[i, :-1]) for i in range(len(df))]\n",
    "\n",
    "x_dmatrix = xgb.DMatrix(df.iloc[:, :-1])\n",
    "actual_xgb_model_eval = gbdt_model.predict(x_dmatrix)\n",
    "\n",
    "from numpy import exp\n",
    "\n",
    "pd.DataFrame(zip(true_labels, adam_trees_eval, actual_xgb_model_eval, adam_trees_eval - actual_xgb_model_eval),\n",
    "             columns=[\"Quality\", \"Eval by Adam Trees\",\n",
    "                      \"Actual eval by XGB model\", 'diff'])"
   ],
   "metadata": {
    "collapsed": false,
    "ExecuteTime": {
     "end_time": "2023-09-28T10:47:05.482053698Z",
     "start_time": "2023-09-28T10:46:52.310181329Z"
    }
   },
   "id": "952f6a8cb106a677"
  },
  {
   "cell_type": "code",
   "execution_count": null,
   "outputs": [],
   "source": [],
   "metadata": {
    "collapsed": false
   },
   "id": "7dddefc0c5793e1d"
  }
 ],
 "metadata": {
  "kernelspec": {
   "display_name": "Python 3",
   "language": "python",
   "name": "python3"
  },
  "language_info": {
   "codemirror_mode": {
    "name": "ipython",
    "version": 2
   },
   "file_extension": ".py",
   "mimetype": "text/x-python",
   "name": "python",
   "nbconvert_exporter": "python",
   "pygments_lexer": "ipython2",
   "version": "2.7.6"
  }
 },
 "nbformat": 4,
 "nbformat_minor": 5
}
