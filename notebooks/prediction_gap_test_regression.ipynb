{
 "cells": [
  {
   "cell_type": "markdown",
   "source": [
    "### Prediction gap test for regression= true_labels= true_labels= true_labels"
   ],
   "metadata": {
    "collapsed": false
   },
   "id": "f053d639182c6d84"
  },
  {
   "cell_type": "markdown",
   "source": [
    "### Imports"
   ],
   "metadata": {
    "collapsed": false
   },
   "id": "f3759a1345207aa3"
  },
  {
   "cell_type": "code",
   "execution_count": 1,
   "outputs": [],
   "source": [
    "import pandas as pd\n",
    "import os\n",
    "import xgboost as xgb\n",
    "from pathlib import Path\n",
    "import json\n",
    "from src.decision_tree.tree import parse_xgboost_dump,  TreeEnsemble\n",
    "import numpy as np"
   ],
   "metadata": {
    "collapsed": false,
    "ExecuteTime": {
     "end_time": "2023-09-27T08:17:43.995570787Z",
     "start_time": "2023-09-27T08:17:43.606011859Z"
    }
   },
   "id": "7efe13de86114d48"
  },
  {
   "cell_type": "code",
   "execution_count": 2,
   "outputs": [],
   "source": [
    "while \"notebooks\" in os.getcwd():\n",
    "    os.chdir(\"../\")\n",
    "os.chdir(\"src\")"
   ],
   "metadata": {
    "collapsed": false,
    "ExecuteTime": {
     "end_time": "2023-09-27T08:17:44.001236912Z",
     "start_time": "2023-09-27T08:17:43.996702742Z"
    }
   },
   "id": "28e407c80f97591e"
  },
  {
   "cell_type": "markdown",
   "source": [
    "### Wine data"
   ],
   "metadata": {
    "collapsed": false
   },
   "id": "6afd3921aaf1e2ec"
  },
  {
   "cell_type": "code",
   "execution_count": 3,
   "outputs": [],
   "source": [
    "model_path = Path(\"../models\")\n",
    "model_name = \"winequality_red\""
   ],
   "metadata": {
    "collapsed": false,
    "ExecuteTime": {
     "end_time": "2023-09-27T08:17:44.012477021Z",
     "start_time": "2023-09-27T08:17:44.000455836Z"
    }
   },
   "id": "2dc1042beb9ded7a"
  },
  {
   "cell_type": "markdown",
   "source": [
    "Bias jest dodawany na koniej każdej predykcji, niestety nie zapisuje się w dumped."
   ],
   "metadata": {
    "collapsed": false
   },
   "id": "973ff5b7577a0f71"
  },
  {
   "cell_type": "code",
   "execution_count": 4,
   "outputs": [
    {
     "name": "stdout",
     "output_type": "stream",
     "text": [
      "<class 'pandas.core.frame.DataFrame'>\n",
      "RangeIndex: 320 entries, 0 to 319\n",
      "Data columns (total 12 columns):\n",
      " #   Column                Non-Null Count  Dtype  \n",
      "---  ------                --------------  -----  \n",
      " 0   fixed_acidity         320 non-null    float32\n",
      " 1   volatile_acidity      320 non-null    float32\n",
      " 2   citric_acid           320 non-null    float32\n",
      " 3   residual_sugar        320 non-null    float32\n",
      " 4   chlorides             320 non-null    float32\n",
      " 5   free_sulfur_dioxide   320 non-null    float32\n",
      " 6   total_sulfur_dioxide  320 non-null    float32\n",
      " 7   density               320 non-null    float32\n",
      " 8   pH                    320 non-null    float32\n",
      " 9   sulphates             320 non-null    float32\n",
      " 10  alcohol               320 non-null    float32\n",
      " 11  quality               320 non-null    int64  \n",
      "dtypes: float32(11), int64(1)\n",
      "memory usage: 16.4 KB\n"
     ]
    }
   ],
   "source": [
    "trees = parse_xgboost_dump(model_path / f\"{model_name}_dumped.txt\")\n",
    "some_trees = TreeEnsemble(trees.trees, model_path / f\"{model_name}_saved.json\")\n",
    "#some_trees = TreeEnsemble(trees.trees[0:10])\n",
    "df = pd.read_csv(\"../data/wine_quality/test_winequality_red_scaled.csv\")\n",
    "df[df.select_dtypes(np.float64).columns] = df.select_dtypes(np.float64).astype(np.float32)\n",
    "df.info()"
   ],
   "metadata": {
    "collapsed": false,
    "ExecuteTime": {
     "end_time": "2023-09-27T08:17:44.047115593Z",
     "start_time": "2023-09-27T08:17:44.013350888Z"
    }
   },
   "id": "847e0955a038231c"
  },
  {
   "cell_type": "markdown",
   "source": [
    "### Sprawdzenie eval() dla 20 punktów"
   ],
   "metadata": {
    "collapsed": false
   },
   "id": "2fc9d76ee140ab1e"
  },
  {
   "cell_type": "code",
   "execution_count": 5,
   "outputs": [
    {
     "name": "stderr",
     "output_type": "stream",
     "text": [
      "/home/mateusz/Documents/tmp/prediction-gap/venv/lib/python3.10/site-packages/xgboost/data.py:335: FutureWarning: is_sparse is deprecated and will be removed in a future version. Check `isinstance(dtype, pd.SparseDtype)` instead.\n",
      "  if is_sparse(dtype):\n",
      "/home/mateusz/Documents/tmp/prediction-gap/venv/lib/python3.10/site-packages/xgboost/data.py:338: FutureWarning: is_categorical_dtype is deprecated and will be removed in a future version. Use isinstance(dtype, CategoricalDtype) instead\n",
      "  is_categorical_dtype(dtype) or is_pa_ext_categorical_dtype(dtype)\n",
      "/home/mateusz/Documents/tmp/prediction-gap/venv/lib/python3.10/site-packages/xgboost/data.py:384: FutureWarning: is_categorical_dtype is deprecated and will be removed in a future version. Use isinstance(dtype, CategoricalDtype) instead\n",
      "  if is_categorical_dtype(dtype):\n",
      "/home/mateusz/Documents/tmp/prediction-gap/venv/lib/python3.10/site-packages/xgboost/data.py:359: FutureWarning: is_categorical_dtype is deprecated and will be removed in a future version. Use isinstance(dtype, CategoricalDtype) instead\n",
      "  return is_int or is_bool or is_float or is_categorical_dtype(dtype)\n"
     ]
    },
    {
     "data": {
      "text/plain": "     Quality  Eval by Adam Trees  Actual eval by XGB model          diff\n0          7            5.682261                  5.682260  9.536743e-07\n1          5            5.603910                  5.603909  4.768372e-07\n2          6            5.591124                  5.591124  0.000000e+00\n3          6            5.468013                  5.468012  9.536743e-07\n4          7            5.642080                  5.642080 -4.768372e-07\n..       ...                 ...                       ...           ...\n315        6            5.714418                  5.714417  4.768372e-07\n316        6            5.872979                  5.872980 -4.768372e-07\n317        7            5.713606                  5.713605  9.536743e-07\n318        5            5.560312                  5.560310  1.907349e-06\n319        6            5.628664                  5.628664  4.768372e-07\n\n[320 rows x 4 columns]",
      "text/html": "<div>\n<style scoped>\n    .dataframe tbody tr th:only-of-type {\n        vertical-align: middle;\n    }\n\n    .dataframe tbody tr th {\n        vertical-align: top;\n    }\n\n    .dataframe thead th {\n        text-align: right;\n    }\n</style>\n<table border=\"1\" class=\"dataframe\">\n  <thead>\n    <tr style=\"text-align: right;\">\n      <th></th>\n      <th>Quality</th>\n      <th>Eval by Adam Trees</th>\n      <th>Actual eval by XGB model</th>\n      <th>diff</th>\n    </tr>\n  </thead>\n  <tbody>\n    <tr>\n      <th>0</th>\n      <td>7</td>\n      <td>5.682261</td>\n      <td>5.682260</td>\n      <td>9.536743e-07</td>\n    </tr>\n    <tr>\n      <th>1</th>\n      <td>5</td>\n      <td>5.603910</td>\n      <td>5.603909</td>\n      <td>4.768372e-07</td>\n    </tr>\n    <tr>\n      <th>2</th>\n      <td>6</td>\n      <td>5.591124</td>\n      <td>5.591124</td>\n      <td>0.000000e+00</td>\n    </tr>\n    <tr>\n      <th>3</th>\n      <td>6</td>\n      <td>5.468013</td>\n      <td>5.468012</td>\n      <td>9.536743e-07</td>\n    </tr>\n    <tr>\n      <th>4</th>\n      <td>7</td>\n      <td>5.642080</td>\n      <td>5.642080</td>\n      <td>-4.768372e-07</td>\n    </tr>\n    <tr>\n      <th>...</th>\n      <td>...</td>\n      <td>...</td>\n      <td>...</td>\n      <td>...</td>\n    </tr>\n    <tr>\n      <th>315</th>\n      <td>6</td>\n      <td>5.714418</td>\n      <td>5.714417</td>\n      <td>4.768372e-07</td>\n    </tr>\n    <tr>\n      <th>316</th>\n      <td>6</td>\n      <td>5.872979</td>\n      <td>5.872980</td>\n      <td>-4.768372e-07</td>\n    </tr>\n    <tr>\n      <th>317</th>\n      <td>7</td>\n      <td>5.713606</td>\n      <td>5.713605</td>\n      <td>9.536743e-07</td>\n    </tr>\n    <tr>\n      <th>318</th>\n      <td>5</td>\n      <td>5.560312</td>\n      <td>5.560310</td>\n      <td>1.907349e-06</td>\n    </tr>\n    <tr>\n      <th>319</th>\n      <td>6</td>\n      <td>5.628664</td>\n      <td>5.628664</td>\n      <td>4.768372e-07</td>\n    </tr>\n  </tbody>\n</table>\n<p>320 rows × 4 columns</p>\n</div>"
     },
     "execution_count": 5,
     "metadata": {},
     "output_type": "execute_result"
    }
   ],
   "source": [
    "gbdt_model = xgb.Booster()\n",
    "gbdt_model.load_model(model_path / f\"{model_name}_saved.json\")\n",
    "\n",
    "true_labels = df.iloc[:, -1]\n",
    "adam_trees_eval = [some_trees.eval(df.iloc[i, :-1]) for i in range(len(df))]\n",
    "\n",
    "x_dmatrix = xgb.DMatrix(df.iloc[:, :-1])\n",
    "actual_xgb_model_eval = gbdt_model.predict(x_dmatrix)\n",
    "\n",
    "from numpy import exp\n",
    "\n",
    "pd.DataFrame(zip(true_labels, adam_trees_eval, actual_xgb_model_eval, adam_trees_eval - actual_xgb_model_eval),\n",
    "             columns=[\"Quality\", \"Eval by Adam Trees\",\n",
    "                      \"Actual eval by XGB model\", 'diff'])"
   ],
   "metadata": {
    "collapsed": false,
    "ExecuteTime": {
     "end_time": "2023-09-27T08:17:44.234691303Z",
     "start_time": "2023-09-27T08:17:44.034995022Z"
    }
   },
   "id": "8e3e96ed262b8492"
  },
  {
   "cell_type": "markdown",
   "source": [
    "~~Z jakiegoś powodu powstają małe różnice, które wraz ze wzrostem liczby drzew zaczynają się zwiększać i dochodzą do dosyć wyskich wartości jak na przykład 0.1~~ - rozwiązane\n",
    "    "
   ],
   "metadata": {
    "collapsed": false
   },
   "id": "dd2bdc3a25db248f"
  },
  {
   "cell_type": "markdown",
   "source": [
    "### Housing data"
   ],
   "metadata": {
    "collapsed": false
   },
   "id": "b16b1e04c6a2d0a9"
  },
  {
   "cell_type": "markdown",
   "source": [
    "model_path = Path(\"../models\")\n",
    "model_name = \"housing\"\n",
    "bias = float(get_bias(model_path, f\"{model_name}_saved.json\"))\n",
    "trees = parse_xgboost_dump(model_path / f\"{model_name}_dumped.txt\")\n",
    "some_trees = TreeEnsemble(trees.trees, bias)\n",
    "df = pd.read_csv(\"../data/housing_data/test_housing_scaled.csv\")\n",
    "gbdt_model = xgb.Booster()\n",
    "gbdt_model.load_model(model_path / f\"{model_name}_saved.json\")\n",
    "\n",
    "true_labels = df.iloc[:20, -1]\n",
    "adam_trees_eval = [some_trees.eval(df.iloc[i, :-1]) for i in range(20)]\n",
    "\n",
    "x_dmatrix = xgb.DMatrix(df.iloc[:20, :-1])\n",
    "actual_xgb_model_eval = gbdt_model.predict(x_dmatrix)\n",
    "\n",
    "from numpy import exp\n",
    "\n",
    "pd.DataFrame(zip(true_labels, adam_trees_eval, actual_xgb_model_eval),\n",
    "             columns=[\"Median price\", \"Eval by Adam Trees\",\n",
    "                      \"Actual eval by XGB model\"])"
   ],
   "metadata": {
    "collapsed": false
   },
   "id": "8e4f09d2e40c829"
  },
  {
   "cell_type": "code",
   "execution_count": 5,
   "outputs": [],
   "source": [],
   "metadata": {
    "collapsed": false,
    "ExecuteTime": {
     "end_time": "2023-09-27T08:17:44.234863239Z",
     "start_time": "2023-09-27T08:17:44.234170236Z"
    }
   },
   "id": "f04a06fefc6eae3f"
  },
  {
   "cell_type": "code",
   "execution_count": 5,
   "outputs": [],
   "source": [],
   "metadata": {
    "collapsed": false,
    "ExecuteTime": {
     "end_time": "2023-09-27T08:17:44.234908765Z",
     "start_time": "2023-09-27T08:17:44.234281080Z"
    }
   },
   "id": "952f6a8cb106a677"
  }
 ],
 "metadata": {
  "kernelspec": {
   "display_name": "Python 3",
   "language": "python",
   "name": "python3"
  },
  "language_info": {
   "codemirror_mode": {
    "name": "ipython",
    "version": 2
   },
   "file_extension": ".py",
   "mimetype": "text/x-python",
   "name": "python",
   "nbconvert_exporter": "python",
   "pygments_lexer": "ipython2",
   "version": "2.7.6"
  }
 },
 "nbformat": 4,
 "nbformat_minor": 5
}
